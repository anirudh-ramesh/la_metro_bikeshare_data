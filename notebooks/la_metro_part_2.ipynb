{
 "cells": [
  {
   "cell_type": "markdown",
   "metadata": {},
   "source": [
    "# LA Metro Bike Share Optimization - Part 2\n",
    "\n",
    "With additional demand information, we seek to create a simple quadratic optimization model in Python."
   ]
  },
  {
   "cell_type": "markdown",
   "metadata": {},
   "source": [
    "## Optimization models\n",
    "\n",
    "As seen from competitors, there are multiple ways in which the pricing scheme can be structured. Some options that we could implement and compare are as follows:\n",
    "1. Variable rate by minute\n",
    "2. Variable rate by time intervals (30 minutes for LA Metro currently)\n",
    "3. Fixed fee for any ride\n",
    "4. Fixed fee for a time interval before implementing a variable rate\n",
    "5. Weekly, monthly passes that cover all rides up to a particular duration. Variable rate thereafter\n",
    "\n",
    "We will examine the current model by LA metro and whether the current level of customer segmentation is necessary. To benchmark the pricing against other operators of bikes and scooters, let's plot out the different pricing curves for all operators."
   ]
  },
  {
   "cell_type": "code",
   "execution_count": null,
   "metadata": {},
   "outputs": [],
   "source": [
    "%matplotlib inline\n",
    "import pandas as pd\n",
    "import matplotlib.pyplot as plt\n",
    "import numpy as np"
   ]
  },
  {
   "cell_type": "code",
   "execution_count": null,
   "metadata": {},
   "outputs": [],
   "source": [
    "fig, axes = plt.subplots(figsize=(10,5))\n",
    "x = np.array(range(0,60))\n",
    "prev_la, = plt.step([0,30,60], [0,3.5,7], label = 'Previous LA Metro Bike')\n",
    "cur_la, = plt.step([0,30,60], [0,1.75,3.5], label = 'Current LA Metro Bike')\n",
    "bird, = plt.plot(x, 0.15 * x, label = 'Bird')\n",
    "lime_ped, = plt.plot(x, 1 + 0.05 * x, label = 'Lime Pedal Bike')\n",
    "lime_scoot, = plt.plot(x, 1 + 0.15 * x, label = 'Lime Electric Assist Bike/Scooter')\n",
    "jump1, = plt.step([0,5],[0,1],label = 'Jump Bikes/Scooters',color = 'c')\n",
    "jump2, = plt.plot(np.array(range(5,60)), 0.15 * np.array(range(5,60)) + 0.25, color = 'c')\n",
    "plt.title('Prices of trips up to 60 minutes for different operators', size=15)\n",
    "plt.xlabel('Duration of trip (minutes)')\n",
    "plt.ylabel('Price of trip ($)')\n",
    "plt.legend()\n",
    "plt.show()"
   ]
  },
  {
   "cell_type": "markdown",
   "metadata": {},
   "source": [
    "Looking at the different pricing schemes across bike and scooter operators in LA, the current pricing that was just enacted by LA Metro is definitely the cheapest, coming in at $3.50 for an hour long bike ride.\n",
    "\n",
    "The previous pricing for an hour long bike ride for a walk-on was $7, twice the current price.\n",
    "\n",
    "The next cheapest option is the Lime pedal bike, which is cheaper than walk on riders on LA metro for rides shorter than 15 minutes and for rides between 30 and 50 minutes. \n",
    "\n",
    "We will thus formulate the following linear constraints to optimize total revenue for the current pricing structure:   \n",
    "1. The variable rate per minute without a pass is set under the average of the two most common prices of \\$0.05 and \\$0.15:    \n",
    "Variable rate per minute without pass <= \\$0.10\n",
    "2. The variable rate per minute with a plan is set under the average of the LA Metro's current ~\\$0.06 and Jump's \\$0.07:   \n",
    "Variable rate per minute with pass <= \\$0.065 \n",
    "3. The variable rate is set under the nearest competitor(Lime pedal):   \n",
    "Variable rate per 30 minutes <= \\$2.5\n",
    "4. As there aren't many operators out there with comparable pass pricing plans, we maintain the current prices of 5, 17, and 150 for daily pass, monthly pass, and annual pass respectively:      \n",
    "Daily pass price <= \\$5   \n",
    "Monthly pass price <= \\$17   \n",
    "Annual pass price <= \\$150"
   ]
  },
  {
   "cell_type": "code",
   "execution_count": null,
   "metadata": {},
   "outputs": [],
   "source": [
    "# Retrieves cleaned dataframe from part 1 of analysis\n",
    "\n",
    "%store -r"
   ]
  },
  {
   "cell_type": "code",
   "execution_count": null,
   "metadata": {},
   "outputs": [],
   "source": [
    "rides_df.head()"
   ]
  },
  {
   "cell_type": "code",
   "execution_count": null,
   "metadata": {},
   "outputs": [],
   "source": [
    "agg_pass_groups"
   ]
  },
  {
   "cell_type": "markdown",
   "metadata": {},
   "source": [
    "## Quadratic Optimization\n",
    "\n",
    "Judging from the above linear optimization results, we keep the daily and monthly plans in our pricing scheme. We will also replace the previous annual (Flex) plan with the new plan costing $150 per annum.\n",
    "\n",
    "We now move on to quadratic optimization for two main factors: price and number of rides. If we had simply run a linear optimization with an upper bound for price, the model would intuitively move towards the upper bound for our optimization problem.\n",
    "\n",
    "We would thus need to factor in a demand curve that would vary total rides taken along with the price charged for each half hour block."
   ]
  },
  {
   "cell_type": "markdown",
   "metadata": {},
   "source": [
    "## Demand curve estimation\n",
    "\n",
    "It was during the end of this write-up that 2018 Q3 figures were released for LA Metro Bikes. It might just be an additional data point but we can now fit a rudimentary linear demand curve for model constraints to allow price and demand to fluctuate.\n",
    "\n",
    "2018 Q2 was the last datapoint before the price change and 2018 Q3 was the first after. We set y as price for every 30 minute ride and x as the total number of rides in that quarter."
   ]
  },
  {
   "cell_type": "code",
   "execution_count": null,
   "metadata": {},
   "outputs": [],
   "source": [
    "x1 = 77357\n",
    "x2 = 95283\n",
    "y1 = 3.5\n",
    "y2 = 1.75\n",
    "\n",
    "slope = (y2-y1)/(x2-x1)\n",
    "intercept = y2 - x2 * slope\n",
    "\n",
    "def print_func(slope, intercept):\n",
    "    print('The linear function from two data points is: y =',slope,'x +',intercept)\n",
    "    print('Where y = price for half hour block\\n      x = rides in fiscal quarter')\n",
    "\n",
    "print_func(slope, intercept)"
   ]
  },
  {
   "cell_type": "markdown",
   "metadata": {},
   "source": [
    "### Demand curves by customer segments\n",
    "\n",
    "What if we broke down demand by customer segments?\n",
    "\n",
    "We start by creating grouped tables across 2018 Q2 and 2018 Q3."
   ]
  },
  {
   "cell_type": "code",
   "execution_count": null,
   "metadata": {},
   "outputs": [],
   "source": [
    "new_data = pd.read_csv('../data/external/2018Q3.csv')\n",
    "old_data = pd.read_csv('../data/external/2018Q2.csv')\n",
    "\n",
    "new_riders = new_data.groupby('passholder_type').agg({\n",
    "    'trip_id' : 'count',\n",
    "    'duration' : 'sum'\n",
    "}).rename(columns = {\n",
    "    'trip_id':'total_trips',\n",
    "    'duration':'total_minutes'\n",
    "})\n",
    "\n",
    "\n",
    "old_riders= old_data.groupby('passholder_type').agg({\n",
    "    'trip_id' : 'count',\n",
    "    'duration' : 'sum'\n",
    "}).rename(columns = {\n",
    "    'trip_id':'total_trips',\n",
    "    'duration':'total_minutes'\n",
    "})\n",
    "\n",
    "old_riders['percent_total_trips'] = old_riders['total_trips']/sum(old_riders['total_trips'])\n",
    "\n",
    "new_riders['percent_total_trips'] = new_riders['total_trips']/sum(new_riders['total_trips'])\n",
    "\n",
    "old_riders"
   ]
  },
  {
   "cell_type": "code",
   "execution_count": null,
   "metadata": {},
   "outputs": [],
   "source": [
    "new_riders"
   ]
  },
  {
   "cell_type": "markdown",
   "metadata": {},
   "source": [
    "We can see the new annual pass hasn't quite caught on yet, with only 12 passes sold in the pass quarter. The $150 price point might be a little steep up front. \n",
    "\n",
    "It is also interesting to note how the price drop hasn't really impacted any of the pass holders but has almost doubled the number of walk-up riders.\n",
    "\n",
    "Let's see what the other demand curves look like."
   ]
  },
  {
   "cell_type": "code",
   "execution_count": null,
   "metadata": {},
   "outputs": [],
   "source": [
    "slope_walk_up = (1.75-3.5) / (new_riders['total_trips']['Walk-up']-old_riders['total_trips']['Walk-up'])\n",
    "slope_daily = (1.75-3.5) / (new_riders['total_trips']['One Day Pass']-old_riders['total_trips']['One Day Pass'])\n",
    "slope_monthly = (1.75-3.5) / (new_riders['total_trips']['Monthly Pass']-old_riders['total_trips']['Monthly Pass'])\n",
    "slope_annual = (1.75-3.5) / (new_riders['total_trips']['Flex Pass']-old_riders['total_trips']['Flex Pass'])\n",
    "\n",
    "intercept_walk_up = 1.75 - new_riders['total_trips']['Walk-up'] * slope_walk_up\n",
    "intercept_daily = 1.75 - new_riders['total_trips']['One Day Pass'] * slope_daily\n",
    "intercept_monthly = 1.75 - new_riders['total_trips']['Monthly Pass'] * slope_monthly\n",
    "intercept_annual = 1.75 - new_riders['total_trips']['Flex Pass'] * slope_annual\n",
    "\n",
    "print('Walk up demand function estimate')\n",
    "print_func(slope_walk_up, intercept_walk_up)   \n",
    "print('\\n')\n",
    "print('Daily pass demand function estimate')\n",
    "print_func(slope_daily, intercept_daily)   \n",
    "print('\\n')\n",
    "print('Monthly pass demand function estimate')\n",
    "print_func(slope_monthly, intercept_monthly)\n",
    "print('\\n')\n",
    "print('Annual(Flex) pass demand function estimate')\n",
    "print_func(slope_annual, intercept_annual)"
   ]
  },
  {
   "cell_type": "code",
   "execution_count": null,
   "metadata": {},
   "outputs": [],
   "source": [
    "def walk_up_demand(x):\n",
    "    return slope_walk_up * x + intercept_walk_up\n",
    "\n",
    "def daily_demand(x):\n",
    "    return slope_daily * x + intercept_daily\n",
    "\n",
    "def monthly_demand(x):\n",
    "    return slope_monthly * x + intercept_monthly\n",
    "\n",
    "def annual_demand(x):\n",
    "    return slope_annual * x + intercept_annual\n",
    "\n",
    "q = np.linspace(0,50000)\n",
    "fig, axes = plt.subplots(figsize=(10,5))\n",
    "plt.plot(q, walk_up_demand(q), label = 'Walk up')\n",
    "plt.plot(q, daily_demand(q), label = 'Daily')\n",
    "plt.plot(q, monthly_demand(q), label = 'Monthly')\n",
    "plt.plot(q, annual_demand(q), label = 'Annual')\n",
    "plt.title('Demand curves across customer segments', size=15)\n",
    "plt.xlabel('Number of rides')\n",
    "plt.ylabel('Price per half hour block')\n",
    "plt.ylim(0,5)\n",
    "plt.legend()"
   ]
  },
  {
   "cell_type": "markdown",
   "metadata": {},
   "source": [
    "## Optimization with Scipy Optimize"
   ]
  },
  {
   "cell_type": "code",
   "execution_count": null,
   "metadata": {},
   "outputs": [],
   "source": [
    "# Constants\n",
    "\n",
    "daily_pass = agg_pass_groups['new_pass_prices']['daily']\n",
    "monthly_pass = agg_pass_groups['new_pass_prices']['monthly']\n",
    "annual_pass = 150\n",
    "\n",
    "walk_up_share = agg_pass_groups['percent_total_trips']['walk_up']\n",
    "daily_share = agg_pass_groups['percent_total_trips']['daily']\n",
    "monthly_share = agg_pass_groups['percent_total_trips']['monthly']\n",
    "annual_share = agg_pass_groups['percent_total_trips']['annual']\n",
    "\n",
    "walk_up_charged_blocks = agg_pass_groups['average_charged_blocks_per_ride']['walk_up']\n",
    "daily_charged_blocks = agg_pass_groups['average_charged_blocks_per_ride']['daily']\n",
    "monthly_charged_blocks = agg_pass_groups['average_charged_blocks_per_ride']['monthly']\n",
    "annual_charged_blocks = agg_pass_groups['average_charged_blocks_per_ride']['annual']"
   ]
  },
  {
   "cell_type": "code",
   "execution_count": null,
   "metadata": {},
   "outputs": [],
   "source": [
    "from scipy.optimize import minimize\n",
    "\n",
    "# Base quadratic with demand curve.\n",
    "\n",
    "def objective(x):\n",
    "    rate = x[0]\n",
    "    riders = x[1]\n",
    "    \n",
    "    walk_up_rev = riders * walk_up_share * walk_up_charged_blocks * rate\n",
    "    day_rev = riders * daily_share * daily_charged_blocks * rate\n",
    "    month_rev = riders * monthly_share * monthly_charged_blocks * rate\n",
    "    annual_rev = riders * annual_share * annual_charged_blocks * rate\n",
    "    \n",
    "    day_pass_rev = riders * daily_share * daily_pass\n",
    "    month_pass_rev = riders * monthly_share * monthly_pass\n",
    "    annual_pass_rev = riders * annual_share * annual_pass\n",
    "    \n",
    "    total_revenue = walk_up_rev + day_rev + month_rev + annual_rev + day_pass_rev + month_pass_rev + annual_pass_rev\n",
    "    return -total_revenue\n",
    "\n",
    "def demand_constraint(x):\n",
    "    rate = x[0]\n",
    "    riders = x[1]\n",
    "    return rate - slope * riders - intercept\n",
    "\n",
    "cons = {'type':'eq', 'fun':demand_constraint}\n",
    "    \n",
    "b1 = (1.5, 2.5)\n",
    "b2 = (50000, 140000)\n",
    "\n",
    "bnds = (b1,b2)\n",
    "\n",
    "x0 = np.array([1.75, 77357])\n",
    "\n",
    "sol = minimize(objective, x0, method='SLSQP', constraints=cons, bounds=bnds)\n",
    "\n",
    "print(sol)\n",
    "print(-round(sol['fun']))"
   ]
  },
  {
   "cell_type": "code",
   "execution_count": null,
   "metadata": {},
   "outputs": [],
   "source": [
    "price_range_1 = (1, 2.5)\n",
    "price_range_2 = (1.25, 2.5)\n",
    "price_range_3 = (1.5, 2.5)\n",
    "price_range_4 = (1.75, 2.5)\n",
    "\n",
    "rider_range_1 = (50000, 80000)\n",
    "rider_range_2 = (50000, 100000)\n",
    "rider_range_3 = (50000, 120000)\n",
    "rider_range_4 = (50000, 140000)\n",
    "\n",
    "bounds = [((price_range_1, rider_range_1)) , ((price_range_1, rider_range_2)) , ((price_range_1, rider_range_3))\n",
    "          , ((price_range_1, rider_range_4)) , ((price_range_2, rider_range_1)) , ((price_range_2, rider_range_2))\n",
    "          , ((price_range_2, rider_range_3)) , ((price_range_2, rider_range_4)) , ((price_range_3, rider_range_1))\n",
    "          , ((price_range_3, rider_range_2)) , ((price_range_3, rider_range_3)) , ((price_range_3, rider_range_4))\n",
    "          , ((price_range_4, rider_range_1)) , ((price_range_4, rider_range_2)) , ((price_range_4, rider_range_3))\n",
    "          , ((price_range_4, rider_range_4))\n",
    "          ]\n",
    "\n",
    "sensitivity_results = [minimize(objective, x0, method='SLSQP', constraints=cons, bounds=bnds) for bnds in bounds]\n",
    "sensitivity_total_rev = [-round(sol['fun']) for sol in sensitivity_results]\n",
    "sensitivity_rate = [round(sol['x'][0]) for sol in sensitivity_results]\n",
    "sensitivity_riders = [round(sol['x'][1]) for sol in sensitivity_results]\n",
    "price_ranges = [pair[0] for pair in bounds]\n",
    "rider_ranges = [pair[1] for pair in bounds]\n",
    "\n",
    "sensitivity_sorted = sorted(list(zip(sensitivity_total_rev, sensitivity_rate, sensitivity_riders, price_ranges, \n",
    "                                     rider_ranges)), reverse = True)\n",
    "\n",
    "print('Total rev | Rate | Total riders | Rate range | Rider range')\n",
    "for test_i in range(len(sensitivity_sorted)):\n",
    "    print(sensitivity_sorted[test_i][0], '   ',sensitivity_sorted[test_i][1], '  ',\n",
    "          sensitivity_sorted[test_i][2], \n",
    "          '     ',sensitivity_sorted[test_i][3], '   ', sensitivity_sorted[test_i][4])"
   ]
  },
  {
   "cell_type": "code",
   "execution_count": null,
   "metadata": {},
   "outputs": [],
   "source": [
    "# Incorporating segmented demand curves\n",
    "\n",
    "def objective(x):\n",
    "    walk_rate = x[0]\n",
    "    walk_riders = x[1]\n",
    "    day_rate = x[2]\n",
    "    day_riders = x[3]\n",
    "    month_rate = x[4]\n",
    "    month_riders = x[5]\n",
    "    \n",
    "#     annual_rate = x[6]\n",
    "    \n",
    "    walk_up_rev = walk_riders * walk_up_charged_blocks * walk_rate\n",
    "    day_rev = day_riders * daily_charged_blocks * day_rate\n",
    "    month_rev = month_riders * monthly_charged_blocks * month_rate\n",
    "    \n",
    "#     annual_riders = (walk_riders + day_riders + month_riders)*(annual_share_new/(walk_up_share_new + daily_share_new\n",
    "#                                                                                  + monthly_share_new))\n",
    "#     annual_rev = annual_riders * annual_charged_blocks * annual_rate\n",
    "    \n",
    "    day_pass_rev = day_riders * daily_pass\n",
    "    month_pass_rev = month_riders * monthly_pass\n",
    "#     annual_pass_rev = annual_riders * annual_pass\n",
    "    \n",
    "    total_revenue = walk_up_rev + day_rev + month_rev + day_pass_rev + month_pass_rev\n",
    "    return -total_revenue\n",
    "\n",
    "def demand_constraint_walk_up(x):\n",
    "    rate = x[0]\n",
    "    riders = x[1]\n",
    "    return rate - slope_walk_up * riders - intercept_walk_up\n",
    "\n",
    "def demand_constraint_daily(x):\n",
    "    rate = x[2]\n",
    "    riders = x[3]\n",
    "    return rate - slope_daily * riders - intercept_daily\n",
    "\n",
    "def demand_constraint_monthly(x):\n",
    "    rate = x[4]\n",
    "    riders = x[5]\n",
    "    return rate - slope_monthly * riders - intercept_monthly\n",
    "\n",
    "cons = {'type':'eq', 'fun':demand_constraint_walk_up,\n",
    "       'type':'eq', 'fun':demand_constraint_daily,\n",
    "       'type':'eq', 'fun':demand_constraint_monthly}\n",
    "    \n",
    "b1 = (1.5, 2.5)\n",
    "b2 = (new_riders['total_trips']['Walk-up']/2, new_riders['total_trips']['Walk-up']*2)\n",
    "b3 = (1.5, 2.5)\n",
    "b4 = (new_riders['total_trips']['One Day Pass']/2, new_riders['total_trips']['One Day Pass']*2)\n",
    "b5 = (1.5, 2.5)\n",
    "b6 = (new_riders['total_trips']['Monthly Pass']/2, new_riders['total_trips']['Monthly Pass']*2)\n",
    "\n",
    "bnds = (b1,b2,b3,b4,b5,b6)\n",
    "\n",
    "x0 = np.array([1.75, new_riders['total_trips']['Walk-up'], 1.75, new_riders['total_trips']['One Day Pass']\n",
    "               , 1.75, new_riders['total_trips']['Monthly Pass']])\n",
    "\n",
    "sol = minimize(objective, x0, method='SLSQP', constraints=cons, bounds=bnds)\n",
    "\n",
    "print(sol)\n",
    "print(-round(sol['fun']))"
   ]
  },
  {
   "cell_type": "code",
   "execution_count": null,
   "metadata": {},
   "outputs": [],
   "source": [
    "-round(sol['fun']) + annual_pass"
   ]
  },
  {
   "cell_type": "code",
   "execution_count": null,
   "metadata": {},
   "outputs": [],
   "source": [
    "new_riders"
   ]
  },
  {
   "cell_type": "code",
   "execution_count": null,
   "metadata": {},
   "outputs": [],
   "source": [
    "annual_pass"
   ]
  },
  {
   "cell_type": "code",
   "execution_count": null,
   "metadata": {},
   "outputs": [],
   "source": []
  }
 ],
 "metadata": {
  "kernelspec": {
   "display_name": "Python 3",
   "language": "python",
   "name": "python3"
  },
  "language_info": {
   "codemirror_mode": {
    "name": "ipython",
    "version": 3
   },
   "file_extension": ".py",
   "mimetype": "text/x-python",
   "name": "python",
   "nbconvert_exporter": "python",
   "pygments_lexer": "ipython3",
   "version": "3.6.3"
  }
 },
 "nbformat": 4,
 "nbformat_minor": 2
}
