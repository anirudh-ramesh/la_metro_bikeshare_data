{
 "cells": [
  {
   "cell_type": "code",
   "execution_count": 1,
   "metadata": {
    "collapsed": true
   },
   "outputs": [],
   "source": [
    "import pandas as pd"
   ]
  },
  {
   "cell_type": "code",
   "execution_count": 2,
   "metadata": {},
   "outputs": [
    {
     "data": {
      "text/html": [
       "<div>\n",
       "<style scoped>\n",
       "    .dataframe tbody tr th:only-of-type {\n",
       "        vertical-align: middle;\n",
       "    }\n",
       "\n",
       "    .dataframe tbody tr th {\n",
       "        vertical-align: top;\n",
       "    }\n",
       "\n",
       "    .dataframe thead th {\n",
       "        text-align: right;\n",
       "    }\n",
       "</style>\n",
       "<table border=\"1\" class=\"dataframe\">\n",
       "  <thead>\n",
       "    <tr style=\"text-align: right;\">\n",
       "      <th></th>\n",
       "      <th>trip_id</th>\n",
       "      <th>duration</th>\n",
       "      <th>start_time</th>\n",
       "      <th>end_time</th>\n",
       "      <th>start_station</th>\n",
       "      <th>start_lat</th>\n",
       "      <th>start_lon</th>\n",
       "      <th>end_station</th>\n",
       "      <th>end_lat</th>\n",
       "      <th>end_lon</th>\n",
       "      <th>bike_id</th>\n",
       "      <th>plan_duration</th>\n",
       "      <th>trip_route_category</th>\n",
       "      <th>passholder_type</th>\n",
       "    </tr>\n",
       "  </thead>\n",
       "  <tbody>\n",
       "    <tr>\n",
       "      <th>0</th>\n",
       "      <td>94851140</td>\n",
       "      <td>8</td>\n",
       "      <td>2018-07-01 00:04:00</td>\n",
       "      <td>2018-07-01 00:12:00</td>\n",
       "      <td>3058</td>\n",
       "      <td>34.035801</td>\n",
       "      <td>-118.233170</td>\n",
       "      <td>3082</td>\n",
       "      <td>34.046520</td>\n",
       "      <td>-118.237411</td>\n",
       "      <td>6279</td>\n",
       "      <td>30</td>\n",
       "      <td>One Way</td>\n",
       "      <td>Monthly Pass</td>\n",
       "    </tr>\n",
       "    <tr>\n",
       "      <th>1</th>\n",
       "      <td>94851141</td>\n",
       "      <td>8</td>\n",
       "      <td>2018-07-01 00:04:00</td>\n",
       "      <td>2018-07-01 00:12:00</td>\n",
       "      <td>3058</td>\n",
       "      <td>34.035801</td>\n",
       "      <td>-118.233170</td>\n",
       "      <td>3082</td>\n",
       "      <td>34.046520</td>\n",
       "      <td>-118.237411</td>\n",
       "      <td>6518</td>\n",
       "      <td>365</td>\n",
       "      <td>One Way</td>\n",
       "      <td>Flex Pass</td>\n",
       "    </tr>\n",
       "    <tr>\n",
       "      <th>2</th>\n",
       "      <td>94851138</td>\n",
       "      <td>15</td>\n",
       "      <td>2018-07-01 00:09:00</td>\n",
       "      <td>2018-07-01 00:24:00</td>\n",
       "      <td>4147</td>\n",
       "      <td>34.145248</td>\n",
       "      <td>-118.150070</td>\n",
       "      <td>4174</td>\n",
       "      <td>34.165291</td>\n",
       "      <td>-118.150970</td>\n",
       "      <td>4823</td>\n",
       "      <td>365</td>\n",
       "      <td>One Way</td>\n",
       "      <td>Monthly Pass</td>\n",
       "    </tr>\n",
       "    <tr>\n",
       "      <th>3</th>\n",
       "      <td>94851137</td>\n",
       "      <td>7</td>\n",
       "      <td>2018-07-01 00:22:00</td>\n",
       "      <td>2018-07-01 00:29:00</td>\n",
       "      <td>4157</td>\n",
       "      <td>34.140999</td>\n",
       "      <td>-118.132088</td>\n",
       "      <td>4162</td>\n",
       "      <td>34.147499</td>\n",
       "      <td>-118.148010</td>\n",
       "      <td>6115</td>\n",
       "      <td>30</td>\n",
       "      <td>One Way</td>\n",
       "      <td>Monthly Pass</td>\n",
       "    </tr>\n",
       "    <tr>\n",
       "      <th>4</th>\n",
       "      <td>94851136</td>\n",
       "      <td>35</td>\n",
       "      <td>2018-07-01 00:23:00</td>\n",
       "      <td>2018-07-01 00:58:00</td>\n",
       "      <td>3013</td>\n",
       "      <td>33.779819</td>\n",
       "      <td>-118.263023</td>\n",
       "      <td>3013</td>\n",
       "      <td>33.779819</td>\n",
       "      <td>-118.263023</td>\n",
       "      <td>12055</td>\n",
       "      <td>1</td>\n",
       "      <td>Round Trip</td>\n",
       "      <td>Walk-up</td>\n",
       "    </tr>\n",
       "  </tbody>\n",
       "</table>\n",
       "</div>"
      ],
      "text/plain": [
       "    trip_id  duration           start_time             end_time  \\\n",
       "0  94851140         8  2018-07-01 00:04:00  2018-07-01 00:12:00   \n",
       "1  94851141         8  2018-07-01 00:04:00  2018-07-01 00:12:00   \n",
       "2  94851138        15  2018-07-01 00:09:00  2018-07-01 00:24:00   \n",
       "3  94851137         7  2018-07-01 00:22:00  2018-07-01 00:29:00   \n",
       "4  94851136        35  2018-07-01 00:23:00  2018-07-01 00:58:00   \n",
       "\n",
       "   start_station  start_lat   start_lon  end_station    end_lat     end_lon  \\\n",
       "0           3058  34.035801 -118.233170         3082  34.046520 -118.237411   \n",
       "1           3058  34.035801 -118.233170         3082  34.046520 -118.237411   \n",
       "2           4147  34.145248 -118.150070         4174  34.165291 -118.150970   \n",
       "3           4157  34.140999 -118.132088         4162  34.147499 -118.148010   \n",
       "4           3013  33.779819 -118.263023         3013  33.779819 -118.263023   \n",
       "\n",
       "   bike_id  plan_duration trip_route_category passholder_type  \n",
       "0     6279             30             One Way    Monthly Pass  \n",
       "1     6518            365             One Way       Flex Pass  \n",
       "2     4823            365             One Way    Monthly Pass  \n",
       "3     6115             30             One Way    Monthly Pass  \n",
       "4    12055              1          Round Trip         Walk-up  "
      ]
     },
     "execution_count": 2,
     "metadata": {},
     "output_type": "execute_result"
    }
   ],
   "source": [
    "new_data = pd.read_csv('../data/external/2018Q3.csv')\n",
    "new_data.head()"
   ]
  },
  {
   "cell_type": "code",
   "execution_count": 3,
   "metadata": {},
   "outputs": [
    {
     "data": {
      "text/plain": [
       "(95283, 14)"
      ]
     },
     "execution_count": 3,
     "metadata": {},
     "output_type": "execute_result"
    }
   ],
   "source": [
    "new_data.shape"
   ]
  },
  {
   "cell_type": "code",
   "execution_count": 4,
   "metadata": {},
   "outputs": [
    {
     "data": {
      "text/plain": [
       "(77357, 14)"
      ]
     },
     "execution_count": 4,
     "metadata": {},
     "output_type": "execute_result"
    }
   ],
   "source": [
    "old_data = pd.read_csv('../data/external/2018Q2.csv')\n",
    "old_data.shape"
   ]
  },
  {
   "cell_type": "code",
   "execution_count": 10,
   "metadata": {},
   "outputs": [],
   "source": [
    "new_stats = new_data.groupby('passholder_type').agg({\n",
    "    'trip_id' : 'count',\n",
    "    'duration' : 'sum'\n",
    "})\n",
    "old_stats= old_data.groupby('passholder_type').agg({\n",
    "    'trip_id' : 'count',\n",
    "    'duration' : 'sum'\n",
    "})"
   ]
  },
  {
   "cell_type": "code",
   "execution_count": 11,
   "metadata": {},
   "outputs": [
    {
     "data": {
      "text/html": [
       "<div>\n",
       "<style scoped>\n",
       "    .dataframe tbody tr th:only-of-type {\n",
       "        vertical-align: middle;\n",
       "    }\n",
       "\n",
       "    .dataframe tbody tr th {\n",
       "        vertical-align: top;\n",
       "    }\n",
       "\n",
       "    .dataframe thead th {\n",
       "        text-align: right;\n",
       "    }\n",
       "</style>\n",
       "<table border=\"1\" class=\"dataframe\">\n",
       "  <thead>\n",
       "    <tr style=\"text-align: right;\">\n",
       "      <th></th>\n",
       "      <th>trip_id</th>\n",
       "      <th>duration</th>\n",
       "    </tr>\n",
       "    <tr>\n",
       "      <th>passholder_type</th>\n",
       "      <th></th>\n",
       "      <th></th>\n",
       "    </tr>\n",
       "  </thead>\n",
       "  <tbody>\n",
       "    <tr>\n",
       "      <th>Annual Pass</th>\n",
       "      <td>12</td>\n",
       "      <td>1459</td>\n",
       "    </tr>\n",
       "    <tr>\n",
       "      <th>Flex Pass</th>\n",
       "      <td>1577</td>\n",
       "      <td>31684</td>\n",
       "    </tr>\n",
       "    <tr>\n",
       "      <th>Monthly Pass</th>\n",
       "      <td>43967</td>\n",
       "      <td>883475</td>\n",
       "    </tr>\n",
       "    <tr>\n",
       "      <th>One Day Pass</th>\n",
       "      <td>4737</td>\n",
       "      <td>361091</td>\n",
       "    </tr>\n",
       "    <tr>\n",
       "      <th>Walk-up</th>\n",
       "      <td>44990</td>\n",
       "      <td>3326240</td>\n",
       "    </tr>\n",
       "  </tbody>\n",
       "</table>\n",
       "</div>"
      ],
      "text/plain": [
       "                 trip_id  duration\n",
       "passholder_type                   \n",
       "Annual Pass           12      1459\n",
       "Flex Pass           1577     31684\n",
       "Monthly Pass       43967    883475\n",
       "One Day Pass        4737    361091\n",
       "Walk-up            44990   3326240"
      ]
     },
     "execution_count": 11,
     "metadata": {},
     "output_type": "execute_result"
    }
   ],
   "source": [
    "new_stats"
   ]
  },
  {
   "cell_type": "code",
   "execution_count": 12,
   "metadata": {},
   "outputs": [
    {
     "data": {
      "text/html": [
       "<div>\n",
       "<style scoped>\n",
       "    .dataframe tbody tr th:only-of-type {\n",
       "        vertical-align: middle;\n",
       "    }\n",
       "\n",
       "    .dataframe tbody tr th {\n",
       "        vertical-align: top;\n",
       "    }\n",
       "\n",
       "    .dataframe thead th {\n",
       "        text-align: right;\n",
       "    }\n",
       "</style>\n",
       "<table border=\"1\" class=\"dataframe\">\n",
       "  <thead>\n",
       "    <tr style=\"text-align: right;\">\n",
       "      <th></th>\n",
       "      <th>trip_id</th>\n",
       "      <th>duration</th>\n",
       "    </tr>\n",
       "    <tr>\n",
       "      <th>passholder_type</th>\n",
       "      <th></th>\n",
       "      <th></th>\n",
       "    </tr>\n",
       "  </thead>\n",
       "  <tbody>\n",
       "    <tr>\n",
       "      <th>Flex Pass</th>\n",
       "      <td>2729</td>\n",
       "      <td>60166</td>\n",
       "    </tr>\n",
       "    <tr>\n",
       "      <th>Monthly Pass</th>\n",
       "      <td>40082</td>\n",
       "      <td>672891</td>\n",
       "    </tr>\n",
       "    <tr>\n",
       "      <th>One Day Pass</th>\n",
       "      <td>5942</td>\n",
       "      <td>417190</td>\n",
       "    </tr>\n",
       "    <tr>\n",
       "      <th>Walk-up</th>\n",
       "      <td>22461</td>\n",
       "      <td>1479077</td>\n",
       "    </tr>\n",
       "  </tbody>\n",
       "</table>\n",
       "</div>"
      ],
      "text/plain": [
       "                 trip_id  duration\n",
       "passholder_type                   \n",
       "Flex Pass           2729     60166\n",
       "Monthly Pass       40082    672891\n",
       "One Day Pass        5942    417190\n",
       "Walk-up            22461   1479077"
      ]
     },
     "execution_count": 12,
     "metadata": {},
     "output_type": "execute_result"
    }
   ],
   "source": [
    "old_stats"
   ]
  },
  {
   "cell_type": "code",
   "execution_count": null,
   "metadata": {
    "collapsed": true
   },
   "outputs": [],
   "source": []
  }
 ],
 "metadata": {
  "kernelspec": {
   "display_name": "Python 3",
   "language": "python",
   "name": "python3"
  },
  "language_info": {
   "codemirror_mode": {
    "name": "ipython",
    "version": 3
   },
   "file_extension": ".py",
   "mimetype": "text/x-python",
   "name": "python",
   "nbconvert_exporter": "python",
   "pygments_lexer": "ipython3",
   "version": "3.6.3"
  }
 },
 "nbformat": 4,
 "nbformat_minor": 2
}
