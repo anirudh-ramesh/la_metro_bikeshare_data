{
 "cells": [
  {
   "cell_type": "markdown",
   "metadata": {},
   "source": [
    "# LA Metro Bikeshare EDA\n",
    "1. Story planning\n",
    "2. Obtain data sets - D\n",
    "3. Obtain lat longs with scraper\n",
    "4. Clean data sets \n",
    "5. Feature engineering\n",
    "6. Visualization\n",
    "7. TBD\n",
    "\n",
    "Is there a predictive value that can be derived for kinds of locations\n",
    "    1. Finding lat long coordinates of schools or public services and mapping out color coded heat maps based on the type of establishment\n",
    "    2. Finding out where most bike stations are likely to be located\n",
    "    3. Goal is to find out where you would set up more bike locations + figure out why particular locations are popular and predict accordingly"
   ]
  },
  {
   "cell_type": "code",
   "execution_count": 395,
   "metadata": {
    "collapsed": true
   },
   "outputs": [],
   "source": [
    "# importing necessary packages\n",
    "import pandas as pd\n",
    "import pprint\n",
    "import missingno as msno\n",
    "from urllib.request import Request, urlopen\n",
    "import json\n",
    "from bs4 import BeautifulSoup\n",
    "import requests\n",
    "import re"
   ]
  },
  {
   "cell_type": "markdown",
   "metadata": {},
   "source": [
    "# Core rides dataset"
   ]
  },
  {
   "cell_type": "code",
   "execution_count": 37,
   "metadata": {},
   "outputs": [],
   "source": [
    "# there are 4 files for the data for each quarter from 2017 Q3 to 2018 Q2\n",
    "_2017Q3 = pd.read_csv('../data/external/2017Q3.csv')\n",
    "_2017Q4 = pd.read_csv('../data/external/2017Q4.csv')\n",
    "_2018Q1 = pd.read_csv('../data/external/2018Q1.csv')\n",
    "_2018Q2 = pd.read_csv('../data/external/2018Q2.csv')"
   ]
  },
  {
   "cell_type": "code",
   "execution_count": 38,
   "metadata": {},
   "outputs": [
    {
     "data": {
      "text/plain": [
       "(286295, 14)"
      ]
     },
     "execution_count": 38,
     "metadata": {},
     "output_type": "execute_result"
    }
   ],
   "source": [
    "# concatenate the four quarters of ride sharing data into a year's worth\n",
    "rides_df = pd.concat([_2017Q3,_2017Q4,_2018Q1,_2018Q2])\n",
    "rides_df.shape"
   ]
  },
  {
   "cell_type": "code",
   "execution_count": 39,
   "metadata": {},
   "outputs": [
    {
     "data": {
      "text/html": [
       "<div>\n",
       "<style scoped>\n",
       "    .dataframe tbody tr th:only-of-type {\n",
       "        vertical-align: middle;\n",
       "    }\n",
       "\n",
       "    .dataframe tbody tr th {\n",
       "        vertical-align: top;\n",
       "    }\n",
       "\n",
       "    .dataframe thead th {\n",
       "        text-align: right;\n",
       "    }\n",
       "</style>\n",
       "<table border=\"1\" class=\"dataframe\">\n",
       "  <thead>\n",
       "    <tr style=\"text-align: right;\">\n",
       "      <th></th>\n",
       "      <th>trip_id</th>\n",
       "      <th>duration</th>\n",
       "      <th>start_time</th>\n",
       "      <th>end_time</th>\n",
       "      <th>start_station</th>\n",
       "      <th>start_lat</th>\n",
       "      <th>start_lon</th>\n",
       "      <th>end_station</th>\n",
       "      <th>end_lat</th>\n",
       "      <th>end_lon</th>\n",
       "      <th>bike_id</th>\n",
       "      <th>plan_duration</th>\n",
       "      <th>trip_route_category</th>\n",
       "      <th>passholder_type</th>\n",
       "    </tr>\n",
       "  </thead>\n",
       "  <tbody>\n",
       "    <tr>\n",
       "      <th>0</th>\n",
       "      <td>33404951</td>\n",
       "      <td>36</td>\n",
       "      <td>7/1/2017 0:09</td>\n",
       "      <td>7/1/2017 0:45</td>\n",
       "      <td>3018</td>\n",
       "      <td>34.043732</td>\n",
       "      <td>-118.260139</td>\n",
       "      <td>3018</td>\n",
       "      <td>34.043732</td>\n",
       "      <td>-118.260139</td>\n",
       "      <td>5996</td>\n",
       "      <td>0</td>\n",
       "      <td>Round Trip</td>\n",
       "      <td>Walk-up</td>\n",
       "    </tr>\n",
       "    <tr>\n",
       "      <th>1</th>\n",
       "      <td>33404950</td>\n",
       "      <td>13</td>\n",
       "      <td>7/1/2017 0:10</td>\n",
       "      <td>7/1/2017 0:23</td>\n",
       "      <td>3055</td>\n",
       "      <td>34.044159</td>\n",
       "      <td>-118.251579</td>\n",
       "      <td>3082</td>\n",
       "      <td>34.046520</td>\n",
       "      <td>-118.237411</td>\n",
       "      <td>5777</td>\n",
       "      <td>0</td>\n",
       "      <td>One Way</td>\n",
       "      <td>Walk-up</td>\n",
       "    </tr>\n",
       "    <tr>\n",
       "      <th>2</th>\n",
       "      <td>33404947</td>\n",
       "      <td>34</td>\n",
       "      <td>7/1/2017 0:11</td>\n",
       "      <td>7/1/2017 0:45</td>\n",
       "      <td>3018</td>\n",
       "      <td>34.043732</td>\n",
       "      <td>-118.260139</td>\n",
       "      <td>3018</td>\n",
       "      <td>34.043732</td>\n",
       "      <td>-118.260139</td>\n",
       "      <td>6342</td>\n",
       "      <td>0</td>\n",
       "      <td>Round Trip</td>\n",
       "      <td>Walk-up</td>\n",
       "    </tr>\n",
       "    <tr>\n",
       "      <th>3</th>\n",
       "      <td>33404948</td>\n",
       "      <td>34</td>\n",
       "      <td>7/1/2017 0:11</td>\n",
       "      <td>7/1/2017 0:45</td>\n",
       "      <td>3018</td>\n",
       "      <td>34.043732</td>\n",
       "      <td>-118.260139</td>\n",
       "      <td>3018</td>\n",
       "      <td>34.043732</td>\n",
       "      <td>-118.260139</td>\n",
       "      <td>6478</td>\n",
       "      <td>0</td>\n",
       "      <td>Round Trip</td>\n",
       "      <td>Walk-up</td>\n",
       "    </tr>\n",
       "    <tr>\n",
       "      <th>4</th>\n",
       "      <td>33404949</td>\n",
       "      <td>12</td>\n",
       "      <td>7/1/2017 0:11</td>\n",
       "      <td>7/1/2017 0:23</td>\n",
       "      <td>3055</td>\n",
       "      <td>34.044159</td>\n",
       "      <td>-118.251579</td>\n",
       "      <td>3082</td>\n",
       "      <td>34.046520</td>\n",
       "      <td>-118.237411</td>\n",
       "      <td>6411</td>\n",
       "      <td>0</td>\n",
       "      <td>One Way</td>\n",
       "      <td>Walk-up</td>\n",
       "    </tr>\n",
       "  </tbody>\n",
       "</table>\n",
       "</div>"
      ],
      "text/plain": [
       "    trip_id  duration     start_time       end_time  start_station  start_lat  \\\n",
       "0  33404951        36  7/1/2017 0:09  7/1/2017 0:45           3018  34.043732   \n",
       "1  33404950        13  7/1/2017 0:10  7/1/2017 0:23           3055  34.044159   \n",
       "2  33404947        34  7/1/2017 0:11  7/1/2017 0:45           3018  34.043732   \n",
       "3  33404948        34  7/1/2017 0:11  7/1/2017 0:45           3018  34.043732   \n",
       "4  33404949        12  7/1/2017 0:11  7/1/2017 0:23           3055  34.044159   \n",
       "\n",
       "    start_lon  end_station    end_lat     end_lon  bike_id  plan_duration  \\\n",
       "0 -118.260139         3018  34.043732 -118.260139     5996              0   \n",
       "1 -118.251579         3082  34.046520 -118.237411     5777              0   \n",
       "2 -118.260139         3018  34.043732 -118.260139     6342              0   \n",
       "3 -118.260139         3018  34.043732 -118.260139     6478              0   \n",
       "4 -118.251579         3082  34.046520 -118.237411     6411              0   \n",
       "\n",
       "  trip_route_category passholder_type  \n",
       "0          Round Trip         Walk-up  \n",
       "1             One Way         Walk-up  \n",
       "2          Round Trip         Walk-up  \n",
       "3          Round Trip         Walk-up  \n",
       "4             One Way         Walk-up  "
      ]
     },
     "execution_count": 39,
     "metadata": {},
     "output_type": "execute_result"
    }
   ],
   "source": [
    "rides_df.head()"
   ]
  },
  {
   "cell_type": "code",
   "execution_count": 40,
   "metadata": {},
   "outputs": [
    {
     "data": {
      "text/html": [
       "<div>\n",
       "<style scoped>\n",
       "    .dataframe tbody tr th:only-of-type {\n",
       "        vertical-align: middle;\n",
       "    }\n",
       "\n",
       "    .dataframe tbody tr th {\n",
       "        vertical-align: top;\n",
       "    }\n",
       "\n",
       "    .dataframe thead th {\n",
       "        text-align: right;\n",
       "    }\n",
       "</style>\n",
       "<table border=\"1\" class=\"dataframe\">\n",
       "  <thead>\n",
       "    <tr style=\"text-align: right;\">\n",
       "      <th></th>\n",
       "      <th>trip_id</th>\n",
       "      <th>duration</th>\n",
       "      <th>start_station</th>\n",
       "      <th>start_lat</th>\n",
       "      <th>start_lon</th>\n",
       "      <th>end_station</th>\n",
       "      <th>end_lat</th>\n",
       "      <th>end_lon</th>\n",
       "      <th>bike_id</th>\n",
       "      <th>plan_duration</th>\n",
       "    </tr>\n",
       "  </thead>\n",
       "  <tbody>\n",
       "    <tr>\n",
       "      <th>count</th>\n",
       "      <td>2.862950e+05</td>\n",
       "      <td>286295.000000</td>\n",
       "      <td>286295.00000</td>\n",
       "      <td>285660.000000</td>\n",
       "      <td>285660.000000</td>\n",
       "      <td>286295.000000</td>\n",
       "      <td>281900.000000</td>\n",
       "      <td>281900.000000</td>\n",
       "      <td>286295.000000</td>\n",
       "      <td>286295.000000</td>\n",
       "    </tr>\n",
       "    <tr>\n",
       "      <th>mean</th>\n",
       "      <td>6.480957e+07</td>\n",
       "      <td>35.034206</td>\n",
       "      <td>3420.79971</td>\n",
       "      <td>34.045820</td>\n",
       "      <td>-118.271421</td>\n",
       "      <td>3414.716265</td>\n",
       "      <td>34.045689</td>\n",
       "      <td>-118.271667</td>\n",
       "      <td>7900.573014</td>\n",
       "      <td>30.907910</td>\n",
       "    </tr>\n",
       "    <tr>\n",
       "      <th>std</th>\n",
       "      <td>1.808223e+07</td>\n",
       "      <td>115.722913</td>\n",
       "      <td>538.47854</td>\n",
       "      <td>0.065529</td>\n",
       "      <td>0.097562</td>\n",
       "      <td>537.212309</td>\n",
       "      <td>0.065038</td>\n",
       "      <td>0.098157</td>\n",
       "      <td>2717.473129</td>\n",
       "      <td>66.243336</td>\n",
       "    </tr>\n",
       "    <tr>\n",
       "      <th>min</th>\n",
       "      <td>3.340494e+07</td>\n",
       "      <td>1.000000</td>\n",
       "      <td>3000.00000</td>\n",
       "      <td>33.710979</td>\n",
       "      <td>-118.491341</td>\n",
       "      <td>3000.000000</td>\n",
       "      <td>33.710979</td>\n",
       "      <td>-118.491341</td>\n",
       "      <td>4727.000000</td>\n",
       "      <td>0.000000</td>\n",
       "    </tr>\n",
       "    <tr>\n",
       "      <th>25%</th>\n",
       "      <td>4.905606e+07</td>\n",
       "      <td>7.000000</td>\n",
       "      <td>3031.00000</td>\n",
       "      <td>34.039982</td>\n",
       "      <td>-118.262733</td>\n",
       "      <td>3031.000000</td>\n",
       "      <td>34.039982</td>\n",
       "      <td>-118.262733</td>\n",
       "      <td>6053.000000</td>\n",
       "      <td>0.000000</td>\n",
       "    </tr>\n",
       "    <tr>\n",
       "      <th>50%</th>\n",
       "      <td>6.534754e+07</td>\n",
       "      <td>12.000000</td>\n",
       "      <td>3064.00000</td>\n",
       "      <td>34.046822</td>\n",
       "      <td>-118.252441</td>\n",
       "      <td>3063.000000</td>\n",
       "      <td>34.046810</td>\n",
       "      <td>-118.252830</td>\n",
       "      <td>6403.000000</td>\n",
       "      <td>30.000000</td>\n",
       "    </tr>\n",
       "    <tr>\n",
       "      <th>75%</th>\n",
       "      <td>8.085881e+07</td>\n",
       "      <td>25.000000</td>\n",
       "      <td>4156.00000</td>\n",
       "      <td>34.053200</td>\n",
       "      <td>-118.237411</td>\n",
       "      <td>4156.000000</td>\n",
       "      <td>34.051941</td>\n",
       "      <td>-118.237410</td>\n",
       "      <td>12019.000000</td>\n",
       "      <td>30.000000</td>\n",
       "    </tr>\n",
       "    <tr>\n",
       "      <th>max</th>\n",
       "      <td>9.508575e+07</td>\n",
       "      <td>1440.000000</td>\n",
       "      <td>4254.00000</td>\n",
       "      <td>34.165291</td>\n",
       "      <td>-118.116530</td>\n",
       "      <td>4254.000000</td>\n",
       "      <td>34.165291</td>\n",
       "      <td>-118.116530</td>\n",
       "      <td>12456.000000</td>\n",
       "      <td>365.000000</td>\n",
       "    </tr>\n",
       "  </tbody>\n",
       "</table>\n",
       "</div>"
      ],
      "text/plain": [
       "            trip_id       duration  start_station      start_lat  \\\n",
       "count  2.862950e+05  286295.000000   286295.00000  285660.000000   \n",
       "mean   6.480957e+07      35.034206     3420.79971      34.045820   \n",
       "std    1.808223e+07     115.722913      538.47854       0.065529   \n",
       "min    3.340494e+07       1.000000     3000.00000      33.710979   \n",
       "25%    4.905606e+07       7.000000     3031.00000      34.039982   \n",
       "50%    6.534754e+07      12.000000     3064.00000      34.046822   \n",
       "75%    8.085881e+07      25.000000     4156.00000      34.053200   \n",
       "max    9.508575e+07    1440.000000     4254.00000      34.165291   \n",
       "\n",
       "           start_lon    end_station        end_lat        end_lon  \\\n",
       "count  285660.000000  286295.000000  281900.000000  281900.000000   \n",
       "mean     -118.271421    3414.716265      34.045689    -118.271667   \n",
       "std         0.097562     537.212309       0.065038       0.098157   \n",
       "min      -118.491341    3000.000000      33.710979    -118.491341   \n",
       "25%      -118.262733    3031.000000      34.039982    -118.262733   \n",
       "50%      -118.252441    3063.000000      34.046810    -118.252830   \n",
       "75%      -118.237411    4156.000000      34.051941    -118.237410   \n",
       "max      -118.116530    4254.000000      34.165291    -118.116530   \n",
       "\n",
       "             bike_id  plan_duration  \n",
       "count  286295.000000  286295.000000  \n",
       "mean     7900.573014      30.907910  \n",
       "std      2717.473129      66.243336  \n",
       "min      4727.000000       0.000000  \n",
       "25%      6053.000000       0.000000  \n",
       "50%      6403.000000      30.000000  \n",
       "75%     12019.000000      30.000000  \n",
       "max     12456.000000     365.000000  "
      ]
     },
     "execution_count": 40,
     "metadata": {},
     "output_type": "execute_result"
    }
   ],
   "source": [
    "rides_df.describe()"
   ]
  },
  {
   "cell_type": "code",
   "execution_count": 41,
   "metadata": {},
   "outputs": [
    {
     "data": {
      "text/plain": [
       "trip_id                  int64\n",
       "duration                 int64\n",
       "start_time              object\n",
       "end_time                object\n",
       "start_station            int64\n",
       "start_lat              float64\n",
       "start_lon              float64\n",
       "end_station              int64\n",
       "end_lat                float64\n",
       "end_lon                float64\n",
       "bike_id                  int64\n",
       "plan_duration            int64\n",
       "trip_route_category     object\n",
       "passholder_type         object\n",
       "dtype: object"
      ]
     },
     "execution_count": 41,
     "metadata": {},
     "output_type": "execute_result"
    }
   ],
   "source": [
    "rides_df.dtypes"
   ]
  },
  {
   "cell_type": "markdown",
   "metadata": {},
   "source": [
    "On first glance, all time variables like start_time and end_time should be converted to a date time object."
   ]
  },
  {
   "cell_type": "code",
   "execution_count": 312,
   "metadata": {},
   "outputs": [],
   "source": [
    "# converting start and end times to datetime objects\n",
    "def col_to_datetime(column):\n",
    "    column = pd.to_datetime(column)\n",
    "\n",
    "rides_df['start_time'] = pd.to_datetime(rides_df['start_time'])\n",
    "rides_df['end_time'] = pd.to_datetime(rides_df['end_time'])"
   ]
  },
  {
   "cell_type": "code",
   "execution_count": 52,
   "metadata": {},
   "outputs": [
    {
     "data": {
      "text/plain": [
       "trip_id                         int64\n",
       "duration                        int64\n",
       "start_time             datetime64[ns]\n",
       "end_time               datetime64[ns]\n",
       "start_station                   int64\n",
       "start_lat                     float64\n",
       "start_lon                     float64\n",
       "end_station                     int64\n",
       "end_lat                       float64\n",
       "end_lon                       float64\n",
       "bike_id                         int64\n",
       "plan_duration                   int64\n",
       "trip_route_category            object\n",
       "passholder_type                object\n",
       "dtype: object"
      ]
     },
     "execution_count": 52,
     "metadata": {},
     "output_type": "execute_result"
    }
   ],
   "source": [
    "# checking to see if columns were indeed converted\n",
    "rides_df.dtypes"
   ]
  },
  {
   "cell_type": "code",
   "execution_count": 54,
   "metadata": {},
   "outputs": [
    {
     "data": {
      "text/plain": [
       "0    4214\n",
       "dtype: int64"
      ]
     },
     "execution_count": 54,
     "metadata": {},
     "output_type": "execute_result"
    }
   ],
   "source": [
    "# quick look at which station is the most commonly used and where it is (Venice beach)\n",
    "rides_df['start_station'].mode()"
   ]
  },
  {
   "cell_type": "code",
   "execution_count": 53,
   "metadata": {},
   "outputs": [
    {
     "data": {
      "text/html": [
       "<div>\n",
       "<style scoped>\n",
       "    .dataframe tbody tr th:only-of-type {\n",
       "        vertical-align: middle;\n",
       "    }\n",
       "\n",
       "    .dataframe tbody tr th {\n",
       "        vertical-align: top;\n",
       "    }\n",
       "\n",
       "    .dataframe thead th {\n",
       "        text-align: right;\n",
       "    }\n",
       "</style>\n",
       "<table border=\"1\" class=\"dataframe\">\n",
       "  <thead>\n",
       "    <tr style=\"text-align: right;\">\n",
       "      <th></th>\n",
       "      <th>trip_id</th>\n",
       "      <th>duration</th>\n",
       "      <th>start_time</th>\n",
       "      <th>end_time</th>\n",
       "      <th>start_station</th>\n",
       "      <th>start_lat</th>\n",
       "      <th>start_lon</th>\n",
       "      <th>end_station</th>\n",
       "      <th>end_lat</th>\n",
       "      <th>end_lon</th>\n",
       "      <th>bike_id</th>\n",
       "      <th>plan_duration</th>\n",
       "      <th>trip_route_category</th>\n",
       "      <th>passholder_type</th>\n",
       "    </tr>\n",
       "  </thead>\n",
       "  <tbody>\n",
       "    <tr>\n",
       "      <th>51390</th>\n",
       "      <td>44620579</td>\n",
       "      <td>16</td>\n",
       "      <td>2017-09-07 10:40:00</td>\n",
       "      <td>2017-09-07 10:56:00</td>\n",
       "      <td>4214</td>\n",
       "      <td>33.99556</td>\n",
       "      <td>-118.481552</td>\n",
       "      <td>4216</td>\n",
       "      <td>34.023392</td>\n",
       "      <td>-118.479637</td>\n",
       "      <td>11200</td>\n",
       "      <td>30</td>\n",
       "      <td>One Way</td>\n",
       "      <td>Monthly Pass</td>\n",
       "    </tr>\n",
       "    <tr>\n",
       "      <th>51391</th>\n",
       "      <td>44627346</td>\n",
       "      <td>28</td>\n",
       "      <td>2017-09-07 10:40:00</td>\n",
       "      <td>2017-09-07 11:08:00</td>\n",
       "      <td>4214</td>\n",
       "      <td>33.99556</td>\n",
       "      <td>-118.481552</td>\n",
       "      <td>4215</td>\n",
       "      <td>34.014309</td>\n",
       "      <td>-118.491341</td>\n",
       "      <td>12416</td>\n",
       "      <td>365</td>\n",
       "      <td>One Way</td>\n",
       "      <td>Flex Pass</td>\n",
       "    </tr>\n",
       "    <tr>\n",
       "      <th>51393</th>\n",
       "      <td>44641142</td>\n",
       "      <td>167</td>\n",
       "      <td>2017-09-07 10:40:00</td>\n",
       "      <td>2017-09-07 13:27:00</td>\n",
       "      <td>4214</td>\n",
       "      <td>33.99556</td>\n",
       "      <td>-118.481552</td>\n",
       "      <td>4212</td>\n",
       "      <td>33.988129</td>\n",
       "      <td>-118.471741</td>\n",
       "      <td>12241</td>\n",
       "      <td>365</td>\n",
       "      <td>One Way</td>\n",
       "      <td>Flex Pass</td>\n",
       "    </tr>\n",
       "    <tr>\n",
       "      <th>51394</th>\n",
       "      <td>44620577</td>\n",
       "      <td>17</td>\n",
       "      <td>2017-09-07 10:41:00</td>\n",
       "      <td>2017-09-07 10:58:00</td>\n",
       "      <td>4214</td>\n",
       "      <td>33.99556</td>\n",
       "      <td>-118.481552</td>\n",
       "      <td>4215</td>\n",
       "      <td>34.014309</td>\n",
       "      <td>-118.491341</td>\n",
       "      <td>12356</td>\n",
       "      <td>30</td>\n",
       "      <td>One Way</td>\n",
       "      <td>Monthly Pass</td>\n",
       "    </tr>\n",
       "    <tr>\n",
       "      <th>51395</th>\n",
       "      <td>44627343</td>\n",
       "      <td>28</td>\n",
       "      <td>2017-09-07 10:41:00</td>\n",
       "      <td>2017-09-07 11:09:00</td>\n",
       "      <td>4214</td>\n",
       "      <td>33.99556</td>\n",
       "      <td>-118.481552</td>\n",
       "      <td>4215</td>\n",
       "      <td>34.014309</td>\n",
       "      <td>-118.491341</td>\n",
       "      <td>12431</td>\n",
       "      <td>30</td>\n",
       "      <td>One Way</td>\n",
       "      <td>Monthly Pass</td>\n",
       "    </tr>\n",
       "  </tbody>\n",
       "</table>\n",
       "</div>"
      ],
      "text/plain": [
       "        trip_id  duration          start_time            end_time  \\\n",
       "51390  44620579        16 2017-09-07 10:40:00 2017-09-07 10:56:00   \n",
       "51391  44627346        28 2017-09-07 10:40:00 2017-09-07 11:08:00   \n",
       "51393  44641142       167 2017-09-07 10:40:00 2017-09-07 13:27:00   \n",
       "51394  44620577        17 2017-09-07 10:41:00 2017-09-07 10:58:00   \n",
       "51395  44627343        28 2017-09-07 10:41:00 2017-09-07 11:09:00   \n",
       "\n",
       "       start_station  start_lat   start_lon  end_station    end_lat  \\\n",
       "51390           4214   33.99556 -118.481552         4216  34.023392   \n",
       "51391           4214   33.99556 -118.481552         4215  34.014309   \n",
       "51393           4214   33.99556 -118.481552         4212  33.988129   \n",
       "51394           4214   33.99556 -118.481552         4215  34.014309   \n",
       "51395           4214   33.99556 -118.481552         4215  34.014309   \n",
       "\n",
       "          end_lon  bike_id  plan_duration trip_route_category passholder_type  \n",
       "51390 -118.479637    11200             30             One Way    Monthly Pass  \n",
       "51391 -118.491341    12416            365             One Way       Flex Pass  \n",
       "51393 -118.471741    12241            365             One Way       Flex Pass  \n",
       "51394 -118.491341    12356             30             One Way    Monthly Pass  \n",
       "51395 -118.491341    12431             30             One Way    Monthly Pass  "
      ]
     },
     "execution_count": 53,
     "metadata": {},
     "output_type": "execute_result"
    }
   ],
   "source": [
    "rides_df[rides_df['start_station'] == 4214].head()"
   ]
  },
  {
   "cell_type": "markdown",
   "metadata": {},
   "source": [
    "Here we use the missingno package to check for NA values in the dataframe. As the number of missing values seem almost negligible compared to the total number of observations, we drop the rows. Around 4849 rows, or 1.7% of total rows were dropped."
   ]
  },
  {
   "cell_type": "code",
   "execution_count": 55,
   "metadata": {},
   "outputs": [
    {
     "data": {
      "text/plain": [
       "<matplotlib.axes._subplots.AxesSubplot at 0x11835ea58>"
      ]
     },
     "execution_count": 55,
     "metadata": {},
     "output_type": "execute_result"
    },
    {
     "data": {
      "image/png": "[encoded data removed]",
      "text/plain": [
       "<matplotlib.figure.Figure at 0x110f148d0>"
      ]
     },
     "metadata": {},
     "output_type": "display_data"
    }
   ],
   "source": [
    "# check for missing values\n",
    "%matplotlib inline\n",
    "msno.matrix(rides_df)"
   ]
  },
  {
   "cell_type": "code",
   "execution_count": 47,
   "metadata": {},
   "outputs": [
    {
     "data": {
      "text/plain": [
       "(281446, 14)"
      ]
     },
     "execution_count": 47,
     "metadata": {},
     "output_type": "execute_result"
    }
   ],
   "source": [
    "# dropping rows with na values\n",
    "rides_df = rides_df.dropna()\n",
    "rides_df.shape"
   ]
  },
  {
   "cell_type": "markdown",
   "metadata": {},
   "source": [
    "# External datasets of geolocations\n",
    "\n",
    "In order to obtain a perspective of where most rides occur and landmarks around LA, we utilize multiple data sources and APIs to obtain the relevant latitude and longitude values.\n",
    "\n",
    "### Bike station locations\n",
    "We first start off with more detailed information on the bike stations. To do this, we download the json file from https://bikeshare.metro.net/stations/json/ which includes addresses and capacities of different bike stations."
   ]
  },
  {
   "cell_type": "code",
   "execution_count": 139,
   "metadata": {},
   "outputs": [],
   "source": [
    "# read in the json file with station information\n",
    "with open ('../data/external/bike_stations.json') as f:\n",
    "    station_data = json.load(f)"
   ]
  },
  {
   "cell_type": "code",
   "execution_count": 140,
   "metadata": {},
   "outputs": [],
   "source": [
    "# extract useful columns from the jason and append it to a list\n",
    "all_station_info = []\n",
    "for station in station_data['features']: \n",
    "    station_attr = []\n",
    "    station_attr.append([station['properties']['kioskId'], station['properties']['addressStreet'], \n",
    "                         station['properties']['addressZipCode'], station['properties']['name'],\n",
    "                         station['properties']['totalDocks']])\n",
    "    all_station_info.append(station_attr[0])"
   ]
  },
  {
   "cell_type": "code",
   "execution_count": 141,
   "metadata": {},
   "outputs": [
    {
     "data": {
      "text/plain": [
       "[3007, '557 S 5th Street', '90071', '5th & Grand', 23]"
      ]
     },
     "execution_count": 141,
     "metadata": {},
     "output_type": "execute_result"
    }
   ],
   "source": [
    "# check to see if each element in list is a list of station attributes we need\n",
    "all_station_info[2]"
   ]
  },
  {
   "cell_type": "code",
   "execution_count": 142,
   "metadata": {},
   "outputs": [
    {
     "data": {
      "text/html": [
       "<div>\n",
       "<style scoped>\n",
       "    .dataframe tbody tr th:only-of-type {\n",
       "        vertical-align: middle;\n",
       "    }\n",
       "\n",
       "    .dataframe tbody tr th {\n",
       "        vertical-align: top;\n",
       "    }\n",
       "\n",
       "    .dataframe thead th {\n",
       "        text-align: right;\n",
       "    }\n",
       "</style>\n",
       "<table border=\"1\" class=\"dataframe\">\n",
       "  <thead>\n",
       "    <tr style=\"text-align: right;\">\n",
       "      <th></th>\n",
       "      <th>kiosk_id</th>\n",
       "      <th>address_street</th>\n",
       "      <th>address_zip</th>\n",
       "      <th>station_name</th>\n",
       "      <th>total_docks</th>\n",
       "    </tr>\n",
       "  </thead>\n",
       "  <tbody>\n",
       "    <tr>\n",
       "      <th>0</th>\n",
       "      <td>3005</td>\n",
       "      <td>723 Flower Street</td>\n",
       "      <td>90017</td>\n",
       "      <td>7th &amp; Flower</td>\n",
       "      <td>27</td>\n",
       "    </tr>\n",
       "    <tr>\n",
       "      <th>1</th>\n",
       "      <td>3006</td>\n",
       "      <td>729 S Olive Street</td>\n",
       "      <td>90014</td>\n",
       "      <td>Olive &amp; 8th</td>\n",
       "      <td>24</td>\n",
       "    </tr>\n",
       "    <tr>\n",
       "      <th>2</th>\n",
       "      <td>3007</td>\n",
       "      <td>557 S 5th Street</td>\n",
       "      <td>90071</td>\n",
       "      <td>5th &amp; Grand</td>\n",
       "      <td>23</td>\n",
       "    </tr>\n",
       "    <tr>\n",
       "      <th>3</th>\n",
       "      <td>3008</td>\n",
       "      <td>865 S Figueroa Street</td>\n",
       "      <td>90017</td>\n",
       "      <td>Figueroa &amp; 9th</td>\n",
       "      <td>15</td>\n",
       "    </tr>\n",
       "    <tr>\n",
       "      <th>4</th>\n",
       "      <td>3010</td>\n",
       "      <td>401 East 11th Street</td>\n",
       "      <td>90015</td>\n",
       "      <td>11th &amp; Maple</td>\n",
       "      <td>22</td>\n",
       "    </tr>\n",
       "  </tbody>\n",
       "</table>\n",
       "</div>"
      ],
      "text/plain": [
       "   kiosk_id         address_street address_zip    station_name  total_docks\n",
       "0      3005      723 Flower Street       90017    7th & Flower           27\n",
       "1      3006     729 S Olive Street       90014     Olive & 8th           24\n",
       "2      3007       557 S 5th Street       90071     5th & Grand           23\n",
       "3      3008  865 S Figueroa Street       90017  Figueroa & 9th           15\n",
       "4      3010   401 East 11th Street       90015    11th & Maple           22"
      ]
     },
     "execution_count": 142,
     "metadata": {},
     "output_type": "execute_result"
    }
   ],
   "source": [
    "# create new dataframe based on the attributes\n",
    "stations_info = pd.DataFrame(all_station_info, columns=['kiosk_id','address_street','address_zip','station_name','total_docks'])\n",
    "stations_info.head()"
   ]
  },
  {
   "cell_type": "code",
   "execution_count": 163,
   "metadata": {},
   "outputs": [],
   "source": [
    "# adding start station attributes\n",
    "rides_df = pd.merge(rides_df, stations_info, how = \"left\", left_on = 'start_station', \n",
    "               right_on = ['kiosk_id']).rename(columns = {'address_street':'start_address',\n",
    "                                                          'address_zip':'start_zip','station_name':'start_name',\n",
    "                                                          'total_docks':'start_docks'}).drop('kiosk_id',1)\n",
    "# adding end station attributes\n",
    "rides_df = pd.merge(rides_df, stations_info, how = \"left\", left_on = 'end_station', \n",
    "               right_on = ['kiosk_id']).rename(columns = {'address_street':'end_address',\n",
    "                                                          'address_zip':'end_zip','station_name':'end_name',\n",
    "                                                          'total_docks':'end_docks'}).drop('kiosk_id',1)"
   ]
  },
  {
   "cell_type": "code",
   "execution_count": 303,
   "metadata": {},
   "outputs": [
    {
     "data": {
      "text/html": [
       "<div>\n",
       "<style scoped>\n",
       "    .dataframe tbody tr th:only-of-type {\n",
       "        vertical-align: middle;\n",
       "    }\n",
       "\n",
       "    .dataframe tbody tr th {\n",
       "        vertical-align: top;\n",
       "    }\n",
       "\n",
       "    .dataframe thead th {\n",
       "        text-align: right;\n",
       "    }\n",
       "</style>\n",
       "<table border=\"1\" class=\"dataframe\">\n",
       "  <thead>\n",
       "    <tr style=\"text-align: right;\">\n",
       "      <th></th>\n",
       "      <th>trip_id</th>\n",
       "      <th>duration</th>\n",
       "      <th>start_time</th>\n",
       "      <th>end_time</th>\n",
       "      <th>start_station</th>\n",
       "      <th>start_lat</th>\n",
       "      <th>start_lon</th>\n",
       "      <th>end_station</th>\n",
       "      <th>end_lat</th>\n",
       "      <th>end_lon</th>\n",
       "      <th>...</th>\n",
       "      <th>trip_route_category</th>\n",
       "      <th>passholder_type</th>\n",
       "      <th>start_address</th>\n",
       "      <th>start_zip</th>\n",
       "      <th>start_name</th>\n",
       "      <th>start_docks</th>\n",
       "      <th>end_address</th>\n",
       "      <th>end_zip</th>\n",
       "      <th>end_name</th>\n",
       "      <th>end_docks</th>\n",
       "    </tr>\n",
       "  </thead>\n",
       "  <tbody>\n",
       "    <tr>\n",
       "      <th>0</th>\n",
       "      <td>33404951</td>\n",
       "      <td>36</td>\n",
       "      <td>2017-07-01 00:09:00</td>\n",
       "      <td>2017-07-01 00:45:00</td>\n",
       "      <td>3018</td>\n",
       "      <td>34.043732</td>\n",
       "      <td>-118.260139</td>\n",
       "      <td>3018</td>\n",
       "      <td>34.043732</td>\n",
       "      <td>-118.260139</td>\n",
       "      <td>...</td>\n",
       "      <td>Round Trip</td>\n",
       "      <td>Walk-up</td>\n",
       "      <td>919 S Grand Ave</td>\n",
       "      <td>90015</td>\n",
       "      <td>Grand &amp; Olympic</td>\n",
       "      <td>22.0</td>\n",
       "      <td>919 S Grand Ave</td>\n",
       "      <td>90015</td>\n",
       "      <td>Grand &amp; Olympic</td>\n",
       "      <td>22.0</td>\n",
       "    </tr>\n",
       "    <tr>\n",
       "      <th>1</th>\n",
       "      <td>33404950</td>\n",
       "      <td>13</td>\n",
       "      <td>2017-07-01 00:10:00</td>\n",
       "      <td>2017-07-01 00:23:00</td>\n",
       "      <td>3055</td>\n",
       "      <td>34.044159</td>\n",
       "      <td>-118.251579</td>\n",
       "      <td>3082</td>\n",
       "      <td>34.046520</td>\n",
       "      <td>-118.237411</td>\n",
       "      <td>...</td>\n",
       "      <td>One Way</td>\n",
       "      <td>Walk-up</td>\n",
       "      <td>111 W 7th Street</td>\n",
       "      <td>90014</td>\n",
       "      <td>7th &amp; Main</td>\n",
       "      <td>23.0</td>\n",
       "      <td>599 Traction Ave</td>\n",
       "      <td>90013</td>\n",
       "      <td>Traction &amp; Rose</td>\n",
       "      <td>27.0</td>\n",
       "    </tr>\n",
       "    <tr>\n",
       "      <th>2</th>\n",
       "      <td>33404947</td>\n",
       "      <td>34</td>\n",
       "      <td>2017-07-01 00:11:00</td>\n",
       "      <td>2017-07-01 00:45:00</td>\n",
       "      <td>3018</td>\n",
       "      <td>34.043732</td>\n",
       "      <td>-118.260139</td>\n",
       "      <td>3018</td>\n",
       "      <td>34.043732</td>\n",
       "      <td>-118.260139</td>\n",
       "      <td>...</td>\n",
       "      <td>Round Trip</td>\n",
       "      <td>Walk-up</td>\n",
       "      <td>919 S Grand Ave</td>\n",
       "      <td>90015</td>\n",
       "      <td>Grand &amp; Olympic</td>\n",
       "      <td>22.0</td>\n",
       "      <td>919 S Grand Ave</td>\n",
       "      <td>90015</td>\n",
       "      <td>Grand &amp; Olympic</td>\n",
       "      <td>22.0</td>\n",
       "    </tr>\n",
       "    <tr>\n",
       "      <th>3</th>\n",
       "      <td>33404948</td>\n",
       "      <td>34</td>\n",
       "      <td>2017-07-01 00:11:00</td>\n",
       "      <td>2017-07-01 00:45:00</td>\n",
       "      <td>3018</td>\n",
       "      <td>34.043732</td>\n",
       "      <td>-118.260139</td>\n",
       "      <td>3018</td>\n",
       "      <td>34.043732</td>\n",
       "      <td>-118.260139</td>\n",
       "      <td>...</td>\n",
       "      <td>Round Trip</td>\n",
       "      <td>Walk-up</td>\n",
       "      <td>919 S Grand Ave</td>\n",
       "      <td>90015</td>\n",
       "      <td>Grand &amp; Olympic</td>\n",
       "      <td>22.0</td>\n",
       "      <td>919 S Grand Ave</td>\n",
       "      <td>90015</td>\n",
       "      <td>Grand &amp; Olympic</td>\n",
       "      <td>22.0</td>\n",
       "    </tr>\n",
       "    <tr>\n",
       "      <th>4</th>\n",
       "      <td>33404949</td>\n",
       "      <td>12</td>\n",
       "      <td>2017-07-01 00:11:00</td>\n",
       "      <td>2017-07-01 00:23:00</td>\n",
       "      <td>3055</td>\n",
       "      <td>34.044159</td>\n",
       "      <td>-118.251579</td>\n",
       "      <td>3082</td>\n",
       "      <td>34.046520</td>\n",
       "      <td>-118.237411</td>\n",
       "      <td>...</td>\n",
       "      <td>One Way</td>\n",
       "      <td>Walk-up</td>\n",
       "      <td>111 W 7th Street</td>\n",
       "      <td>90014</td>\n",
       "      <td>7th &amp; Main</td>\n",
       "      <td>23.0</td>\n",
       "      <td>599 Traction Ave</td>\n",
       "      <td>90013</td>\n",
       "      <td>Traction &amp; Rose</td>\n",
       "      <td>27.0</td>\n",
       "    </tr>\n",
       "  </tbody>\n",
       "</table>\n",
       "<p>5 rows × 22 columns</p>\n",
       "</div>"
      ],
      "text/plain": [
       "    trip_id  duration          start_time            end_time  start_station  \\\n",
       "0  33404951        36 2017-07-01 00:09:00 2017-07-01 00:45:00           3018   \n",
       "1  33404950        13 2017-07-01 00:10:00 2017-07-01 00:23:00           3055   \n",
       "2  33404947        34 2017-07-01 00:11:00 2017-07-01 00:45:00           3018   \n",
       "3  33404948        34 2017-07-01 00:11:00 2017-07-01 00:45:00           3018   \n",
       "4  33404949        12 2017-07-01 00:11:00 2017-07-01 00:23:00           3055   \n",
       "\n",
       "   start_lat   start_lon  end_station    end_lat     end_lon    ...     \\\n",
       "0  34.043732 -118.260139         3018  34.043732 -118.260139    ...      \n",
       "1  34.044159 -118.251579         3082  34.046520 -118.237411    ...      \n",
       "2  34.043732 -118.260139         3018  34.043732 -118.260139    ...      \n",
       "3  34.043732 -118.260139         3018  34.043732 -118.260139    ...      \n",
       "4  34.044159 -118.251579         3082  34.046520 -118.237411    ...      \n",
       "\n",
       "   trip_route_category  passholder_type     start_address start_zip  \\\n",
       "0           Round Trip          Walk-up   919 S Grand Ave     90015   \n",
       "1              One Way          Walk-up  111 W 7th Street     90014   \n",
       "2           Round Trip          Walk-up   919 S Grand Ave     90015   \n",
       "3           Round Trip          Walk-up   919 S Grand Ave     90015   \n",
       "4              One Way          Walk-up  111 W 7th Street     90014   \n",
       "\n",
       "        start_name start_docks       end_address  end_zip         end_name  \\\n",
       "0  Grand & Olympic        22.0   919 S Grand Ave    90015  Grand & Olympic   \n",
       "1       7th & Main        23.0  599 Traction Ave    90013  Traction & Rose   \n",
       "2  Grand & Olympic        22.0   919 S Grand Ave    90015  Grand & Olympic   \n",
       "3  Grand & Olympic        22.0   919 S Grand Ave    90015  Grand & Olympic   \n",
       "4       7th & Main        23.0  599 Traction Ave    90013  Traction & Rose   \n",
       "\n",
       "  end_docks  \n",
       "0      22.0  \n",
       "1      27.0  \n",
       "2      22.0  \n",
       "3      22.0  \n",
       "4      27.0  \n",
       "\n",
       "[5 rows x 22 columns]"
      ]
     },
     "execution_count": 303,
     "metadata": {},
     "output_type": "execute_result"
    }
   ],
   "source": [
    "rides_df.head()"
   ]
  },
  {
   "cell_type": "code",
   "execution_count": null,
   "metadata": {
    "collapsed": true
   },
   "outputs": [],
   "source": []
  },
  {
   "cell_type": "code",
   "execution_count": 306,
   "metadata": {},
   "outputs": [
    {
     "name": "stdout",
     "output_type": "stream",
     "text": [
      "Dates range from:  2017-07-01 00:09:00  to  2018-06-30 23:52:00\n"
     ]
    }
   ],
   "source": [
    "print('Dates range from: ', rides_df['start_time'].min(), ' to ', rides_df['start_time'].max())"
   ]
  },
  {
   "cell_type": "markdown",
   "metadata": {},
   "source": [
    "### Active businesses\n",
    "\n",
    "https://data.lacity.org/A-Prosperous-City/Listing-of-Active-Businesses/6rrh-rzua"
   ]
  },
  {
   "cell_type": "code",
   "execution_count": 365,
   "metadata": {
    "collapsed": true
   },
   "outputs": [],
   "source": [
    "# reading in csv file of active businesses, could be outside of LA\n",
    "business_df = pd.read_csv('../data/external/active_businesses.csv')"
   ]
  },
  {
   "cell_type": "code",
   "execution_count": 366,
   "metadata": {},
   "outputs": [
    {
     "data": {
      "text/html": [
       "<div>\n",
       "<style scoped>\n",
       "    .dataframe tbody tr th:only-of-type {\n",
       "        vertical-align: middle;\n",
       "    }\n",
       "\n",
       "    .dataframe tbody tr th {\n",
       "        vertical-align: top;\n",
       "    }\n",
       "\n",
       "    .dataframe thead th {\n",
       "        text-align: right;\n",
       "    }\n",
       "</style>\n",
       "<table border=\"1\" class=\"dataframe\">\n",
       "  <thead>\n",
       "    <tr style=\"text-align: right;\">\n",
       "      <th></th>\n",
       "      <th>LOCATION ACCOUNT #</th>\n",
       "      <th>BUSINESS NAME</th>\n",
       "      <th>DBA NAME</th>\n",
       "      <th>STREET ADDRESS</th>\n",
       "      <th>CITY</th>\n",
       "      <th>ZIP CODE</th>\n",
       "      <th>LOCATION DESCRIPTION</th>\n",
       "      <th>MAILING ADDRESS</th>\n",
       "      <th>MAILING CITY</th>\n",
       "      <th>MAILING ZIP CODE</th>\n",
       "      <th>NAICS</th>\n",
       "      <th>PRIMARY NAICS DESCRIPTION</th>\n",
       "      <th>COUNCIL DISTRICT</th>\n",
       "      <th>LOCATION START DATE</th>\n",
       "      <th>LOCATION END DATE</th>\n",
       "      <th>LOCATION</th>\n",
       "    </tr>\n",
       "  </thead>\n",
       "  <tbody>\n",
       "    <tr>\n",
       "      <th>0</th>\n",
       "      <td>0000000115-0001-3</td>\n",
       "      <td>VINCENZO LABELLA</td>\n",
       "      <td>NaN</td>\n",
       "      <td>521 SWARTHMORE AVENUE</td>\n",
       "      <td>PACIFIC PALISADES</td>\n",
       "      <td>90272-4350</td>\n",
       "      <td>521 SWARTHMORE 90272-4350</td>\n",
       "      <td>521 SWARTHMORE AVENUE</td>\n",
       "      <td>PACIFIC PALISADES</td>\n",
       "      <td>90272-4350</td>\n",
       "      <td>561500.0</td>\n",
       "      <td>Travel arrangement &amp; reservation services</td>\n",
       "      <td>11</td>\n",
       "      <td>01/01/1990</td>\n",
       "      <td>NaN</td>\n",
       "      <td>NaN</td>\n",
       "    </tr>\n",
       "    <tr>\n",
       "      <th>1</th>\n",
       "      <td>0000000150-0001-5</td>\n",
       "      <td>A A OFICINA CENTRAL HISPANA DE LOS ANGELES /C</td>\n",
       "      <td>NaN</td>\n",
       "      <td>2015 W TEMPLE STREET</td>\n",
       "      <td>LOS ANGELES</td>\n",
       "      <td>90026-4913</td>\n",
       "      <td>2015 TEMPLE 90026-4913</td>\n",
       "      <td>2607 VAN BUREN PLACE</td>\n",
       "      <td>LOS ANGELES</td>\n",
       "      <td>90007-2129</td>\n",
       "      <td>611000.0</td>\n",
       "      <td>Educational services (including schools, colle...</td>\n",
       "      <td>13</td>\n",
       "      <td>01/01/1991</td>\n",
       "      <td>NaN</td>\n",
       "      <td>NaN</td>\n",
       "    </tr>\n",
       "    <tr>\n",
       "      <th>2</th>\n",
       "      <td>0000000156-0001-2</td>\n",
       "      <td>SPRINGBOARD NON-PROFIT CONSUMER CREDIT MANAGEMENT</td>\n",
       "      <td>MONEY MANAGEMENT INTERNATIONAL</td>\n",
       "      <td>1605 W OLYMPIC BLVD #9023</td>\n",
       "      <td>LOS ANGELES</td>\n",
       "      <td>90015-3828</td>\n",
       "      <td>1605 OLYMPIC 90015-3828</td>\n",
       "      <td>NaN</td>\n",
       "      <td>NaN</td>\n",
       "      <td>NaN</td>\n",
       "      <td>523900.0</td>\n",
       "      <td>Other financial investment activities (includi...</td>\n",
       "      <td>1</td>\n",
       "      <td>02/01/1999</td>\n",
       "      <td>NaN</td>\n",
       "      <td>NaN</td>\n",
       "    </tr>\n",
       "    <tr>\n",
       "      <th>3</th>\n",
       "      <td>0000000225-0001-5</td>\n",
       "      <td>STRATEGIC CONCEPTS IN ORGANIZING AND POLICY ED...</td>\n",
       "      <td>NaN</td>\n",
       "      <td>1715 W FLORENCE AVENUE</td>\n",
       "      <td>LOS ANGELES</td>\n",
       "      <td>90047-2220</td>\n",
       "      <td>1715 FLORENCE 90047-2220</td>\n",
       "      <td>NaN</td>\n",
       "      <td>NaN</td>\n",
       "      <td>NaN</td>\n",
       "      <td>611000.0</td>\n",
       "      <td>Educational services (including schools, colle...</td>\n",
       "      <td>8</td>\n",
       "      <td>06/03/1997</td>\n",
       "      <td>NaN</td>\n",
       "      <td>NaN</td>\n",
       "    </tr>\n",
       "    <tr>\n",
       "      <th>4</th>\n",
       "      <td>0000000247-0001-1</td>\n",
       "      <td>A A OFICINA CENTRAL HISPANA DE LOS ANGELES /C</td>\n",
       "      <td>NaN</td>\n",
       "      <td>3806 W PICO BLVD</td>\n",
       "      <td>LOS ANGELES</td>\n",
       "      <td>90019-4304</td>\n",
       "      <td>3806 PICO 90019-4304</td>\n",
       "      <td>2607 VAN BUREN PLACE</td>\n",
       "      <td>LOS ANGELES</td>\n",
       "      <td>90007-2129</td>\n",
       "      <td>611000.0</td>\n",
       "      <td>Educational services (including schools, colle...</td>\n",
       "      <td>10</td>\n",
       "      <td>01/01/1991</td>\n",
       "      <td>NaN</td>\n",
       "      <td>NaN</td>\n",
       "    </tr>\n",
       "  </tbody>\n",
       "</table>\n",
       "</div>"
      ],
      "text/plain": [
       "  LOCATION ACCOUNT #                                      BUSINESS NAME  \\\n",
       "0  0000000115-0001-3                                   VINCENZO LABELLA   \n",
       "1  0000000150-0001-5      A A OFICINA CENTRAL HISPANA DE LOS ANGELES /C   \n",
       "2  0000000156-0001-2  SPRINGBOARD NON-PROFIT CONSUMER CREDIT MANAGEMENT   \n",
       "3  0000000225-0001-5  STRATEGIC CONCEPTS IN ORGANIZING AND POLICY ED...   \n",
       "4  0000000247-0001-1      A A OFICINA CENTRAL HISPANA DE LOS ANGELES /C   \n",
       "\n",
       "                         DBA NAME             STREET ADDRESS  \\\n",
       "0                             NaN      521 SWARTHMORE AVENUE   \n",
       "1                             NaN       2015 W TEMPLE STREET   \n",
       "2  MONEY MANAGEMENT INTERNATIONAL  1605 W OLYMPIC BLVD #9023   \n",
       "3                             NaN     1715 W FLORENCE AVENUE   \n",
       "4                             NaN           3806 W PICO BLVD   \n",
       "\n",
       "                CITY    ZIP CODE       LOCATION DESCRIPTION  \\\n",
       "0  PACIFIC PALISADES  90272-4350  521 SWARTHMORE 90272-4350   \n",
       "1        LOS ANGELES  90026-4913     2015 TEMPLE 90026-4913   \n",
       "2        LOS ANGELES  90015-3828    1605 OLYMPIC 90015-3828   \n",
       "3        LOS ANGELES  90047-2220   1715 FLORENCE 90047-2220   \n",
       "4        LOS ANGELES  90019-4304       3806 PICO 90019-4304   \n",
       "\n",
       "         MAILING ADDRESS       MAILING CITY MAILING ZIP CODE     NAICS  \\\n",
       "0  521 SWARTHMORE AVENUE  PACIFIC PALISADES       90272-4350  561500.0   \n",
       "1   2607 VAN BUREN PLACE        LOS ANGELES       90007-2129  611000.0   \n",
       "2                    NaN                NaN              NaN  523900.0   \n",
       "3                    NaN                NaN              NaN  611000.0   \n",
       "4   2607 VAN BUREN PLACE        LOS ANGELES       90007-2129  611000.0   \n",
       "\n",
       "                           PRIMARY NAICS DESCRIPTION  COUNCIL DISTRICT  \\\n",
       "0          Travel arrangement & reservation services                11   \n",
       "1  Educational services (including schools, colle...                13   \n",
       "2  Other financial investment activities (includi...                 1   \n",
       "3  Educational services (including schools, colle...                 8   \n",
       "4  Educational services (including schools, colle...                10   \n",
       "\n",
       "  LOCATION START DATE  LOCATION END DATE LOCATION  \n",
       "0          01/01/1990                NaN      NaN  \n",
       "1          01/01/1991                NaN      NaN  \n",
       "2          02/01/1999                NaN      NaN  \n",
       "3          06/03/1997                NaN      NaN  \n",
       "4          01/01/1991                NaN      NaN  "
      ]
     },
     "execution_count": 366,
     "metadata": {},
     "output_type": "execute_result"
    }
   ],
   "source": [
    "business_df.head()"
   ]
  },
  {
   "cell_type": "code",
   "execution_count": 367,
   "metadata": {},
   "outputs": [
    {
     "data": {
      "text/plain": [
       "array(['PACIFIC PALISADES', 'LOS ANGELES', 'GRANADA HILLS', ..., 'ARDEN',\n",
       "       'LOS BANOS', 'DEBARY'], dtype=object)"
      ]
     },
     "execution_count": 367,
     "metadata": {},
     "output_type": "execute_result"
    }
   ],
   "source": [
    "# check to see how many different cities there are in the column\n",
    "business_df['CITY'].unique()"
   ]
  },
  {
   "cell_type": "markdown",
   "metadata": {},
   "source": [
    "As the focus of the ride sharing data is in the LA metro area, we will only focus on the data in that area and only include data with the city variable matching 'Los Angeles'.\n",
    "\n",
    "By doing so, we see that around 50% of the initial dataset remains."
   ]
  },
  {
   "cell_type": "code",
   "execution_count": 368,
   "metadata": {},
   "outputs": [
    {
     "data": {
      "text/plain": [
       "(250920, 16)"
      ]
     },
     "execution_count": 368,
     "metadata": {},
     "output_type": "execute_result"
    }
   ],
   "source": [
    "business_df = business_df[business_df['CITY'] == 'LOS ANGELES']\n",
    "business_df.shape"
   ]
  },
  {
   "cell_type": "markdown",
   "metadata": {},
   "source": [
    "A look at the dataframe also reveals many NaN values. Using msno, we see that there are multiple columns like 'DBA NAME' and 'MAILING CITY' that are almost completely empty.\n",
    "\n",
    "There are also many variables that are not as relevant in our analysis. Our main purpose of obtaining the dataset of active businesses is to visualize their locations. We will thus select only the relevant columns and rename them accordingly."
   ]
  },
  {
   "cell_type": "code",
   "execution_count": 369,
   "metadata": {},
   "outputs": [
    {
     "data": {
      "text/html": [
       "<div>\n",
       "<style scoped>\n",
       "    .dataframe tbody tr th:only-of-type {\n",
       "        vertical-align: middle;\n",
       "    }\n",
       "\n",
       "    .dataframe tbody tr th {\n",
       "        vertical-align: top;\n",
       "    }\n",
       "\n",
       "    .dataframe thead th {\n",
       "        text-align: right;\n",
       "    }\n",
       "</style>\n",
       "<table border=\"1\" class=\"dataframe\">\n",
       "  <thead>\n",
       "    <tr style=\"text-align: right;\">\n",
       "      <th></th>\n",
       "      <th>LOCATION ACCOUNT #</th>\n",
       "      <th>BUSINESS NAME</th>\n",
       "      <th>DBA NAME</th>\n",
       "      <th>STREET ADDRESS</th>\n",
       "      <th>CITY</th>\n",
       "      <th>ZIP CODE</th>\n",
       "      <th>LOCATION DESCRIPTION</th>\n",
       "      <th>MAILING ADDRESS</th>\n",
       "      <th>MAILING CITY</th>\n",
       "      <th>MAILING ZIP CODE</th>\n",
       "      <th>NAICS</th>\n",
       "      <th>PRIMARY NAICS DESCRIPTION</th>\n",
       "      <th>COUNCIL DISTRICT</th>\n",
       "      <th>LOCATION START DATE</th>\n",
       "      <th>LOCATION END DATE</th>\n",
       "      <th>LOCATION</th>\n",
       "    </tr>\n",
       "  </thead>\n",
       "  <tbody>\n",
       "    <tr>\n",
       "      <th>1</th>\n",
       "      <td>0000000150-0001-5</td>\n",
       "      <td>A A OFICINA CENTRAL HISPANA DE LOS ANGELES /C</td>\n",
       "      <td>NaN</td>\n",
       "      <td>2015 W TEMPLE STREET</td>\n",
       "      <td>LOS ANGELES</td>\n",
       "      <td>90026-4913</td>\n",
       "      <td>2015 TEMPLE 90026-4913</td>\n",
       "      <td>2607 VAN BUREN PLACE</td>\n",
       "      <td>LOS ANGELES</td>\n",
       "      <td>90007-2129</td>\n",
       "      <td>611000.0</td>\n",
       "      <td>Educational services (including schools, colle...</td>\n",
       "      <td>13</td>\n",
       "      <td>01/01/1991</td>\n",
       "      <td>NaN</td>\n",
       "      <td>NaN</td>\n",
       "    </tr>\n",
       "    <tr>\n",
       "      <th>2</th>\n",
       "      <td>0000000156-0001-2</td>\n",
       "      <td>SPRINGBOARD NON-PROFIT CONSUMER CREDIT MANAGEMENT</td>\n",
       "      <td>MONEY MANAGEMENT INTERNATIONAL</td>\n",
       "      <td>1605 W OLYMPIC BLVD #9023</td>\n",
       "      <td>LOS ANGELES</td>\n",
       "      <td>90015-3828</td>\n",
       "      <td>1605 OLYMPIC 90015-3828</td>\n",
       "      <td>NaN</td>\n",
       "      <td>NaN</td>\n",
       "      <td>NaN</td>\n",
       "      <td>523900.0</td>\n",
       "      <td>Other financial investment activities (includi...</td>\n",
       "      <td>1</td>\n",
       "      <td>02/01/1999</td>\n",
       "      <td>NaN</td>\n",
       "      <td>NaN</td>\n",
       "    </tr>\n",
       "    <tr>\n",
       "      <th>3</th>\n",
       "      <td>0000000225-0001-5</td>\n",
       "      <td>STRATEGIC CONCEPTS IN ORGANIZING AND POLICY ED...</td>\n",
       "      <td>NaN</td>\n",
       "      <td>1715 W FLORENCE AVENUE</td>\n",
       "      <td>LOS ANGELES</td>\n",
       "      <td>90047-2220</td>\n",
       "      <td>1715 FLORENCE 90047-2220</td>\n",
       "      <td>NaN</td>\n",
       "      <td>NaN</td>\n",
       "      <td>NaN</td>\n",
       "      <td>611000.0</td>\n",
       "      <td>Educational services (including schools, colle...</td>\n",
       "      <td>8</td>\n",
       "      <td>06/03/1997</td>\n",
       "      <td>NaN</td>\n",
       "      <td>NaN</td>\n",
       "    </tr>\n",
       "    <tr>\n",
       "      <th>4</th>\n",
       "      <td>0000000247-0001-1</td>\n",
       "      <td>A A OFICINA CENTRAL HISPANA DE LOS ANGELES /C</td>\n",
       "      <td>NaN</td>\n",
       "      <td>3806 W PICO BLVD</td>\n",
       "      <td>LOS ANGELES</td>\n",
       "      <td>90019-4304</td>\n",
       "      <td>3806 PICO 90019-4304</td>\n",
       "      <td>2607 VAN BUREN PLACE</td>\n",
       "      <td>LOS ANGELES</td>\n",
       "      <td>90007-2129</td>\n",
       "      <td>611000.0</td>\n",
       "      <td>Educational services (including schools, colle...</td>\n",
       "      <td>10</td>\n",
       "      <td>01/01/1991</td>\n",
       "      <td>NaN</td>\n",
       "      <td>NaN</td>\n",
       "    </tr>\n",
       "    <tr>\n",
       "      <th>5</th>\n",
       "      <td>0000000267-0001-9</td>\n",
       "      <td>A A OFICINA CENTRAL HISPANA DE LOS ANGELES /C</td>\n",
       "      <td>NaN</td>\n",
       "      <td>3115 VENICE BLVD</td>\n",
       "      <td>LOS ANGELES</td>\n",
       "      <td>90019-6238</td>\n",
       "      <td>3115 VENICE 90019-6238</td>\n",
       "      <td>2607 VAN BUREN PLACE</td>\n",
       "      <td>LOS ANGELES</td>\n",
       "      <td>90007-2129</td>\n",
       "      <td>611000.0</td>\n",
       "      <td>Educational services (including schools, colle...</td>\n",
       "      <td>10</td>\n",
       "      <td>01/01/1991</td>\n",
       "      <td>NaN</td>\n",
       "      <td>NaN</td>\n",
       "    </tr>\n",
       "  </tbody>\n",
       "</table>\n",
       "</div>"
      ],
      "text/plain": [
       "  LOCATION ACCOUNT #                                      BUSINESS NAME  \\\n",
       "1  0000000150-0001-5      A A OFICINA CENTRAL HISPANA DE LOS ANGELES /C   \n",
       "2  0000000156-0001-2  SPRINGBOARD NON-PROFIT CONSUMER CREDIT MANAGEMENT   \n",
       "3  0000000225-0001-5  STRATEGIC CONCEPTS IN ORGANIZING AND POLICY ED...   \n",
       "4  0000000247-0001-1      A A OFICINA CENTRAL HISPANA DE LOS ANGELES /C   \n",
       "5  0000000267-0001-9      A A OFICINA CENTRAL HISPANA DE LOS ANGELES /C   \n",
       "\n",
       "                         DBA NAME             STREET ADDRESS         CITY  \\\n",
       "1                             NaN       2015 W TEMPLE STREET  LOS ANGELES   \n",
       "2  MONEY MANAGEMENT INTERNATIONAL  1605 W OLYMPIC BLVD #9023  LOS ANGELES   \n",
       "3                             NaN     1715 W FLORENCE AVENUE  LOS ANGELES   \n",
       "4                             NaN           3806 W PICO BLVD  LOS ANGELES   \n",
       "5                             NaN           3115 VENICE BLVD  LOS ANGELES   \n",
       "\n",
       "     ZIP CODE      LOCATION DESCRIPTION       MAILING ADDRESS MAILING CITY  \\\n",
       "1  90026-4913    2015 TEMPLE 90026-4913  2607 VAN BUREN PLACE  LOS ANGELES   \n",
       "2  90015-3828   1605 OLYMPIC 90015-3828                   NaN          NaN   \n",
       "3  90047-2220  1715 FLORENCE 90047-2220                   NaN          NaN   \n",
       "4  90019-4304      3806 PICO 90019-4304  2607 VAN BUREN PLACE  LOS ANGELES   \n",
       "5  90019-6238    3115 VENICE 90019-6238  2607 VAN BUREN PLACE  LOS ANGELES   \n",
       "\n",
       "  MAILING ZIP CODE     NAICS  \\\n",
       "1       90007-2129  611000.0   \n",
       "2              NaN  523900.0   \n",
       "3              NaN  611000.0   \n",
       "4       90007-2129  611000.0   \n",
       "5       90007-2129  611000.0   \n",
       "\n",
       "                           PRIMARY NAICS DESCRIPTION  COUNCIL DISTRICT  \\\n",
       "1  Educational services (including schools, colle...                13   \n",
       "2  Other financial investment activities (includi...                 1   \n",
       "3  Educational services (including schools, colle...                 8   \n",
       "4  Educational services (including schools, colle...                10   \n",
       "5  Educational services (including schools, colle...                10   \n",
       "\n",
       "  LOCATION START DATE  LOCATION END DATE LOCATION  \n",
       "1          01/01/1991                NaN      NaN  \n",
       "2          02/01/1999                NaN      NaN  \n",
       "3          06/03/1997                NaN      NaN  \n",
       "4          01/01/1991                NaN      NaN  \n",
       "5          01/01/1991                NaN      NaN  "
      ]
     },
     "execution_count": 369,
     "metadata": {},
     "output_type": "execute_result"
    }
   ],
   "source": [
    "business_df.head()"
   ]
  },
  {
   "cell_type": "code",
   "execution_count": 370,
   "metadata": {},
   "outputs": [
    {
     "data": {
      "text/plain": [
       "<matplotlib.axes._subplots.AxesSubplot at 0x1aa1bf5ba8>"
      ]
     },
     "execution_count": 370,
     "metadata": {},
     "output_type": "execute_result"
    },
    {
     "data": {
      "image/png": "[encoded data removed]",
      "text/plain": [
       "<matplotlib.figure.Figure at 0x1a277ec5f8>"
      ]
     },
     "metadata": {},
     "output_type": "display_data"
    }
   ],
   "source": [
    "msno.matrix(business_df)"
   ]
  },
  {
   "cell_type": "code",
   "execution_count": 371,
   "metadata": {},
   "outputs": [
    {
     "data": {
      "text/html": [
       "<div>\n",
       "<style scoped>\n",
       "    .dataframe tbody tr th:only-of-type {\n",
       "        vertical-align: middle;\n",
       "    }\n",
       "\n",
       "    .dataframe tbody tr th {\n",
       "        vertical-align: top;\n",
       "    }\n",
       "\n",
       "    .dataframe thead th {\n",
       "        text-align: right;\n",
       "    }\n",
       "</style>\n",
       "<table border=\"1\" class=\"dataframe\">\n",
       "  <thead>\n",
       "    <tr style=\"text-align: right;\">\n",
       "      <th></th>\n",
       "      <th>business_name</th>\n",
       "      <th>street_address</th>\n",
       "      <th>zip_code</th>\n",
       "      <th>start_date</th>\n",
       "      <th>coordinates</th>\n",
       "    </tr>\n",
       "  </thead>\n",
       "  <tbody>\n",
       "    <tr>\n",
       "      <th>1</th>\n",
       "      <td>A A OFICINA CENTRAL HISPANA DE LOS ANGELES /C</td>\n",
       "      <td>2015 W TEMPLE STREET</td>\n",
       "      <td>90026-4913</td>\n",
       "      <td>01/01/1991</td>\n",
       "      <td>NaN</td>\n",
       "    </tr>\n",
       "    <tr>\n",
       "      <th>2</th>\n",
       "      <td>SPRINGBOARD NON-PROFIT CONSUMER CREDIT MANAGEMENT</td>\n",
       "      <td>1605 W OLYMPIC BLVD #9023</td>\n",
       "      <td>90015-3828</td>\n",
       "      <td>02/01/1999</td>\n",
       "      <td>NaN</td>\n",
       "    </tr>\n",
       "    <tr>\n",
       "      <th>3</th>\n",
       "      <td>STRATEGIC CONCEPTS IN ORGANIZING AND POLICY ED...</td>\n",
       "      <td>1715 W FLORENCE AVENUE</td>\n",
       "      <td>90047-2220</td>\n",
       "      <td>06/03/1997</td>\n",
       "      <td>NaN</td>\n",
       "    </tr>\n",
       "    <tr>\n",
       "      <th>4</th>\n",
       "      <td>A A OFICINA CENTRAL HISPANA DE LOS ANGELES /C</td>\n",
       "      <td>3806 W PICO BLVD</td>\n",
       "      <td>90019-4304</td>\n",
       "      <td>01/01/1991</td>\n",
       "      <td>NaN</td>\n",
       "    </tr>\n",
       "    <tr>\n",
       "      <th>5</th>\n",
       "      <td>A A OFICINA CENTRAL HISPANA DE LOS ANGELES /C</td>\n",
       "      <td>3115 VENICE BLVD</td>\n",
       "      <td>90019-6238</td>\n",
       "      <td>01/01/1991</td>\n",
       "      <td>NaN</td>\n",
       "    </tr>\n",
       "  </tbody>\n",
       "</table>\n",
       "</div>"
      ],
      "text/plain": [
       "                                       business_name  \\\n",
       "1      A A OFICINA CENTRAL HISPANA DE LOS ANGELES /C   \n",
       "2  SPRINGBOARD NON-PROFIT CONSUMER CREDIT MANAGEMENT   \n",
       "3  STRATEGIC CONCEPTS IN ORGANIZING AND POLICY ED...   \n",
       "4      A A OFICINA CENTRAL HISPANA DE LOS ANGELES /C   \n",
       "5      A A OFICINA CENTRAL HISPANA DE LOS ANGELES /C   \n",
       "\n",
       "              street_address    zip_code  start_date coordinates  \n",
       "1       2015 W TEMPLE STREET  90026-4913  01/01/1991         NaN  \n",
       "2  1605 W OLYMPIC BLVD #9023  90015-3828  02/01/1999         NaN  \n",
       "3     1715 W FLORENCE AVENUE  90047-2220  06/03/1997         NaN  \n",
       "4           3806 W PICO BLVD  90019-4304  01/01/1991         NaN  \n",
       "5           3115 VENICE BLVD  90019-6238  01/01/1991         NaN  "
      ]
     },
     "execution_count": 371,
     "metadata": {},
     "output_type": "execute_result"
    }
   ],
   "source": [
    "business_df = business_df[['BUSINESS NAME', 'STREET ADDRESS', 'ZIP CODE', 'LOCATION START DATE', 'LOCATION']].rename(columns = {'BUSINESS NAME':'business_name', 'STREET ADDRESS':'street_address', 'ZIP CODE':'zip_code', 'LOCATION START DATE':'start_date', 'LOCATION':'coordinates'})\n",
    "business_df.head()"
   ]
  },
  {
   "cell_type": "markdown",
   "metadata": {},
   "source": [
    "There seems to be quite a few businesses that do not have coordinates. A quick filter reveals 1583 of them. These seem to be businesses that were incorporate very early on before 2000. As this is a very small portion of the dataset, we can safely drop them.\n",
    "\n",
    "Another anomaly that popped up were coordinates of (0,0). As this is a location in the middle of the ocean, these coordinates are unlikely to mean anything and will be dropped."
   ]
  },
  {
   "cell_type": "code",
   "execution_count": 372,
   "metadata": {},
   "outputs": [
    {
     "data": {
      "text/plain": [
       "1583"
      ]
     },
     "execution_count": 372,
     "metadata": {},
     "output_type": "execute_result"
    }
   ],
   "source": [
    "# counting the number of businesses without coordinates\n",
    "business_df['coordinates'].isna().sum()"
   ]
  },
  {
   "cell_type": "code",
   "execution_count": 375,
   "metadata": {},
   "outputs": [
    {
     "data": {
      "text/plain": [
       "<matplotlib.axes._subplots.AxesSubplot at 0x1ab50d9358>"
      ]
     },
     "execution_count": 375,
     "metadata": {},
     "output_type": "execute_result"
    },
    {
     "data": {
      "image/png": "[encoded data removed]",
      "text/plain": [
       "<matplotlib.figure.Figure at 0x1ab524c7b8>"
      ]
     },
     "metadata": {},
     "output_type": "display_data"
    }
   ],
   "source": [
    "msno.matrix(business_df)"
   ]
  },
  {
   "cell_type": "code",
   "execution_count": 383,
   "metadata": {},
   "outputs": [
    {
     "data": {
      "text/html": [
       "<div>\n",
       "<style scoped>\n",
       "    .dataframe tbody tr th:only-of-type {\n",
       "        vertical-align: middle;\n",
       "    }\n",
       "\n",
       "    .dataframe tbody tr th {\n",
       "        vertical-align: top;\n",
       "    }\n",
       "\n",
       "    .dataframe thead th {\n",
       "        text-align: right;\n",
       "    }\n",
       "</style>\n",
       "<table border=\"1\" class=\"dataframe\">\n",
       "  <thead>\n",
       "    <tr style=\"text-align: right;\">\n",
       "      <th></th>\n",
       "      <th>index</th>\n",
       "      <th>business_name</th>\n",
       "      <th>street_address</th>\n",
       "      <th>zip_code</th>\n",
       "      <th>start_date</th>\n",
       "      <th>coordinates</th>\n",
       "    </tr>\n",
       "  </thead>\n",
       "  <tbody>\n",
       "    <tr>\n",
       "      <th>0</th>\n",
       "      <td>10</td>\n",
       "      <td>CORALIE WHITCOMB</td>\n",
       "      <td>2669   MEDLOW AVENUE</td>\n",
       "      <td>90065-4616</td>\n",
       "      <td>06/10/2017</td>\n",
       "      <td>(34.1269, -118.2247)</td>\n",
       "    </tr>\n",
       "    <tr>\n",
       "      <th>1</th>\n",
       "      <td>45</td>\n",
       "      <td>CASA VELA INC</td>\n",
       "      <td>2710 E CESAR CHAVEZ AVENUE</td>\n",
       "      <td>90033-</td>\n",
       "      <td>09/19/2017</td>\n",
       "      <td>(0, 0)</td>\n",
       "    </tr>\n",
       "    <tr>\n",
       "      <th>2</th>\n",
       "      <td>56</td>\n",
       "      <td>RMJC INSURANCE SERVICES INC</td>\n",
       "      <td>1601 S VERMONT AVENUE   SUITE #103</td>\n",
       "      <td>90006-4541</td>\n",
       "      <td>03/07/2017</td>\n",
       "      <td>(34.044, -118.292)</td>\n",
       "    </tr>\n",
       "    <tr>\n",
       "      <th>3</th>\n",
       "      <td>59</td>\n",
       "      <td>DANIELLE HALFERTY</td>\n",
       "      <td>2527   CANYON DRIVE</td>\n",
       "      <td>90068-2415</td>\n",
       "      <td>09/18/2017</td>\n",
       "      <td>(34.1164, -118.3165)</td>\n",
       "    </tr>\n",
       "    <tr>\n",
       "      <th>4</th>\n",
       "      <td>61</td>\n",
       "      <td>PETER J HARRIS</td>\n",
       "      <td>4153   MARLTON AVENUE   #3</td>\n",
       "      <td>90008-3525</td>\n",
       "      <td>01/01/1998</td>\n",
       "      <td>(34.0101, -118.3416)</td>\n",
       "    </tr>\n",
       "  </tbody>\n",
       "</table>\n",
       "</div>"
      ],
      "text/plain": [
       "   index                business_name                      street_address  \\\n",
       "0     10             CORALIE WHITCOMB                2669   MEDLOW AVENUE   \n",
       "1     45                CASA VELA INC          2710 E CESAR CHAVEZ AVENUE   \n",
       "2     56  RMJC INSURANCE SERVICES INC  1601 S VERMONT AVENUE   SUITE #103   \n",
       "3     59            DANIELLE HALFERTY                 2527   CANYON DRIVE   \n",
       "4     61               PETER J HARRIS          4153   MARLTON AVENUE   #3   \n",
       "\n",
       "     zip_code  start_date           coordinates  \n",
       "0  90065-4616  06/10/2017  (34.1269, -118.2247)  \n",
       "1      90033-  09/19/2017                (0, 0)  \n",
       "2  90006-4541  03/07/2017    (34.044, -118.292)  \n",
       "3  90068-2415  09/18/2017  (34.1164, -118.3165)  \n",
       "4  90008-3525  01/01/1998  (34.0101, -118.3416)  "
      ]
     },
     "execution_count": 383,
     "metadata": {},
     "output_type": "execute_result"
    }
   ],
   "source": [
    "# dropping na coordinate values\n",
    "business_df = business_df.dropna()"
   ]
  },
  {
   "cell_type": "code",
   "execution_count": 393,
   "metadata": {},
   "outputs": [
    {
     "data": {
      "text/plain": [
       "(245437, 7)"
      ]
     },
     "execution_count": 393,
     "metadata": {},
     "output_type": "execute_result"
    }
   ],
   "source": [
    "# dropping coordinates of (0,0) and resetting the index to start from 0\n",
    "business_df = business_df[business_df['coordinates'] != '(0, 0)'].reset_index()\n",
    "business_df.shape"
   ]
  },
  {
   "cell_type": "code",
   "execution_count": 394,
   "metadata": {},
   "outputs": [
    {
     "data": {
      "text/plain": [
       "'(34.044, -118.292)'"
      ]
     },
     "execution_count": 394,
     "metadata": {},
     "output_type": "execute_result"
    }
   ],
   "source": [
    "business_df.loc[1]['coordinates']"
   ]
  },
  {
   "cell_type": "markdown",
   "metadata": {},
   "source": [
    "As the coordinate variable is a string with the latitude and longitude values, we shall use regex functions to pull the latitude and longtitude variables out and convert them to a float type. \n",
    "\n",
    "Here we use positive lookbehind and positive lookahead to target the exact part of the string that we need because each latitude and longitude pair has the same structure."
   ]
  },
  {
   "cell_type": "code",
   "execution_count": 412,
   "metadata": {},
   "outputs": [
    {
     "name": "stdout",
     "output_type": "stream",
     "text": [
      "latitude: 34.044 longitude: -118.292\n"
     ]
    }
   ],
   "source": [
    "# regex to extract latitude\n",
    "def get_lat(coords):\n",
    "    lat = re.compile('(?<=\\().+(?=\\,)')\n",
    "    return float(lat.search(coords).group())\n",
    "\n",
    "# regex to extract longitude\n",
    "def get_long(coords):\n",
    "    long = re.compile('(?<=\\, ).+(?=\\))')\n",
    "    return float(long.search(coords).group())\n",
    "\n",
    "print(\"latitude: \" + str(get_lat(business_df.loc[1]['coordinates'])) + \" longitude: \" + str(get_long(business_df.loc[1]['coordinates'])))"
   ]
  },
  {
   "cell_type": "code",
   "execution_count": 422,
   "metadata": {},
   "outputs": [
    {
     "data": {
      "text/html": [
       "<div>\n",
       "<style scoped>\n",
       "    .dataframe tbody tr th:only-of-type {\n",
       "        vertical-align: middle;\n",
       "    }\n",
       "\n",
       "    .dataframe tbody tr th {\n",
       "        vertical-align: top;\n",
       "    }\n",
       "\n",
       "    .dataframe thead th {\n",
       "        text-align: right;\n",
       "    }\n",
       "</style>\n",
       "<table border=\"1\" class=\"dataframe\">\n",
       "  <thead>\n",
       "    <tr style=\"text-align: right;\">\n",
       "      <th></th>\n",
       "      <th>level_0</th>\n",
       "      <th>index</th>\n",
       "      <th>business_name</th>\n",
       "      <th>street_address</th>\n",
       "      <th>zip_code</th>\n",
       "      <th>start_date</th>\n",
       "      <th>latitude</th>\n",
       "      <th>longitude</th>\n",
       "    </tr>\n",
       "  </thead>\n",
       "  <tbody>\n",
       "    <tr>\n",
       "      <th>0</th>\n",
       "      <td>0</td>\n",
       "      <td>10</td>\n",
       "      <td>CORALIE WHITCOMB</td>\n",
       "      <td>2669   MEDLOW AVENUE</td>\n",
       "      <td>90065-4616</td>\n",
       "      <td>06/10/2017</td>\n",
       "      <td>34.1269</td>\n",
       "      <td>-118.2247</td>\n",
       "    </tr>\n",
       "    <tr>\n",
       "      <th>1</th>\n",
       "      <td>2</td>\n",
       "      <td>56</td>\n",
       "      <td>RMJC INSURANCE SERVICES INC</td>\n",
       "      <td>1601 S VERMONT AVENUE   SUITE #103</td>\n",
       "      <td>90006-4541</td>\n",
       "      <td>03/07/2017</td>\n",
       "      <td>34.0440</td>\n",
       "      <td>-118.2920</td>\n",
       "    </tr>\n",
       "    <tr>\n",
       "      <th>2</th>\n",
       "      <td>3</td>\n",
       "      <td>59</td>\n",
       "      <td>DANIELLE HALFERTY</td>\n",
       "      <td>2527   CANYON DRIVE</td>\n",
       "      <td>90068-2415</td>\n",
       "      <td>09/18/2017</td>\n",
       "      <td>34.1164</td>\n",
       "      <td>-118.3165</td>\n",
       "    </tr>\n",
       "    <tr>\n",
       "      <th>3</th>\n",
       "      <td>4</td>\n",
       "      <td>61</td>\n",
       "      <td>PETER J HARRIS</td>\n",
       "      <td>4153   MARLTON AVENUE   #3</td>\n",
       "      <td>90008-3525</td>\n",
       "      <td>01/01/1998</td>\n",
       "      <td>34.0101</td>\n",
       "      <td>-118.3416</td>\n",
       "    </tr>\n",
       "    <tr>\n",
       "      <th>4</th>\n",
       "      <td>5</td>\n",
       "      <td>62</td>\n",
       "      <td>CARNIVAL LUXE LLC</td>\n",
       "      <td>234 S FIGUEROA STREET   APARTMENT #1235</td>\n",
       "      <td>90012-2525</td>\n",
       "      <td>12/06/2016</td>\n",
       "      <td>34.0559</td>\n",
       "      <td>-118.2536</td>\n",
       "    </tr>\n",
       "  </tbody>\n",
       "</table>\n",
       "</div>"
      ],
      "text/plain": [
       "   level_0  index                business_name  \\\n",
       "0        0     10             CORALIE WHITCOMB   \n",
       "1        2     56  RMJC INSURANCE SERVICES INC   \n",
       "2        3     59            DANIELLE HALFERTY   \n",
       "3        4     61               PETER J HARRIS   \n",
       "4        5     62            CARNIVAL LUXE LLC   \n",
       "\n",
       "                            street_address    zip_code  start_date  latitude  \\\n",
       "0                     2669   MEDLOW AVENUE  90065-4616  06/10/2017   34.1269   \n",
       "1       1601 S VERMONT AVENUE   SUITE #103  90006-4541  03/07/2017   34.0440   \n",
       "2                      2527   CANYON DRIVE  90068-2415  09/18/2017   34.1164   \n",
       "3               4153   MARLTON AVENUE   #3  90008-3525  01/01/1998   34.0101   \n",
       "4  234 S FIGUEROA STREET   APARTMENT #1235  90012-2525  12/06/2016   34.0559   \n",
       "\n",
       "   longitude  \n",
       "0  -118.2247  \n",
       "1  -118.2920  \n",
       "2  -118.3165  \n",
       "3  -118.3416  \n",
       "4  -118.2536  "
      ]
     },
     "execution_count": 422,
     "metadata": {},
     "output_type": "execute_result"
    }
   ],
   "source": [
    "# apply get_lat and get_long functions to create new columns representing latitude and longitude for each business\n",
    "business_df['latitude'] = business_df['coordinates'].apply(get_lat)\n",
    "business_df['longitude'] = business_df['coordinates'].apply(get_long)\n",
    "business_df = business_df.drop(['coordinates'],axis=1)\n",
    "business_df.head()"
   ]
  },
  {
   "cell_type": "code",
   "execution_count": null,
   "metadata": {
    "collapsed": true
   },
   "outputs": [],
   "source": []
  },
  {
   "cell_type": "code",
   "execution_count": null,
   "metadata": {
    "collapsed": true
   },
   "outputs": [],
   "source": []
  },
  {
   "cell_type": "markdown",
   "metadata": {},
   "source": [
    "### Crimes 2010-2018\n",
    "\n",
    "https://data.lacity.org/A-Safe-City/Crime-Data-from-2010-to-Present/y8tr-7khq"
   ]
  },
  {
   "cell_type": "code",
   "execution_count": 381,
   "metadata": {
    "collapsed": true
   },
   "outputs": [],
   "source": [
    "crimes_df = pd.read_csv('../data/external/crime_2010_2018.csv')"
   ]
  },
  {
   "cell_type": "markdown",
   "metadata": {},
   "source": [
    "### Traffic collisions 2010-2018\n",
    "\n",
    "https://www.kaggle.com/cityofLA/los-angeles-traffic-collision-data/version/7#traffic-collision-data-from-2010-to-present.csv"
   ]
  },
  {
   "cell_type": "code",
   "execution_count": 301,
   "metadata": {
    "collapsed": true
   },
   "outputs": [],
   "source": [
    "traffic_df = pd.read_csv('../data/external/traffic_collisions_2010_2018.csv')"
   ]
  },
  {
   "cell_type": "code",
   "execution_count": 302,
   "metadata": {},
   "outputs": [
    {
     "data": {
      "text/plain": [
       "'2018-08-11T00:00:00'"
      ]
     },
     "execution_count": 302,
     "metadata": {},
     "output_type": "execute_result"
    }
   ],
   "source": [
    "traffic_df['Date Occurred'].max()"
   ]
  },
  {
   "cell_type": "code",
   "execution_count": null,
   "metadata": {
    "collapsed": true
   },
   "outputs": [],
   "source": []
  }
 ],
 "metadata": {
  "kernelspec": {
   "display_name": "Python 3",
   "language": "python",
   "name": "python3"
  },
  "language_info": {
   "codemirror_mode": {
    "name": "ipython",
    "version": 3
   },
   "file_extension": ".py",
   "mimetype": "text/x-python",
   "name": "python",
   "nbconvert_exporter": "python",
   "pygments_lexer": "ipython3",
   "version": "3.6.3"
  }
 },
 "nbformat": 4,
 "nbformat_minor": 2
}
