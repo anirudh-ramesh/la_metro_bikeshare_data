{
 "cells": [
  {
   "cell_type": "markdown",
   "metadata": {},
   "source": [
    "# LA Metro Bikeshare EDA Part 1\n",
    "\n",
    "Is there a predictive value that can be derived for kinds of locations\n",
    "    1. Finding lat long coordinates of schools or public services and mapping out color coded heat maps based on the type of establishment\n",
    "    2. Finding out where most bike stations are likely to be located\n",
    "    3. Goal is to find out where you would set up more bike locations + figure out why particular locations are popular and predict accordingly\n",
    "    \n",
    "## Part 1: Building an optimization model for pricing"
   ]
  },
  {
   "cell_type": "code",
   "execution_count": 2,
   "metadata": {
    "collapsed": true
   },
   "outputs": [],
   "source": [
    "# Importing necessary packages.\n",
    "import pandas as pd\n",
    "pd.set_option('display.max_rows', 500)\n",
    "pd.set_option('display.max_columns', 500)\n",
    "pd.set_option('display.width', 1000)\n",
    "import pprint\n",
    "import missingno as msno\n",
    "from urllib.request import Request, urlopen\n",
    "import json\n",
    "import requests\n",
    "import re\n",
    "import numpy as np\n",
    "import datetime\n",
    "import math\n",
    "import matplotlib.pyplot as plt\n",
    "import seaborn as sb\n",
    "import statistics"
   ]
  },
  {
   "cell_type": "markdown",
   "metadata": {},
   "source": [
    "# Core rides dataset"
   ]
  },
  {
   "cell_type": "code",
   "execution_count": 3,
   "metadata": {
    "collapsed": true
   },
   "outputs": [],
   "source": [
    "# There are 4 files for the data for each quarter from 2017 Q3 to 2018 Q2.\n",
    "_2017Q3 = pd.read_csv('../data/external/2017Q3.csv')\n",
    "_2017Q4 = pd.read_csv('../data/external/2017Q4.csv')\n",
    "_2018Q1 = pd.read_csv('../data/external/2018Q1.csv')\n",
    "_2018Q2 = pd.read_csv('../data/external/2018Q2.csv')"
   ]
  },
  {
   "cell_type": "code",
   "execution_count": 4,
   "metadata": {
    "scrolled": true
   },
   "outputs": [
    {
     "data": {
      "text/plain": [
       "(286295, 14)"
      ]
     },
     "execution_count": 4,
     "metadata": {},
     "output_type": "execute_result"
    }
   ],
   "source": [
    "# Concatenate the four quarters of ride sharing data into a year's worth of bike sharing data.\n",
    "rides_df = pd.concat([_2017Q3,_2017Q4,_2018Q1,_2018Q2])\n",
    "rides_df.shape"
   ]
  },
  {
   "cell_type": "code",
   "execution_count": 5,
   "metadata": {},
   "outputs": [
    {
     "data": {
      "text/html": [
       "<div>\n",
       "<style scoped>\n",
       "    .dataframe tbody tr th:only-of-type {\n",
       "        vertical-align: middle;\n",
       "    }\n",
       "\n",
       "    .dataframe tbody tr th {\n",
       "        vertical-align: top;\n",
       "    }\n",
       "\n",
       "    .dataframe thead th {\n",
       "        text-align: right;\n",
       "    }\n",
       "</style>\n",
       "<table border=\"1\" class=\"dataframe\">\n",
       "  <thead>\n",
       "    <tr style=\"text-align: right;\">\n",
       "      <th></th>\n",
       "      <th>trip_id</th>\n",
       "      <th>duration</th>\n",
       "      <th>start_time</th>\n",
       "      <th>end_time</th>\n",
       "      <th>start_station</th>\n",
       "      <th>start_lat</th>\n",
       "      <th>start_lon</th>\n",
       "      <th>end_station</th>\n",
       "      <th>end_lat</th>\n",
       "      <th>end_lon</th>\n",
       "      <th>bike_id</th>\n",
       "      <th>plan_duration</th>\n",
       "      <th>trip_route_category</th>\n",
       "      <th>passholder_type</th>\n",
       "    </tr>\n",
       "  </thead>\n",
       "  <tbody>\n",
       "    <tr>\n",
       "      <th>0</th>\n",
       "      <td>33404951</td>\n",
       "      <td>36</td>\n",
       "      <td>7/1/2017 0:09</td>\n",
       "      <td>7/1/2017 0:45</td>\n",
       "      <td>3018</td>\n",
       "      <td>34.043732</td>\n",
       "      <td>-118.260139</td>\n",
       "      <td>3018</td>\n",
       "      <td>34.043732</td>\n",
       "      <td>-118.260139</td>\n",
       "      <td>5996</td>\n",
       "      <td>0</td>\n",
       "      <td>Round Trip</td>\n",
       "      <td>Walk-up</td>\n",
       "    </tr>\n",
       "    <tr>\n",
       "      <th>1</th>\n",
       "      <td>33404950</td>\n",
       "      <td>13</td>\n",
       "      <td>7/1/2017 0:10</td>\n",
       "      <td>7/1/2017 0:23</td>\n",
       "      <td>3055</td>\n",
       "      <td>34.044159</td>\n",
       "      <td>-118.251579</td>\n",
       "      <td>3082</td>\n",
       "      <td>34.046520</td>\n",
       "      <td>-118.237411</td>\n",
       "      <td>5777</td>\n",
       "      <td>0</td>\n",
       "      <td>One Way</td>\n",
       "      <td>Walk-up</td>\n",
       "    </tr>\n",
       "    <tr>\n",
       "      <th>2</th>\n",
       "      <td>33404947</td>\n",
       "      <td>34</td>\n",
       "      <td>7/1/2017 0:11</td>\n",
       "      <td>7/1/2017 0:45</td>\n",
       "      <td>3018</td>\n",
       "      <td>34.043732</td>\n",
       "      <td>-118.260139</td>\n",
       "      <td>3018</td>\n",
       "      <td>34.043732</td>\n",
       "      <td>-118.260139</td>\n",
       "      <td>6342</td>\n",
       "      <td>0</td>\n",
       "      <td>Round Trip</td>\n",
       "      <td>Walk-up</td>\n",
       "    </tr>\n",
       "    <tr>\n",
       "      <th>3</th>\n",
       "      <td>33404948</td>\n",
       "      <td>34</td>\n",
       "      <td>7/1/2017 0:11</td>\n",
       "      <td>7/1/2017 0:45</td>\n",
       "      <td>3018</td>\n",
       "      <td>34.043732</td>\n",
       "      <td>-118.260139</td>\n",
       "      <td>3018</td>\n",
       "      <td>34.043732</td>\n",
       "      <td>-118.260139</td>\n",
       "      <td>6478</td>\n",
       "      <td>0</td>\n",
       "      <td>Round Trip</td>\n",
       "      <td>Walk-up</td>\n",
       "    </tr>\n",
       "    <tr>\n",
       "      <th>4</th>\n",
       "      <td>33404949</td>\n",
       "      <td>12</td>\n",
       "      <td>7/1/2017 0:11</td>\n",
       "      <td>7/1/2017 0:23</td>\n",
       "      <td>3055</td>\n",
       "      <td>34.044159</td>\n",
       "      <td>-118.251579</td>\n",
       "      <td>3082</td>\n",
       "      <td>34.046520</td>\n",
       "      <td>-118.237411</td>\n",
       "      <td>6411</td>\n",
       "      <td>0</td>\n",
       "      <td>One Way</td>\n",
       "      <td>Walk-up</td>\n",
       "    </tr>\n",
       "  </tbody>\n",
       "</table>\n",
       "</div>"
      ],
      "text/plain": [
       "    trip_id  duration     start_time       end_time  start_station  start_lat   start_lon  end_station    end_lat     end_lon  bike_id  plan_duration trip_route_category passholder_type\n",
       "0  33404951        36  7/1/2017 0:09  7/1/2017 0:45           3018  34.043732 -118.260139         3018  34.043732 -118.260139     5996              0          Round Trip         Walk-up\n",
       "1  33404950        13  7/1/2017 0:10  7/1/2017 0:23           3055  34.044159 -118.251579         3082  34.046520 -118.237411     5777              0             One Way         Walk-up\n",
       "2  33404947        34  7/1/2017 0:11  7/1/2017 0:45           3018  34.043732 -118.260139         3018  34.043732 -118.260139     6342              0          Round Trip         Walk-up\n",
       "3  33404948        34  7/1/2017 0:11  7/1/2017 0:45           3018  34.043732 -118.260139         3018  34.043732 -118.260139     6478              0          Round Trip         Walk-up\n",
       "4  33404949        12  7/1/2017 0:11  7/1/2017 0:23           3055  34.044159 -118.251579         3082  34.046520 -118.237411     6411              0             One Way         Walk-up"
      ]
     },
     "execution_count": 5,
     "metadata": {},
     "output_type": "execute_result"
    }
   ],
   "source": [
    "rides_df.head()"
   ]
  },
  {
   "cell_type": "code",
   "execution_count": 6,
   "metadata": {},
   "outputs": [
    {
     "data": {
      "text/html": [
       "<div>\n",
       "<style scoped>\n",
       "    .dataframe tbody tr th:only-of-type {\n",
       "        vertical-align: middle;\n",
       "    }\n",
       "\n",
       "    .dataframe tbody tr th {\n",
       "        vertical-align: top;\n",
       "    }\n",
       "\n",
       "    .dataframe thead th {\n",
       "        text-align: right;\n",
       "    }\n",
       "</style>\n",
       "<table border=\"1\" class=\"dataframe\">\n",
       "  <thead>\n",
       "    <tr style=\"text-align: right;\">\n",
       "      <th></th>\n",
       "      <th>trip_id</th>\n",
       "      <th>duration</th>\n",
       "      <th>start_station</th>\n",
       "      <th>start_lat</th>\n",
       "      <th>start_lon</th>\n",
       "      <th>end_station</th>\n",
       "      <th>end_lat</th>\n",
       "      <th>end_lon</th>\n",
       "      <th>bike_id</th>\n",
       "      <th>plan_duration</th>\n",
       "    </tr>\n",
       "  </thead>\n",
       "  <tbody>\n",
       "    <tr>\n",
       "      <th>count</th>\n",
       "      <td>2.862950e+05</td>\n",
       "      <td>286295.000000</td>\n",
       "      <td>286295.00000</td>\n",
       "      <td>285660.000000</td>\n",
       "      <td>285660.000000</td>\n",
       "      <td>286295.000000</td>\n",
       "      <td>281900.000000</td>\n",
       "      <td>281900.000000</td>\n",
       "      <td>286295.000000</td>\n",
       "      <td>286295.000000</td>\n",
       "    </tr>\n",
       "    <tr>\n",
       "      <th>mean</th>\n",
       "      <td>6.480957e+07</td>\n",
       "      <td>35.034206</td>\n",
       "      <td>3420.79971</td>\n",
       "      <td>34.045820</td>\n",
       "      <td>-118.271421</td>\n",
       "      <td>3414.716265</td>\n",
       "      <td>34.045689</td>\n",
       "      <td>-118.271667</td>\n",
       "      <td>7900.573014</td>\n",
       "      <td>30.907910</td>\n",
       "    </tr>\n",
       "    <tr>\n",
       "      <th>std</th>\n",
       "      <td>1.808223e+07</td>\n",
       "      <td>115.722913</td>\n",
       "      <td>538.47854</td>\n",
       "      <td>0.065529</td>\n",
       "      <td>0.097562</td>\n",
       "      <td>537.212309</td>\n",
       "      <td>0.065038</td>\n",
       "      <td>0.098157</td>\n",
       "      <td>2717.473129</td>\n",
       "      <td>66.243336</td>\n",
       "    </tr>\n",
       "    <tr>\n",
       "      <th>min</th>\n",
       "      <td>3.340494e+07</td>\n",
       "      <td>1.000000</td>\n",
       "      <td>3000.00000</td>\n",
       "      <td>33.710979</td>\n",
       "      <td>-118.491341</td>\n",
       "      <td>3000.000000</td>\n",
       "      <td>33.710979</td>\n",
       "      <td>-118.491341</td>\n",
       "      <td>4727.000000</td>\n",
       "      <td>0.000000</td>\n",
       "    </tr>\n",
       "    <tr>\n",
       "      <th>25%</th>\n",
       "      <td>4.905606e+07</td>\n",
       "      <td>7.000000</td>\n",
       "      <td>3031.00000</td>\n",
       "      <td>34.039982</td>\n",
       "      <td>-118.262733</td>\n",
       "      <td>3031.000000</td>\n",
       "      <td>34.039982</td>\n",
       "      <td>-118.262733</td>\n",
       "      <td>6053.000000</td>\n",
       "      <td>0.000000</td>\n",
       "    </tr>\n",
       "    <tr>\n",
       "      <th>50%</th>\n",
       "      <td>6.534754e+07</td>\n",
       "      <td>12.000000</td>\n",
       "      <td>3064.00000</td>\n",
       "      <td>34.046822</td>\n",
       "      <td>-118.252441</td>\n",
       "      <td>3063.000000</td>\n",
       "      <td>34.046810</td>\n",
       "      <td>-118.252830</td>\n",
       "      <td>6403.000000</td>\n",
       "      <td>30.000000</td>\n",
       "    </tr>\n",
       "    <tr>\n",
       "      <th>75%</th>\n",
       "      <td>8.085881e+07</td>\n",
       "      <td>25.000000</td>\n",
       "      <td>4156.00000</td>\n",
       "      <td>34.053200</td>\n",
       "      <td>-118.237411</td>\n",
       "      <td>4156.000000</td>\n",
       "      <td>34.051941</td>\n",
       "      <td>-118.237410</td>\n",
       "      <td>12019.000000</td>\n",
       "      <td>30.000000</td>\n",
       "    </tr>\n",
       "    <tr>\n",
       "      <th>max</th>\n",
       "      <td>9.508575e+07</td>\n",
       "      <td>1440.000000</td>\n",
       "      <td>4254.00000</td>\n",
       "      <td>34.165291</td>\n",
       "      <td>-118.116530</td>\n",
       "      <td>4254.000000</td>\n",
       "      <td>34.165291</td>\n",
       "      <td>-118.116530</td>\n",
       "      <td>12456.000000</td>\n",
       "      <td>365.000000</td>\n",
       "    </tr>\n",
       "  </tbody>\n",
       "</table>\n",
       "</div>"
      ],
      "text/plain": [
       "            trip_id       duration  start_station      start_lat      start_lon    end_station        end_lat        end_lon        bike_id  plan_duration\n",
       "count  2.862950e+05  286295.000000   286295.00000  285660.000000  285660.000000  286295.000000  281900.000000  281900.000000  286295.000000  286295.000000\n",
       "mean   6.480957e+07      35.034206     3420.79971      34.045820    -118.271421    3414.716265      34.045689    -118.271667    7900.573014      30.907910\n",
       "std    1.808223e+07     115.722913      538.47854       0.065529       0.097562     537.212309       0.065038       0.098157    2717.473129      66.243336\n",
       "min    3.340494e+07       1.000000     3000.00000      33.710979    -118.491341    3000.000000      33.710979    -118.491341    4727.000000       0.000000\n",
       "25%    4.905606e+07       7.000000     3031.00000      34.039982    -118.262733    3031.000000      34.039982    -118.262733    6053.000000       0.000000\n",
       "50%    6.534754e+07      12.000000     3064.00000      34.046822    -118.252441    3063.000000      34.046810    -118.252830    6403.000000      30.000000\n",
       "75%    8.085881e+07      25.000000     4156.00000      34.053200    -118.237411    4156.000000      34.051941    -118.237410   12019.000000      30.000000\n",
       "max    9.508575e+07    1440.000000     4254.00000      34.165291    -118.116530    4254.000000      34.165291    -118.116530   12456.000000     365.000000"
      ]
     },
     "execution_count": 6,
     "metadata": {},
     "output_type": "execute_result"
    }
   ],
   "source": [
    "rides_df.describe()"
   ]
  },
  {
   "cell_type": "code",
   "execution_count": 7,
   "metadata": {},
   "outputs": [
    {
     "data": {
      "text/plain": [
       "trip_id                  int64\n",
       "duration                 int64\n",
       "start_time              object\n",
       "end_time                object\n",
       "start_station            int64\n",
       "start_lat              float64\n",
       "start_lon              float64\n",
       "end_station              int64\n",
       "end_lat                float64\n",
       "end_lon                float64\n",
       "bike_id                  int64\n",
       "plan_duration            int64\n",
       "trip_route_category     object\n",
       "passholder_type         object\n",
       "dtype: object"
      ]
     },
     "execution_count": 7,
     "metadata": {},
     "output_type": "execute_result"
    }
   ],
   "source": [
    "rides_df.dtypes"
   ]
  },
  {
   "cell_type": "markdown",
   "metadata": {},
   "source": [
    "On first glance, all time variables like start_time and end_time should be converted to a date time object."
   ]
  },
  {
   "cell_type": "code",
   "execution_count": 8,
   "metadata": {
    "collapsed": true
   },
   "outputs": [],
   "source": [
    "# Converting start and end times to datetime objects.\n",
    "rides_df['start_time'] = pd.to_datetime(rides_df['start_time'])\n",
    "rides_df['end_time'] = pd.to_datetime(rides_df['end_time'])"
   ]
  },
  {
   "cell_type": "code",
   "execution_count": 9,
   "metadata": {},
   "outputs": [
    {
     "data": {
      "text/plain": [
       "trip_id                         int64\n",
       "duration                        int64\n",
       "start_time             datetime64[ns]\n",
       "end_time               datetime64[ns]\n",
       "start_station                   int64\n",
       "start_lat                     float64\n",
       "start_lon                     float64\n",
       "end_station                     int64\n",
       "end_lat                       float64\n",
       "end_lon                       float64\n",
       "bike_id                         int64\n",
       "plan_duration                   int64\n",
       "trip_route_category            object\n",
       "passholder_type                object\n",
       "dtype: object"
      ]
     },
     "execution_count": 9,
     "metadata": {},
     "output_type": "execute_result"
    }
   ],
   "source": [
    "# Checking to see if columns were indeed converted.\n",
    "rides_df.dtypes"
   ]
  },
  {
   "cell_type": "code",
   "execution_count": 10,
   "metadata": {},
   "outputs": [
    {
     "data": {
      "text/plain": [
       "0    4214\n",
       "dtype: int64"
      ]
     },
     "execution_count": 10,
     "metadata": {},
     "output_type": "execute_result"
    }
   ],
   "source": [
    "# Quick look at which station is the most commonly used and where it is (Venice beach).\n",
    "rides_df['start_station'].mode()"
   ]
  },
  {
   "cell_type": "code",
   "execution_count": 11,
   "metadata": {},
   "outputs": [
    {
     "data": {
      "text/html": [
       "<div>\n",
       "<style scoped>\n",
       "    .dataframe tbody tr th:only-of-type {\n",
       "        vertical-align: middle;\n",
       "    }\n",
       "\n",
       "    .dataframe tbody tr th {\n",
       "        vertical-align: top;\n",
       "    }\n",
       "\n",
       "    .dataframe thead th {\n",
       "        text-align: right;\n",
       "    }\n",
       "</style>\n",
       "<table border=\"1\" class=\"dataframe\">\n",
       "  <thead>\n",
       "    <tr style=\"text-align: right;\">\n",
       "      <th></th>\n",
       "      <th>trip_id</th>\n",
       "      <th>duration</th>\n",
       "      <th>start_time</th>\n",
       "      <th>end_time</th>\n",
       "      <th>start_station</th>\n",
       "      <th>start_lat</th>\n",
       "      <th>start_lon</th>\n",
       "      <th>end_station</th>\n",
       "      <th>end_lat</th>\n",
       "      <th>end_lon</th>\n",
       "      <th>bike_id</th>\n",
       "      <th>plan_duration</th>\n",
       "      <th>trip_route_category</th>\n",
       "      <th>passholder_type</th>\n",
       "    </tr>\n",
       "  </thead>\n",
       "  <tbody>\n",
       "    <tr>\n",
       "      <th>51390</th>\n",
       "      <td>44620579</td>\n",
       "      <td>16</td>\n",
       "      <td>2017-09-07 10:40:00</td>\n",
       "      <td>2017-09-07 10:56:00</td>\n",
       "      <td>4214</td>\n",
       "      <td>33.99556</td>\n",
       "      <td>-118.481552</td>\n",
       "      <td>4216</td>\n",
       "      <td>34.023392</td>\n",
       "      <td>-118.479637</td>\n",
       "      <td>11200</td>\n",
       "      <td>30</td>\n",
       "      <td>One Way</td>\n",
       "      <td>Monthly Pass</td>\n",
       "    </tr>\n",
       "    <tr>\n",
       "      <th>51391</th>\n",
       "      <td>44627346</td>\n",
       "      <td>28</td>\n",
       "      <td>2017-09-07 10:40:00</td>\n",
       "      <td>2017-09-07 11:08:00</td>\n",
       "      <td>4214</td>\n",
       "      <td>33.99556</td>\n",
       "      <td>-118.481552</td>\n",
       "      <td>4215</td>\n",
       "      <td>34.014309</td>\n",
       "      <td>-118.491341</td>\n",
       "      <td>12416</td>\n",
       "      <td>365</td>\n",
       "      <td>One Way</td>\n",
       "      <td>Flex Pass</td>\n",
       "    </tr>\n",
       "    <tr>\n",
       "      <th>51392</th>\n",
       "      <td>44641141</td>\n",
       "      <td>196</td>\n",
       "      <td>2017-09-07 10:40:00</td>\n",
       "      <td>2017-09-07 13:56:00</td>\n",
       "      <td>4214</td>\n",
       "      <td>33.99556</td>\n",
       "      <td>-118.481552</td>\n",
       "      <td>3000</td>\n",
       "      <td>NaN</td>\n",
       "      <td>NaN</td>\n",
       "      <td>12011</td>\n",
       "      <td>30</td>\n",
       "      <td>One Way</td>\n",
       "      <td>Monthly Pass</td>\n",
       "    </tr>\n",
       "    <tr>\n",
       "      <th>51393</th>\n",
       "      <td>44641142</td>\n",
       "      <td>167</td>\n",
       "      <td>2017-09-07 10:40:00</td>\n",
       "      <td>2017-09-07 13:27:00</td>\n",
       "      <td>4214</td>\n",
       "      <td>33.99556</td>\n",
       "      <td>-118.481552</td>\n",
       "      <td>4212</td>\n",
       "      <td>33.988129</td>\n",
       "      <td>-118.471741</td>\n",
       "      <td>12241</td>\n",
       "      <td>365</td>\n",
       "      <td>One Way</td>\n",
       "      <td>Flex Pass</td>\n",
       "    </tr>\n",
       "    <tr>\n",
       "      <th>51394</th>\n",
       "      <td>44620577</td>\n",
       "      <td>17</td>\n",
       "      <td>2017-09-07 10:41:00</td>\n",
       "      <td>2017-09-07 10:58:00</td>\n",
       "      <td>4214</td>\n",
       "      <td>33.99556</td>\n",
       "      <td>-118.481552</td>\n",
       "      <td>4215</td>\n",
       "      <td>34.014309</td>\n",
       "      <td>-118.491341</td>\n",
       "      <td>12356</td>\n",
       "      <td>30</td>\n",
       "      <td>One Way</td>\n",
       "      <td>Monthly Pass</td>\n",
       "    </tr>\n",
       "  </tbody>\n",
       "</table>\n",
       "</div>"
      ],
      "text/plain": [
       "        trip_id  duration          start_time            end_time  start_station  start_lat   start_lon  end_station    end_lat     end_lon  bike_id  plan_duration trip_route_category passholder_type\n",
       "51390  44620579        16 2017-09-07 10:40:00 2017-09-07 10:56:00           4214   33.99556 -118.481552         4216  34.023392 -118.479637    11200             30             One Way    Monthly Pass\n",
       "51391  44627346        28 2017-09-07 10:40:00 2017-09-07 11:08:00           4214   33.99556 -118.481552         4215  34.014309 -118.491341    12416            365             One Way       Flex Pass\n",
       "51392  44641141       196 2017-09-07 10:40:00 2017-09-07 13:56:00           4214   33.99556 -118.481552         3000        NaN         NaN    12011             30             One Way    Monthly Pass\n",
       "51393  44641142       167 2017-09-07 10:40:00 2017-09-07 13:27:00           4214   33.99556 -118.481552         4212  33.988129 -118.471741    12241            365             One Way       Flex Pass\n",
       "51394  44620577        17 2017-09-07 10:41:00 2017-09-07 10:58:00           4214   33.99556 -118.481552         4215  34.014309 -118.491341    12356             30             One Way    Monthly Pass"
      ]
     },
     "execution_count": 11,
     "metadata": {},
     "output_type": "execute_result"
    }
   ],
   "source": [
    "rides_df[rides_df['start_station'] == 4214].head()"
   ]
  },
  {
   "cell_type": "markdown",
   "metadata": {},
   "source": [
    "Here we use the missingno package to check for NA values in the dataframe. As the number of missing values seem almost negligible compared to the total number of observations, we drop the rows. Around 4849 rows, or 1.7% of total rows were dropped."
   ]
  },
  {
   "cell_type": "code",
   "execution_count": 12,
   "metadata": {},
   "outputs": [
    {
     "data": {
      "text/plain": [
       "<matplotlib.axes._subplots.AxesSubplot at 0x1a14ee5b38>"
      ]
     },
     "execution_count": 12,
     "metadata": {},
     "output_type": "execute_result"
    },
    {
     "data": {
      "image/png": "[encoded data removed]",
      "text/plain": [
       "<matplotlib.figure.Figure at 0x10bddf588>"
      ]
     },
     "metadata": {},
     "output_type": "display_data"
    }
   ],
   "source": [
    "# Check for missing values.\n",
    "%matplotlib inline\n",
    "msno.matrix(rides_df)"
   ]
  },
  {
   "cell_type": "code",
   "execution_count": 13,
   "metadata": {},
   "outputs": [
    {
     "data": {
      "text/plain": [
       "(281446, 14)"
      ]
     },
     "execution_count": 13,
     "metadata": {},
     "output_type": "execute_result"
    }
   ],
   "source": [
    "# dropping rows with na values\n",
    "rides_df = rides_df.dropna()\n",
    "rides_df.shape"
   ]
  },
  {
   "cell_type": "markdown",
   "metadata": {},
   "source": [
    "# External datasets of geolocations\n",
    "\n",
    "In order to obtain a perspective of where most rides occur and landmarks around LA, we utilize multiple data sources and APIs to obtain the relevant latitude and longitude values.\n",
    "\n",
    "### Bike station locations\n",
    "We first start off with more detailed information on the bike stations. To do this, we download the json file from https://bikeshare.metro.net/stations/json/ which includes addresses and capacities of different bike stations."
   ]
  },
  {
   "cell_type": "code",
   "execution_count": 14,
   "metadata": {
    "collapsed": true
   },
   "outputs": [],
   "source": [
    "# Read in the json file with station information.\n",
    "with open ('../data/external/bike_stations.json') as f:\n",
    "    station_data = json.load(f)"
   ]
  },
  {
   "cell_type": "code",
   "execution_count": 15,
   "metadata": {
    "collapsed": true
   },
   "outputs": [],
   "source": [
    "# Extract useful columns from the jason and append it to a list.\n",
    "all_station_info = []\n",
    "for station in station_data['features']: \n",
    "    station_attr = []\n",
    "    station_attr.append([station['properties']['kioskId'], station['properties']['addressStreet'], \n",
    "                         station['properties']['addressZipCode'], station['properties']['name'],\n",
    "                         station['properties']['totalDocks']])\n",
    "    all_station_info.append(station_attr[0])"
   ]
  },
  {
   "cell_type": "code",
   "execution_count": 16,
   "metadata": {},
   "outputs": [
    {
     "data": {
      "text/plain": [
       "[3007, '557 S 5th Street', '90071', '5th & Grand', 23]"
      ]
     },
     "execution_count": 16,
     "metadata": {},
     "output_type": "execute_result"
    }
   ],
   "source": [
    "# Check to see if each element in list is a list of station attributes we need.\n",
    "all_station_info[2]"
   ]
  },
  {
   "cell_type": "code",
   "execution_count": 17,
   "metadata": {},
   "outputs": [
    {
     "data": {
      "text/html": [
       "<div>\n",
       "<style scoped>\n",
       "    .dataframe tbody tr th:only-of-type {\n",
       "        vertical-align: middle;\n",
       "    }\n",
       "\n",
       "    .dataframe tbody tr th {\n",
       "        vertical-align: top;\n",
       "    }\n",
       "\n",
       "    .dataframe thead th {\n",
       "        text-align: right;\n",
       "    }\n",
       "</style>\n",
       "<table border=\"1\" class=\"dataframe\">\n",
       "  <thead>\n",
       "    <tr style=\"text-align: right;\">\n",
       "      <th></th>\n",
       "      <th>kiosk_id</th>\n",
       "      <th>address_street</th>\n",
       "      <th>address_zip</th>\n",
       "      <th>station_name</th>\n",
       "      <th>total_docks</th>\n",
       "    </tr>\n",
       "  </thead>\n",
       "  <tbody>\n",
       "    <tr>\n",
       "      <th>0</th>\n",
       "      <td>3005</td>\n",
       "      <td>723 Flower Street</td>\n",
       "      <td>90017</td>\n",
       "      <td>7th &amp; Flower</td>\n",
       "      <td>27</td>\n",
       "    </tr>\n",
       "    <tr>\n",
       "      <th>1</th>\n",
       "      <td>3006</td>\n",
       "      <td>729 S Olive Street</td>\n",
       "      <td>90014</td>\n",
       "      <td>Olive &amp; 8th</td>\n",
       "      <td>24</td>\n",
       "    </tr>\n",
       "    <tr>\n",
       "      <th>2</th>\n",
       "      <td>3007</td>\n",
       "      <td>557 S 5th Street</td>\n",
       "      <td>90071</td>\n",
       "      <td>5th &amp; Grand</td>\n",
       "      <td>23</td>\n",
       "    </tr>\n",
       "    <tr>\n",
       "      <th>3</th>\n",
       "      <td>3008</td>\n",
       "      <td>865 S Figueroa Street</td>\n",
       "      <td>90017</td>\n",
       "      <td>Figueroa &amp; 9th</td>\n",
       "      <td>15</td>\n",
       "    </tr>\n",
       "    <tr>\n",
       "      <th>4</th>\n",
       "      <td>3010</td>\n",
       "      <td>401 East 11th Street</td>\n",
       "      <td>90015</td>\n",
       "      <td>11th &amp; Maple</td>\n",
       "      <td>22</td>\n",
       "    </tr>\n",
       "  </tbody>\n",
       "</table>\n",
       "</div>"
      ],
      "text/plain": [
       "   kiosk_id         address_street address_zip    station_name  total_docks\n",
       "0      3005      723 Flower Street       90017    7th & Flower           27\n",
       "1      3006     729 S Olive Street       90014     Olive & 8th           24\n",
       "2      3007       557 S 5th Street       90071     5th & Grand           23\n",
       "3      3008  865 S Figueroa Street       90017  Figueroa & 9th           15\n",
       "4      3010   401 East 11th Street       90015    11th & Maple           22"
      ]
     },
     "execution_count": 17,
     "metadata": {},
     "output_type": "execute_result"
    }
   ],
   "source": [
    "# Create new dataframe based on the attributes.\n",
    "stations_info = pd.DataFrame(all_station_info, columns=['kiosk_id','address_street','address_zip','station_name','total_docks'])\n",
    "stations_info.head()"
   ]
  },
  {
   "cell_type": "code",
   "execution_count": 18,
   "metadata": {
    "collapsed": true
   },
   "outputs": [],
   "source": [
    "# Adding start station attributes.\n",
    "rides_df = pd.merge(rides_df, stations_info, how = \"left\", left_on = 'start_station', \n",
    "               right_on = ['kiosk_id']).rename(columns = {'address_street':'start_address',\n",
    "                                                          'address_zip':'start_zip','station_name':'start_name',\n",
    "                                                          'total_docks':'start_docks'}).drop('kiosk_id',1)\n",
    "# Adding end station attributes.\n",
    "rides_df = pd.merge(rides_df, stations_info, how = \"left\", left_on = 'end_station', \n",
    "               right_on = ['kiosk_id']).rename(columns = {'address_street':'end_address',\n",
    "                                                          'address_zip':'end_zip','station_name':'end_name',\n",
    "                                                          'total_docks':'end_docks'}).drop('kiosk_id',1)"
   ]
  },
  {
   "cell_type": "code",
   "execution_count": 19,
   "metadata": {},
   "outputs": [
    {
     "data": {
      "text/plain": [
       "<matplotlib.axes._subplots.AxesSubplot at 0x1a34f17080>"
      ]
     },
     "execution_count": 19,
     "metadata": {},
     "output_type": "execute_result"
    },
    {
     "data": {
      "image/png": "[encoded data removed]",
      "text/plain": [
       "<matplotlib.figure.Figure at 0x1a3558ee10>"
      ]
     },
     "metadata": {},
     "output_type": "display_data"
    }
   ],
   "source": [
    "# Checking for missing address details.\n",
    "msno.bar(rides_df)"
   ]
  },
  {
   "cell_type": "markdown",
   "metadata": {},
   "source": [
    "There seems to be about 20% of entries with missing station information. As this is a sizeable portion of the dataset, we can take a closer look to see how to deal with these missing values."
   ]
  },
  {
   "cell_type": "code",
   "execution_count": 20,
   "metadata": {},
   "outputs": [
    {
     "data": {
      "text/plain": [
       "count      124.000000\n",
       "mean      2269.725806\n",
       "std       2154.035881\n",
       "min          6.000000\n",
       "25%        804.500000\n",
       "50%       1544.500000\n",
       "75%       3019.500000\n",
       "max      11437.000000\n",
       "Name: start_station, dtype: float64"
      ]
     },
     "execution_count": 20,
     "metadata": {},
     "output_type": "execute_result"
    }
   ],
   "source": [
    "# By looking at the descriptive statistic on counts of distinct stations, there is certainly a huge range present\n",
    "# with a single station appearing 11429 times.\n",
    "rides_df['start_station'].value_counts().describe()"
   ]
  },
  {
   "cell_type": "code",
   "execution_count": 21,
   "metadata": {},
   "outputs": [
    {
     "data": {
      "text/plain": [
       "count    239898.000000\n",
       "mean         22.869882\n",
       "std           5.119422\n",
       "min          13.000000\n",
       "25%          19.000000\n",
       "50%          22.000000\n",
       "75%          27.000000\n",
       "max          36.000000\n",
       "Name: start_docks, dtype: float64"
      ]
     },
     "execution_count": 21,
     "metadata": {},
     "output_type": "execute_result"
    }
   ],
   "source": [
    "# The descriptive statistics on the number of docks reveal an average and median value of around 22.\n",
    "rides_df['start_docks'].describe()"
   ]
  },
  {
   "cell_type": "code",
   "execution_count": 22,
   "metadata": {},
   "outputs": [
    {
     "data": {
      "text/plain": [
       "Int64Index([4162, 4153, 4181, 4165, 4176, 4142, 4157, 4180, 4163, 4159, 4177], dtype='int64')"
      ]
     },
     "execution_count": 22,
     "metadata": {},
     "output_type": "execute_result"
    }
   ],
   "source": [
    "# A mask is created to filter out station records that have any missing values that appear more than the\n",
    "# median count across stations\n",
    "median_mask = rides_df[rides_df.isnull().any(axis = 1)]['start_station'].value_counts() \\\n",
    "                 > rides_df['start_station'].value_counts().median()\n",
    "\n",
    "# The main dataframe is filtered by the above mask and keys are obtained. This gives us the station id's to\n",
    "# fill\n",
    "locations_to_fill = rides_df[rides_df.isnull().any(axis = 1)]['start_station'].value_counts()[median_mask]\n",
    "locations_to_fill.keys()"
   ]
  },
  {
   "cell_type": "code",
   "execution_count": 23,
   "metadata": {},
   "outputs": [
    {
     "data": {
      "text/plain": [
       "'47.0%'"
      ]
     },
     "execution_count": 23,
     "metadata": {},
     "output_type": "execute_result"
    }
   ],
   "source": [
    "str(round(locations_to_fill.sum()/rides_df[rides_df.isnull().any(axis = 1)]['start_station'].value_counts().sum(),2)*100) + '%'"
   ]
  },
  {
   "cell_type": "code",
   "execution_count": 24,
   "metadata": {
    "collapsed": true
   },
   "outputs": [],
   "source": [
    "lats = []\n",
    "longs = []\n",
    "for station_id in locations_to_fill.keys():\n",
    "    lats.append(rides_df['start_lat'][rides_df['start_station'] == station_id].iloc[0])\n",
    "    longs.append(rides_df['start_lon'][rides_df['start_station'] == station_id].iloc[0])"
   ]
  },
  {
   "cell_type": "code",
   "execution_count": 25,
   "metadata": {},
   "outputs": [
    {
     "data": {
      "text/html": [
       "<div>\n",
       "<style scoped>\n",
       "    .dataframe tbody tr th:only-of-type {\n",
       "        vertical-align: middle;\n",
       "    }\n",
       "\n",
       "    .dataframe tbody tr th {\n",
       "        vertical-align: top;\n",
       "    }\n",
       "\n",
       "    .dataframe thead th {\n",
       "        text-align: right;\n",
       "    }\n",
       "</style>\n",
       "<table border=\"1\" class=\"dataframe\">\n",
       "  <thead>\n",
       "    <tr style=\"text-align: right;\">\n",
       "      <th></th>\n",
       "      <th>start_station</th>\n",
       "      <th>address_street</th>\n",
       "      <th>address_zip</th>\n",
       "      <th>station_name</th>\n",
       "      <th>total_docks</th>\n",
       "      <th>start_lat</th>\n",
       "      <th>start_lon</th>\n",
       "      <th>end_station</th>\n",
       "    </tr>\n",
       "  </thead>\n",
       "  <tbody>\n",
       "    <tr>\n",
       "      <th>0</th>\n",
       "      <td>4162</td>\n",
       "      <td>NaN</td>\n",
       "      <td>NaN</td>\n",
       "      <td>NaN</td>\n",
       "      <td>NaN</td>\n",
       "      <td>34.147499</td>\n",
       "      <td>-118.148010</td>\n",
       "      <td>4162</td>\n",
       "    </tr>\n",
       "    <tr>\n",
       "      <th>1</th>\n",
       "      <td>4153</td>\n",
       "      <td>NaN</td>\n",
       "      <td>NaN</td>\n",
       "      <td>NaN</td>\n",
       "      <td>NaN</td>\n",
       "      <td>34.156181</td>\n",
       "      <td>-118.166687</td>\n",
       "      <td>4153</td>\n",
       "    </tr>\n",
       "    <tr>\n",
       "      <th>2</th>\n",
       "      <td>4181</td>\n",
       "      <td>NaN</td>\n",
       "      <td>NaN</td>\n",
       "      <td>NaN</td>\n",
       "      <td>NaN</td>\n",
       "      <td>34.146221</td>\n",
       "      <td>-118.135262</td>\n",
       "      <td>4181</td>\n",
       "    </tr>\n",
       "    <tr>\n",
       "      <th>3</th>\n",
       "      <td>4165</td>\n",
       "      <td>NaN</td>\n",
       "      <td>NaN</td>\n",
       "      <td>NaN</td>\n",
       "      <td>NaN</td>\n",
       "      <td>34.141750</td>\n",
       "      <td>-118.149063</td>\n",
       "      <td>4165</td>\n",
       "    </tr>\n",
       "    <tr>\n",
       "      <th>4</th>\n",
       "      <td>4176</td>\n",
       "      <td>NaN</td>\n",
       "      <td>NaN</td>\n",
       "      <td>NaN</td>\n",
       "      <td>NaN</td>\n",
       "      <td>34.137859</td>\n",
       "      <td>-118.122414</td>\n",
       "      <td>4176</td>\n",
       "    </tr>\n",
       "    <tr>\n",
       "      <th>5</th>\n",
       "      <td>4142</td>\n",
       "      <td>NaN</td>\n",
       "      <td>NaN</td>\n",
       "      <td>NaN</td>\n",
       "      <td>NaN</td>\n",
       "      <td>34.144588</td>\n",
       "      <td>-118.144592</td>\n",
       "      <td>4142</td>\n",
       "    </tr>\n",
       "    <tr>\n",
       "      <th>6</th>\n",
       "      <td>4157</td>\n",
       "      <td>NaN</td>\n",
       "      <td>NaN</td>\n",
       "      <td>NaN</td>\n",
       "      <td>NaN</td>\n",
       "      <td>34.140999</td>\n",
       "      <td>-118.132088</td>\n",
       "      <td>4157</td>\n",
       "    </tr>\n",
       "    <tr>\n",
       "      <th>7</th>\n",
       "      <td>4180</td>\n",
       "      <td>NaN</td>\n",
       "      <td>NaN</td>\n",
       "      <td>NaN</td>\n",
       "      <td>NaN</td>\n",
       "      <td>34.137951</td>\n",
       "      <td>-118.128502</td>\n",
       "      <td>4180</td>\n",
       "    </tr>\n",
       "    <tr>\n",
       "      <th>8</th>\n",
       "      <td>4163</td>\n",
       "      <td>NaN</td>\n",
       "      <td>NaN</td>\n",
       "      <td>NaN</td>\n",
       "      <td>NaN</td>\n",
       "      <td>34.150471</td>\n",
       "      <td>-118.132019</td>\n",
       "      <td>4163</td>\n",
       "    </tr>\n",
       "    <tr>\n",
       "      <th>9</th>\n",
       "      <td>4159</td>\n",
       "      <td>NaN</td>\n",
       "      <td>NaN</td>\n",
       "      <td>NaN</td>\n",
       "      <td>NaN</td>\n",
       "      <td>34.145901</td>\n",
       "      <td>-118.116539</td>\n",
       "      <td>4159</td>\n",
       "    </tr>\n",
       "    <tr>\n",
       "      <th>10</th>\n",
       "      <td>4177</td>\n",
       "      <td>NaN</td>\n",
       "      <td>NaN</td>\n",
       "      <td>NaN</td>\n",
       "      <td>NaN</td>\n",
       "      <td>34.144981</td>\n",
       "      <td>-118.138260</td>\n",
       "      <td>4177</td>\n",
       "    </tr>\n",
       "  </tbody>\n",
       "</table>\n",
       "</div>"
      ],
      "text/plain": [
       "    start_station address_street address_zip station_name total_docks  start_lat   start_lon  end_station\n",
       "0            4162            NaN         NaN          NaN         NaN  34.147499 -118.148010         4162\n",
       "1            4153            NaN         NaN          NaN         NaN  34.156181 -118.166687         4153\n",
       "2            4181            NaN         NaN          NaN         NaN  34.146221 -118.135262         4181\n",
       "3            4165            NaN         NaN          NaN         NaN  34.141750 -118.149063         4165\n",
       "4            4176            NaN         NaN          NaN         NaN  34.137859 -118.122414         4176\n",
       "5            4142            NaN         NaN          NaN         NaN  34.144588 -118.144592         4142\n",
       "6            4157            NaN         NaN          NaN         NaN  34.140999 -118.132088         4157\n",
       "7            4180            NaN         NaN          NaN         NaN  34.137951 -118.128502         4180\n",
       "8            4163            NaN         NaN          NaN         NaN  34.150471 -118.132019         4163\n",
       "9            4159            NaN         NaN          NaN         NaN  34.145901 -118.116539         4159\n",
       "10           4177            NaN         NaN          NaN         NaN  34.144981 -118.138260         4177"
      ]
     },
     "execution_count": 25,
     "metadata": {},
     "output_type": "execute_result"
    }
   ],
   "source": [
    "manual_add_cols = list(stations_info.columns)\n",
    "manual_add_cols.extend(('start_lat','start_lon'))\n",
    "manual_add_cols[0] = 'start_station'\n",
    "manual_kiosk_add = pd.DataFrame(columns = manual_add_cols)\n",
    "manual_kiosk_add['start_station'] = np.asarray(locations_to_fill.keys())\n",
    "manual_kiosk_add['end_station'] = manual_kiosk_add['start_station']\n",
    "manual_kiosk_add['start_lat'] = np.asarray(lats)\n",
    "manual_kiosk_add['start_lon'] = np.asarray(longs)\n",
    "manual_kiosk_add"
   ]
  },
  {
   "cell_type": "code",
   "execution_count": 26,
   "metadata": {
    "collapsed": true
   },
   "outputs": [],
   "source": [
    "manual_street_addresses = []\n",
    "manual_zips = []\n",
    "manual_names = []\n",
    "manual_street_addresses.extend(('136 E Holly St','1001 Rose Bowl Dr','2-26 N Oak Knoll Ave','272-260 S Raymond Ave', '1320-1342 San Pasqual St', '300 E Green St', '270 S Lake Ave', '1085-1041 San Pasqual St', '300 N Lake Ave','1570 E Colorado Blvd','50 S Madison Ave'))\n",
    "manual_zips.extend((91103, 91103, 91101, 91105, 91106, 91101, 91101, 91106, 91101, 91106, 91101))\n",
    "manual_names.extend(('Memorial Park Station', 'Rose Bowl Stadium', 'E Colorado Blvd Target','Central Park','Caltech Student Services','Pasadena Civic Auditorium', 'The Shops on Lake Avenue','Caltech Graduate Housing', 'Gateway Plaza', 'Pasadena City College Shatford Library', 'Playhouse parking lot'))"
   ]
  },
  {
   "cell_type": "code",
   "execution_count": 27,
   "metadata": {},
   "outputs": [
    {
     "data": {
      "text/html": [
       "<div>\n",
       "<style scoped>\n",
       "    .dataframe tbody tr th:only-of-type {\n",
       "        vertical-align: middle;\n",
       "    }\n",
       "\n",
       "    .dataframe tbody tr th {\n",
       "        vertical-align: top;\n",
       "    }\n",
       "\n",
       "    .dataframe thead th {\n",
       "        text-align: right;\n",
       "    }\n",
       "</style>\n",
       "<table border=\"1\" class=\"dataframe\">\n",
       "  <thead>\n",
       "    <tr style=\"text-align: right;\">\n",
       "      <th></th>\n",
       "      <th>start_station</th>\n",
       "      <th>address_street</th>\n",
       "      <th>address_zip</th>\n",
       "      <th>station_name</th>\n",
       "      <th>total_docks</th>\n",
       "      <th>start_lat</th>\n",
       "      <th>start_lon</th>\n",
       "      <th>end_station</th>\n",
       "    </tr>\n",
       "  </thead>\n",
       "  <tbody>\n",
       "    <tr>\n",
       "      <th>0</th>\n",
       "      <td>4162</td>\n",
       "      <td>136 E Holly St</td>\n",
       "      <td>91103</td>\n",
       "      <td>Memorial Park Station</td>\n",
       "      <td>22</td>\n",
       "      <td>34.147499</td>\n",
       "      <td>-118.148010</td>\n",
       "      <td>4162</td>\n",
       "    </tr>\n",
       "    <tr>\n",
       "      <th>1</th>\n",
       "      <td>4153</td>\n",
       "      <td>1001 Rose Bowl Dr</td>\n",
       "      <td>91103</td>\n",
       "      <td>Rose Bowl Stadium</td>\n",
       "      <td>22</td>\n",
       "      <td>34.156181</td>\n",
       "      <td>-118.166687</td>\n",
       "      <td>4153</td>\n",
       "    </tr>\n",
       "    <tr>\n",
       "      <th>2</th>\n",
       "      <td>4181</td>\n",
       "      <td>2-26 N Oak Knoll Ave</td>\n",
       "      <td>91101</td>\n",
       "      <td>E Colorado Blvd Target</td>\n",
       "      <td>22</td>\n",
       "      <td>34.146221</td>\n",
       "      <td>-118.135262</td>\n",
       "      <td>4181</td>\n",
       "    </tr>\n",
       "    <tr>\n",
       "      <th>3</th>\n",
       "      <td>4165</td>\n",
       "      <td>272-260 S Raymond Ave</td>\n",
       "      <td>91105</td>\n",
       "      <td>Central Park</td>\n",
       "      <td>22</td>\n",
       "      <td>34.141750</td>\n",
       "      <td>-118.149063</td>\n",
       "      <td>4165</td>\n",
       "    </tr>\n",
       "    <tr>\n",
       "      <th>4</th>\n",
       "      <td>4176</td>\n",
       "      <td>1320-1342 San Pasqual St</td>\n",
       "      <td>91106</td>\n",
       "      <td>Caltech Student Services</td>\n",
       "      <td>22</td>\n",
       "      <td>34.137859</td>\n",
       "      <td>-118.122414</td>\n",
       "      <td>4176</td>\n",
       "    </tr>\n",
       "    <tr>\n",
       "      <th>5</th>\n",
       "      <td>4142</td>\n",
       "      <td>300 E Green St</td>\n",
       "      <td>91101</td>\n",
       "      <td>Pasadena Civic Auditorium</td>\n",
       "      <td>22</td>\n",
       "      <td>34.144588</td>\n",
       "      <td>-118.144592</td>\n",
       "      <td>4142</td>\n",
       "    </tr>\n",
       "    <tr>\n",
       "      <th>6</th>\n",
       "      <td>4157</td>\n",
       "      <td>270 S Lake Ave</td>\n",
       "      <td>91101</td>\n",
       "      <td>The Shops on Lake Avenue</td>\n",
       "      <td>22</td>\n",
       "      <td>34.140999</td>\n",
       "      <td>-118.132088</td>\n",
       "      <td>4157</td>\n",
       "    </tr>\n",
       "    <tr>\n",
       "      <th>7</th>\n",
       "      <td>4180</td>\n",
       "      <td>1085-1041 San Pasqual St</td>\n",
       "      <td>91106</td>\n",
       "      <td>Caltech Graduate Housing</td>\n",
       "      <td>22</td>\n",
       "      <td>34.137951</td>\n",
       "      <td>-118.128502</td>\n",
       "      <td>4180</td>\n",
       "    </tr>\n",
       "    <tr>\n",
       "      <th>8</th>\n",
       "      <td>4163</td>\n",
       "      <td>300 N Lake Ave</td>\n",
       "      <td>91101</td>\n",
       "      <td>Gateway Plaza</td>\n",
       "      <td>22</td>\n",
       "      <td>34.150471</td>\n",
       "      <td>-118.132019</td>\n",
       "      <td>4163</td>\n",
       "    </tr>\n",
       "    <tr>\n",
       "      <th>9</th>\n",
       "      <td>4159</td>\n",
       "      <td>1570 E Colorado Blvd</td>\n",
       "      <td>91106</td>\n",
       "      <td>Pasadena City College Shatford Library</td>\n",
       "      <td>22</td>\n",
       "      <td>34.145901</td>\n",
       "      <td>-118.116539</td>\n",
       "      <td>4159</td>\n",
       "    </tr>\n",
       "    <tr>\n",
       "      <th>10</th>\n",
       "      <td>4177</td>\n",
       "      <td>50 S Madison Ave</td>\n",
       "      <td>91101</td>\n",
       "      <td>Playhouse parking lot</td>\n",
       "      <td>22</td>\n",
       "      <td>34.144981</td>\n",
       "      <td>-118.138260</td>\n",
       "      <td>4177</td>\n",
       "    </tr>\n",
       "  </tbody>\n",
       "</table>\n",
       "</div>"
      ],
      "text/plain": [
       "    start_station            address_street  address_zip                            station_name  total_docks  start_lat   start_lon  end_station\n",
       "0            4162            136 E Holly St        91103                   Memorial Park Station           22  34.147499 -118.148010         4162\n",
       "1            4153         1001 Rose Bowl Dr        91103                       Rose Bowl Stadium           22  34.156181 -118.166687         4153\n",
       "2            4181      2-26 N Oak Knoll Ave        91101                  E Colorado Blvd Target           22  34.146221 -118.135262         4181\n",
       "3            4165     272-260 S Raymond Ave        91105                            Central Park           22  34.141750 -118.149063         4165\n",
       "4            4176  1320-1342 San Pasqual St        91106                Caltech Student Services           22  34.137859 -118.122414         4176\n",
       "5            4142            300 E Green St        91101               Pasadena Civic Auditorium           22  34.144588 -118.144592         4142\n",
       "6            4157            270 S Lake Ave        91101                The Shops on Lake Avenue           22  34.140999 -118.132088         4157\n",
       "7            4180  1085-1041 San Pasqual St        91106                Caltech Graduate Housing           22  34.137951 -118.128502         4180\n",
       "8            4163            300 N Lake Ave        91101                           Gateway Plaza           22  34.150471 -118.132019         4163\n",
       "9            4159      1570 E Colorado Blvd        91106  Pasadena City College Shatford Library           22  34.145901 -118.116539         4159\n",
       "10           4177          50 S Madison Ave        91101                   Playhouse parking lot           22  34.144981 -118.138260         4177"
      ]
     },
     "execution_count": 27,
     "metadata": {},
     "output_type": "execute_result"
    }
   ],
   "source": [
    "manual_kiosk_add['address_street'] = np.asarray(manual_street_addresses)\n",
    "manual_kiosk_add['address_zip'] = np.asarray(manual_zips)\n",
    "manual_kiosk_add['station_name'] = np.asarray(manual_names)\n",
    "manual_kiosk_add = manual_kiosk_add.fillna(22)\n",
    "\n",
    "manual_kiosk_add"
   ]
  },
  {
   "cell_type": "code",
   "execution_count": 28,
   "metadata": {
    "collapsed": true
   },
   "outputs": [],
   "source": [
    "# Function to use the df.where function to map values to original dataframe.\n",
    "def fill_df_null(df1, df2, target_col, common_col, alt_name):\n",
    "    df1[target_col] = df1[target_col].where(df1[target_col].notnull(), \n",
    "                                           df1[common_col].map(df2.set_index(common_col)[alt_name]))\n",
    "\n",
    "fill_df_null(rides_df, manual_kiosk_add, 'start_address', 'start_station', 'address_street')\n",
    "fill_df_null(rides_df, manual_kiosk_add, 'start_zip', 'start_station', 'address_zip')\n",
    "fill_df_null(rides_df, manual_kiosk_add, 'start_name', 'start_station', 'station_name')\n",
    "fill_df_null(rides_df, manual_kiosk_add, 'start_docks', 'start_station', 'total_docks')\n",
    "\n",
    "fill_df_null(rides_df, manual_kiosk_add, 'end_address', 'end_station', 'address_street')\n",
    "fill_df_null(rides_df, manual_kiosk_add, 'end_zip', 'end_station', 'address_zip')\n",
    "fill_df_null(rides_df, manual_kiosk_add, 'end_name', 'end_station', 'station_name')\n",
    "fill_df_null(rides_df, manual_kiosk_add, 'end_docks', 'end_station', 'total_docks')"
   ]
  },
  {
   "cell_type": "code",
   "execution_count": 29,
   "metadata": {},
   "outputs": [
    {
     "data": {
      "text/plain": [
       "<matplotlib.axes._subplots.AxesSubplot at 0x1a1ab75d68>"
      ]
     },
     "execution_count": 29,
     "metadata": {},
     "output_type": "execute_result"
    },
    {
     "data": {
      "image/png": "[encoded data removed]",
      "text/plain": [
       "<matplotlib.figure.Figure at 0x1a14d96828>"
      ]
     },
     "metadata": {},
     "output_type": "display_data"
    }
   ],
   "source": [
    "msno.matrix(rides_df)"
   ]
  },
  {
   "cell_type": "code",
   "execution_count": 30,
   "metadata": {
    "collapsed": true
   },
   "outputs": [],
   "source": [
    "rides_df = rides_df.dropna()"
   ]
  },
  {
   "cell_type": "code",
   "execution_count": 31,
   "metadata": {},
   "outputs": [
    {
     "data": {
      "text/plain": [
       "(250513, 22)"
      ]
     },
     "execution_count": 31,
     "metadata": {},
     "output_type": "execute_result"
    }
   ],
   "source": [
    "rides_df.shape"
   ]
  },
  {
   "cell_type": "markdown",
   "metadata": {},
   "source": [
    "### Further feature engineering"
   ]
  },
  {
   "cell_type": "code",
   "execution_count": 32,
   "metadata": {
    "collapsed": true
   },
   "outputs": [],
   "source": [
    "# Create label for rides that were charged based on current pricing plan.\n",
    "def label_charged(duration):\n",
    "    if duration <= 30:\n",
    "        return 0\n",
    "    else:\n",
    "        return 1\n",
    "\n",
    "rides_df['charged_ride'] = rides_df['duration'].apply(label_charged)"
   ]
  },
  {
   "cell_type": "code",
   "execution_count": 33,
   "metadata": {
    "collapsed": true
   },
   "outputs": [],
   "source": [
    "# Column for hour of day of ride.\n",
    "rides_df['start_hour'] = rides_df['start_time'].dt.hour"
   ]
  },
  {
   "cell_type": "code",
   "execution_count": 34,
   "metadata": {},
   "outputs": [
    {
     "data": {
      "text/plain": [
       "Timestamp('2018-07-02 00:09:00')"
      ]
     },
     "execution_count": 34,
     "metadata": {},
     "output_type": "execute_result"
    }
   ],
   "source": [
    "latest_ride_date = rides_df['end_time'].max()\n",
    "latest_ride_date"
   ]
  },
  {
   "cell_type": "code",
   "execution_count": 35,
   "metadata": {
    "collapsed": true
   },
   "outputs": [],
   "source": [
    "bike_last_used_id = bike_last_used = rides_df.groupby('bike_id')['end_time'].max().keys().tolist()\n",
    "bike_last_used_date = rides_df.groupby('bike_id')['end_time'].max().tolist()"
   ]
  },
  {
   "cell_type": "code",
   "execution_count": 36,
   "metadata": {},
   "outputs": [
    {
     "name": "stdout",
     "output_type": "stream",
     "text": [
      "1 1259\n",
      "2 1353\n",
      "3 1383\n",
      "4 1409\n",
      "5 1415\n",
      "6 1419\n",
      "7 1427\n",
      "8 1436\n",
      "9 1442\n",
      "10 1445\n",
      "11 1448\n",
      "12 1452\n"
     ]
    }
   ],
   "source": [
    "# Number of bikes active each month in the past year.\n",
    "for month in range(1,13):\n",
    "    print(month, len([record for record in list(zip(bike_last_used_id,bike_last_used_date)) if \n",
    "                      record[1] > latest_ride_date + np.timedelta64(-month, 'M') ]))"
   ]
  },
  {
   "cell_type": "code",
   "execution_count": 37,
   "metadata": {},
   "outputs": [
    {
     "data": {
      "text/plain": [
       "33"
      ]
     },
     "execution_count": 37,
     "metadata": {},
     "output_type": "execute_result"
    }
   ],
   "source": [
    "# Number of inactive bikes (bikes that haven't been used in the past 6 months)\n",
    "len([record for record in list(zip(bike_last_used_id,bike_last_used_date)) if \n",
    "     record[1] < latest_ride_date + np.timedelta64(-6, 'M') ])"
   ]
  },
  {
   "cell_type": "code",
   "execution_count": 38,
   "metadata": {
    "collapsed": true
   },
   "outputs": [],
   "source": [
    "# Create feature indicating active bikes, used in past 6 months. 1 if active, 0 if inactive.\n",
    "inactive_ids = [record[0] for record in list(zip(bike_last_used_id,bike_last_used_date)) if \n",
    "                record[1] < latest_ride_date + np.timedelta64(-6, 'M') ]\n",
    "rides_df['active_6m'] = rides_df['bike_id'].apply(lambda bike_id: 0 if bike_id in (inactive_ids) else 1)"
   ]
  },
  {
   "cell_type": "code",
   "execution_count": 39,
   "metadata": {},
   "outputs": [
    {
     "data": {
      "text/plain": [
       "array(['Walk-up', 'Monthly Pass', 'Flex Pass', 'One Day Pass'],\n",
       "      dtype=object)"
      ]
     },
     "execution_count": 39,
     "metadata": {},
     "output_type": "execute_result"
    }
   ],
   "source": [
    "# Listing out unique values for dummy variables.\n",
    "rides_df['passholder_type'].unique()"
   ]
  },
  {
   "cell_type": "code",
   "execution_count": 40,
   "metadata": {
    "collapsed": true
   },
   "outputs": [],
   "source": [
    "# Create dummy variables for passholder type.\n",
    "one_hot_pass = pd.get_dummies(rides_df['passholder_type']).rename(columns={\n",
    "    'Flex Pass' : 'annual',\n",
    "    'Monthly Pass' : 'monthly',\n",
    "    'One Day Pass' : 'one_day',\n",
    "    'Walk-up' : 'walk_up'\n",
    "})\n",
    "\n",
    "# Create dummy variables for trip route category.\n",
    "one_hot_trip_type = pd.get_dummies(rides_df['trip_route_category']).rename(columns = {\n",
    "    'One Way' : 'one_way',\n",
    "    'Round Trip' : 'round_trip'\n",
    "})\n",
    "\n",
    "rides_df = rides_df.join([one_hot_pass, one_hot_trip_type])"
   ]
  },
  {
   "cell_type": "code",
   "execution_count": 41,
   "metadata": {
    "collapsed": true
   },
   "outputs": [],
   "source": [
    "# Walk-up  3.50/30minutesAlltrips30minutesorlessare3.50/30minutesAlltrips30minutesorlessare 3.50 \n",
    "# $3.50 per 30 minutes thereafter\n",
    "# Find a Station One Day Pass  7/dayAlltrips30minutesorlessarefree7/dayAlltrips30minutesorlessarefree \n",
    "# 1.75 per 30 minutes thereafter\n",
    "# Buy a Pass Monthly Pass  20/monthAlltrips30minutesorlessarefree20/monthAlltrips30minutesorlessarefree \n",
    "# 1.75 per 30 minutes thereafter\n",
    "# determining pricing based on the following scheme:"
   ]
  },
  {
   "cell_type": "code",
   "execution_count": 42,
   "metadata": {},
   "outputs": [
    {
     "data": {
      "text/plain": [
       "trip_id                                   33463066\n",
       "duration                                        18\n",
       "start_time                     2017-07-01 11:34:00\n",
       "end_time                       2017-07-01 11:52:00\n",
       "start_station                                 3011\n",
       "start_lat                                  34.0411\n",
       "start_lon                                 -118.268\n",
       "end_station                                   3062\n",
       "end_lat                                    34.0477\n",
       "end_lon                                   -118.243\n",
       "bike_id                                       6634\n",
       "plan_duration                                  365\n",
       "trip_route_category                        One Way\n",
       "passholder_type                          Flex Pass\n",
       "start_address          1259-1299 S Figueroa Street\n",
       "start_zip                                    90015\n",
       "start_name                         Figueroa & Pico\n",
       "start_docks                                     19\n",
       "end_address                     350 E Third Street\n",
       "end_zip                                      90013\n",
       "end_name                           3rd & San Pedro\n",
       "end_docks                                       27\n",
       "charged_ride                                     0\n",
       "start_hour                                      11\n",
       "active_6m                                        1\n",
       "annual                                           1\n",
       "monthly                                          0\n",
       "one_day                                          0\n",
       "walk_up                                          0\n",
       "one_way                                          1\n",
       "round_trip                                       0\n",
       "Name: 126, dtype: object"
      ]
     },
     "execution_count": 42,
     "metadata": {},
     "output_type": "execute_result"
    }
   ],
   "source": [
    "rides_df[rides_df['passholder_type'] == 'Flex Pass'].iloc[1]"
   ]
  },
  {
   "cell_type": "code",
   "execution_count": 43,
   "metadata": {},
   "outputs": [
    {
     "data": {
      "text/plain": [
       "(250513, 31)"
      ]
     },
     "execution_count": 43,
     "metadata": {},
     "output_type": "execute_result"
    }
   ],
   "source": [
    "rides_df.shape"
   ]
  },
  {
   "cell_type": "code",
   "execution_count": 44,
   "metadata": {
    "collapsed": true
   },
   "outputs": [],
   "source": [
    "# Creates feature for 30 minute blocks that walk-up users have to pay for.\n",
    "# Creates another feature for 30 minute blocks for passholders that exclude first 30 minute block.\n",
    "rides_df['time_block_count'] = rides_df['duration'].apply(lambda duration: math.ceil(duration/30))\n",
    "rides_df['time_block_count_post_free'] = rides_df['duration'].apply(lambda duration: math.ceil(duration/30)) - 1"
   ]
  },
  {
   "cell_type": "code",
   "execution_count": 45,
   "metadata": {},
   "outputs": [
    {
     "name": "stdout",
     "output_type": "stream",
     "text": [
      "trip_id                                int64\n",
      "duration                               int64\n",
      "start_time                    datetime64[ns]\n",
      "end_time                      datetime64[ns]\n",
      "start_station                          int64\n",
      "start_lat                            float64\n",
      "start_lon                            float64\n",
      "end_station                            int64\n",
      "end_lat                              float64\n",
      "end_lon                              float64\n",
      "bike_id                                int64\n",
      "plan_duration                          int64\n",
      "trip_route_category                   object\n",
      "passholder_type                       object\n",
      "start_address                         object\n",
      "start_zip                             object\n",
      "start_name                            object\n",
      "start_docks                          float64\n",
      "end_address                           object\n",
      "end_zip                               object\n",
      "end_name                              object\n",
      "end_docks                            float64\n",
      "charged_ride                           int64\n",
      "start_hour                             int64\n",
      "active_6m                              int64\n",
      "annual                                 uint8\n",
      "monthly                                uint8\n",
      "one_day                                uint8\n",
      "walk_up                                uint8\n",
      "one_way                                uint8\n",
      "round_trip                             uint8\n",
      "time_block_count                       int64\n",
      "time_block_count_post_free             int64\n",
      "dtype: object\n"
     ]
    }
   ],
   "source": [
    "pprint.pprint(rides_df.dtypes)"
   ]
  },
  {
   "cell_type": "code",
   "execution_count": 46,
   "metadata": {},
   "outputs": [
    {
     "data": {
      "text/html": [
       "<div>\n",
       "<style scoped>\n",
       "    .dataframe tbody tr th:only-of-type {\n",
       "        vertical-align: middle;\n",
       "    }\n",
       "\n",
       "    .dataframe tbody tr th {\n",
       "        vertical-align: top;\n",
       "    }\n",
       "\n",
       "    .dataframe thead th {\n",
       "        text-align: right;\n",
       "    }\n",
       "</style>\n",
       "<table border=\"1\" class=\"dataframe\">\n",
       "  <thead>\n",
       "    <tr style=\"text-align: right;\">\n",
       "      <th></th>\n",
       "      <th>trip_id</th>\n",
       "      <th>duration</th>\n",
       "      <th>start_time</th>\n",
       "      <th>end_time</th>\n",
       "      <th>start_station</th>\n",
       "      <th>start_lat</th>\n",
       "      <th>start_lon</th>\n",
       "      <th>end_station</th>\n",
       "      <th>end_lat</th>\n",
       "      <th>end_lon</th>\n",
       "      <th>bike_id</th>\n",
       "      <th>plan_duration</th>\n",
       "      <th>trip_route_category</th>\n",
       "      <th>passholder_type</th>\n",
       "      <th>start_address</th>\n",
       "      <th>start_zip</th>\n",
       "      <th>start_name</th>\n",
       "      <th>start_docks</th>\n",
       "      <th>end_address</th>\n",
       "      <th>end_zip</th>\n",
       "      <th>end_name</th>\n",
       "      <th>end_docks</th>\n",
       "      <th>charged_ride</th>\n",
       "      <th>start_hour</th>\n",
       "      <th>active_6m</th>\n",
       "      <th>annual</th>\n",
       "      <th>monthly</th>\n",
       "      <th>one_day</th>\n",
       "      <th>walk_up</th>\n",
       "      <th>one_way</th>\n",
       "      <th>round_trip</th>\n",
       "      <th>time_block_count</th>\n",
       "      <th>time_block_count_post_free</th>\n",
       "    </tr>\n",
       "  </thead>\n",
       "  <tbody>\n",
       "    <tr>\n",
       "      <th>0</th>\n",
       "      <td>33404951</td>\n",
       "      <td>36</td>\n",
       "      <td>2017-07-01 00:09:00</td>\n",
       "      <td>2017-07-01 00:45:00</td>\n",
       "      <td>3018</td>\n",
       "      <td>34.043732</td>\n",
       "      <td>-118.260139</td>\n",
       "      <td>3018</td>\n",
       "      <td>34.043732</td>\n",
       "      <td>-118.260139</td>\n",
       "      <td>5996</td>\n",
       "      <td>0</td>\n",
       "      <td>Round Trip</td>\n",
       "      <td>Walk-up</td>\n",
       "      <td>919 S Grand Ave</td>\n",
       "      <td>90015</td>\n",
       "      <td>Grand &amp; Olympic</td>\n",
       "      <td>22.0</td>\n",
       "      <td>919 S Grand Ave</td>\n",
       "      <td>90015</td>\n",
       "      <td>Grand &amp; Olympic</td>\n",
       "      <td>22.0</td>\n",
       "      <td>1</td>\n",
       "      <td>0</td>\n",
       "      <td>1</td>\n",
       "      <td>0</td>\n",
       "      <td>0</td>\n",
       "      <td>0</td>\n",
       "      <td>1</td>\n",
       "      <td>0</td>\n",
       "      <td>1</td>\n",
       "      <td>2</td>\n",
       "      <td>1</td>\n",
       "    </tr>\n",
       "    <tr>\n",
       "      <th>1</th>\n",
       "      <td>33404950</td>\n",
       "      <td>13</td>\n",
       "      <td>2017-07-01 00:10:00</td>\n",
       "      <td>2017-07-01 00:23:00</td>\n",
       "      <td>3055</td>\n",
       "      <td>34.044159</td>\n",
       "      <td>-118.251579</td>\n",
       "      <td>3082</td>\n",
       "      <td>34.046520</td>\n",
       "      <td>-118.237411</td>\n",
       "      <td>5777</td>\n",
       "      <td>0</td>\n",
       "      <td>One Way</td>\n",
       "      <td>Walk-up</td>\n",
       "      <td>111 W 7th Street</td>\n",
       "      <td>90014</td>\n",
       "      <td>7th &amp; Main</td>\n",
       "      <td>23.0</td>\n",
       "      <td>599 Traction Ave</td>\n",
       "      <td>90013</td>\n",
       "      <td>Traction &amp; Rose</td>\n",
       "      <td>27.0</td>\n",
       "      <td>0</td>\n",
       "      <td>0</td>\n",
       "      <td>1</td>\n",
       "      <td>0</td>\n",
       "      <td>0</td>\n",
       "      <td>0</td>\n",
       "      <td>1</td>\n",
       "      <td>1</td>\n",
       "      <td>0</td>\n",
       "      <td>1</td>\n",
       "      <td>0</td>\n",
       "    </tr>\n",
       "    <tr>\n",
       "      <th>2</th>\n",
       "      <td>33404947</td>\n",
       "      <td>34</td>\n",
       "      <td>2017-07-01 00:11:00</td>\n",
       "      <td>2017-07-01 00:45:00</td>\n",
       "      <td>3018</td>\n",
       "      <td>34.043732</td>\n",
       "      <td>-118.260139</td>\n",
       "      <td>3018</td>\n",
       "      <td>34.043732</td>\n",
       "      <td>-118.260139</td>\n",
       "      <td>6342</td>\n",
       "      <td>0</td>\n",
       "      <td>Round Trip</td>\n",
       "      <td>Walk-up</td>\n",
       "      <td>919 S Grand Ave</td>\n",
       "      <td>90015</td>\n",
       "      <td>Grand &amp; Olympic</td>\n",
       "      <td>22.0</td>\n",
       "      <td>919 S Grand Ave</td>\n",
       "      <td>90015</td>\n",
       "      <td>Grand &amp; Olympic</td>\n",
       "      <td>22.0</td>\n",
       "      <td>1</td>\n",
       "      <td>0</td>\n",
       "      <td>1</td>\n",
       "      <td>0</td>\n",
       "      <td>0</td>\n",
       "      <td>0</td>\n",
       "      <td>1</td>\n",
       "      <td>0</td>\n",
       "      <td>1</td>\n",
       "      <td>2</td>\n",
       "      <td>1</td>\n",
       "    </tr>\n",
       "    <tr>\n",
       "      <th>3</th>\n",
       "      <td>33404948</td>\n",
       "      <td>34</td>\n",
       "      <td>2017-07-01 00:11:00</td>\n",
       "      <td>2017-07-01 00:45:00</td>\n",
       "      <td>3018</td>\n",
       "      <td>34.043732</td>\n",
       "      <td>-118.260139</td>\n",
       "      <td>3018</td>\n",
       "      <td>34.043732</td>\n",
       "      <td>-118.260139</td>\n",
       "      <td>6478</td>\n",
       "      <td>0</td>\n",
       "      <td>Round Trip</td>\n",
       "      <td>Walk-up</td>\n",
       "      <td>919 S Grand Ave</td>\n",
       "      <td>90015</td>\n",
       "      <td>Grand &amp; Olympic</td>\n",
       "      <td>22.0</td>\n",
       "      <td>919 S Grand Ave</td>\n",
       "      <td>90015</td>\n",
       "      <td>Grand &amp; Olympic</td>\n",
       "      <td>22.0</td>\n",
       "      <td>1</td>\n",
       "      <td>0</td>\n",
       "      <td>1</td>\n",
       "      <td>0</td>\n",
       "      <td>0</td>\n",
       "      <td>0</td>\n",
       "      <td>1</td>\n",
       "      <td>0</td>\n",
       "      <td>1</td>\n",
       "      <td>2</td>\n",
       "      <td>1</td>\n",
       "    </tr>\n",
       "    <tr>\n",
       "      <th>4</th>\n",
       "      <td>33404949</td>\n",
       "      <td>12</td>\n",
       "      <td>2017-07-01 00:11:00</td>\n",
       "      <td>2017-07-01 00:23:00</td>\n",
       "      <td>3055</td>\n",
       "      <td>34.044159</td>\n",
       "      <td>-118.251579</td>\n",
       "      <td>3082</td>\n",
       "      <td>34.046520</td>\n",
       "      <td>-118.237411</td>\n",
       "      <td>6411</td>\n",
       "      <td>0</td>\n",
       "      <td>One Way</td>\n",
       "      <td>Walk-up</td>\n",
       "      <td>111 W 7th Street</td>\n",
       "      <td>90014</td>\n",
       "      <td>7th &amp; Main</td>\n",
       "      <td>23.0</td>\n",
       "      <td>599 Traction Ave</td>\n",
       "      <td>90013</td>\n",
       "      <td>Traction &amp; Rose</td>\n",
       "      <td>27.0</td>\n",
       "      <td>0</td>\n",
       "      <td>0</td>\n",
       "      <td>1</td>\n",
       "      <td>0</td>\n",
       "      <td>0</td>\n",
       "      <td>0</td>\n",
       "      <td>1</td>\n",
       "      <td>1</td>\n",
       "      <td>0</td>\n",
       "      <td>1</td>\n",
       "      <td>0</td>\n",
       "    </tr>\n",
       "  </tbody>\n",
       "</table>\n",
       "</div>"
      ],
      "text/plain": [
       "    trip_id  duration          start_time            end_time  start_station  start_lat   start_lon  end_station    end_lat     end_lon  bike_id  plan_duration trip_route_category passholder_type     start_address start_zip       start_name  start_docks       end_address end_zip         end_name  end_docks  charged_ride  start_hour  active_6m  annual  monthly  one_day  walk_up  one_way  round_trip  time_block_count  time_block_count_post_free\n",
       "0  33404951        36 2017-07-01 00:09:00 2017-07-01 00:45:00           3018  34.043732 -118.260139         3018  34.043732 -118.260139     5996              0          Round Trip         Walk-up   919 S Grand Ave     90015  Grand & Olympic         22.0   919 S Grand Ave   90015  Grand & Olympic       22.0             1           0          1       0        0        0        1        0           1                 2                           1\n",
       "1  33404950        13 2017-07-01 00:10:00 2017-07-01 00:23:00           3055  34.044159 -118.251579         3082  34.046520 -118.237411     5777              0             One Way         Walk-up  111 W 7th Street     90014       7th & Main         23.0  599 Traction Ave   90013  Traction & Rose       27.0             0           0          1       0        0        0        1        1           0                 1                           0\n",
       "2  33404947        34 2017-07-01 00:11:00 2017-07-01 00:45:00           3018  34.043732 -118.260139         3018  34.043732 -118.260139     6342              0          Round Trip         Walk-up   919 S Grand Ave     90015  Grand & Olympic         22.0   919 S Grand Ave   90015  Grand & Olympic       22.0             1           0          1       0        0        0        1        0           1                 2                           1\n",
       "3  33404948        34 2017-07-01 00:11:00 2017-07-01 00:45:00           3018  34.043732 -118.260139         3018  34.043732 -118.260139     6478              0          Round Trip         Walk-up   919 S Grand Ave     90015  Grand & Olympic         22.0   919 S Grand Ave   90015  Grand & Olympic       22.0             1           0          1       0        0        0        1        0           1                 2                           1\n",
       "4  33404949        12 2017-07-01 00:11:00 2017-07-01 00:23:00           3055  34.044159 -118.251579         3082  34.046520 -118.237411     6411              0             One Way         Walk-up  111 W 7th Street     90014       7th & Main         23.0  599 Traction Ave   90013  Traction & Rose       27.0             0           0          1       0        0        0        1        1           0                 1                           0"
      ]
     },
     "execution_count": 46,
     "metadata": {},
     "output_type": "execute_result"
    }
   ],
   "source": [
    "rides_df.head()"
   ]
  },
  {
   "cell_type": "markdown",
   "metadata": {},
   "source": []
  },
  {
   "cell_type": "markdown",
   "metadata": {},
   "source": [
    "### Current pricing\n",
    "\n",
    "Walk up   \n",
    "$ 1.75 for each 30 min trip   \n",
    "$ 1.75 per 30 minutes thereafter\n",
    "\n",
    "Day Pass \n",
    "$5/day\n",
    "All rides 30 minutes or less are free\n",
    "$1.75 per 30 minutes thereafter\n",
    " \n",
    "\n",
    "Sign Up\n",
    "Monthly Pass\n",
    "$17/month\n",
    "All rides 30 minutes or less are free\n",
    "$1.75 per 30 minutes thereafter\n",
    " \n",
    "\n",
    "Sign Up\n",
    "Annual Pass\n",
    "$150/year\n",
    "Equivalent to $12.50/month\n",
    "All rides 30 minutes or less are free\n",
    "$1.75 per 30 minutes thereafter\n",
    "\n",
    "### Previous pricing\n",
    "\n",
    "Walk-up\n",
    "$3.50/30 minutes\n",
    "All trips 30 minutes or less are $3.50\n",
    "$3.50 per 30 minutes thereafter\n",
    " \n",
    "\n",
    "Find a Station\n",
    "One Day Pass\n",
    "$7/day\n",
    "All trips 30 minutes or less are free\n",
    "$1.75 per 30 minutes thereafter\n",
    "\n",
    "\n",
    "Buy a Pass\n",
    "Monthly Pass\n",
    "$20/month\n",
    "All trips 30 minutes or less are free\n",
    "$1.75 per 30 minutes thereafter\n",
    "\n",
    "Buy a Pass\n",
    "Annual Pass/Flex Pass\n",
    "$40/year\n",
    "$1.75 per 30 minutes"
   ]
  },
  {
   "cell_type": "markdown",
   "metadata": {
    "collapsed": true
   },
   "source": [
    "### Competitor pricing:\n",
    "\n",
    "Bird Scooters - $.15 per minute   \n",
    "\n",
    "Lime Pedal Bikes - $1 to unlock + $0.05/minute to ride.   \n",
    "\n",
    "Lime-E Electric Assist Bikes - $1 to unlock +  $.15 per minute   \n",
    "\n",
    "Lime-S Electric Scooters - $1 to unlock + $.15 per minute   \n",
    "\n",
    "LimePrime - $29.95 per month and includes $100 in ride credits for use on Lime Classic Pedal Bikes only.   \n",
    "\n",
    "LimePrime Students is $14.95 per month and includes 100 ride credits, with a valid \".EDU\" email address. Students, faculty and staff all qualify.   \n",
    "\n",
    "JUMP Bikes (& scooters) (Santa Monica only) - $1 for first 5 minutes + $.15 per minute after   \n",
    "\n",
    "JUMP Bikes (& scooters) Boost Plan (Santa Monica only) - $5 a month for 60 minutes a day of ride time + .07 after 60 min."
   ]
  },
  {
   "cell_type": "markdown",
   "metadata": {},
   "source": [
    "## Optimization models\n",
    "\n",
    "As seen from competitors, there are multiple ways in which the pricing scheme can be structured. Some options that we could implement and compare are as follows:\n",
    "1. Variable rate by minute\n",
    "2. Variable rate by time intervals (30 minutes for LA Metro currently)\n",
    "3. Fixed fee for any ride\n",
    "4. Fixed fee for a time interval before implementing a variable rate\n",
    "5. Weekly, monthly passes that cover all rides up to a particular duration. Variable rate thereafter\n",
    "\n",
    "We will examine the current model by LA metro and whether the current level of customer segmentation is necessary. To benchmark the pricing against other operators of bikes and scooters, let's plot out the different pricing curves for all operators."
   ]
  },
  {
   "cell_type": "code",
   "execution_count": 47,
   "metadata": {},
   "outputs": [
    {
     "data": {
      "image/png": "[encoded data removed]",
      "text/plain": [
       "<matplotlib.figure.Figure at 0x1a1c66b2b0>"
      ]
     },
     "metadata": {},
     "output_type": "display_data"
    }
   ],
   "source": [
    "fig, axes = plt.subplots(figsize=(10,5))\n",
    "x = np.array(range(0,60))\n",
    "prev_la, = plt.step([0,30,60], [0,3.5,7], label = 'Previous LA Metro Bike')\n",
    "cur_la, = plt.step([0,30,60], [0,1.75,3.5], label = 'Current LA Metro Bike')\n",
    "bird, = plt.plot(x, 0.15 * x, label = 'Bird')\n",
    "lime_ped, = plt.plot(x, 1 + 0.05 * x, label = 'Lime Pedal Bike')\n",
    "lime_scoot, = plt.plot(x, 1 + 0.15 * x, label = 'Lime Electric Assist Bike/Scooter')\n",
    "jump1, = plt.step([0,5],[0,1],label = 'Jump Bikes/Scooters',color = 'c')\n",
    "jump2, = plt.plot(np.array(range(5,60)), 0.15 * np.array(range(5,60)) + 0.25, color = 'c')\n",
    "plt.title('Prices of trips up to 60 minutes for different operators', size=15)\n",
    "plt.xlabel('Duration of trip (minutes)')\n",
    "plt.ylabel('Price of trip ($)')\n",
    "plt.legend()\n",
    "plt.show()"
   ]
  },
  {
   "cell_type": "markdown",
   "metadata": {},
   "source": [
    "Looking at the different pricing schemes across bike and scooter operators in LA, the current pricing that was just enacted by LA Metro is definitely the cheapest, coming in at $3.50 for an hour long bike ride.\n",
    "\n",
    "The previous pricing for an hour long bike ride for a walk-on was $7, twice the current price.\n",
    "\n",
    "The next cheapest option is the Lime pedal bike, which is cheaper than walk on riders on LA metro for rides shorter than 15 minutes and for rides between 30 and 50 minutes. \n",
    "\n",
    "We will thus formulate the following linear constraints to optimize total revenue for the current pricing structure:   \n",
    "1. The variable rate per minute without a pass is set under the average of the two most common prices of \\$0.05 and \\$0.15:    \n",
    "Variable rate per minute without pass <= \\$0.10\n",
    "2. The variable rate per minute with a plan is set under the average of the LA Metro's current ~\\$0.06 and Jump's \\$0.07:   \n",
    "Variable rate per minute with pass <= \\$0.065 \n",
    "3. The variable rate is set under the nearest competitor(Lime pedal):   \n",
    "Variable rate per 30 minutes <= \\$2.5\n",
    "4. As there aren't many operators out there with comparable pass pricing plans, we maintain the current prices of 5, 17, and 150 for daily pass, monthly pass, and annual pass respectively:      \n",
    "Daily pass price <= \\$5   \n",
    "Monthly pass price <= \\$17   \n",
    "Annual pass price <= \\$150"
   ]
  },
  {
   "cell_type": "code",
   "execution_count": 48,
   "metadata": {},
   "outputs": [
    {
     "name": "stdout",
     "output_type": "stream",
     "text": [
      "Stored 'rides_df' (DataFrame)\n"
     ]
    }
   ],
   "source": [
    "%store rides_df"
   ]
  },
  {
   "cell_type": "code",
   "execution_count": 49,
   "metadata": {
    "scrolled": true
   },
   "outputs": [
    {
     "data": {
      "text/plain": [
       "dict_keys(['Flex Pass', 'Monthly Pass', 'One Day Pass', 'Walk-up'])"
      ]
     },
     "execution_count": 49,
     "metadata": {},
     "output_type": "execute_result"
    }
   ],
   "source": [
    "pass_groups = rides_df.groupby('passholder_type')\n",
    "pass_groups.groups.keys()"
   ]
  },
  {
   "cell_type": "code",
   "execution_count": 50,
   "metadata": {},
   "outputs": [
    {
     "data": {
      "text/html": [
       "<div>\n",
       "<style scoped>\n",
       "    .dataframe tbody tr th:only-of-type {\n",
       "        vertical-align: middle;\n",
       "    }\n",
       "\n",
       "    .dataframe tbody tr th {\n",
       "        vertical-align: top;\n",
       "    }\n",
       "\n",
       "    .dataframe thead th {\n",
       "        text-align: right;\n",
       "    }\n",
       "</style>\n",
       "<table border=\"1\" class=\"dataframe\">\n",
       "  <thead>\n",
       "    <tr style=\"text-align: right;\">\n",
       "      <th></th>\n",
       "      <th>total_trips</th>\n",
       "      <th>pay_count_walk_up</th>\n",
       "      <th>total_30min_blocks</th>\n",
       "      <th>total_30min_blocks_post_free</th>\n",
       "      <th>total_minutes</th>\n",
       "    </tr>\n",
       "    <tr>\n",
       "      <th>passholder_type</th>\n",
       "      <th></th>\n",
       "      <th></th>\n",
       "      <th></th>\n",
       "      <th></th>\n",
       "      <th></th>\n",
       "    </tr>\n",
       "  </thead>\n",
       "  <tbody>\n",
       "    <tr>\n",
       "      <th>annual</th>\n",
       "      <td>9175</td>\n",
       "      <td>0.0</td>\n",
       "      <td>10858</td>\n",
       "      <td>1683</td>\n",
       "      <td>143708</td>\n",
       "    </tr>\n",
       "    <tr>\n",
       "      <th>monthly</th>\n",
       "      <td>146531</td>\n",
       "      <td>0.0</td>\n",
       "      <td>165592</td>\n",
       "      <td>19061</td>\n",
       "      <td>1982585</td>\n",
       "    </tr>\n",
       "    <tr>\n",
       "      <th>daily</th>\n",
       "      <td>14640</td>\n",
       "      <td>0.0</td>\n",
       "      <td>38517</td>\n",
       "      <td>23877</td>\n",
       "      <td>937578</td>\n",
       "    </tr>\n",
       "    <tr>\n",
       "      <th>walk_up</th>\n",
       "      <td>80167</td>\n",
       "      <td>80167.0</td>\n",
       "      <td>178895</td>\n",
       "      <td>98728</td>\n",
       "      <td>4158810</td>\n",
       "    </tr>\n",
       "  </tbody>\n",
       "</table>\n",
       "</div>"
      ],
      "text/plain": [
       "                 total_trips  pay_count_walk_up  total_30min_blocks  total_30min_blocks_post_free  total_minutes\n",
       "passholder_type                                                                                                 \n",
       "annual                  9175                0.0               10858                          1683         143708\n",
       "monthly               146531                0.0              165592                         19061        1982585\n",
       "daily                  14640                0.0               38517                         23877         937578\n",
       "walk_up                80167            80167.0              178895                         98728        4158810"
      ]
     },
     "execution_count": 50,
     "metadata": {},
     "output_type": "execute_result"
    }
   ],
   "source": [
    "agg_pass_groups = pass_groups.agg({\n",
    "    'trip_id' : 'count',\n",
    "    'walk_up' : 'sum',\n",
    "    'time_block_count' : 'sum',\n",
    "    'time_block_count_post_free' : 'sum',\n",
    "    'duration' : 'sum'\n",
    "}).rename(columns = {\n",
    "    'trip_id' : 'total_trips',\n",
    "    'walk_up' : 'pay_count_walk_up',\n",
    "    'time_block_count' : 'total_30min_blocks',\n",
    "    'time_block_count_post_free' : 'total_30min_blocks_post_free',\n",
    "    'duration' : 'total_minutes'\n",
    "}).reset_index()\n",
    "agg_pass_groups['passholder_type'] = ['annual','monthly','daily','walk_up']\n",
    "agg_pass_groups.index = agg_pass_groups['passholder_type']\n",
    "agg_pass_groups = agg_pass_groups.drop('passholder_type',1)\n",
    "agg_pass_groups"
   ]
  },
  {
   "cell_type": "markdown",
   "metadata": {},
   "source": [
    "We are however missing the number of passholders to implement revenue gained from selling passes. As we do not have unique identifiers for passholders, we refer to the data page of LA Metro bikes here: https://bikeshare.metro.net/about/data/.\n",
    "\n",
    "With roughly 575,281 trips completed and 42,870 passes sold since it's inception in July 2016, it would be safe to expect roughly 20,000 passes sold during the year-long period of this analysis. \n",
    "\n",
    "We will estimate the number of different passes sold from a breakeven perspective. As most trips (>60%) are \"last mile\" trips from metro stops and the median duration of trips is 12 minutes, we conduct the following breakeven analysis for trips under 30 minutes."
   ]
  },
  {
   "cell_type": "code",
   "execution_count": 118,
   "metadata": {},
   "outputs": [
    {
     "name": "stdout",
     "output_type": "stream",
     "text": [
      " Rides per day required for daily pass: 2.0 \n",
      " Rides per month required for monthly pass: 5.714285714285714 \n",
      " Rides per year required for annual pass: 22.857142857142858\n"
     ]
    }
   ],
   "source": [
    "# Rides to break even = Pass price / (Price to ride without pass - Price to ride with pass)\n",
    "# Passes sold = Total rides / Rides to break even\n",
    "\n",
    "price_wo_pass = 3.5\n",
    "price_w_pass_day = 0\n",
    "price_w_pass_month = 0\n",
    "price_w_pass_annual = 1.75\n",
    "\n",
    "# Average difference between passholders and walk-up riders across previous and current pricing.\n",
    "# This is represented by the difference in prices per 30 minute block since pass holders get the first 30 minutes free.\n",
    "# As current data is from before the price change, previous prices are used to estimate number of passes.\n",
    "\n",
    "day_diff = price_wo_pass - price_w_pass_day\n",
    "month_diff = price_wo_pass - price_w_pass_month\n",
    "annual_diff = price_wo_pass - price_w_pass_annual\n",
    "\n",
    "# Prices of passes.\n",
    "\n",
    "day_pass_price = 7\n",
    "month_pass_price = 20\n",
    "annual_pass_price = 40\n",
    "\n",
    "# Estimated rides required for breakeven.\n",
    "\n",
    "rides_day_pass_estimate = day_pass_price / day_diff\n",
    "rides_month_pass_estimate = month_pass_price / month_diff\n",
    "rides_annual_pass_estimate = annual_pass_price / annual_diff\n",
    "\n",
    "print(\" Rides per day required for daily pass:\",rides_day_pass_estimate,'\\n', \n",
    "      \"Rides per month required for monthly pass:\", rides_month_pass_estimate,'\\n', \n",
    "      \"Rides per year required for annual pass:\", rides_annual_pass_estimate)"
   ]
  },
  {
   "cell_type": "markdown",
   "metadata": {},
   "source": [
    "Looking at the number of rides required of breakeven and assessing the numbers, the numbers seem to be on the low side. \n",
    "\n",
    "Daily pass holders are likely to perform more than a round trip if they were purchasing a day pass.\n",
    "\n",
    "Monthly pass holders are likely to be the occasional commuters and even at a conservative 2 rides/week to work would tally 8 rides a month.\n",
    "\n",
    "Annual pass holders are the hardest to gauge due to the low $40 price point of the flex point from the previous pricing plan. For now, they'll be scaled to the same factor as day and monthly pass numbers.\n",
    "\n",
    "Scaling daily passes up to a conservative 3 rides is a 50% increase in rides while scaling monthly rides up to a conservative 8 rides is a 40% increase. For conservative estimates, we scale the three estimates by a common factor of 40%."
   ]
  },
  {
   "cell_type": "code",
   "execution_count": 119,
   "metadata": {},
   "outputs": [
    {
     "name": "stdout",
     "output_type": "stream",
     "text": [
      "Rides per day required for daily pass (scaled): 2.8 \n",
      " Rides per month required for monthly pass (scaled): 8.0 \n",
      " Rides per year required for annual pass (scaled): 32.0\n"
     ]
    }
   ],
   "source": [
    "rides_day_pass_estimate *= 1.4\n",
    "rides_month_pass_estimate *= 1.4\n",
    "rides_annual_pass_estimate *= 1.4\n",
    "\n",
    "print(\"Rides per day required for daily pass (scaled):\",rides_day_pass_estimate,'\\n', \n",
    "      \"Rides per month required for monthly pass (scaled):\", rides_month_pass_estimate,'\\n', \n",
    "      \"Rides per year required for annual pass (scaled):\", rides_annual_pass_estimate)"
   ]
  },
  {
   "cell_type": "code",
   "execution_count": 53,
   "metadata": {},
   "outputs": [
    {
     "name": "stdout",
     "output_type": "stream",
     "text": [
      "Estimated passes sold for daily pass: 5229 \n",
      " Estimated passes sold for monthly pass: 18317 \n",
      " Estimated passes sold for annual pass: 287 \n",
      " Total passes sold: 23833\n"
     ]
    }
   ],
   "source": [
    "# Divide total trips by rides required for breakeven per pass duration (day/month/year) to get estimated number\n",
    "# of passholders.\n",
    "\n",
    "passes_sold_day = math.ceil(agg_pass_groups.loc['daily','total_trips']/rides_day_pass_estimate)\n",
    "passes_sold_month = math.ceil(agg_pass_groups.loc['monthly','total_trips']/rides_month_pass_estimate)\n",
    "passes_sold_annual = math.ceil(agg_pass_groups.loc['annual','total_trips']/rides_annual_pass_estimate)\n",
    "passes_sold_total = passes_sold_day + passes_sold_month + passes_sold_annual\n",
    "\n",
    "agg_pass_groups['passes_sold'] = [passes_sold_annual, passes_sold_month, passes_sold_day, 0]\n",
    "\n",
    "print(\"Estimated passes sold for daily pass:\",passes_sold_day,'\\n', \n",
    "      \"Estimated passes sold for monthly pass:\", passes_sold_month,'\\n', \n",
    "      \"Estimated passes sold for annual pass:\", passes_sold_annual,'\\n',\n",
    "     \"Total passes sold:\", passes_sold_total)"
   ]
  },
  {
   "cell_type": "markdown",
   "metadata": {},
   "source": [
    "The total number of estimated passes bought during this period is around 23,833. This is roughly inline with our previous estimate of 20,000.\n",
    "\n",
    "Lets now formulate the objective function for this optimization model to maximum total revenue from pass sales and rides.\n",
    "\n",
    "The total revenue can be split into the following:\n",
    "1. Total revenue from walk up users = Price for 30 minutes of usage * Total 30 minute blocks by walk up users\n",
    "2. Total revenue from day, month pass users = Price for 30 minutes of usage * Total 30 minute blocks after free first 30 minutes\n",
    "3. Total revenue from selling passes = Prices of respective passes * Total passes sold in respective pass types\n",
    "\n",
    "Now we can represent this objective function in PuLP."
   ]
  },
  {
   "cell_type": "code",
   "execution_count": 54,
   "metadata": {},
   "outputs": [
    {
     "data": {
      "text/html": [
       "<div>\n",
       "<style scoped>\n",
       "    .dataframe tbody tr th:only-of-type {\n",
       "        vertical-align: middle;\n",
       "    }\n",
       "\n",
       "    .dataframe tbody tr th {\n",
       "        vertical-align: top;\n",
       "    }\n",
       "\n",
       "    .dataframe thead th {\n",
       "        text-align: right;\n",
       "    }\n",
       "</style>\n",
       "<table border=\"1\" class=\"dataframe\">\n",
       "  <thead>\n",
       "    <tr style=\"text-align: right;\">\n",
       "      <th></th>\n",
       "      <th>total_trips</th>\n",
       "      <th>pay_count_walk_up</th>\n",
       "      <th>total_30min_blocks</th>\n",
       "      <th>total_30min_blocks_post_free</th>\n",
       "      <th>total_minutes</th>\n",
       "      <th>passes_sold</th>\n",
       "      <th>previous_pass_prices</th>\n",
       "      <th>new_pass_prices</th>\n",
       "      <th>average_charged_blocks_per_ride</th>\n",
       "      <th>percent_total_trips</th>\n",
       "    </tr>\n",
       "    <tr>\n",
       "      <th>passholder_type</th>\n",
       "      <th></th>\n",
       "      <th></th>\n",
       "      <th></th>\n",
       "      <th></th>\n",
       "      <th></th>\n",
       "      <th></th>\n",
       "      <th></th>\n",
       "      <th></th>\n",
       "      <th></th>\n",
       "      <th></th>\n",
       "    </tr>\n",
       "  </thead>\n",
       "  <tbody>\n",
       "    <tr>\n",
       "      <th>annual</th>\n",
       "      <td>9175</td>\n",
       "      <td>0.0</td>\n",
       "      <td>10858</td>\n",
       "      <td>1683</td>\n",
       "      <td>143708</td>\n",
       "      <td>287</td>\n",
       "      <td>40</td>\n",
       "      <td>40</td>\n",
       "      <td>0.183433</td>\n",
       "      <td>0.036625</td>\n",
       "    </tr>\n",
       "    <tr>\n",
       "      <th>monthly</th>\n",
       "      <td>146531</td>\n",
       "      <td>0.0</td>\n",
       "      <td>165592</td>\n",
       "      <td>19061</td>\n",
       "      <td>1982585</td>\n",
       "      <td>18317</td>\n",
       "      <td>20</td>\n",
       "      <td>17</td>\n",
       "      <td>0.130082</td>\n",
       "      <td>0.584924</td>\n",
       "    </tr>\n",
       "    <tr>\n",
       "      <th>daily</th>\n",
       "      <td>14640</td>\n",
       "      <td>0.0</td>\n",
       "      <td>38517</td>\n",
       "      <td>23877</td>\n",
       "      <td>937578</td>\n",
       "      <td>5229</td>\n",
       "      <td>7</td>\n",
       "      <td>5</td>\n",
       "      <td>1.630943</td>\n",
       "      <td>0.058440</td>\n",
       "    </tr>\n",
       "    <tr>\n",
       "      <th>walk_up</th>\n",
       "      <td>80167</td>\n",
       "      <td>80167.0</td>\n",
       "      <td>178895</td>\n",
       "      <td>98728</td>\n",
       "      <td>4158810</td>\n",
       "      <td>0</td>\n",
       "      <td>0</td>\n",
       "      <td>0</td>\n",
       "      <td>1.231529</td>\n",
       "      <td>0.320011</td>\n",
       "    </tr>\n",
       "  </tbody>\n",
       "</table>\n",
       "</div>"
      ],
      "text/plain": [
       "                 total_trips  pay_count_walk_up  total_30min_blocks  total_30min_blocks_post_free  total_minutes  passes_sold  previous_pass_prices  new_pass_prices  average_charged_blocks_per_ride  percent_total_trips\n",
       "passholder_type                                                                                                                                                                                                           \n",
       "annual                  9175                0.0               10858                          1683         143708          287                    40               40                         0.183433             0.036625\n",
       "monthly               146531                0.0              165592                         19061        1982585        18317                    20               17                         0.130082             0.584924\n",
       "daily                  14640                0.0               38517                         23877         937578         5229                     7                5                         1.630943             0.058440\n",
       "walk_up                80167            80167.0              178895                         98728        4158810            0                     0                0                         1.231529             0.320011"
      ]
     },
     "execution_count": 54,
     "metadata": {},
     "output_type": "execute_result"
    }
   ],
   "source": [
    "agg_pass_groups['previous_pass_prices'] = [40, 20, 7, 0]\n",
    "agg_pass_groups['new_pass_prices'] = [40,17, 5, 0]\n",
    "agg_pass_groups['average_charged_blocks_per_ride'] = agg_pass_groups['total_30min_blocks_post_free'] / agg_pass_groups['total_trips']\n",
    "agg_pass_groups['percent_total_trips'] = agg_pass_groups['total_trips']/sum(agg_pass_groups['total_trips'])\n",
    "agg_pass_groups"
   ]
  },
  {
   "cell_type": "code",
   "execution_count": 108,
   "metadata": {},
   "outputs": [
    {
     "name": "stdout",
     "output_type": "stream",
     "text": [
      "Stored 'agg_pass_groups' (DataFrame)\n"
     ]
    }
   ],
   "source": [
    "%store agg_pass_groups"
   ]
  },
  {
   "cell_type": "markdown",
   "metadata": {},
   "source": [
    "Let's first run a quick calculation to see what our current total revenue is with the estimated number of passholders over the past year.\n",
    "\n",
    "The old pricing scheme is used here to estimate the price. Here, annual passholders pay \\$40 a year for a flex pass and $1.75 for every half hour. The first half hour is not free."
   ]
  },
  {
   "cell_type": "code",
   "execution_count": 55,
   "metadata": {},
   "outputs": [
    {
     "name": "stdout",
     "output_type": "stream",
     "text": [
      "Total revenue: $ 961924.5\n"
     ]
    }
   ],
   "source": [
    "current_tot_rev = (sum(3.5 * agg_pass_groups['pay_count_walk_up']) \n",
    "                   + sum(1.75 * agg_pass_groups['total_30min_blocks_post_free'])\n",
    "                   + 1.75 * (agg_pass_groups['total_30min_blocks'] ['annual']\n",
    "                                            - agg_pass_groups['total_30min_blocks_post_free']['annual'])\n",
    "                   + sum(agg_pass_groups['passes_sold'] * agg_pass_groups['previous_pass_prices']))\n",
    "print('Total revenue: $', current_tot_rev)"
   ]
  },
  {
   "cell_type": "markdown",
   "metadata": {},
   "source": [
    "### Basic linear optimization with PuLP\n",
    "\n",
    "Let's first try basic linear optimizations with PuLP before moving on to more advanced quadratic programming.\n",
    "\n",
    "While the price and demand relationship is probably the most interesting one, another question that could be asked is if all plans are necessary for revenue maximization. We thus create binary variables for each plan and run a basic optimization over both previous and current price plans.\n",
    "\n",
    "Given that riders have already been complaining about the $3.50 per half hour block rate, any dropping of passes in the past pricing scheme would have led to a precipitous drop in ridership. Furthermore, given the fierce competition in the area of bike and scooter sharing, the dropping of certain passes could simply lead to riders moving to other competitors.\n",
    "\n",
    "We assume a baseline attrition of 30% for each category and adjust the parameters as we run the model."
   ]
  },
  {
   "cell_type": "code",
   "execution_count": 56,
   "metadata": {
    "collapsed": true
   },
   "outputs": [],
   "source": [
    "from pulp import *"
   ]
  },
  {
   "cell_type": "code",
   "execution_count": 57,
   "metadata": {},
   "outputs": [
    {
     "name": "stdout",
     "output_type": "stream",
     "text": [
      "Status: Optimal\n",
      "Optimal Solution to the problem:  1156681.05\n",
      "Individual decision_variables: \n",
      "annual_no = 0.0\n",
      "annual_yes = 1.0\n",
      "day_no = 1.0\n",
      "day_yes = 0.0\n",
      "month_no = 1.0\n",
      "month_yes = 0.0\n"
     ]
    }
   ],
   "source": [
    "previous_walk_up = 3.5\n",
    "previous_pass = 1.75\n",
    "\n",
    "# Model version 1 for previous pricing\n",
    "\n",
    "model_v1 = pulp.LpProblem(\"Revenue Maximization Previous\", pulp.LpMaximize)\n",
    "\n",
    "# List of all binary variables.\n",
    "\n",
    "day_yes = pulp.LpVariable('day_yes', cat='Binary')\n",
    "\n",
    "day_no = pulp.LpVariable('day_no', cat='Binary')\n",
    "\n",
    "month_yes = pulp.LpVariable('month_yes', cat='Binary')\n",
    "\n",
    "month_no = pulp.LpVariable('month_no', cat='Binary')\n",
    "\n",
    "annual_yes = pulp.LpVariable('annual_yes', cat='Binary')\n",
    "\n",
    "annual_no = pulp.LpVariable('annual_no', cat='Binary')\n",
    "\n",
    "# Objective function.\n",
    "# Revenue for walk ups\n",
    "walk_up_rev_block = previous_walk_up * agg_pass_groups.loc['walk_up','total_30min_blocks']\n",
    "\n",
    "# Revenue for pass sales.\n",
    "trip_rev_day_pass = agg_pass_groups.loc['daily', 'total_30min_blocks_post_free'] * day_yes * previous_pass\n",
    "trip_rev_month_pass = agg_pass_groups.loc['monthly', 'total_30min_blocks_post_free'] * month_yes * previous_pass\n",
    "trip_rev_annual_pass = agg_pass_groups.loc['annual', 'total_30min_blocks'] * annual_yes * previous_pass\n",
    "\n",
    "# Revenue for pass sales is pass is cancelled.\n",
    "trip_rev_day_no_pass = agg_pass_groups.loc['daily', 'total_30min_blocks'] * previous_walk_up * day_no * 0.7\n",
    "trip_rev_month_no_pass = agg_pass_groups.loc['monthly', 'total_30min_blocks'] * previous_walk_up * month_no * 0.7\n",
    "trip_rev_annual_no_pass = agg_pass_groups.loc['annual', 'total_30min_blocks'] * previous_walk_up * annual_no * 0.7\n",
    "\n",
    "# Revenue for sales of passes.\n",
    "pass_sales_rev_day = (day_yes * agg_pass_groups.loc['daily','previous_pass_prices'] \n",
    "                      * agg_pass_groups.loc['daily','passes_sold'])\n",
    "pass_sales_rev_month = (month_yes * agg_pass_groups.loc['monthly','previous_pass_prices'] \n",
    "                        * agg_pass_groups.loc['monthly','passes_sold'])\n",
    "pass_sales_rev_annual = (annual_yes * agg_pass_groups.loc['annual','previous_pass_prices'] \n",
    "                         * agg_pass_groups.loc['annual','passes_sold'])\n",
    "\n",
    "# Adding objective function to model\n",
    "model_v1 += pulp.lpSum(walk_up_rev_block + trip_rev_day_pass + trip_rev_day_no_pass + trip_rev_month_pass \n",
    "                       + trip_rev_month_no_pass + trip_rev_annual_pass + trip_rev_annual_no_pass \n",
    "                       + pass_sales_rev_day + pass_sales_rev_month + pass_sales_rev_annual)\n",
    "\n",
    "# Constraints such that only one of each binary pair can be true.\n",
    "model_v1 += day_yes + day_no == 1\n",
    "model_v1 += month_yes + month_no == 1\n",
    "model_v1 += annual_yes + annual_no == 1\n",
    "\n",
    "optimization_result = model_v1.solve()\n",
    "\n",
    "assert optimization_result == pulp.LpStatusOptimal\n",
    "print(\"Status:\", LpStatus[model_v1.status])\n",
    "print(\"Optimal Solution to the problem: \", value(model_v1.objective))\n",
    "print (\"Individual decision_variables: \")\n",
    "for v in model_v1.variables():\n",
    "\tprint(v.name, \"=\", v.varValue)"
   ]
  },
  {
   "cell_type": "code",
   "execution_count": 58,
   "metadata": {},
   "outputs": [
    {
     "name": "stdout",
     "output_type": "stream",
     "text": [
      "Revenue Maximization Previous:\n",
      "MAXIMIZE\n",
      "26602.1*annual_no + 30481.5*annual_yes + 94366.65*day_no + 78387.75*day_yes + 405700.39999999997*month_no + 399696.75*month_yes + 626132.5\n",
      "SUBJECT TO\n",
      "_C1: day_no + day_yes = 1\n",
      "\n",
      "_C2: month_no + month_yes = 1\n",
      "\n",
      "_C3: annual_no + annual_yes = 1\n",
      "\n",
      "VARIABLES\n",
      "0 <= annual_no <= 1 Integer\n",
      "0 <= annual_yes <= 1 Integer\n",
      "0 <= day_no <= 1 Integer\n",
      "0 <= day_yes <= 1 Integer\n",
      "0 <= month_no <= 1 Integer\n",
      "0 <= month_yes <= 1 Integer\n",
      "\n"
     ]
    }
   ],
   "source": [
    "print(model_v1)"
   ]
  },
  {
   "cell_type": "markdown",
   "metadata": {},
   "source": [
    "After adjusting some parameters and attrition rates, we arrive at the following:   \n",
    "\n",
    "Day plans should be dropped if sales drop by less than 41% from the cancellation.   \n",
    "Monthly plans should be dropped if sales drop by less than 31% from the cancellation.   \n",
    "Annual plans should be dropped if sales drop by less than 19% from the cancellation.   \n",
    "   \n",
    "Total revenue at these edge attrition rates yield us an optimized $ 1,136,357 total revenue.   \n",
    "\n",
    "Let's now repeat the same scheme for the current pricing where rates have been halved.    \n",
    "As the new annual pricing scheme is completely separate from the previous annual (flex) pass, we maintain the $40 annual pass price. The $150 price is factored into later optimizations."
   ]
  },
  {
   "cell_type": "code",
   "execution_count": 59,
   "metadata": {},
   "outputs": [
    {
     "name": "stdout",
     "output_type": "stream",
     "text": [
      "Status: Optimal\n",
      "Optimal Solution to the problem:  1053249.14\n",
      "Individual decision_variables: \n",
      "annual_no = 1.0\n",
      "annual_yes = 0.0\n",
      "day_no = 0.0\n",
      "day_yes = 1.0\n",
      "month_no = 0.0\n",
      "month_yes = 1.0\n"
     ]
    }
   ],
   "source": [
    "current_walk_up = 1.75\n",
    "current_pass = 1.75\n",
    "\n",
    "# Model version 2 for current pricing\n",
    "\n",
    "model_v2 = pulp.LpProblem(\"Revenue Maximization Previous\", pulp.LpMaximize)\n",
    "\n",
    "# List of all binary variables.\n",
    "\n",
    "day_yes = pulp.LpVariable('day_yes', cat='Binary')\n",
    "\n",
    "day_no = pulp.LpVariable('day_no', cat='Binary')\n",
    "\n",
    "month_yes = pulp.LpVariable('month_yes', cat='Binary')\n",
    "\n",
    "month_no = pulp.LpVariable('month_no', cat='Binary')\n",
    "\n",
    "annual_yes = pulp.LpVariable('annual_yes', cat='Binary')\n",
    "\n",
    "annual_no = pulp.LpVariable('annual_no', cat='Binary')\n",
    "\n",
    "# Objective function.\n",
    "# revenue for walk ups\n",
    "walk_up_rev_block = price_wo_pass * agg_pass_groups.loc['walk_up','total_30min_blocks']\n",
    "\n",
    "# Revenue for passholders.\n",
    "trip_rev_day_pass = agg_pass_groups.loc['daily', 'total_30min_blocks_post_free'] * day_yes * current_pass\n",
    "trip_rev_month_pass = agg_pass_groups.loc['monthly', 'total_30min_blocks_post_free'] * month_yes * current_pass\n",
    "trip_rev_annual_pass = agg_pass_groups.loc['annual', 'total_30min_blocks_post_free'] * annual_yes * current_pass\n",
    "\n",
    "# Revenue for passholders if no passes available.\n",
    "trip_rev_day_no_pass = agg_pass_groups.loc['daily', 'total_30min_blocks'] * current_walk_up * day_no\n",
    "trip_rev_month_no_pass = agg_pass_groups.loc['monthly', 'total_30min_blocks'] * current_walk_up * month_no\n",
    "trip_rev_annual_no_pass = agg_pass_groups.loc['annual', 'total_30min_blocks'] * current_walk_up * annual_no * 0.76\n",
    "\n",
    "# Revenue for sales of passes.\n",
    "pass_sales_rev_day = (day_yes * agg_pass_groups.loc['daily','new_pass_prices'] \n",
    "                      * agg_pass_groups.loc['daily','passes_sold'])\n",
    "pass_sales_rev_month = (month_yes * agg_pass_groups.loc['monthly','new_pass_prices'] \n",
    "                        * agg_pass_groups.loc['monthly','passes_sold'])\n",
    "pass_sales_rev_annual = (annual_yes * agg_pass_groups.loc['annual','new_pass_prices'] \n",
    "                         * agg_pass_groups.loc['annual','passes_sold'])\n",
    "\n",
    "# Adding objective function to model\n",
    "model_v2 += pulp.lpSum(walk_up_rev_block + trip_rev_day_pass + trip_rev_day_no_pass + trip_rev_month_pass \n",
    "                       + trip_rev_month_no_pass + trip_rev_annual_pass + trip_rev_annual_no_pass \n",
    "                       + pass_sales_rev_day + pass_sales_rev_month + pass_sales_rev_annual)\n",
    "\n",
    "# Constraints such that only one of each binary pair can be true.\n",
    "model_v2 += day_yes + day_no == 1\n",
    "model_v2 += month_yes + month_no == 1\n",
    "model_v2 += annual_yes + annual_no == 1\n",
    "\n",
    "optimization_result = model_v2.solve()\n",
    "\n",
    "assert optimization_result == pulp.LpStatusOptimal\n",
    "print(\"Status:\", LpStatus[model_v2.status])\n",
    "print(\"Optimal Solution to the problem: \", value(model_v2.objective))\n",
    "print (\"Individual decision_variables: \")\n",
    "for v in model_v2.variables():\n",
    "\tprint(v.name, \"=\", v.varValue)"
   ]
  },
  {
   "cell_type": "markdown",
   "metadata": {},
   "source": [
    "Given the drastic measure of slashing half hour rates by half to $ 1.75, it is unlikely for attrition to be as high should any plan be cancelled.   \n",
    "Furthermore, the current optimum solution suggests that even if there was no attrition and we could charge every pass holder by the walk-up price, the daily and monthly passes should be kept.   \n",
    "The annual plan, on the other hand, should only be kept if more than 25% of annual pass holders attrit upon a plan cancellation. Given that annual pass holders are the least likely to attrit as they probably do require the service for commuting if they paid for the pass, LA Metro's recent decision to axe this annual (Flex) plan could well be the right move."
   ]
  },
  {
   "cell_type": "markdown",
   "metadata": {},
   "source": [
    "### Quadratic Optimization\n",
    "\n",
    "Judging from the above linear optimization results, we keep the daily and monthly plans in our pricing scheme. We will also replace the previous annual (Flex) plan with the new plan costing $150 per annum.\n",
    "\n",
    "We now move on to quadratic optimization for two main factors: price and number of rides. If we had simply run a linear optimization with an upper bound for price, the model would intuitively move towards the upper bound for our optimization problem.\n",
    "\n",
    "We would thus need to factor in a demand curve that would vary total rides taken along with the price charged for each half hour block."
   ]
  },
  {
   "cell_type": "markdown",
   "metadata": {},
   "source": [
    "### Demand curve estimation\n",
    "\n",
    "It was during the end of this write-up that 2018 Q3 figures were released for LA Metro Bikes. It might just be an additional data point but we can now fit a rudimentary linear demand curve for model constraints to allow price and demand to fluctuate.\n",
    "\n",
    "2018 Q2 was the last datapoint before the price change and 2018 Q3 was the first after. We set y as price for every 30 minute ride and x as the total number of riders in that quarter."
   ]
  },
  {
   "cell_type": "code",
   "execution_count": 60,
   "metadata": {},
   "outputs": [
    {
     "name": "stdout",
     "output_type": "stream",
     "text": [
      "The linear function from two data points is: y = -9.762356353899364e-05 x + 11.05186600468593\n",
      "Where y = price for half hour block\n",
      "      x = rides in fiscal quarter\n"
     ]
    }
   ],
   "source": [
    "x1 = 77357\n",
    "x2 = 95283\n",
    "y1 = 3.5\n",
    "y2 = 1.75\n",
    "\n",
    "slope = (y2-y1)/(x2-x1)\n",
    "intercept = y2 - x2 * slope\n",
    "\n",
    "def print_func(slope, intercept):\n",
    "    print('The linear function from two data points is: y =',slope,'x +',intercept)\n",
    "    print('Where y = price for half hour block\\n      x = rides in fiscal quarter')\n",
    "\n",
    "print_func(slope, intercept)"
   ]
  },
  {
   "cell_type": "markdown",
   "metadata": {},
   "source": [
    "### Demand curves by customer segments\n",
    "\n",
    "What if we broke down demand by customer segments?\n",
    "\n",
    "We start by creating grouped tables across 2018 Q2 and 2018 Q3."
   ]
  },
  {
   "cell_type": "code",
   "execution_count": 61,
   "metadata": {},
   "outputs": [
    {
     "data": {
      "text/html": [
       "<div>\n",
       "<style scoped>\n",
       "    .dataframe tbody tr th:only-of-type {\n",
       "        vertical-align: middle;\n",
       "    }\n",
       "\n",
       "    .dataframe tbody tr th {\n",
       "        vertical-align: top;\n",
       "    }\n",
       "\n",
       "    .dataframe thead th {\n",
       "        text-align: right;\n",
       "    }\n",
       "</style>\n",
       "<table border=\"1\" class=\"dataframe\">\n",
       "  <thead>\n",
       "    <tr style=\"text-align: right;\">\n",
       "      <th></th>\n",
       "      <th>total_trips</th>\n",
       "      <th>total_minutes</th>\n",
       "      <th>percent_total_trips</th>\n",
       "    </tr>\n",
       "    <tr>\n",
       "      <th>passholder_type</th>\n",
       "      <th></th>\n",
       "      <th></th>\n",
       "      <th></th>\n",
       "    </tr>\n",
       "  </thead>\n",
       "  <tbody>\n",
       "    <tr>\n",
       "      <th>Flex Pass</th>\n",
       "      <td>2420</td>\n",
       "      <td>44561</td>\n",
       "      <td>0.031284</td>\n",
       "    </tr>\n",
       "    <tr>\n",
       "      <th>Monthly Pass</th>\n",
       "      <td>44032</td>\n",
       "      <td>746889</td>\n",
       "      <td>0.569205</td>\n",
       "    </tr>\n",
       "    <tr>\n",
       "      <th>One Day Pass</th>\n",
       "      <td>5020</td>\n",
       "      <td>354571</td>\n",
       "      <td>0.064894</td>\n",
       "    </tr>\n",
       "    <tr>\n",
       "      <th>Walk-up</th>\n",
       "      <td>25885</td>\n",
       "      <td>1699647</td>\n",
       "      <td>0.334617</td>\n",
       "    </tr>\n",
       "  </tbody>\n",
       "</table>\n",
       "</div>"
      ],
      "text/plain": [
       "                 total_trips  total_minutes  percent_total_trips\n",
       "passholder_type                                                 \n",
       "Flex Pass               2420          44561             0.031284\n",
       "Monthly Pass           44032         746889             0.569205\n",
       "One Day Pass            5020         354571             0.064894\n",
       "Walk-up                25885        1699647             0.334617"
      ]
     },
     "execution_count": 61,
     "metadata": {},
     "output_type": "execute_result"
    }
   ],
   "source": [
    "new_data = pd.read_csv('../data/external/2018Q3.csv')\n",
    "old_data = pd.read_csv('../data/external/2018Q2.csv')\n",
    "\n",
    "new_riders = new_data.groupby('passholder_type').agg({\n",
    "    'trip_id' : 'count',\n",
    "    'duration' : 'sum'\n",
    "}).rename(columns = {\n",
    "    'trip_id':'total_trips',\n",
    "    'duration':'total_minutes'\n",
    "})\n",
    "\n",
    "\n",
    "old_riders= old_data.groupby('passholder_type').agg({\n",
    "    'trip_id' : 'count',\n",
    "    'duration' : 'sum'\n",
    "}).rename(columns = {\n",
    "    'trip_id':'total_trips',\n",
    "    'duration':'total_minutes'\n",
    "})\n",
    "\n",
    "old_riders['percent_total_trips'] = old_riders['total_trips']/sum(old_riders['total_trips'])\n",
    "\n",
    "new_riders['percent_total_trips'] = new_riders['total_trips']/sum(new_riders['total_trips'])\n",
    "\n",
    "old_riders"
   ]
  },
  {
   "cell_type": "code",
   "execution_count": 62,
   "metadata": {},
   "outputs": [
    {
     "data": {
      "text/html": [
       "<div>\n",
       "<style scoped>\n",
       "    .dataframe tbody tr th:only-of-type {\n",
       "        vertical-align: middle;\n",
       "    }\n",
       "\n",
       "    .dataframe tbody tr th {\n",
       "        vertical-align: top;\n",
       "    }\n",
       "\n",
       "    .dataframe thead th {\n",
       "        text-align: right;\n",
       "    }\n",
       "</style>\n",
       "<table border=\"1\" class=\"dataframe\">\n",
       "  <thead>\n",
       "    <tr style=\"text-align: right;\">\n",
       "      <th></th>\n",
       "      <th>total_trips</th>\n",
       "      <th>total_minutes</th>\n",
       "      <th>percent_total_trips</th>\n",
       "    </tr>\n",
       "    <tr>\n",
       "      <th>passholder_type</th>\n",
       "      <th></th>\n",
       "      <th></th>\n",
       "      <th></th>\n",
       "    </tr>\n",
       "  </thead>\n",
       "  <tbody>\n",
       "    <tr>\n",
       "      <th>Annual Pass</th>\n",
       "      <td>12</td>\n",
       "      <td>1459</td>\n",
       "      <td>0.000126</td>\n",
       "    </tr>\n",
       "    <tr>\n",
       "      <th>Flex Pass</th>\n",
       "      <td>1577</td>\n",
       "      <td>31684</td>\n",
       "      <td>0.016551</td>\n",
       "    </tr>\n",
       "    <tr>\n",
       "      <th>Monthly Pass</th>\n",
       "      <td>43967</td>\n",
       "      <td>883475</td>\n",
       "      <td>0.461436</td>\n",
       "    </tr>\n",
       "    <tr>\n",
       "      <th>One Day Pass</th>\n",
       "      <td>4737</td>\n",
       "      <td>361091</td>\n",
       "      <td>0.049715</td>\n",
       "    </tr>\n",
       "    <tr>\n",
       "      <th>Walk-up</th>\n",
       "      <td>44990</td>\n",
       "      <td>3326240</td>\n",
       "      <td>0.472172</td>\n",
       "    </tr>\n",
       "  </tbody>\n",
       "</table>\n",
       "</div>"
      ],
      "text/plain": [
       "                 total_trips  total_minutes  percent_total_trips\n",
       "passholder_type                                                 \n",
       "Annual Pass               12           1459             0.000126\n",
       "Flex Pass               1577          31684             0.016551\n",
       "Monthly Pass           43967         883475             0.461436\n",
       "One Day Pass            4737         361091             0.049715\n",
       "Walk-up                44990        3326240             0.472172"
      ]
     },
     "execution_count": 62,
     "metadata": {},
     "output_type": "execute_result"
    }
   ],
   "source": [
    "new_riders"
   ]
  },
  {
   "cell_type": "markdown",
   "metadata": {},
   "source": [
    "We can see the new annual pass hasn't quite caught on yet, with only 12 passes sold in the pass quarter. The $150 price point might be a little steep up front. \n",
    "\n",
    "It is also interesting to note how the price drop hasn't really impacted any of the pass holders but has almost doubled the number of walk-up riders.\n",
    "\n",
    "Let's see what the other demand curves look like."
   ]
  },
  {
   "cell_type": "code",
   "execution_count": 63,
   "metadata": {},
   "outputs": [
    {
     "name": "stdout",
     "output_type": "stream",
     "text": [
      "Walk up demand function estimate\n",
      "The linear function from two data points is: y = -9.159905783826223e-05 x + 5.871041612143418\n",
      "Where y = price for half hour block\n",
      "      x = rides in fiscal quarter\n",
      "\n",
      "\n",
      "Daily pass demand function estimate\n",
      "The linear function from two data points is: y = 0.006183745583038869 x + -27.542402826855124\n",
      "Where y = price for half hour block\n",
      "      x = rides in fiscal quarter\n",
      "\n",
      "\n",
      "Monthly pass demand function estimate\n",
      "The linear function from two data points is: y = 0.026923076923076925 x + -1181.9769230769232\n",
      "Where y = price for half hour block\n",
      "      x = rides in fiscal quarter\n",
      "\n",
      "\n",
      "Annual(Flex) pass demand function estimate\n",
      "The linear function from two data points is: y = 0.0020759193357058124 x + -1.5237247924080664\n",
      "Where y = price for half hour block\n",
      "      x = rides in fiscal quarter\n"
     ]
    }
   ],
   "source": [
    "slope_walk_up = (1.75-3.5) / (new_riders['total_trips']['Walk-up']-old_riders['total_trips']['Walk-up'])\n",
    "slope_daily = (1.75-3.5) / (new_riders['total_trips']['One Day Pass']-old_riders['total_trips']['One Day Pass'])\n",
    "slope_monthly = (1.75-3.5) / (new_riders['total_trips']['Monthly Pass']-old_riders['total_trips']['Monthly Pass'])\n",
    "slope_annual = (1.75-3.5) / (new_riders['total_trips']['Flex Pass']-old_riders['total_trips']['Flex Pass'])\n",
    "\n",
    "intercept_walk_up = 1.75 - new_riders['total_trips']['Walk-up'] * slope_walk_up\n",
    "intercept_daily = 1.75 - new_riders['total_trips']['One Day Pass'] * slope_daily\n",
    "intercept_monthly = 1.75 - new_riders['total_trips']['Monthly Pass'] * slope_monthly\n",
    "intercept_annual = 1.75 - new_riders['total_trips']['Flex Pass'] * slope_annual\n",
    "\n",
    "print('Walk up demand function estimate')\n",
    "print_func(slope_walk_up, intercept_walk_up)   \n",
    "print('\\n')\n",
    "print('Daily pass demand function estimate')\n",
    "print_func(slope_daily, intercept_daily)   \n",
    "print('\\n')\n",
    "print('Monthly pass demand function estimate')\n",
    "print_func(slope_monthly, intercept_monthly)\n",
    "print('\\n')\n",
    "print('Annual(Flex) pass demand function estimate')\n",
    "print_func(slope_annual, intercept_annual)"
   ]
  },
  {
   "cell_type": "code",
   "execution_count": 64,
   "metadata": {},
   "outputs": [
    {
     "data": {
      "text/plain": [
       "<matplotlib.legend.Legend at 0x1a175b52e8>"
      ]
     },
     "execution_count": 64,
     "metadata": {},
     "output_type": "execute_result"
    },
    {
     "data": {
      "image/png": "[encoded data removed]",
      "text/plain": [
       "<matplotlib.figure.Figure at 0x1a2039bfd0>"
      ]
     },
     "metadata": {},
     "output_type": "display_data"
    }
   ],
   "source": [
    "def walk_up_demand(x):\n",
    "    return slope_walk_up * x + intercept_walk_up\n",
    "\n",
    "def daily_demand(x):\n",
    "    return slope_daily * x + intercept_daily\n",
    "\n",
    "def monthly_demand(x):\n",
    "    return slope_monthly * x + intercept_monthly\n",
    "\n",
    "def annual_demand(x):\n",
    "    return slope_annual * x + intercept_annual\n",
    "\n",
    "q = np.linspace(0,50000)\n",
    "fig, axes = plt.subplots(figsize=(10,5))\n",
    "plt.plot(q, walk_up_demand(q), label = 'Walk up')\n",
    "plt.plot(q, daily_demand(q), label = 'Daily')\n",
    "plt.plot(q, monthly_demand(q), label = 'Monthly')\n",
    "plt.plot(q, annual_demand(q), label = 'Annual')\n",
    "plt.title('Demand curves across customer segments', size=15)\n",
    "plt.xlabel('Number of rides')\n",
    "plt.ylabel('Price per half hour block')\n",
    "plt.ylim(0,5)\n",
    "plt.legend()"
   ]
  },
  {
   "cell_type": "code",
   "execution_count": null,
   "metadata": {
    "collapsed": true
   },
   "outputs": [],
   "source": []
  },
  {
   "cell_type": "code",
   "execution_count": null,
   "metadata": {
    "collapsed": true
   },
   "outputs": [],
   "source": []
  },
  {
   "cell_type": "markdown",
   "metadata": {},
   "source": [
    "### Common start end station pairings"
   ]
  },
  {
   "cell_type": "code",
   "execution_count": 65,
   "metadata": {
    "collapsed": true
   },
   "outputs": [],
   "source": [
    "from collections import Counter"
   ]
  },
  {
   "cell_type": "code",
   "execution_count": 66,
   "metadata": {
    "collapsed": true
   },
   "outputs": [],
   "source": [
    "station_pairings = list(zip(rides_df['start_station'], rides_df['end_station']))"
   ]
  },
  {
   "cell_type": "code",
   "execution_count": 67,
   "metadata": {
    "collapsed": true
   },
   "outputs": [],
   "source": [
    "top30_pairs = Counter(station_pairings).most_common(30)"
   ]
  },
  {
   "cell_type": "code",
   "execution_count": 68,
   "metadata": {
    "collapsed": true
   },
   "outputs": [],
   "source": [
    "def get_pair_address(tup):\n",
    "    start_add = rides_df['start_address'][rides_df['start_station'] == tup[0][0]].iloc[0]\n",
    "    end_add = rides_df['end_address'][rides_df['end_station'] == tup[0][1]].iloc[0]\n",
    "    return(start_add, end_add)"
   ]
  },
  {
   "cell_type": "code",
   "execution_count": 69,
   "metadata": {},
   "outputs": [
    {
     "data": {
      "text/plain": [
       "[('Ocean Front Walk @ Navy St', 'Ocean Front Walk @ Navy St'),\n",
       " ('2100 Ocean Front Walk', '2100 Ocean Front Walk'),\n",
       " ('Ocean Front Walk @ Navy St', '1621 4th St'),\n",
       " ('2100 Ocean Front Walk', '1621 4th St'),\n",
       " ('1001 Rose Bowl Dr', '1001 Rose Bowl Dr'),\n",
       " ('1621 4th St', '1621 4th St'),\n",
       " ('120 S Main Street', '834 N Alameda St'),\n",
       " ('834 N Alameda St', '120 S Main Street'),\n",
       " ('Ocean Front Walk @ Navy St', '2100 Ocean Front Walk'),\n",
       " ('2100 Ocean Front Walk', 'Ocean Front Walk @ Navy St'),\n",
       " ('3700 Shoshonean Rd', '3700 Shoshonean Rd'),\n",
       " ('1621 4th St', 'Ocean Front Walk @ Navy St'),\n",
       " ('201 W 7th Street', '723 Flower Street'),\n",
       " ('723 Flower Street', '201 W 7th Street'),\n",
       " ('200 Rose Ave', '200 Rose Ave'),\n",
       " ('2100 Pacific Ave', '2100 Pacific Ave'),\n",
       " ('140 Windward Ave', '1621 4th St'),\n",
       " ('140 Windward Ave', '140 Windward Ave'),\n",
       " ('1222 Abbot Kinney Blvd', '1222 Abbot Kinney Blvd'),\n",
       " ('200 Rose Ave', '1621 4th St'),\n",
       " ('1621 4th St', '2100 Ocean Front Walk'),\n",
       " ('1210 East 5th Street', '1210 East 5th Street'),\n",
       " ('110 E 6th St', '110 E 6th St'),\n",
       " ('2100 Pacific Ave', '1621 4th St'),\n",
       " ('599 Traction Ave', '599 Traction Ave'),\n",
       " ('723 Flower Street', '723 Flower Street'),\n",
       " ('700 S Grand Ave', '201 W 7th Street'),\n",
       " ('199 Regan St', '199 Regan St'),\n",
       " ('201 W 7th Street', '700 S Grand Ave'),\n",
       " ('1621 4th St', '200 Rose Ave')]"
      ]
     },
     "execution_count": 69,
     "metadata": {},
     "output_type": "execute_result"
    }
   ],
   "source": [
    "[get_pair_address(pair) for pair in top30_pairs]"
   ]
  },
  {
   "cell_type": "code",
   "execution_count": null,
   "metadata": {
    "collapsed": true
   },
   "outputs": [],
   "source": []
  },
  {
   "cell_type": "code",
   "execution_count": null,
   "metadata": {
    "collapsed": true
   },
   "outputs": [],
   "source": []
  },
  {
   "cell_type": "code",
   "execution_count": null,
   "metadata": {
    "collapsed": true
   },
   "outputs": [],
   "source": []
  },
  {
   "cell_type": "code",
   "execution_count": null,
   "metadata": {
    "collapsed": true
   },
   "outputs": [],
   "source": []
  },
  {
   "cell_type": "code",
   "execution_count": null,
   "metadata": {
    "collapsed": true
   },
   "outputs": [],
   "source": []
  },
  {
   "cell_type": "code",
   "execution_count": null,
   "metadata": {
    "collapsed": true
   },
   "outputs": [],
   "source": []
  },
  {
   "cell_type": "markdown",
   "metadata": {},
   "source": [
    "### Common time periods"
   ]
  },
  {
   "cell_type": "code",
   "execution_count": 70,
   "metadata": {
    "collapsed": true
   },
   "outputs": [],
   "source": [
    "%matplotlib inline\n",
    "x = sorted(list(zip(rides_df['start_hour'].value_counts().keys(), rides_df['start_hour'].value_counts())))"
   ]
  },
  {
   "cell_type": "code",
   "execution_count": 71,
   "metadata": {},
   "outputs": [
    {
     "data": {
      "text/plain": [
       "<Container object of 24 artists>"
      ]
     },
     "execution_count": 71,
     "metadata": {},
     "output_type": "execute_result"
    },
    {
     "data": {
      "image/png": "[encoded data removed]",
      "text/plain": [
       "<matplotlib.figure.Figure at 0x1a17551eb8>"
      ]
     },
     "metadata": {},
     "output_type": "display_data"
    }
   ],
   "source": [
    "plt.bar(*zip(*x))"
   ]
  },
  {
   "cell_type": "code",
   "execution_count": 72,
   "metadata": {},
   "outputs": [
    {
     "data": {
      "text/plain": [
       "<matplotlib.axes._subplots.AxesSubplot at 0x1a24e8ae10>"
      ]
     },
     "execution_count": 72,
     "metadata": {},
     "output_type": "execute_result"
    },
    {
     "data": {
      "image/png": "[encoded data removed]",
      "text/plain": [
       "<matplotlib.figure.Figure at 0x1a24ea6cc0>"
      ]
     },
     "metadata": {},
     "output_type": "display_data"
    }
   ],
   "source": [
    "sb.barplot(x=list(list(zip(*x))[0]),\n",
    "           y=list(list(zip(*x))[1]),\n",
    "          color = 'aquamarine')"
   ]
  },
  {
   "cell_type": "markdown",
   "metadata": {},
   "source": [
    "### Heatmaps for different time periods"
   ]
  },
  {
   "cell_type": "code",
   "execution_count": null,
   "metadata": {
    "collapsed": true
   },
   "outputs": [],
   "source": []
  },
  {
   "cell_type": "markdown",
   "metadata": {},
   "source": [
    "### Start/end station correlation with available docks"
   ]
  },
  {
   "cell_type": "code",
   "execution_count": null,
   "metadata": {
    "collapsed": true
   },
   "outputs": [],
   "source": []
  },
  {
   "cell_type": "code",
   "execution_count": null,
   "metadata": {
    "collapsed": true
   },
   "outputs": [],
   "source": []
  },
  {
   "cell_type": "code",
   "execution_count": null,
   "metadata": {
    "collapsed": true
   },
   "outputs": [],
   "source": []
  },
  {
   "cell_type": "code",
   "execution_count": null,
   "metadata": {
    "collapsed": true
   },
   "outputs": [],
   "source": []
  },
  {
   "cell_type": "code",
   "execution_count": null,
   "metadata": {
    "collapsed": true
   },
   "outputs": [],
   "source": []
  },
  {
   "cell_type": "code",
   "execution_count": null,
   "metadata": {
    "collapsed": true
   },
   "outputs": [],
   "source": []
  },
  {
   "cell_type": "code",
   "execution_count": null,
   "metadata": {
    "collapsed": true
   },
   "outputs": [],
   "source": []
  },
  {
   "cell_type": "markdown",
   "metadata": {},
   "source": [
    "### Active businesses\n",
    "\n",
    "https://data.lacity.org/A-Prosperous-City/Listing-of-Active-Businesses/6rrh-rzua"
   ]
  },
  {
   "cell_type": "code",
   "execution_count": 73,
   "metadata": {
    "collapsed": true
   },
   "outputs": [],
   "source": [
    "# reading in csv file of active businesses, could be outside of LA\n",
    "business_df = pd.read_csv('../data/external/active_businesses.csv')"
   ]
  },
  {
   "cell_type": "code",
   "execution_count": 74,
   "metadata": {},
   "outputs": [
    {
     "data": {
      "text/html": [
       "<div>\n",
       "<style scoped>\n",
       "    .dataframe tbody tr th:only-of-type {\n",
       "        vertical-align: middle;\n",
       "    }\n",
       "\n",
       "    .dataframe tbody tr th {\n",
       "        vertical-align: top;\n",
       "    }\n",
       "\n",
       "    .dataframe thead th {\n",
       "        text-align: right;\n",
       "    }\n",
       "</style>\n",
       "<table border=\"1\" class=\"dataframe\">\n",
       "  <thead>\n",
       "    <tr style=\"text-align: right;\">\n",
       "      <th></th>\n",
       "      <th>LOCATION ACCOUNT #</th>\n",
       "      <th>BUSINESS NAME</th>\n",
       "      <th>DBA NAME</th>\n",
       "      <th>STREET ADDRESS</th>\n",
       "      <th>CITY</th>\n",
       "      <th>ZIP CODE</th>\n",
       "      <th>LOCATION DESCRIPTION</th>\n",
       "      <th>MAILING ADDRESS</th>\n",
       "      <th>MAILING CITY</th>\n",
       "      <th>MAILING ZIP CODE</th>\n",
       "      <th>NAICS</th>\n",
       "      <th>PRIMARY NAICS DESCRIPTION</th>\n",
       "      <th>COUNCIL DISTRICT</th>\n",
       "      <th>LOCATION START DATE</th>\n",
       "      <th>LOCATION END DATE</th>\n",
       "      <th>LOCATION</th>\n",
       "    </tr>\n",
       "  </thead>\n",
       "  <tbody>\n",
       "    <tr>\n",
       "      <th>0</th>\n",
       "      <td>0000000115-0001-3</td>\n",
       "      <td>VINCENZO LABELLA</td>\n",
       "      <td>NaN</td>\n",
       "      <td>521 SWARTHMORE AVENUE</td>\n",
       "      <td>PACIFIC PALISADES</td>\n",
       "      <td>90272-4350</td>\n",
       "      <td>521 SWARTHMORE 90272-4350</td>\n",
       "      <td>521 SWARTHMORE AVENUE</td>\n",
       "      <td>PACIFIC PALISADES</td>\n",
       "      <td>90272-4350</td>\n",
       "      <td>561500.0</td>\n",
       "      <td>Travel arrangement &amp; reservation services</td>\n",
       "      <td>11</td>\n",
       "      <td>01/01/1990</td>\n",
       "      <td>NaN</td>\n",
       "      <td>NaN</td>\n",
       "    </tr>\n",
       "    <tr>\n",
       "      <th>1</th>\n",
       "      <td>0000000150-0001-5</td>\n",
       "      <td>A A OFICINA CENTRAL HISPANA DE LOS ANGELES /C</td>\n",
       "      <td>NaN</td>\n",
       "      <td>2015 W TEMPLE STREET</td>\n",
       "      <td>LOS ANGELES</td>\n",
       "      <td>90026-4913</td>\n",
       "      <td>2015 TEMPLE 90026-4913</td>\n",
       "      <td>2607 VAN BUREN PLACE</td>\n",
       "      <td>LOS ANGELES</td>\n",
       "      <td>90007-2129</td>\n",
       "      <td>611000.0</td>\n",
       "      <td>Educational services (including schools, colle...</td>\n",
       "      <td>13</td>\n",
       "      <td>01/01/1991</td>\n",
       "      <td>NaN</td>\n",
       "      <td>NaN</td>\n",
       "    </tr>\n",
       "    <tr>\n",
       "      <th>2</th>\n",
       "      <td>0000000156-0001-2</td>\n",
       "      <td>SPRINGBOARD NON-PROFIT CONSUMER CREDIT MANAGEMENT</td>\n",
       "      <td>MONEY MANAGEMENT INTERNATIONAL</td>\n",
       "      <td>1605 W OLYMPIC BLVD #9023</td>\n",
       "      <td>LOS ANGELES</td>\n",
       "      <td>90015-3828</td>\n",
       "      <td>1605 OLYMPIC 90015-3828</td>\n",
       "      <td>NaN</td>\n",
       "      <td>NaN</td>\n",
       "      <td>NaN</td>\n",
       "      <td>523900.0</td>\n",
       "      <td>Other financial investment activities (includi...</td>\n",
       "      <td>1</td>\n",
       "      <td>02/01/1999</td>\n",
       "      <td>NaN</td>\n",
       "      <td>NaN</td>\n",
       "    </tr>\n",
       "    <tr>\n",
       "      <th>3</th>\n",
       "      <td>0000000225-0001-5</td>\n",
       "      <td>STRATEGIC CONCEPTS IN ORGANIZING AND POLICY ED...</td>\n",
       "      <td>NaN</td>\n",
       "      <td>1715 W FLORENCE AVENUE</td>\n",
       "      <td>LOS ANGELES</td>\n",
       "      <td>90047-2220</td>\n",
       "      <td>1715 FLORENCE 90047-2220</td>\n",
       "      <td>NaN</td>\n",
       "      <td>NaN</td>\n",
       "      <td>NaN</td>\n",
       "      <td>611000.0</td>\n",
       "      <td>Educational services (including schools, colle...</td>\n",
       "      <td>8</td>\n",
       "      <td>06/03/1997</td>\n",
       "      <td>NaN</td>\n",
       "      <td>NaN</td>\n",
       "    </tr>\n",
       "    <tr>\n",
       "      <th>4</th>\n",
       "      <td>0000000247-0001-1</td>\n",
       "      <td>A A OFICINA CENTRAL HISPANA DE LOS ANGELES /C</td>\n",
       "      <td>NaN</td>\n",
       "      <td>3806 W PICO BLVD</td>\n",
       "      <td>LOS ANGELES</td>\n",
       "      <td>90019-4304</td>\n",
       "      <td>3806 PICO 90019-4304</td>\n",
       "      <td>2607 VAN BUREN PLACE</td>\n",
       "      <td>LOS ANGELES</td>\n",
       "      <td>90007-2129</td>\n",
       "      <td>611000.0</td>\n",
       "      <td>Educational services (including schools, colle...</td>\n",
       "      <td>10</td>\n",
       "      <td>01/01/1991</td>\n",
       "      <td>NaN</td>\n",
       "      <td>NaN</td>\n",
       "    </tr>\n",
       "  </tbody>\n",
       "</table>\n",
       "</div>"
      ],
      "text/plain": [
       "  LOCATION ACCOUNT #                                      BUSINESS NAME                        DBA NAME             STREET ADDRESS               CITY    ZIP CODE       LOCATION DESCRIPTION        MAILING ADDRESS       MAILING CITY MAILING ZIP CODE     NAICS                          PRIMARY NAICS DESCRIPTION  COUNCIL DISTRICT LOCATION START DATE  LOCATION END DATE LOCATION\n",
       "0  0000000115-0001-3                                   VINCENZO LABELLA                             NaN      521 SWARTHMORE AVENUE  PACIFIC PALISADES  90272-4350  521 SWARTHMORE 90272-4350  521 SWARTHMORE AVENUE  PACIFIC PALISADES       90272-4350  561500.0          Travel arrangement & reservation services                11          01/01/1990                NaN      NaN\n",
       "1  0000000150-0001-5      A A OFICINA CENTRAL HISPANA DE LOS ANGELES /C                             NaN       2015 W TEMPLE STREET        LOS ANGELES  90026-4913     2015 TEMPLE 90026-4913   2607 VAN BUREN PLACE        LOS ANGELES       90007-2129  611000.0  Educational services (including schools, colle...                13          01/01/1991                NaN      NaN\n",
       "2  0000000156-0001-2  SPRINGBOARD NON-PROFIT CONSUMER CREDIT MANAGEMENT  MONEY MANAGEMENT INTERNATIONAL  1605 W OLYMPIC BLVD #9023        LOS ANGELES  90015-3828    1605 OLYMPIC 90015-3828                    NaN                NaN              NaN  523900.0  Other financial investment activities (includi...                 1          02/01/1999                NaN      NaN\n",
       "3  0000000225-0001-5  STRATEGIC CONCEPTS IN ORGANIZING AND POLICY ED...                             NaN     1715 W FLORENCE AVENUE        LOS ANGELES  90047-2220   1715 FLORENCE 90047-2220                    NaN                NaN              NaN  611000.0  Educational services (including schools, colle...                 8          06/03/1997                NaN      NaN\n",
       "4  0000000247-0001-1      A A OFICINA CENTRAL HISPANA DE LOS ANGELES /C                             NaN           3806 W PICO BLVD        LOS ANGELES  90019-4304       3806 PICO 90019-4304   2607 VAN BUREN PLACE        LOS ANGELES       90007-2129  611000.0  Educational services (including schools, colle...                10          01/01/1991                NaN      NaN"
      ]
     },
     "execution_count": 74,
     "metadata": {},
     "output_type": "execute_result"
    }
   ],
   "source": [
    "business_df.head()"
   ]
  },
  {
   "cell_type": "code",
   "execution_count": 75,
   "metadata": {},
   "outputs": [
    {
     "data": {
      "text/plain": [
       "array(['PACIFIC PALISADES', 'LOS ANGELES', 'GRANADA HILLS', ..., 'ARDEN',\n",
       "       'LOS BANOS', 'DEBARY'], dtype=object)"
      ]
     },
     "execution_count": 75,
     "metadata": {},
     "output_type": "execute_result"
    }
   ],
   "source": [
    "# check to see how many different cities there are in the column\n",
    "business_df['CITY'].unique()"
   ]
  },
  {
   "cell_type": "markdown",
   "metadata": {},
   "source": [
    "As the focus of the ride sharing data is in the LA metro area, we will only focus on the data in that area and only include data with the city variable matching 'Los Angeles'.\n",
    "\n",
    "By doing so, we see that around 50% of the initial dataset remains."
   ]
  },
  {
   "cell_type": "code",
   "execution_count": 76,
   "metadata": {},
   "outputs": [
    {
     "data": {
      "text/plain": [
       "(250920, 16)"
      ]
     },
     "execution_count": 76,
     "metadata": {},
     "output_type": "execute_result"
    }
   ],
   "source": [
    "business_df = business_df[business_df['CITY'] == 'LOS ANGELES']\n",
    "business_df.shape"
   ]
  },
  {
   "cell_type": "markdown",
   "metadata": {},
   "source": [
    "A look at the dataframe also reveals many NaN values. Using msno, we see that there are multiple columns like 'DBA NAME' and 'MAILING CITY' that are almost completely empty.\n",
    "\n",
    "There are also many variables that are not as relevant in our analysis. Our main purpose of obtaining the dataset of active businesses is to visualize their locations. We will thus select only the relevant columns and rename them accordingly."
   ]
  },
  {
   "cell_type": "code",
   "execution_count": 77,
   "metadata": {},
   "outputs": [
    {
     "data": {
      "text/html": [
       "<div>\n",
       "<style scoped>\n",
       "    .dataframe tbody tr th:only-of-type {\n",
       "        vertical-align: middle;\n",
       "    }\n",
       "\n",
       "    .dataframe tbody tr th {\n",
       "        vertical-align: top;\n",
       "    }\n",
       "\n",
       "    .dataframe thead th {\n",
       "        text-align: right;\n",
       "    }\n",
       "</style>\n",
       "<table border=\"1\" class=\"dataframe\">\n",
       "  <thead>\n",
       "    <tr style=\"text-align: right;\">\n",
       "      <th></th>\n",
       "      <th>LOCATION ACCOUNT #</th>\n",
       "      <th>BUSINESS NAME</th>\n",
       "      <th>DBA NAME</th>\n",
       "      <th>STREET ADDRESS</th>\n",
       "      <th>CITY</th>\n",
       "      <th>ZIP CODE</th>\n",
       "      <th>LOCATION DESCRIPTION</th>\n",
       "      <th>MAILING ADDRESS</th>\n",
       "      <th>MAILING CITY</th>\n",
       "      <th>MAILING ZIP CODE</th>\n",
       "      <th>NAICS</th>\n",
       "      <th>PRIMARY NAICS DESCRIPTION</th>\n",
       "      <th>COUNCIL DISTRICT</th>\n",
       "      <th>LOCATION START DATE</th>\n",
       "      <th>LOCATION END DATE</th>\n",
       "      <th>LOCATION</th>\n",
       "    </tr>\n",
       "  </thead>\n",
       "  <tbody>\n",
       "    <tr>\n",
       "      <th>1</th>\n",
       "      <td>0000000150-0001-5</td>\n",
       "      <td>A A OFICINA CENTRAL HISPANA DE LOS ANGELES /C</td>\n",
       "      <td>NaN</td>\n",
       "      <td>2015 W TEMPLE STREET</td>\n",
       "      <td>LOS ANGELES</td>\n",
       "      <td>90026-4913</td>\n",
       "      <td>2015 TEMPLE 90026-4913</td>\n",
       "      <td>2607 VAN BUREN PLACE</td>\n",
       "      <td>LOS ANGELES</td>\n",
       "      <td>90007-2129</td>\n",
       "      <td>611000.0</td>\n",
       "      <td>Educational services (including schools, colle...</td>\n",
       "      <td>13</td>\n",
       "      <td>01/01/1991</td>\n",
       "      <td>NaN</td>\n",
       "      <td>NaN</td>\n",
       "    </tr>\n",
       "    <tr>\n",
       "      <th>2</th>\n",
       "      <td>0000000156-0001-2</td>\n",
       "      <td>SPRINGBOARD NON-PROFIT CONSUMER CREDIT MANAGEMENT</td>\n",
       "      <td>MONEY MANAGEMENT INTERNATIONAL</td>\n",
       "      <td>1605 W OLYMPIC BLVD #9023</td>\n",
       "      <td>LOS ANGELES</td>\n",
       "      <td>90015-3828</td>\n",
       "      <td>1605 OLYMPIC 90015-3828</td>\n",
       "      <td>NaN</td>\n",
       "      <td>NaN</td>\n",
       "      <td>NaN</td>\n",
       "      <td>523900.0</td>\n",
       "      <td>Other financial investment activities (includi...</td>\n",
       "      <td>1</td>\n",
       "      <td>02/01/1999</td>\n",
       "      <td>NaN</td>\n",
       "      <td>NaN</td>\n",
       "    </tr>\n",
       "    <tr>\n",
       "      <th>3</th>\n",
       "      <td>0000000225-0001-5</td>\n",
       "      <td>STRATEGIC CONCEPTS IN ORGANIZING AND POLICY ED...</td>\n",
       "      <td>NaN</td>\n",
       "      <td>1715 W FLORENCE AVENUE</td>\n",
       "      <td>LOS ANGELES</td>\n",
       "      <td>90047-2220</td>\n",
       "      <td>1715 FLORENCE 90047-2220</td>\n",
       "      <td>NaN</td>\n",
       "      <td>NaN</td>\n",
       "      <td>NaN</td>\n",
       "      <td>611000.0</td>\n",
       "      <td>Educational services (including schools, colle...</td>\n",
       "      <td>8</td>\n",
       "      <td>06/03/1997</td>\n",
       "      <td>NaN</td>\n",
       "      <td>NaN</td>\n",
       "    </tr>\n",
       "    <tr>\n",
       "      <th>4</th>\n",
       "      <td>0000000247-0001-1</td>\n",
       "      <td>A A OFICINA CENTRAL HISPANA DE LOS ANGELES /C</td>\n",
       "      <td>NaN</td>\n",
       "      <td>3806 W PICO BLVD</td>\n",
       "      <td>LOS ANGELES</td>\n",
       "      <td>90019-4304</td>\n",
       "      <td>3806 PICO 90019-4304</td>\n",
       "      <td>2607 VAN BUREN PLACE</td>\n",
       "      <td>LOS ANGELES</td>\n",
       "      <td>90007-2129</td>\n",
       "      <td>611000.0</td>\n",
       "      <td>Educational services (including schools, colle...</td>\n",
       "      <td>10</td>\n",
       "      <td>01/01/1991</td>\n",
       "      <td>NaN</td>\n",
       "      <td>NaN</td>\n",
       "    </tr>\n",
       "    <tr>\n",
       "      <th>5</th>\n",
       "      <td>0000000267-0001-9</td>\n",
       "      <td>A A OFICINA CENTRAL HISPANA DE LOS ANGELES /C</td>\n",
       "      <td>NaN</td>\n",
       "      <td>3115 VENICE BLVD</td>\n",
       "      <td>LOS ANGELES</td>\n",
       "      <td>90019-6238</td>\n",
       "      <td>3115 VENICE 90019-6238</td>\n",
       "      <td>2607 VAN BUREN PLACE</td>\n",
       "      <td>LOS ANGELES</td>\n",
       "      <td>90007-2129</td>\n",
       "      <td>611000.0</td>\n",
       "      <td>Educational services (including schools, colle...</td>\n",
       "      <td>10</td>\n",
       "      <td>01/01/1991</td>\n",
       "      <td>NaN</td>\n",
       "      <td>NaN</td>\n",
       "    </tr>\n",
       "  </tbody>\n",
       "</table>\n",
       "</div>"
      ],
      "text/plain": [
       "  LOCATION ACCOUNT #                                      BUSINESS NAME                        DBA NAME             STREET ADDRESS         CITY    ZIP CODE      LOCATION DESCRIPTION       MAILING ADDRESS MAILING CITY MAILING ZIP CODE     NAICS                          PRIMARY NAICS DESCRIPTION  COUNCIL DISTRICT LOCATION START DATE  LOCATION END DATE LOCATION\n",
       "1  0000000150-0001-5      A A OFICINA CENTRAL HISPANA DE LOS ANGELES /C                             NaN       2015 W TEMPLE STREET  LOS ANGELES  90026-4913    2015 TEMPLE 90026-4913  2607 VAN BUREN PLACE  LOS ANGELES       90007-2129  611000.0  Educational services (including schools, colle...                13          01/01/1991                NaN      NaN\n",
       "2  0000000156-0001-2  SPRINGBOARD NON-PROFIT CONSUMER CREDIT MANAGEMENT  MONEY MANAGEMENT INTERNATIONAL  1605 W OLYMPIC BLVD #9023  LOS ANGELES  90015-3828   1605 OLYMPIC 90015-3828                   NaN          NaN              NaN  523900.0  Other financial investment activities (includi...                 1          02/01/1999                NaN      NaN\n",
       "3  0000000225-0001-5  STRATEGIC CONCEPTS IN ORGANIZING AND POLICY ED...                             NaN     1715 W FLORENCE AVENUE  LOS ANGELES  90047-2220  1715 FLORENCE 90047-2220                   NaN          NaN              NaN  611000.0  Educational services (including schools, colle...                 8          06/03/1997                NaN      NaN\n",
       "4  0000000247-0001-1      A A OFICINA CENTRAL HISPANA DE LOS ANGELES /C                             NaN           3806 W PICO BLVD  LOS ANGELES  90019-4304      3806 PICO 90019-4304  2607 VAN BUREN PLACE  LOS ANGELES       90007-2129  611000.0  Educational services (including schools, colle...                10          01/01/1991                NaN      NaN\n",
       "5  0000000267-0001-9      A A OFICINA CENTRAL HISPANA DE LOS ANGELES /C                             NaN           3115 VENICE BLVD  LOS ANGELES  90019-6238    3115 VENICE 90019-6238  2607 VAN BUREN PLACE  LOS ANGELES       90007-2129  611000.0  Educational services (including schools, colle...                10          01/01/1991                NaN      NaN"
      ]
     },
     "execution_count": 77,
     "metadata": {},
     "output_type": "execute_result"
    }
   ],
   "source": [
    "business_df.head()"
   ]
  },
  {
   "cell_type": "code",
   "execution_count": 78,
   "metadata": {},
   "outputs": [
    {
     "data": {
      "text/plain": [
       "<matplotlib.axes._subplots.AxesSubplot at 0x1a5231dc18>"
      ]
     },
     "execution_count": 78,
     "metadata": {},
     "output_type": "execute_result"
    },
    {
     "data": {
      "image/png": "[encoded data removed]",
      "text/plain": [
       "<matplotlib.figure.Figure at 0x1a520d3fd0>"
      ]
     },
     "metadata": {},
     "output_type": "display_data"
    }
   ],
   "source": [
    "msno.matrix(business_df)"
   ]
  },
  {
   "cell_type": "code",
   "execution_count": 79,
   "metadata": {},
   "outputs": [
    {
     "data": {
      "text/html": [
       "<div>\n",
       "<style scoped>\n",
       "    .dataframe tbody tr th:only-of-type {\n",
       "        vertical-align: middle;\n",
       "    }\n",
       "\n",
       "    .dataframe tbody tr th {\n",
       "        vertical-align: top;\n",
       "    }\n",
       "\n",
       "    .dataframe thead th {\n",
       "        text-align: right;\n",
       "    }\n",
       "</style>\n",
       "<table border=\"1\" class=\"dataframe\">\n",
       "  <thead>\n",
       "    <tr style=\"text-align: right;\">\n",
       "      <th></th>\n",
       "      <th>business_name</th>\n",
       "      <th>street_address</th>\n",
       "      <th>zip_code</th>\n",
       "      <th>start_date</th>\n",
       "      <th>coordinates</th>\n",
       "    </tr>\n",
       "  </thead>\n",
       "  <tbody>\n",
       "    <tr>\n",
       "      <th>1</th>\n",
       "      <td>A A OFICINA CENTRAL HISPANA DE LOS ANGELES /C</td>\n",
       "      <td>2015 W TEMPLE STREET</td>\n",
       "      <td>90026-4913</td>\n",
       "      <td>01/01/1991</td>\n",
       "      <td>NaN</td>\n",
       "    </tr>\n",
       "    <tr>\n",
       "      <th>2</th>\n",
       "      <td>SPRINGBOARD NON-PROFIT CONSUMER CREDIT MANAGEMENT</td>\n",
       "      <td>1605 W OLYMPIC BLVD #9023</td>\n",
       "      <td>90015-3828</td>\n",
       "      <td>02/01/1999</td>\n",
       "      <td>NaN</td>\n",
       "    </tr>\n",
       "    <tr>\n",
       "      <th>3</th>\n",
       "      <td>STRATEGIC CONCEPTS IN ORGANIZING AND POLICY ED...</td>\n",
       "      <td>1715 W FLORENCE AVENUE</td>\n",
       "      <td>90047-2220</td>\n",
       "      <td>06/03/1997</td>\n",
       "      <td>NaN</td>\n",
       "    </tr>\n",
       "    <tr>\n",
       "      <th>4</th>\n",
       "      <td>A A OFICINA CENTRAL HISPANA DE LOS ANGELES /C</td>\n",
       "      <td>3806 W PICO BLVD</td>\n",
       "      <td>90019-4304</td>\n",
       "      <td>01/01/1991</td>\n",
       "      <td>NaN</td>\n",
       "    </tr>\n",
       "    <tr>\n",
       "      <th>5</th>\n",
       "      <td>A A OFICINA CENTRAL HISPANA DE LOS ANGELES /C</td>\n",
       "      <td>3115 VENICE BLVD</td>\n",
       "      <td>90019-6238</td>\n",
       "      <td>01/01/1991</td>\n",
       "      <td>NaN</td>\n",
       "    </tr>\n",
       "  </tbody>\n",
       "</table>\n",
       "</div>"
      ],
      "text/plain": [
       "                                       business_name             street_address    zip_code  start_date coordinates\n",
       "1      A A OFICINA CENTRAL HISPANA DE LOS ANGELES /C       2015 W TEMPLE STREET  90026-4913  01/01/1991         NaN\n",
       "2  SPRINGBOARD NON-PROFIT CONSUMER CREDIT MANAGEMENT  1605 W OLYMPIC BLVD #9023  90015-3828  02/01/1999         NaN\n",
       "3  STRATEGIC CONCEPTS IN ORGANIZING AND POLICY ED...     1715 W FLORENCE AVENUE  90047-2220  06/03/1997         NaN\n",
       "4      A A OFICINA CENTRAL HISPANA DE LOS ANGELES /C           3806 W PICO BLVD  90019-4304  01/01/1991         NaN\n",
       "5      A A OFICINA CENTRAL HISPANA DE LOS ANGELES /C           3115 VENICE BLVD  90019-6238  01/01/1991         NaN"
      ]
     },
     "execution_count": 79,
     "metadata": {},
     "output_type": "execute_result"
    }
   ],
   "source": [
    "business_df = business_df[['BUSINESS NAME', 'STREET ADDRESS', 'ZIP CODE', 'LOCATION START DATE', 'LOCATION']].rename(columns = {'BUSINESS NAME':'business_name', 'STREET ADDRESS':'street_address', 'ZIP CODE':'zip_code', 'LOCATION START DATE':'start_date', 'LOCATION':'coordinates'})\n",
    "business_df.head()"
   ]
  },
  {
   "cell_type": "markdown",
   "metadata": {},
   "source": [
    "There seems to be quite a few businesses that do not have coordinates. A quick filter reveals 1583 of them. These seem to be businesses that were incorporate very early on before 2000. As this is a very small portion of the dataset, we can safely drop them.\n",
    "\n",
    "Another anomaly that popped up were coordinates of (0,0). As this is a location in the middle of the ocean, these coordinates are unlikely to mean anything and will be dropped."
   ]
  },
  {
   "cell_type": "code",
   "execution_count": 80,
   "metadata": {
    "collapsed": true
   },
   "outputs": [],
   "source": [
    "# counting the number of businesses without coordinates\n",
    "# business_df['coordinates'].isna().sum()"
   ]
  },
  {
   "cell_type": "code",
   "execution_count": 81,
   "metadata": {},
   "outputs": [
    {
     "data": {
      "text/plain": [
       "<matplotlib.axes._subplots.AxesSubplot at 0x1a1a6a04a8>"
      ]
     },
     "execution_count": 81,
     "metadata": {},
     "output_type": "execute_result"
    },
    {
     "data": {
      "image/png": "[encoded data removed]",
      "text/plain": [
       "<matplotlib.figure.Figure at 0x1a25058550>"
      ]
     },
     "metadata": {},
     "output_type": "display_data"
    }
   ],
   "source": [
    "msno.matrix(business_df)"
   ]
  },
  {
   "cell_type": "code",
   "execution_count": 82,
   "metadata": {
    "collapsed": true
   },
   "outputs": [],
   "source": [
    "# dropping na coordinate values\n",
    "business_df = business_df.dropna()"
   ]
  },
  {
   "cell_type": "code",
   "execution_count": 83,
   "metadata": {},
   "outputs": [
    {
     "data": {
      "text/plain": [
       "(245437, 6)"
      ]
     },
     "execution_count": 83,
     "metadata": {},
     "output_type": "execute_result"
    }
   ],
   "source": [
    "# dropping coordinates of (0,0) and resetting the index to start from 0\n",
    "business_df = business_df[business_df['coordinates'] != '(0, 0)'].reset_index()\n",
    "business_df.shape"
   ]
  },
  {
   "cell_type": "code",
   "execution_count": 84,
   "metadata": {},
   "outputs": [
    {
     "data": {
      "text/plain": [
       "'(34.044, -118.292)'"
      ]
     },
     "execution_count": 84,
     "metadata": {},
     "output_type": "execute_result"
    }
   ],
   "source": [
    "business_df.loc[1]['coordinates']"
   ]
  },
  {
   "cell_type": "markdown",
   "metadata": {},
   "source": [
    "As the coordinate variable is a string with the latitude and longitude values, we shall use regex functions to pull the latitude and longtitude variables out and convert them to a float type. \n",
    "\n",
    "Here we use positive lookbehind and positive lookahead to target the exact part of the string that we need because each latitude and longitude pair has the same structure."
   ]
  },
  {
   "cell_type": "code",
   "execution_count": 85,
   "metadata": {},
   "outputs": [
    {
     "name": "stdout",
     "output_type": "stream",
     "text": [
      "latitude: 34.044 longitude: -118.292\n"
     ]
    }
   ],
   "source": [
    "# regex to extract latitude\n",
    "def get_lat(coords):\n",
    "    lat = re.compile('(?<=\\().+(?=\\,)')\n",
    "    return float(lat.search(coords).group())\n",
    "\n",
    "# regex to extract longitude\n",
    "def get_long(coords):\n",
    "    long = re.compile('(?<=\\, ).+(?=\\))')\n",
    "    return float(long.search(coords).group())\n",
    "\n",
    "print(\"latitude: \" + str(get_lat(business_df.loc[1]['coordinates'])) + \" longitude: \" + str(get_long(business_df.loc[1]['coordinates'])))"
   ]
  },
  {
   "cell_type": "code",
   "execution_count": 86,
   "metadata": {},
   "outputs": [
    {
     "data": {
      "text/html": [
       "<div>\n",
       "<style scoped>\n",
       "    .dataframe tbody tr th:only-of-type {\n",
       "        vertical-align: middle;\n",
       "    }\n",
       "\n",
       "    .dataframe tbody tr th {\n",
       "        vertical-align: top;\n",
       "    }\n",
       "\n",
       "    .dataframe thead th {\n",
       "        text-align: right;\n",
       "    }\n",
       "</style>\n",
       "<table border=\"1\" class=\"dataframe\">\n",
       "  <thead>\n",
       "    <tr style=\"text-align: right;\">\n",
       "      <th></th>\n",
       "      <th>index</th>\n",
       "      <th>business_name</th>\n",
       "      <th>street_address</th>\n",
       "      <th>zip_code</th>\n",
       "      <th>start_date</th>\n",
       "      <th>latitude</th>\n",
       "      <th>longitude</th>\n",
       "    </tr>\n",
       "  </thead>\n",
       "  <tbody>\n",
       "    <tr>\n",
       "      <th>0</th>\n",
       "      <td>10</td>\n",
       "      <td>CORALIE WHITCOMB</td>\n",
       "      <td>2669   MEDLOW AVENUE</td>\n",
       "      <td>90065-4616</td>\n",
       "      <td>06/10/2017</td>\n",
       "      <td>34.1269</td>\n",
       "      <td>-118.2247</td>\n",
       "    </tr>\n",
       "    <tr>\n",
       "      <th>1</th>\n",
       "      <td>56</td>\n",
       "      <td>RMJC INSURANCE SERVICES INC</td>\n",
       "      <td>1601 S VERMONT AVENUE   SUITE #103</td>\n",
       "      <td>90006-4541</td>\n",
       "      <td>03/07/2017</td>\n",
       "      <td>34.0440</td>\n",
       "      <td>-118.2920</td>\n",
       "    </tr>\n",
       "    <tr>\n",
       "      <th>2</th>\n",
       "      <td>59</td>\n",
       "      <td>DANIELLE HALFERTY</td>\n",
       "      <td>2527   CANYON DRIVE</td>\n",
       "      <td>90068-2415</td>\n",
       "      <td>09/18/2017</td>\n",
       "      <td>34.1164</td>\n",
       "      <td>-118.3165</td>\n",
       "    </tr>\n",
       "    <tr>\n",
       "      <th>3</th>\n",
       "      <td>61</td>\n",
       "      <td>PETER J HARRIS</td>\n",
       "      <td>4153   MARLTON AVENUE   #3</td>\n",
       "      <td>90008-3525</td>\n",
       "      <td>01/01/1998</td>\n",
       "      <td>34.0101</td>\n",
       "      <td>-118.3416</td>\n",
       "    </tr>\n",
       "    <tr>\n",
       "      <th>4</th>\n",
       "      <td>62</td>\n",
       "      <td>CARNIVAL LUXE LLC</td>\n",
       "      <td>234 S FIGUEROA STREET   APARTMENT #1235</td>\n",
       "      <td>90012-2525</td>\n",
       "      <td>12/06/2016</td>\n",
       "      <td>34.0559</td>\n",
       "      <td>-118.2536</td>\n",
       "    </tr>\n",
       "  </tbody>\n",
       "</table>\n",
       "</div>"
      ],
      "text/plain": [
       "   index                business_name                           street_address    zip_code  start_date  latitude  longitude\n",
       "0     10             CORALIE WHITCOMB                     2669   MEDLOW AVENUE  90065-4616  06/10/2017   34.1269  -118.2247\n",
       "1     56  RMJC INSURANCE SERVICES INC       1601 S VERMONT AVENUE   SUITE #103  90006-4541  03/07/2017   34.0440  -118.2920\n",
       "2     59            DANIELLE HALFERTY                      2527   CANYON DRIVE  90068-2415  09/18/2017   34.1164  -118.3165\n",
       "3     61               PETER J HARRIS               4153   MARLTON AVENUE   #3  90008-3525  01/01/1998   34.0101  -118.3416\n",
       "4     62            CARNIVAL LUXE LLC  234 S FIGUEROA STREET   APARTMENT #1235  90012-2525  12/06/2016   34.0559  -118.2536"
      ]
     },
     "execution_count": 86,
     "metadata": {},
     "output_type": "execute_result"
    }
   ],
   "source": [
    "# apply get_lat and get_long functions to create new columns representing latitude and longitude for each business\n",
    "business_df['latitude'] = business_df['coordinates'].apply(get_lat)\n",
    "business_df['longitude'] = business_df['coordinates'].apply(get_long)\n",
    "business_df = business_df.drop(['coordinates'],axis=1)\n",
    "business_df.head()"
   ]
  },
  {
   "cell_type": "code",
   "execution_count": null,
   "metadata": {
    "collapsed": true
   },
   "outputs": [],
   "source": []
  },
  {
   "cell_type": "code",
   "execution_count": null,
   "metadata": {
    "collapsed": true
   },
   "outputs": [],
   "source": []
  },
  {
   "cell_type": "markdown",
   "metadata": {},
   "source": [
    "### Traffic collisions 2010-2018\n",
    "\n",
    "https://www.kaggle.com/cityofLA/los-angeles-traffic-collision-data/version/7#traffic-collision-data-from-2010-to-present.csv"
   ]
  },
  {
   "cell_type": "code",
   "execution_count": 87,
   "metadata": {
    "collapsed": true
   },
   "outputs": [],
   "source": [
    "traffic_df = pd.read_csv('../data/external/traffic_collisions_2010_2018.csv')"
   ]
  },
  {
   "cell_type": "code",
   "execution_count": 88,
   "metadata": {},
   "outputs": [
    {
     "data": {
      "text/html": [
       "<div>\n",
       "<style scoped>\n",
       "    .dataframe tbody tr th:only-of-type {\n",
       "        vertical-align: middle;\n",
       "    }\n",
       "\n",
       "    .dataframe tbody tr th {\n",
       "        vertical-align: top;\n",
       "    }\n",
       "\n",
       "    .dataframe thead th {\n",
       "        text-align: right;\n",
       "    }\n",
       "</style>\n",
       "<table border=\"1\" class=\"dataframe\">\n",
       "  <thead>\n",
       "    <tr style=\"text-align: right;\">\n",
       "      <th></th>\n",
       "      <th>DR Number</th>\n",
       "      <th>Date Reported</th>\n",
       "      <th>Date Occurred</th>\n",
       "      <th>Time Occurred</th>\n",
       "      <th>Area ID</th>\n",
       "      <th>Area Name</th>\n",
       "      <th>Reporting District</th>\n",
       "      <th>Crime Code</th>\n",
       "      <th>Crime Code Description</th>\n",
       "      <th>MO Codes</th>\n",
       "      <th>Victim Age</th>\n",
       "      <th>Victim Sex</th>\n",
       "      <th>Victim Descent</th>\n",
       "      <th>Premise Code</th>\n",
       "      <th>Premise Description</th>\n",
       "      <th>Address</th>\n",
       "      <th>Cross Street</th>\n",
       "      <th>Location</th>\n",
       "    </tr>\n",
       "  </thead>\n",
       "  <tbody>\n",
       "    <tr>\n",
       "      <th>0</th>\n",
       "      <td>100119684</td>\n",
       "      <td>11042010-01-01T00:00:00</td>\n",
       "      <td>2010-11-04T00:00:00</td>\n",
       "      <td>1345</td>\n",
       "      <td>1</td>\n",
       "      <td>Central</td>\n",
       "      <td>159</td>\n",
       "      <td>997</td>\n",
       "      <td>TRAFFIC COLLISION</td>\n",
       "      <td>NaN</td>\n",
       "      <td>20.0</td>\n",
       "      <td>F</td>\n",
       "      <td>H</td>\n",
       "      <td>101.0</td>\n",
       "      <td>STREET</td>\n",
       "      <td>7TH                          ST</td>\n",
       "      <td>LAWRENCE                     ST</td>\n",
       "      <td>{'needs_recoding': False, 'longitude': '-118.2...</td>\n",
       "    </tr>\n",
       "    <tr>\n",
       "      <th>1</th>\n",
       "      <td>101221255</td>\n",
       "      <td>8102010-01-01T00:00:00</td>\n",
       "      <td>2010-08-10T00:00:00</td>\n",
       "      <td>1900</td>\n",
       "      <td>12</td>\n",
       "      <td>77th Street</td>\n",
       "      <td>1211</td>\n",
       "      <td>997</td>\n",
       "      <td>TRAFFIC COLLISION</td>\n",
       "      <td>NaN</td>\n",
       "      <td>31.0</td>\n",
       "      <td>F</td>\n",
       "      <td>B</td>\n",
       "      <td>101.0</td>\n",
       "      <td>STREET</td>\n",
       "      <td>54TH                         ST</td>\n",
       "      <td>3RD                          AV</td>\n",
       "      <td>{'needs_recoding': False, 'longitude': '-118.3...</td>\n",
       "    </tr>\n",
       "    <tr>\n",
       "      <th>2</th>\n",
       "      <td>101414426</td>\n",
       "      <td>6112010-01-01T00:00:00</td>\n",
       "      <td>2010-06-09T00:00:00</td>\n",
       "      <td>1925</td>\n",
       "      <td>14</td>\n",
       "      <td>Pacific</td>\n",
       "      <td>1488</td>\n",
       "      <td>997</td>\n",
       "      <td>TRAFFIC COLLISION</td>\n",
       "      <td>NaN</td>\n",
       "      <td>40.0</td>\n",
       "      <td>F</td>\n",
       "      <td>B</td>\n",
       "      <td>101.0</td>\n",
       "      <td>STREET</td>\n",
       "      <td>MANCHESTER                   BL</td>\n",
       "      <td>BELLANCA                     AV</td>\n",
       "      <td>{'needs_recoding': False, 'longitude': '-118.3...</td>\n",
       "    </tr>\n",
       "    <tr>\n",
       "      <th>3</th>\n",
       "      <td>102109168</td>\n",
       "      <td>4062010-01-01T00:00:00</td>\n",
       "      <td>2010-04-06T00:00:00</td>\n",
       "      <td>1445</td>\n",
       "      <td>21</td>\n",
       "      <td>Topanga</td>\n",
       "      <td>2197</td>\n",
       "      <td>997</td>\n",
       "      <td>TRAFFIC COLLISION</td>\n",
       "      <td>1501</td>\n",
       "      <td>51.0</td>\n",
       "      <td>M</td>\n",
       "      <td>O</td>\n",
       "      <td>101.0</td>\n",
       "      <td>STREET</td>\n",
       "      <td>ROSITA                       AV</td>\n",
       "      <td>CORBIN                       AV</td>\n",
       "      <td>{'needs_recoding': False, 'longitude': '-118.5...</td>\n",
       "    </tr>\n",
       "    <tr>\n",
       "      <th>4</th>\n",
       "      <td>100322445</td>\n",
       "      <td>9222010-01-01T00:00:00</td>\n",
       "      <td>2010-05-23T00:00:00</td>\n",
       "      <td>1805</td>\n",
       "      <td>3</td>\n",
       "      <td>Southwest</td>\n",
       "      <td>397</td>\n",
       "      <td>997</td>\n",
       "      <td>TRAFFIC COLLISION</td>\n",
       "      <td>NaN</td>\n",
       "      <td>32.0</td>\n",
       "      <td>F</td>\n",
       "      <td>H</td>\n",
       "      <td>101.0</td>\n",
       "      <td>STREET</td>\n",
       "      <td>43RD                         PL</td>\n",
       "      <td>WALTON                       AV</td>\n",
       "      <td>{'needs_recoding': False, 'longitude': '-118.2...</td>\n",
       "    </tr>\n",
       "  </tbody>\n",
       "</table>\n",
       "</div>"
      ],
      "text/plain": [
       "   DR Number            Date Reported        Date Occurred  Time Occurred  Area ID    Area Name  Reporting District  Crime Code Crime Code Description MO Codes  Victim Age Victim Sex Victim Descent  Premise Code Premise Description                          Address                     Cross Street                                           Location\n",
       "0  100119684  11042010-01-01T00:00:00  2010-11-04T00:00:00           1345        1      Central                 159         997      TRAFFIC COLLISION      NaN        20.0          F              H         101.0              STREET  7TH                          ST  LAWRENCE                     ST  {'needs_recoding': False, 'longitude': '-118.2...\n",
       "1  101221255   8102010-01-01T00:00:00  2010-08-10T00:00:00           1900       12  77th Street                1211         997      TRAFFIC COLLISION      NaN        31.0          F              B         101.0              STREET  54TH                         ST  3RD                          AV  {'needs_recoding': False, 'longitude': '-118.3...\n",
       "2  101414426   6112010-01-01T00:00:00  2010-06-09T00:00:00           1925       14      Pacific                1488         997      TRAFFIC COLLISION      NaN        40.0          F              B         101.0              STREET  MANCHESTER                   BL  BELLANCA                     AV  {'needs_recoding': False, 'longitude': '-118.3...\n",
       "3  102109168   4062010-01-01T00:00:00  2010-04-06T00:00:00           1445       21      Topanga                2197         997      TRAFFIC COLLISION     1501        51.0          M              O         101.0              STREET  ROSITA                       AV  CORBIN                       AV  {'needs_recoding': False, 'longitude': '-118.5...\n",
       "4  100322445   9222010-01-01T00:00:00  2010-05-23T00:00:00           1805        3    Southwest                 397         997      TRAFFIC COLLISION      NaN        32.0          F              H         101.0              STREET  43RD                         PL  WALTON                       AV  {'needs_recoding': False, 'longitude': '-118.2..."
      ]
     },
     "execution_count": 88,
     "metadata": {},
     "output_type": "execute_result"
    }
   ],
   "source": [
    "traffic_df.head()"
   ]
  },
  {
   "cell_type": "code",
   "execution_count": 89,
   "metadata": {},
   "outputs": [
    {
     "data": {
      "text/plain": [
       "array(['H', 'B', 'O', 'W', 'X', 'A', nan, 'K', 'C', 'F', 'U', 'J', 'P',\n",
       "       'V', 'Z', 'I', 'G', 'S', 'D', 'L', '-'], dtype=object)"
      ]
     },
     "execution_count": 89,
     "metadata": {},
     "output_type": "execute_result"
    }
   ],
   "source": [
    "traffic_df['Victim Descent'].unique()"
   ]
  },
  {
   "cell_type": "code",
   "execution_count": 90,
   "metadata": {},
   "outputs": [
    {
     "data": {
      "text/plain": [
       "<matplotlib.axes._subplots.AxesSubplot at 0x1a1f84c048>"
      ]
     },
     "execution_count": 90,
     "metadata": {},
     "output_type": "execute_result"
    },
    {
     "data": {
      "image/png": "[encoded data removed]",
      "text/plain": [
       "<matplotlib.figure.Figure at 0x1a266b2710>"
      ]
     },
     "metadata": {},
     "output_type": "display_data"
    }
   ],
   "source": [
    "msno.matrix(traffic_df)"
   ]
  },
  {
   "cell_type": "code",
   "execution_count": 91,
   "metadata": {},
   "outputs": [
    {
     "data": {
      "text/html": [
       "<div>\n",
       "<style scoped>\n",
       "    .dataframe tbody tr th:only-of-type {\n",
       "        vertical-align: middle;\n",
       "    }\n",
       "\n",
       "    .dataframe tbody tr th {\n",
       "        vertical-align: top;\n",
       "    }\n",
       "\n",
       "    .dataframe thead th {\n",
       "        text-align: right;\n",
       "    }\n",
       "</style>\n",
       "<table border=\"1\" class=\"dataframe\">\n",
       "  <thead>\n",
       "    <tr style=\"text-align: right;\">\n",
       "      <th></th>\n",
       "      <th>date_occured</th>\n",
       "      <th>time_occured</th>\n",
       "      <th>area_name</th>\n",
       "      <th>victim_age</th>\n",
       "      <th>victim_sex</th>\n",
       "      <th>victim_descent</th>\n",
       "      <th>address</th>\n",
       "      <th>cross_street</th>\n",
       "      <th>location</th>\n",
       "    </tr>\n",
       "  </thead>\n",
       "  <tbody>\n",
       "    <tr>\n",
       "      <th>0</th>\n",
       "      <td>2010-11-04T00:00:00</td>\n",
       "      <td>1345</td>\n",
       "      <td>Central</td>\n",
       "      <td>20.0</td>\n",
       "      <td>F</td>\n",
       "      <td>H</td>\n",
       "      <td>7TH                          ST</td>\n",
       "      <td>LAWRENCE                     ST</td>\n",
       "      <td>{'needs_recoding': False, 'longitude': '-118.2...</td>\n",
       "    </tr>\n",
       "    <tr>\n",
       "      <th>1</th>\n",
       "      <td>2010-08-10T00:00:00</td>\n",
       "      <td>1900</td>\n",
       "      <td>77th Street</td>\n",
       "      <td>31.0</td>\n",
       "      <td>F</td>\n",
       "      <td>B</td>\n",
       "      <td>54TH                         ST</td>\n",
       "      <td>3RD                          AV</td>\n",
       "      <td>{'needs_recoding': False, 'longitude': '-118.3...</td>\n",
       "    </tr>\n",
       "    <tr>\n",
       "      <th>2</th>\n",
       "      <td>2010-06-09T00:00:00</td>\n",
       "      <td>1925</td>\n",
       "      <td>Pacific</td>\n",
       "      <td>40.0</td>\n",
       "      <td>F</td>\n",
       "      <td>B</td>\n",
       "      <td>MANCHESTER                   BL</td>\n",
       "      <td>BELLANCA                     AV</td>\n",
       "      <td>{'needs_recoding': False, 'longitude': '-118.3...</td>\n",
       "    </tr>\n",
       "    <tr>\n",
       "      <th>3</th>\n",
       "      <td>2010-04-06T00:00:00</td>\n",
       "      <td>1445</td>\n",
       "      <td>Topanga</td>\n",
       "      <td>51.0</td>\n",
       "      <td>M</td>\n",
       "      <td>O</td>\n",
       "      <td>ROSITA                       AV</td>\n",
       "      <td>CORBIN                       AV</td>\n",
       "      <td>{'needs_recoding': False, 'longitude': '-118.5...</td>\n",
       "    </tr>\n",
       "    <tr>\n",
       "      <th>4</th>\n",
       "      <td>2010-05-23T00:00:00</td>\n",
       "      <td>1805</td>\n",
       "      <td>Southwest</td>\n",
       "      <td>32.0</td>\n",
       "      <td>F</td>\n",
       "      <td>H</td>\n",
       "      <td>43RD                         PL</td>\n",
       "      <td>WALTON                       AV</td>\n",
       "      <td>{'needs_recoding': False, 'longitude': '-118.2...</td>\n",
       "    </tr>\n",
       "  </tbody>\n",
       "</table>\n",
       "</div>"
      ],
      "text/plain": [
       "          date_occured  time_occured    area_name  victim_age victim_sex victim_descent                          address                     cross_street                                           location\n",
       "0  2010-11-04T00:00:00          1345      Central        20.0          F              H  7TH                          ST  LAWRENCE                     ST  {'needs_recoding': False, 'longitude': '-118.2...\n",
       "1  2010-08-10T00:00:00          1900  77th Street        31.0          F              B  54TH                         ST  3RD                          AV  {'needs_recoding': False, 'longitude': '-118.3...\n",
       "2  2010-06-09T00:00:00          1925      Pacific        40.0          F              B  MANCHESTER                   BL  BELLANCA                     AV  {'needs_recoding': False, 'longitude': '-118.3...\n",
       "3  2010-04-06T00:00:00          1445      Topanga        51.0          M              O  ROSITA                       AV  CORBIN                       AV  {'needs_recoding': False, 'longitude': '-118.5...\n",
       "4  2010-05-23T00:00:00          1805    Southwest        32.0          F              H  43RD                         PL  WALTON                       AV  {'needs_recoding': False, 'longitude': '-118.2..."
      ]
     },
     "execution_count": 91,
     "metadata": {},
     "output_type": "execute_result"
    }
   ],
   "source": [
    "traffic_df = traffic_df[['Date Occurred', 'Time Occurred', 'Area Name', 'Victim Age', \n",
    "                         'Victim Sex', 'Victim Descent', 'Address', 'Cross Street', 'Location']]\n",
    "traffic_df = traffic_df.rename(columns = {'Date Occurred':'date_occured', \n",
    "                             'Time Occurred':'time_occured', 'Area Name':'area_name', 'Victim Age':'victim_age', \n",
    "                             'Victim Sex':'victim_sex', 'Victim Descent':'victim_descent', 'Address':'address', \n",
    "                             'Cross Street':'cross_street', 'Location':'location'})\n",
    "traffic_df.head()"
   ]
  },
  {
   "cell_type": "code",
   "execution_count": 92,
   "metadata": {},
   "outputs": [
    {
     "data": {
      "text/plain": [
       "date_occured       object\n",
       "time_occured        int64\n",
       "area_name          object\n",
       "victim_age        float64\n",
       "victim_sex         object\n",
       "victim_descent     object\n",
       "address            object\n",
       "cross_street       object\n",
       "location           object\n",
       "dtype: object"
      ]
     },
     "execution_count": 92,
     "metadata": {},
     "output_type": "execute_result"
    }
   ],
   "source": [
    "traffic_df.dtypes"
   ]
  },
  {
   "cell_type": "code",
   "execution_count": 93,
   "metadata": {
    "collapsed": true
   },
   "outputs": [],
   "source": [
    "traffic_df['date_occured'] = pd.to_datetime(traffic_df['date_occured'])"
   ]
  },
  {
   "cell_type": "code",
   "execution_count": 94,
   "metadata": {},
   "outputs": [
    {
     "data": {
      "text/plain": [
       "'{\\'needs_recoding\\': False, \\'longitude\\': \\'-118.3203\\', \\'human_address\\': \\'{\"address\":\"\",\"city\":\"\",\"state\":\"\",\"zip\":\"\"}\\', \\'latitude\\': \\'33.9932\\'}'"
      ]
     },
     "execution_count": 94,
     "metadata": {},
     "output_type": "execute_result"
    }
   ],
   "source": [
    "traffic_df.loc[1]['location']"
   ]
  },
  {
   "cell_type": "code",
   "execution_count": 95,
   "metadata": {},
   "outputs": [
    {
     "data": {
      "text/html": [
       "<div>\n",
       "<style scoped>\n",
       "    .dataframe tbody tr th:only-of-type {\n",
       "        vertical-align: middle;\n",
       "    }\n",
       "\n",
       "    .dataframe tbody tr th {\n",
       "        vertical-align: top;\n",
       "    }\n",
       "\n",
       "    .dataframe thead th {\n",
       "        text-align: right;\n",
       "    }\n",
       "</style>\n",
       "<table border=\"1\" class=\"dataframe\">\n",
       "  <thead>\n",
       "    <tr style=\"text-align: right;\">\n",
       "      <th></th>\n",
       "      <th>date_occured</th>\n",
       "      <th>time_occured</th>\n",
       "      <th>area_name</th>\n",
       "      <th>victim_age</th>\n",
       "      <th>victim_sex</th>\n",
       "      <th>victim_descent</th>\n",
       "      <th>address</th>\n",
       "      <th>cross_street</th>\n",
       "      <th>latitude</th>\n",
       "      <th>longitude</th>\n",
       "    </tr>\n",
       "  </thead>\n",
       "  <tbody>\n",
       "    <tr>\n",
       "      <th>0</th>\n",
       "      <td>2010-11-04</td>\n",
       "      <td>1345</td>\n",
       "      <td>Central</td>\n",
       "      <td>20.0</td>\n",
       "      <td>F</td>\n",
       "      <td>H</td>\n",
       "      <td>7TH                          ST</td>\n",
       "      <td>LAWRENCE                     ST</td>\n",
       "      <td>34.0348</td>\n",
       "      <td>-118.2362</td>\n",
       "    </tr>\n",
       "    <tr>\n",
       "      <th>1</th>\n",
       "      <td>2010-08-10</td>\n",
       "      <td>1900</td>\n",
       "      <td>77th Street</td>\n",
       "      <td>31.0</td>\n",
       "      <td>F</td>\n",
       "      <td>B</td>\n",
       "      <td>54TH                         ST</td>\n",
       "      <td>3RD                          AV</td>\n",
       "      <td>33.9932</td>\n",
       "      <td>-118.3203</td>\n",
       "    </tr>\n",
       "    <tr>\n",
       "      <th>2</th>\n",
       "      <td>2010-06-09</td>\n",
       "      <td>1925</td>\n",
       "      <td>Pacific</td>\n",
       "      <td>40.0</td>\n",
       "      <td>F</td>\n",
       "      <td>B</td>\n",
       "      <td>MANCHESTER                   BL</td>\n",
       "      <td>BELLANCA                     AV</td>\n",
       "      <td>33.9599</td>\n",
       "      <td>-118.3805</td>\n",
       "    </tr>\n",
       "    <tr>\n",
       "      <th>3</th>\n",
       "      <td>2010-04-06</td>\n",
       "      <td>1445</td>\n",
       "      <td>Topanga</td>\n",
       "      <td>51.0</td>\n",
       "      <td>M</td>\n",
       "      <td>O</td>\n",
       "      <td>ROSITA                       AV</td>\n",
       "      <td>CORBIN                       AV</td>\n",
       "      <td>34.1585</td>\n",
       "      <td>-118.5633</td>\n",
       "    </tr>\n",
       "    <tr>\n",
       "      <th>4</th>\n",
       "      <td>2010-05-23</td>\n",
       "      <td>1805</td>\n",
       "      <td>Southwest</td>\n",
       "      <td>32.0</td>\n",
       "      <td>F</td>\n",
       "      <td>H</td>\n",
       "      <td>43RD                         PL</td>\n",
       "      <td>WALTON                       AV</td>\n",
       "      <td>34.0055</td>\n",
       "      <td>-118.2948</td>\n",
       "    </tr>\n",
       "  </tbody>\n",
       "</table>\n",
       "</div>"
      ],
      "text/plain": [
       "  date_occured  time_occured    area_name  victim_age victim_sex victim_descent                          address                     cross_street  latitude  longitude\n",
       "0   2010-11-04          1345      Central        20.0          F              H  7TH                          ST  LAWRENCE                     ST   34.0348  -118.2362\n",
       "1   2010-08-10          1900  77th Street        31.0          F              B  54TH                         ST  3RD                          AV   33.9932  -118.3203\n",
       "2   2010-06-09          1925      Pacific        40.0          F              B  MANCHESTER                   BL  BELLANCA                     AV   33.9599  -118.3805\n",
       "3   2010-04-06          1445      Topanga        51.0          M              O  ROSITA                       AV  CORBIN                       AV   34.1585  -118.5633\n",
       "4   2010-05-23          1805    Southwest        32.0          F              H  43RD                         PL  WALTON                       AV   34.0055  -118.2948"
      ]
     },
     "execution_count": 95,
     "metadata": {},
     "output_type": "execute_result"
    }
   ],
   "source": [
    "def get_lat(coords):\n",
    "    lat = re.compile('(?<=latitude\\': \\').+(?=\\'})')\n",
    "    return(float(lat.search(coords).group()))\n",
    "\n",
    "def get_long(coords):\n",
    "    long = re.compile('(?<=longitude\\': \\').+(?=\\', \\'h)')\n",
    "    return float(long.search(coords).group())\n",
    "\n",
    "traffic_df['latitude'] = traffic_df['location'].apply(get_lat)\n",
    "traffic_df['longitude'] = traffic_df['location'].apply(get_long)\n",
    "traffic_df = traffic_df.drop('location',1)\n",
    "traffic_df.head()"
   ]
  },
  {
   "cell_type": "code",
   "execution_count": 96,
   "metadata": {},
   "outputs": [
    {
     "data": {
      "text/plain": [
       "date_occured      datetime64[ns]\n",
       "time_occured               int64\n",
       "area_name                 object\n",
       "victim_age               float64\n",
       "victim_sex                object\n",
       "victim_descent            object\n",
       "address                   object\n",
       "cross_street              object\n",
       "latitude                 float64\n",
       "longitude                float64\n",
       "dtype: object"
      ]
     },
     "execution_count": 96,
     "metadata": {},
     "output_type": "execute_result"
    }
   ],
   "source": [
    "traffic_df.dtypes"
   ]
  },
  {
   "cell_type": "code",
   "execution_count": null,
   "metadata": {
    "collapsed": true
   },
   "outputs": [],
   "source": []
  },
  {
   "cell_type": "code",
   "execution_count": 97,
   "metadata": {},
   "outputs": [
    {
     "data": {
      "text/html": [
       "<div>\n",
       "<style scoped>\n",
       "    .dataframe tbody tr th:only-of-type {\n",
       "        vertical-align: middle;\n",
       "    }\n",
       "\n",
       "    .dataframe tbody tr th {\n",
       "        vertical-align: top;\n",
       "    }\n",
       "\n",
       "    .dataframe thead th {\n",
       "        text-align: right;\n",
       "    }\n",
       "</style>\n",
       "<table border=\"1\" class=\"dataframe\">\n",
       "  <thead>\n",
       "    <tr style=\"text-align: right;\">\n",
       "      <th></th>\n",
       "      <th>trip_id</th>\n",
       "      <th>duration</th>\n",
       "      <th>start_time</th>\n",
       "      <th>end_time</th>\n",
       "      <th>start_station</th>\n",
       "      <th>start_lat</th>\n",
       "      <th>start_lon</th>\n",
       "      <th>end_station</th>\n",
       "      <th>end_lat</th>\n",
       "      <th>end_lon</th>\n",
       "      <th>bike_id</th>\n",
       "      <th>plan_duration</th>\n",
       "      <th>trip_route_category</th>\n",
       "      <th>passholder_type</th>\n",
       "      <th>start_address</th>\n",
       "      <th>start_zip</th>\n",
       "      <th>start_name</th>\n",
       "      <th>start_docks</th>\n",
       "      <th>end_address</th>\n",
       "      <th>end_zip</th>\n",
       "      <th>end_name</th>\n",
       "      <th>end_docks</th>\n",
       "      <th>charged_ride</th>\n",
       "      <th>start_hour</th>\n",
       "      <th>active_6m</th>\n",
       "      <th>annual</th>\n",
       "      <th>monthly</th>\n",
       "      <th>one_day</th>\n",
       "      <th>walk_up</th>\n",
       "      <th>one_way</th>\n",
       "      <th>round_trip</th>\n",
       "      <th>time_block_count</th>\n",
       "      <th>time_block_count_post_free</th>\n",
       "    </tr>\n",
       "  </thead>\n",
       "  <tbody>\n",
       "    <tr>\n",
       "      <th>0</th>\n",
       "      <td>33404951</td>\n",
       "      <td>36</td>\n",
       "      <td>2017-07-01 00:09:00</td>\n",
       "      <td>2017-07-01 00:45:00</td>\n",
       "      <td>3018</td>\n",
       "      <td>34.043732</td>\n",
       "      <td>-118.260139</td>\n",
       "      <td>3018</td>\n",
       "      <td>34.043732</td>\n",
       "      <td>-118.260139</td>\n",
       "      <td>5996</td>\n",
       "      <td>0</td>\n",
       "      <td>Round Trip</td>\n",
       "      <td>Walk-up</td>\n",
       "      <td>919 S Grand Ave</td>\n",
       "      <td>90015</td>\n",
       "      <td>Grand &amp; Olympic</td>\n",
       "      <td>22.0</td>\n",
       "      <td>919 S Grand Ave</td>\n",
       "      <td>90015</td>\n",
       "      <td>Grand &amp; Olympic</td>\n",
       "      <td>22.0</td>\n",
       "      <td>1</td>\n",
       "      <td>0</td>\n",
       "      <td>1</td>\n",
       "      <td>0</td>\n",
       "      <td>0</td>\n",
       "      <td>0</td>\n",
       "      <td>1</td>\n",
       "      <td>0</td>\n",
       "      <td>1</td>\n",
       "      <td>2</td>\n",
       "      <td>1</td>\n",
       "    </tr>\n",
       "    <tr>\n",
       "      <th>1</th>\n",
       "      <td>33404950</td>\n",
       "      <td>13</td>\n",
       "      <td>2017-07-01 00:10:00</td>\n",
       "      <td>2017-07-01 00:23:00</td>\n",
       "      <td>3055</td>\n",
       "      <td>34.044159</td>\n",
       "      <td>-118.251579</td>\n",
       "      <td>3082</td>\n",
       "      <td>34.046520</td>\n",
       "      <td>-118.237411</td>\n",
       "      <td>5777</td>\n",
       "      <td>0</td>\n",
       "      <td>One Way</td>\n",
       "      <td>Walk-up</td>\n",
       "      <td>111 W 7th Street</td>\n",
       "      <td>90014</td>\n",
       "      <td>7th &amp; Main</td>\n",
       "      <td>23.0</td>\n",
       "      <td>599 Traction Ave</td>\n",
       "      <td>90013</td>\n",
       "      <td>Traction &amp; Rose</td>\n",
       "      <td>27.0</td>\n",
       "      <td>0</td>\n",
       "      <td>0</td>\n",
       "      <td>1</td>\n",
       "      <td>0</td>\n",
       "      <td>0</td>\n",
       "      <td>0</td>\n",
       "      <td>1</td>\n",
       "      <td>1</td>\n",
       "      <td>0</td>\n",
       "      <td>1</td>\n",
       "      <td>0</td>\n",
       "    </tr>\n",
       "    <tr>\n",
       "      <th>2</th>\n",
       "      <td>33404947</td>\n",
       "      <td>34</td>\n",
       "      <td>2017-07-01 00:11:00</td>\n",
       "      <td>2017-07-01 00:45:00</td>\n",
       "      <td>3018</td>\n",
       "      <td>34.043732</td>\n",
       "      <td>-118.260139</td>\n",
       "      <td>3018</td>\n",
       "      <td>34.043732</td>\n",
       "      <td>-118.260139</td>\n",
       "      <td>6342</td>\n",
       "      <td>0</td>\n",
       "      <td>Round Trip</td>\n",
       "      <td>Walk-up</td>\n",
       "      <td>919 S Grand Ave</td>\n",
       "      <td>90015</td>\n",
       "      <td>Grand &amp; Olympic</td>\n",
       "      <td>22.0</td>\n",
       "      <td>919 S Grand Ave</td>\n",
       "      <td>90015</td>\n",
       "      <td>Grand &amp; Olympic</td>\n",
       "      <td>22.0</td>\n",
       "      <td>1</td>\n",
       "      <td>0</td>\n",
       "      <td>1</td>\n",
       "      <td>0</td>\n",
       "      <td>0</td>\n",
       "      <td>0</td>\n",
       "      <td>1</td>\n",
       "      <td>0</td>\n",
       "      <td>1</td>\n",
       "      <td>2</td>\n",
       "      <td>1</td>\n",
       "    </tr>\n",
       "    <tr>\n",
       "      <th>3</th>\n",
       "      <td>33404948</td>\n",
       "      <td>34</td>\n",
       "      <td>2017-07-01 00:11:00</td>\n",
       "      <td>2017-07-01 00:45:00</td>\n",
       "      <td>3018</td>\n",
       "      <td>34.043732</td>\n",
       "      <td>-118.260139</td>\n",
       "      <td>3018</td>\n",
       "      <td>34.043732</td>\n",
       "      <td>-118.260139</td>\n",
       "      <td>6478</td>\n",
       "      <td>0</td>\n",
       "      <td>Round Trip</td>\n",
       "      <td>Walk-up</td>\n",
       "      <td>919 S Grand Ave</td>\n",
       "      <td>90015</td>\n",
       "      <td>Grand &amp; Olympic</td>\n",
       "      <td>22.0</td>\n",
       "      <td>919 S Grand Ave</td>\n",
       "      <td>90015</td>\n",
       "      <td>Grand &amp; Olympic</td>\n",
       "      <td>22.0</td>\n",
       "      <td>1</td>\n",
       "      <td>0</td>\n",
       "      <td>1</td>\n",
       "      <td>0</td>\n",
       "      <td>0</td>\n",
       "      <td>0</td>\n",
       "      <td>1</td>\n",
       "      <td>0</td>\n",
       "      <td>1</td>\n",
       "      <td>2</td>\n",
       "      <td>1</td>\n",
       "    </tr>\n",
       "    <tr>\n",
       "      <th>4</th>\n",
       "      <td>33404949</td>\n",
       "      <td>12</td>\n",
       "      <td>2017-07-01 00:11:00</td>\n",
       "      <td>2017-07-01 00:23:00</td>\n",
       "      <td>3055</td>\n",
       "      <td>34.044159</td>\n",
       "      <td>-118.251579</td>\n",
       "      <td>3082</td>\n",
       "      <td>34.046520</td>\n",
       "      <td>-118.237411</td>\n",
       "      <td>6411</td>\n",
       "      <td>0</td>\n",
       "      <td>One Way</td>\n",
       "      <td>Walk-up</td>\n",
       "      <td>111 W 7th Street</td>\n",
       "      <td>90014</td>\n",
       "      <td>7th &amp; Main</td>\n",
       "      <td>23.0</td>\n",
       "      <td>599 Traction Ave</td>\n",
       "      <td>90013</td>\n",
       "      <td>Traction &amp; Rose</td>\n",
       "      <td>27.0</td>\n",
       "      <td>0</td>\n",
       "      <td>0</td>\n",
       "      <td>1</td>\n",
       "      <td>0</td>\n",
       "      <td>0</td>\n",
       "      <td>0</td>\n",
       "      <td>1</td>\n",
       "      <td>1</td>\n",
       "      <td>0</td>\n",
       "      <td>1</td>\n",
       "      <td>0</td>\n",
       "    </tr>\n",
       "  </tbody>\n",
       "</table>\n",
       "</div>"
      ],
      "text/plain": [
       "    trip_id  duration          start_time            end_time  start_station  start_lat   start_lon  end_station    end_lat     end_lon  bike_id  plan_duration trip_route_category passholder_type     start_address start_zip       start_name  start_docks       end_address end_zip         end_name  end_docks  charged_ride  start_hour  active_6m  annual  monthly  one_day  walk_up  one_way  round_trip  time_block_count  time_block_count_post_free\n",
       "0  33404951        36 2017-07-01 00:09:00 2017-07-01 00:45:00           3018  34.043732 -118.260139         3018  34.043732 -118.260139     5996              0          Round Trip         Walk-up   919 S Grand Ave     90015  Grand & Olympic         22.0   919 S Grand Ave   90015  Grand & Olympic       22.0             1           0          1       0        0        0        1        0           1                 2                           1\n",
       "1  33404950        13 2017-07-01 00:10:00 2017-07-01 00:23:00           3055  34.044159 -118.251579         3082  34.046520 -118.237411     5777              0             One Way         Walk-up  111 W 7th Street     90014       7th & Main         23.0  599 Traction Ave   90013  Traction & Rose       27.0             0           0          1       0        0        0        1        1           0                 1                           0\n",
       "2  33404947        34 2017-07-01 00:11:00 2017-07-01 00:45:00           3018  34.043732 -118.260139         3018  34.043732 -118.260139     6342              0          Round Trip         Walk-up   919 S Grand Ave     90015  Grand & Olympic         22.0   919 S Grand Ave   90015  Grand & Olympic       22.0             1           0          1       0        0        0        1        0           1                 2                           1\n",
       "3  33404948        34 2017-07-01 00:11:00 2017-07-01 00:45:00           3018  34.043732 -118.260139         3018  34.043732 -118.260139     6478              0          Round Trip         Walk-up   919 S Grand Ave     90015  Grand & Olympic         22.0   919 S Grand Ave   90015  Grand & Olympic       22.0             1           0          1       0        0        0        1        0           1                 2                           1\n",
       "4  33404949        12 2017-07-01 00:11:00 2017-07-01 00:23:00           3055  34.044159 -118.251579         3082  34.046520 -118.237411     6411              0             One Way         Walk-up  111 W 7th Street     90014       7th & Main         23.0  599 Traction Ave   90013  Traction & Rose       27.0             0           0          1       0        0        0        1        1           0                 1                           0"
      ]
     },
     "execution_count": 97,
     "metadata": {},
     "output_type": "execute_result"
    }
   ],
   "source": [
    "rides_df.head()"
   ]
  },
  {
   "cell_type": "code",
   "execution_count": null,
   "metadata": {
    "collapsed": true
   },
   "outputs": [],
   "source": []
  },
  {
   "cell_type": "code",
   "execution_count": 98,
   "metadata": {
    "collapsed": true
   },
   "outputs": [],
   "source": [
    "# len(rides_df[(rides_df['start_time'] > datetime.date(2018,6,1)) & (rides_df['start_time'] < datetime.date(2018,7,1))])"
   ]
  },
  {
   "cell_type": "code",
   "execution_count": 99,
   "metadata": {
    "collapsed": true
   },
   "outputs": [],
   "source": [
    "# len(rides_df[(rides_df['start_time'] > datetime.date(2018,5,1)) & (rides_df['start_time'] < datetime.date(2018,6,1))])"
   ]
  },
  {
   "cell_type": "code",
   "execution_count": 100,
   "metadata": {
    "collapsed": true
   },
   "outputs": [],
   "source": [
    "# # Import the necessary packages\n",
    "# import numpy\n",
    "# from cvxopt import matrix\n",
    "# from cvxopt import solvers\n",
    "# # Define QP parameters (directly)\n",
    "# P = matrix([[-1.0,0.0],[0.0,0.0]])\n",
    "# q = matrix([-3.0,-4.0])\n",
    "# G = matrix([[-1.0,0.0,-1.0,2.0,3.0],[0.0,-1.0,-3.0,5.0,4.0]])\n",
    "# h = matrix([0.0,0.0,-15.0,100.0,80.0])\n",
    "# # Define QP parameters (with NumPy)\n",
    "# # P = matrix(numpy.diag([1,0]), tc=’d’)\n",
    "# # q = matrix(numpy.array([3,4]), tc=’d’)\n",
    "# # G = matrix(numpy.array([[-1,0],[0,-1],[-1,-3],[2,5],[3,4]]), tc=’d’)\n",
    "# # h = matrix(numpy.array([0,0,-15,100,80]), tc=’d’)\n",
    "# # Construct the QP, invoke solver\n",
    "# sol = solvers.qp(P,q,G,h)\n",
    "# # Extract optimal value and solution\n",
    "# sol['x'] # [7.13e-07, 5.00e+00]\n",
    "# sol['primal objective'] # 20.0000061731"
   ]
  },
  {
   "cell_type": "markdown",
   "metadata": {},
   "source": [
    "### Potential EDA:\n",
    "1. Planning inventory around locations and time\n",
    "    1. Most common start, end station pairings\n",
    "    2. Most common time periods\n",
    "    3. Different heatmaps for different time periods\n",
    "    4. Start/end station correlation with available docks at location\n",
    "2. Pricing strategies for different passes\n",
    "    1. Usage rates across different passes\n",
    "        1. By duration\n",
    "        2. By number of trips\n",
    "        3. Total duration X trips\n",
    "    2. Geographical gropuing of where most passes originate/end from\n",
    "    3. Cohort analysis of different groups\n",
    "    4. How many rides were past the free 30 minute mark?\n",
    "3. Unit pricing strategies, what if we brought it back? Charging all > \n",
    "    1. Based on current pricing strategy, what would total revenue be on a per mile basis\n",
    "    2. Comparison with Bird/Jump bike pricing\n",
    "    3. Cohort analysis of different groups\n",
    "    4. Optimization function for 2 and 3\n",
    "\n",
    "Pricing strategies can be used to build predictor model for rides, duration, and total revenue\n",
    "\n",
    "### Feature engineering\n",
    "1. Hours\n",
    "2. Free ride with pass? (>30 in time or not)\n",
    "3. Active or none active bikes (whether they've been used in the past month)\n",
    "4. Number of 30 minute blocks\n",
    "5. One hot encoding pass type\n",
    "6. One hot encoding route type (one way, round trip)"
   ]
  },
  {
   "cell_type": "code",
   "execution_count": 101,
   "metadata": {
    "collapsed": true
   },
   "outputs": [],
   "source": [
    "# Constants\n",
    "\n",
    "daily_pass = agg_pass_groups['new_pass_prices']['daily']\n",
    "monthly_pass = agg_pass_groups['new_pass_prices']['monthly']\n",
    "annual_pass = 150\n",
    "\n",
    "walk_up_share = agg_pass_groups['percent_total_trips']['walk_up']\n",
    "daily_share = agg_pass_groups['percent_total_trips']['daily']\n",
    "monthly_share = agg_pass_groups['percent_total_trips']['monthly']\n",
    "annual_share = agg_pass_groups['percent_total_trips']['annual']\n",
    "\n",
    "walk_up_charged_blocks = agg_pass_groups['average_charged_blocks_per_ride']['walk_up']\n",
    "daily_charged_blocks = agg_pass_groups['average_charged_blocks_per_ride']['daily']\n",
    "monthly_charged_blocks = agg_pass_groups['average_charged_blocks_per_ride']['monthly']\n",
    "annual_charged_blocks = agg_pass_groups['average_charged_blocks_per_ride']['annual']"
   ]
  },
  {
   "cell_type": "code",
   "execution_count": 102,
   "metadata": {},
   "outputs": [
    {
     "name": "stdout",
     "output_type": "stream",
     "text": [
      "0.017066066148465685 -734.3868612370609\n"
     ]
    },
    {
     "data": {
      "text/plain": [
       "(0, 5)"
      ]
     },
     "execution_count": 102,
     "metadata": {},
     "output_type": "execute_result"
    },
    {
     "data": {
      "image/png": "[encoded data removed]",
      "text/plain": [
       "<matplotlib.figure.Figure at 0x1a4e68fac8>"
      ]
     },
     "metadata": {},
     "output_type": "display_data"
    }
   ],
   "source": [
    "weighted_slope = walk_up_share * slope_walk_up + daily_share * slope_daily + monthly_share * slope_monthly + annual_share * slope_monthly\n",
    "weighted_intercept = walk_up_share * intercept_walk_up + daily_share * intercept_daily + monthly_share * intercept_monthly + annual_share * intercept_monthly\n",
    "print(weighted_slope, weighted_intercept)\n",
    "def weighted_demand(x):\n",
    "    return weighted_slope * x + weighted_intercept\n",
    "plt.plot(q, weighted_demand(q))\n",
    "plt.ylim((0,5))"
   ]
  },
  {
   "cell_type": "code",
   "execution_count": 103,
   "metadata": {},
   "outputs": [
    {
     "name": "stdout",
     "output_type": "stream",
     "text": [
      "0.013133045523328685 -563.5662939315079\n"
     ]
    },
    {
     "data": {
      "text/plain": [
       "(0, 5)"
      ]
     },
     "execution_count": 103,
     "metadata": {},
     "output_type": "execute_result"
    },
    {
     "data": {
      "image/png": "[encoded data removed]",
      "text/plain": [
       "<matplotlib.figure.Figure at 0x1a3e41f860>"
      ]
     },
     "metadata": {},
     "output_type": "display_data"
    }
   ],
   "source": [
    "walk_up_share_new = new_riders['percent_total_trips']['Walk-up']\n",
    "daily_share_new = new_riders['percent_total_trips']['One Day Pass']\n",
    "monthly_share_new = new_riders['percent_total_trips']['Monthly Pass']\n",
    "annual_share_new = new_riders['percent_total_trips']['Flex Pass']\n",
    "\n",
    "weighted_slope_new = walk_up_share_new * slope_walk_up + daily_share_new * slope_daily + monthly_share_new * slope_monthly + annual_share_new * slope_monthly\n",
    "weighted_intercept_new = walk_up_share_new * intercept_walk_up + daily_share_new * intercept_daily + monthly_share_new * intercept_monthly + annual_share_new * intercept_monthly\n",
    "print(weighted_slope_new, weighted_intercept_new)\n",
    "def weighted_demand_new(x):\n",
    "    return weighted_slope_new * x + weighted_intercept_new\n",
    "plt.plot(q, weighted_demand_new(q))\n",
    "plt.ylim((0,5))"
   ]
  },
  {
   "cell_type": "code",
   "execution_count": 104,
   "metadata": {},
   "outputs": [
    {
     "name": "stdout",
     "output_type": "stream",
     "text": [
      "     fun: -1623030.3308773183\n",
      "     jac: array([-5.59883906e+04, -1.65781250e+01])\n",
      " message: 'Optimization terminated successfully.'\n",
      "    nfev: 41\n",
      "     nit: 10\n",
      "    njev: 10\n",
      "  status: 0\n",
      " success: True\n",
      "       x: array([1.50000000e+00, 9.78438571e+04])\n",
      "1623030\n"
     ]
    }
   ],
   "source": [
    "from scipy.optimize import minimize\n",
    "\n",
    "# Base quadratic with demand curve.\n",
    "\n",
    "def objective(x):\n",
    "    rate = x[0]\n",
    "    riders = x[1]\n",
    "    \n",
    "    walk_up_rev = riders * walk_up_share * walk_up_charged_blocks * rate\n",
    "    day_rev = riders * daily_share * daily_charged_blocks * rate\n",
    "    month_rev = riders * monthly_share * monthly_charged_blocks * rate\n",
    "    annual_rev = riders * annual_share * annual_charged_blocks * rate\n",
    "    \n",
    "    day_pass_rev = riders * daily_share * daily_pass\n",
    "    month_pass_rev = riders * monthly_share * monthly_pass\n",
    "    annual_pass_rev = riders * annual_share * annual_pass\n",
    "    \n",
    "    total_revenue = walk_up_rev + day_rev + month_rev + annual_rev + day_pass_rev + month_pass_rev + annual_pass_rev\n",
    "    return -total_revenue\n",
    "\n",
    "def demand_constraint(x):\n",
    "    rate = x[0]\n",
    "    riders = x[1]\n",
    "    return rate - slope * riders - intercept\n",
    "\n",
    "cons = {'type':'eq', 'fun':demand_constraint}\n",
    "    \n",
    "b1 = (1.5, 2.5)\n",
    "b2 = (50000, 140000)\n",
    "\n",
    "bnds = (b1,b2)\n",
    "\n",
    "x0 = np.array([1.75, 77357])\n",
    "\n",
    "sol = minimize(objective, x0, method='SLSQP', constraints=cons, bounds=bnds)\n",
    "\n",
    "print(sol)\n",
    "print(-round(sol['fun']))"
   ]
  },
  {
   "cell_type": "code",
   "execution_count": 105,
   "metadata": {},
   "outputs": [
    {
     "name": "stdout",
     "output_type": "stream",
     "text": [
      "Total rev | Rate charged | Total riders | Rate range | Rider range\n",
      "1678530     1.0            102966.0       (1, 2.5)     (50000, 140000)\n",
      "1678530     1.0            102966.0       (1, 2.5)     (50000, 120000)\n",
      "1651146     1.0            100405.0       (1.25, 2.5)     (50000, 140000)\n",
      "1651146     1.0            100405.0       (1.25, 2.5)     (50000, 120000)\n",
      "1646752     1.0            100000.0       (1.25, 2.5)     (50000, 100000)\n",
      "1646752     1.0            100000.0       (1, 2.5)     (50000, 100000)\n",
      "1623030     2.0            97844.0       (1.5, 2.5)     (50000, 140000)\n",
      "1623030     2.0            97844.0       (1.5, 2.5)     (50000, 120000)\n",
      "1623030     2.0            97844.0       (1.5, 2.5)     (50000, 100000)\n",
      "1594182     2.0            95283.0       (1.75, 2.5)     (50000, 140000)\n",
      "1594182     2.0            95283.0       (1.75, 2.5)     (50000, 120000)\n",
      "1594182     2.0            95283.0       (1.75, 2.5)     (50000, 100000)\n",
      "1372815     2.0            80000.0       (1.75, 2.5)     (50000, 80000)\n",
      "1372815     2.0            80000.0       (1.5, 2.5)     (50000, 80000)\n",
      "1372815     2.0            80000.0       (1.25, 2.5)     (50000, 80000)\n",
      "1372815     2.0            80000.0       (1, 2.5)     (50000, 80000)\n"
     ]
    }
   ],
   "source": [
    "price_range_1 = (1, 2.5)\n",
    "price_range_2 = (1.25, 2.5)\n",
    "price_range_3 = (1.5, 2.5)\n",
    "price_range_4 = (1.75, 2.5)\n",
    "\n",
    "rider_range_1 = (50000, 80000)\n",
    "rider_range_2 = (50000, 100000)\n",
    "rider_range_3 = (50000, 120000)\n",
    "rider_range_4 = (50000, 140000)\n",
    "\n",
    "bounds = [((price_range_1, rider_range_1)) , ((price_range_1, rider_range_2)) , ((price_range_1, rider_range_3))\n",
    "          , ((price_range_1, rider_range_4)) , ((price_range_2, rider_range_1)) , ((price_range_2, rider_range_2))\n",
    "          , ((price_range_2, rider_range_3)) , ((price_range_2, rider_range_4)) , ((price_range_3, rider_range_1))\n",
    "          , ((price_range_3, rider_range_2)) , ((price_range_3, rider_range_3)) , ((price_range_3, rider_range_4))\n",
    "          , ((price_range_4, rider_range_1)) , ((price_range_4, rider_range_2)) , ((price_range_4, rider_range_3))\n",
    "          , ((price_range_4, rider_range_4))\n",
    "          ]\n",
    "\n",
    "sensitivity_results = [minimize(objective, x0, method='SLSQP', constraints=cons, bounds=bnds) for bnds in bounds]\n",
    "sensitivity_total_rev = [-round(sol['fun']) for sol in sensitivity_results]\n",
    "sensitivity_rate = [round(sol['x'][0]) for sol in sensitivity_results]\n",
    "sensitivity_riders = [round(sol['x'][1]) for sol in sensitivity_results]\n",
    "price_ranges = [pair[0] for pair in bounds]\n",
    "rider_ranges = [pair[1] for pair in bounds]\n",
    "\n",
    "sensitivity_sorted = sorted(list(zip(sensitivity_total_rev, sensitivity_rate, sensitivity_riders, price_ranges, \n",
    "                                     rider_ranges)), reverse = True)\n",
    "\n",
    "print('Total rev | Rate charged | Total riders | Rate range | Rider range')\n",
    "for test_i in range(len(sensitivity_sorted)):\n",
    "    print(sensitivity_sorted[test_i][0], '   ',sensitivity_sorted[test_i][1], '          ',\n",
    "          sensitivity_sorted[test_i][2], \n",
    "          '     ',sensitivity_sorted[test_i][3], '   ', sensitivity_sorted[test_i][4])"
   ]
  },
  {
   "cell_type": "code",
   "execution_count": 106,
   "metadata": {},
   "outputs": [
    {
     "name": "stdout",
     "output_type": "stream",
     "text": [
      "     fun: -1327742.6233361303\n",
      "     jac: array([-4.42747656e+04, -1.71562500e+01])\n",
      " message: 'Positive directional derivative for linesearch'\n",
      "    nfev: 50\n",
      "     nit: 9\n",
      "    njev: 5\n",
      "  status: 8\n",
      " success: False\n",
      "       x: array([2.50000000e+00, 7.73734432e+04])\n",
      "1327743\n"
     ]
    }
   ],
   "source": [
    "# Using weighted demand curve.\n",
    "\n",
    "def objective(x):\n",
    "    rate = x[0]\n",
    "    riders = x[1]\n",
    "    \n",
    "    walk_up_rev = riders * walk_up_share * walk_up_charged_blocks * rate\n",
    "    day_rev = riders * daily_share * daily_charged_blocks * rate\n",
    "    month_rev = riders * monthly_share * monthly_charged_blocks * rate\n",
    "    annual_rev = riders * annual_share * annual_charged_blocks * rate\n",
    "    \n",
    "    day_pass_rev = riders * daily_share * daily_pass\n",
    "    month_pass_rev = riders * monthly_share * monthly_pass\n",
    "    annual_pass_rev = riders * annual_share * annual_pass\n",
    "    \n",
    "    total_revenue = walk_up_rev + day_rev + month_rev + annual_rev + day_pass_rev + month_pass_rev + annual_pass_rev\n",
    "    return -total_revenue\n",
    "\n",
    "def demand_constraint(x):\n",
    "    rate = x[0]\n",
    "    riders = x[1]\n",
    "    return rate - weighted_slope_new * riders - weighted_intercept_new\n",
    "\n",
    "cons = {'type':'eq', 'fun':demand_constraint}\n",
    "    \n",
    "b1 = (1, 2.5)\n",
    "b2 = (50000, 140000)\n",
    "\n",
    "bnds = (b1,b2)\n",
    "\n",
    "x0 = np.array([1.75, 77357])\n",
    "\n",
    "sol = minimize(objective, x0, method='SLSQP', constraints=cons, bounds=bnds)\n",
    "\n",
    "print(sol)\n",
    "print(-round(sol['fun']))"
   ]
  },
  {
   "cell_type": "code",
   "execution_count": 112,
   "metadata": {},
   "outputs": [
    {
     "data": {
      "text/plain": [
       "passholder_type\n",
       "Annual Pass        12\n",
       "Flex Pass        1577\n",
       "Monthly Pass    43967\n",
       "One Day Pass     4737\n",
       "Walk-up         44990\n",
       "Name: total_trips, dtype: int64"
      ]
     },
     "execution_count": 112,
     "metadata": {},
     "output_type": "execute_result"
    }
   ],
   "source": [
    "new_riders['total_trips']"
   ]
  },
  {
   "cell_type": "code",
   "execution_count": 109,
   "metadata": {},
   "outputs": [
    {
     "ename": "IndexError",
     "evalue": "index 2 is out of bounds for axis 0 with size 2",
     "output_type": "error",
     "traceback": [
      "\u001b[0;31m---------------------------------------------------------------------------\u001b[0m",
      "\u001b[0;31mIndexError\u001b[0m                                Traceback (most recent call last)",
      "\u001b[0;32m<ipython-input-109-3a852e05accf>\u001b[0m in \u001b[0;36m<module>\u001b[0;34m()\u001b[0m\n\u001b[1;32m     35\u001b[0m \u001b[0mx0\u001b[0m \u001b[0;34m=\u001b[0m \u001b[0mnp\u001b[0m\u001b[0;34m.\u001b[0m\u001b[0marray\u001b[0m\u001b[0;34m(\u001b[0m\u001b[0;34m[\u001b[0m\u001b[0;36m1.75\u001b[0m\u001b[0;34m,\u001b[0m \u001b[0;36m77357\u001b[0m\u001b[0;34m]\u001b[0m\u001b[0;34m)\u001b[0m\u001b[0;34m\u001b[0m\u001b[0m\n\u001b[1;32m     36\u001b[0m \u001b[0;34m\u001b[0m\u001b[0m\n\u001b[0;32m---> 37\u001b[0;31m \u001b[0msol\u001b[0m \u001b[0;34m=\u001b[0m \u001b[0mminimize\u001b[0m\u001b[0;34m(\u001b[0m\u001b[0mobjective\u001b[0m\u001b[0;34m,\u001b[0m \u001b[0mx0\u001b[0m\u001b[0;34m,\u001b[0m \u001b[0mmethod\u001b[0m\u001b[0;34m=\u001b[0m\u001b[0;34m'SLSQP'\u001b[0m\u001b[0;34m,\u001b[0m \u001b[0mconstraints\u001b[0m\u001b[0;34m=\u001b[0m\u001b[0mcons\u001b[0m\u001b[0;34m,\u001b[0m \u001b[0mbounds\u001b[0m\u001b[0;34m=\u001b[0m\u001b[0mbnds\u001b[0m\u001b[0;34m)\u001b[0m\u001b[0;34m\u001b[0m\u001b[0m\n\u001b[0m",
      "\u001b[0;32m/Applications/anaconda3/lib/python3.6/site-packages/scipy/optimize/_minimize.py\u001b[0m in \u001b[0;36mminimize\u001b[0;34m(fun, x0, args, method, jac, hess, hessp, bounds, constraints, tol, callback, options)\u001b[0m\n\u001b[1;32m    493\u001b[0m     \u001b[0;32melif\u001b[0m \u001b[0mmeth\u001b[0m \u001b[0;34m==\u001b[0m \u001b[0;34m'slsqp'\u001b[0m\u001b[0;34m:\u001b[0m\u001b[0;34m\u001b[0m\u001b[0m\n\u001b[1;32m    494\u001b[0m         return _minimize_slsqp(fun, x0, args, jac, bounds,\n\u001b[0;32m--> 495\u001b[0;31m                                constraints, callback=callback, **options)\n\u001b[0m\u001b[1;32m    496\u001b[0m     \u001b[0;32melif\u001b[0m \u001b[0mmeth\u001b[0m \u001b[0;34m==\u001b[0m \u001b[0;34m'dogleg'\u001b[0m\u001b[0;34m:\u001b[0m\u001b[0;34m\u001b[0m\u001b[0m\n\u001b[1;32m    497\u001b[0m         return _minimize_dogleg(fun, x0, args, jac, hess,\n",
      "\u001b[0;32m/Applications/anaconda3/lib/python3.6/site-packages/scipy/optimize/slsqp.py\u001b[0m in \u001b[0;36m_minimize_slsqp\u001b[0;34m(func, x0, args, jac, bounds, constraints, maxiter, ftol, iprint, disp, eps, callback, **unknown_options)\u001b[0m\n\u001b[1;32m    376\u001b[0m \u001b[0;34m\u001b[0m\u001b[0m\n\u001b[1;32m    377\u001b[0m             \u001b[0;31m# Compute objective function\u001b[0m\u001b[0;34m\u001b[0m\u001b[0;34m\u001b[0m\u001b[0m\n\u001b[0;32m--> 378\u001b[0;31m             \u001b[0mfx\u001b[0m \u001b[0;34m=\u001b[0m \u001b[0mfunc\u001b[0m\u001b[0;34m(\u001b[0m\u001b[0mx\u001b[0m\u001b[0;34m)\u001b[0m\u001b[0;34m\u001b[0m\u001b[0m\n\u001b[0m\u001b[1;32m    379\u001b[0m             \u001b[0;32mtry\u001b[0m\u001b[0;34m:\u001b[0m\u001b[0;34m\u001b[0m\u001b[0m\n\u001b[1;32m    380\u001b[0m                 \u001b[0mfx\u001b[0m \u001b[0;34m=\u001b[0m \u001b[0mfloat\u001b[0m\u001b[0;34m(\u001b[0m\u001b[0mnp\u001b[0m\u001b[0;34m.\u001b[0m\u001b[0masarray\u001b[0m\u001b[0;34m(\u001b[0m\u001b[0mfx\u001b[0m\u001b[0;34m)\u001b[0m\u001b[0;34m)\u001b[0m\u001b[0;34m\u001b[0m\u001b[0m\n",
      "\u001b[0;32m/Applications/anaconda3/lib/python3.6/site-packages/scipy/optimize/optimize.py\u001b[0m in \u001b[0;36mfunction_wrapper\u001b[0;34m(*wrapper_args)\u001b[0m\n\u001b[1;32m    290\u001b[0m     \u001b[0;32mdef\u001b[0m \u001b[0mfunction_wrapper\u001b[0m\u001b[0;34m(\u001b[0m\u001b[0;34m*\u001b[0m\u001b[0mwrapper_args\u001b[0m\u001b[0;34m)\u001b[0m\u001b[0;34m:\u001b[0m\u001b[0;34m\u001b[0m\u001b[0m\n\u001b[1;32m    291\u001b[0m         \u001b[0mncalls\u001b[0m\u001b[0;34m[\u001b[0m\u001b[0;36m0\u001b[0m\u001b[0;34m]\u001b[0m \u001b[0;34m+=\u001b[0m \u001b[0;36m1\u001b[0m\u001b[0;34m\u001b[0m\u001b[0m\n\u001b[0;32m--> 292\u001b[0;31m         \u001b[0;32mreturn\u001b[0m \u001b[0mfunction\u001b[0m\u001b[0;34m(\u001b[0m\u001b[0;34m*\u001b[0m\u001b[0;34m(\u001b[0m\u001b[0mwrapper_args\u001b[0m \u001b[0;34m+\u001b[0m \u001b[0margs\u001b[0m\u001b[0;34m)\u001b[0m\u001b[0;34m)\u001b[0m\u001b[0;34m\u001b[0m\u001b[0m\n\u001b[0m\u001b[1;32m    293\u001b[0m \u001b[0;34m\u001b[0m\u001b[0m\n\u001b[1;32m    294\u001b[0m     \u001b[0;32mreturn\u001b[0m \u001b[0mncalls\u001b[0m\u001b[0;34m,\u001b[0m \u001b[0mfunction_wrapper\u001b[0m\u001b[0;34m\u001b[0m\u001b[0m\n",
      "\u001b[0;32m<ipython-input-109-3a852e05accf>\u001b[0m in \u001b[0;36mobjective\u001b[0;34m(x)\u001b[0m\n\u001b[1;32m      4\u001b[0m     \u001b[0mwalk_rate\u001b[0m \u001b[0;34m=\u001b[0m \u001b[0mx\u001b[0m\u001b[0;34m[\u001b[0m\u001b[0;36m0\u001b[0m\u001b[0;34m]\u001b[0m\u001b[0;34m\u001b[0m\u001b[0m\n\u001b[1;32m      5\u001b[0m     \u001b[0mwalk_riders\u001b[0m \u001b[0;34m=\u001b[0m \u001b[0mx\u001b[0m\u001b[0;34m[\u001b[0m\u001b[0;36m1\u001b[0m\u001b[0;34m]\u001b[0m\u001b[0;34m\u001b[0m\u001b[0m\n\u001b[0;32m----> 6\u001b[0;31m     \u001b[0mday_rate\u001b[0m \u001b[0;34m=\u001b[0m \u001b[0mx\u001b[0m\u001b[0;34m[\u001b[0m\u001b[0;36m2\u001b[0m\u001b[0;34m]\u001b[0m\u001b[0;34m\u001b[0m\u001b[0m\n\u001b[0m\u001b[1;32m      7\u001b[0m     \u001b[0mday_riders\u001b[0m \u001b[0;34m=\u001b[0m \u001b[0mx\u001b[0m\u001b[0;34m[\u001b[0m\u001b[0;36m3\u001b[0m\u001b[0;34m]\u001b[0m\u001b[0;34m\u001b[0m\u001b[0m\n\u001b[1;32m      8\u001b[0m     \u001b[0mmonth_rate\u001b[0m \u001b[0;34m=\u001b[0m \u001b[0mx\u001b[0m\u001b[0;34m[\u001b[0m\u001b[0;36m4\u001b[0m\u001b[0;34m]\u001b[0m\u001b[0;34m\u001b[0m\u001b[0m\n",
      "\u001b[0;31mIndexError\u001b[0m: index 2 is out of bounds for axis 0 with size 2"
     ]
    }
   ],
   "source": [
    "# Incorporating segmented demand curves\n",
    "\n",
    "def objective(x):\n",
    "    walk_rate = x[0]\n",
    "    walk_riders = x[1]\n",
    "    day_rate = x[2]\n",
    "    day_riders = x[3]\n",
    "    month_rate = x[4]\n",
    "    month_riders = x[5]\n",
    "    annual_rate = x[6]\n",
    "    \n",
    "    walk_up_rev = walk_riders * walk_up_charged_blocks * walk_rate\n",
    "    day_rev = day_riders * daily_charged_blocks * day_rate\n",
    "    month_rev = month_riders * monthly_charged_blocks * month_rate\n",
    "    \n",
    "    annual_riders = (walk_riders + day_riders + month_riders)*(annual_share_new/(walk_up_share_new + daily_share_new\n",
    "                                                                                 + monthly_share_new))\n",
    "    annual_rev = annual_riders * annual_charged_blocks * annual_rate\n",
    "    \n",
    "    day_pass_rev = day_riders * daily_pass\n",
    "    month_pass_rev = month_riders * monthly_pass\n",
    "    annual_pass_rev = annual_riders * annual_pass\n",
    "    \n",
    "    total_revenue = walk_up_rev + day_rev + month_rev + annual_rev + day_pass_rev + month_pass_rev + annual_pass_rev\n",
    "    return -total_revenue\n",
    "\n",
    "def demand_constraint(x):\n",
    "    rate = x[0]\n",
    "    riders = x[1]\n",
    "    return rate - slope * riders - intercept\n",
    "\n",
    "cons = {'type':'eq', 'fun':demand_constraint}\n",
    "    \n",
    "b1 = (1.5, 2.5)\n",
    "b2 = (50000, 150000)\n",
    "\n",
    "bnds = (b1,b2)\n",
    "\n",
    "x0 = np.array([1.75, 77357])\n",
    "\n",
    "sol = minimize(objective, x0, method='SLSQP', constraints=cons, bounds=bnds)"
   ]
  },
  {
   "cell_type": "code",
   "execution_count": null,
   "metadata": {
    "collapsed": true
   },
   "outputs": [],
   "source": []
  }
 ],
 "metadata": {
  "kernelspec": {
   "display_name": "Python 3",
   "language": "python",
   "name": "python3"
  },
  "language_info": {
   "codemirror_mode": {
    "name": "ipython",
    "version": 3
   },
   "file_extension": ".py",
   "mimetype": "text/x-python",
   "name": "python",
   "nbconvert_exporter": "python",
   "pygments_lexer": "ipython3",
   "version": "3.6.3"
  }
 },
 "nbformat": 4,
 "nbformat_minor": 2
}
