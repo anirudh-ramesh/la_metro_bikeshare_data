{
 "cells": [
  {
   "cell_type": "markdown",
   "metadata": {},
   "source": [
    "# LA Metro Bikeshare EDA\n",
    "1. Story planning\n",
    "2. Obtain data sets - D\n",
    "3. Obtain lat longs with scraper\n",
    "4. Clean data sets \n",
    "5. Feature engineering\n",
    "6. Visualization\n",
    "7. TBD\n",
    "\n",
    "Is there a predictive value that can be derived for kinds of locations\n",
    "    1. Finding lat long coordinates of schools or public services and mapping out color coded heat maps based on the type of establishment\n",
    "    2. Finding out where most bike stations are likely to be located\n",
    "    3. Goal is to find out where you would set up more bike locations + figure out why particular locations are popular and predict accordingly"
   ]
  },
  {
   "cell_type": "code",
   "execution_count": 11,
   "metadata": {
    "collapsed": true
   },
   "outputs": [],
   "source": [
    "# importing necessary packages\n",
    "import pandas as pd\n",
    "pd.set_option('display.max_rows', 500)\n",
    "pd.set_option('display.max_columns', 500)\n",
    "pd.set_option('display.width', 1000)\n",
    "import pprint\n",
    "import missingno as msno\n",
    "from urllib.request import Request, urlopen\n",
    "import json\n",
    "from bs4 import BeautifulSoup\n",
    "import requests\n",
    "import re\n",
    "import numpy as np\n",
    "import datetime\n",
    "import math\n",
    "import matplotlib.pyplot as plt\n",
    "import seaborn as sb"
   ]
  },
  {
   "cell_type": "markdown",
   "metadata": {},
   "source": [
    "# Core rides dataset"
   ]
  },
  {
   "cell_type": "code",
   "execution_count": 12,
   "metadata": {
    "collapsed": true
   },
   "outputs": [],
   "source": [
    "# there are 4 files for the data for each quarter from 2017 Q3 to 2018 Q2\n",
    "_2017Q3 = pd.read_csv('../data/external/2017Q3.csv')\n",
    "_2017Q4 = pd.read_csv('../data/external/2017Q4.csv')\n",
    "_2018Q1 = pd.read_csv('../data/external/2018Q1.csv')\n",
    "_2018Q2 = pd.read_csv('../data/external/2018Q2.csv')"
   ]
  },
  {
   "cell_type": "code",
   "execution_count": 13,
   "metadata": {},
   "outputs": [
    {
     "data": {
      "text/plain": [
       "(286295, 14)"
      ]
     },
     "execution_count": 13,
     "metadata": {},
     "output_type": "execute_result"
    }
   ],
   "source": [
    "# concatenate the four quarters of ride sharing data into a year's worth\n",
    "rides_df = pd.concat([_2017Q3,_2017Q4,_2018Q1,_2018Q2])\n",
    "rides_df.shape"
   ]
  },
  {
   "cell_type": "code",
   "execution_count": 14,
   "metadata": {},
   "outputs": [
    {
     "data": {
      "text/html": [
       "<div>\n",
       "<style scoped>\n",
       "    .dataframe tbody tr th:only-of-type {\n",
       "        vertical-align: middle;\n",
       "    }\n",
       "\n",
       "    .dataframe tbody tr th {\n",
       "        vertical-align: top;\n",
       "    }\n",
       "\n",
       "    .dataframe thead th {\n",
       "        text-align: right;\n",
       "    }\n",
       "</style>\n",
       "<table border=\"1\" class=\"dataframe\">\n",
       "  <thead>\n",
       "    <tr style=\"text-align: right;\">\n",
       "      <th></th>\n",
       "      <th>trip_id</th>\n",
       "      <th>duration</th>\n",
       "      <th>start_time</th>\n",
       "      <th>end_time</th>\n",
       "      <th>start_station</th>\n",
       "      <th>start_lat</th>\n",
       "      <th>start_lon</th>\n",
       "      <th>end_station</th>\n",
       "      <th>end_lat</th>\n",
       "      <th>end_lon</th>\n",
       "      <th>bike_id</th>\n",
       "      <th>plan_duration</th>\n",
       "      <th>trip_route_category</th>\n",
       "      <th>passholder_type</th>\n",
       "    </tr>\n",
       "  </thead>\n",
       "  <tbody>\n",
       "    <tr>\n",
       "      <th>0</th>\n",
       "      <td>33404951</td>\n",
       "      <td>36</td>\n",
       "      <td>7/1/2017 0:09</td>\n",
       "      <td>7/1/2017 0:45</td>\n",
       "      <td>3018</td>\n",
       "      <td>34.043732</td>\n",
       "      <td>-118.260139</td>\n",
       "      <td>3018</td>\n",
       "      <td>34.043732</td>\n",
       "      <td>-118.260139</td>\n",
       "      <td>5996</td>\n",
       "      <td>0</td>\n",
       "      <td>Round Trip</td>\n",
       "      <td>Walk-up</td>\n",
       "    </tr>\n",
       "    <tr>\n",
       "      <th>1</th>\n",
       "      <td>33404950</td>\n",
       "      <td>13</td>\n",
       "      <td>7/1/2017 0:10</td>\n",
       "      <td>7/1/2017 0:23</td>\n",
       "      <td>3055</td>\n",
       "      <td>34.044159</td>\n",
       "      <td>-118.251579</td>\n",
       "      <td>3082</td>\n",
       "      <td>34.046520</td>\n",
       "      <td>-118.237411</td>\n",
       "      <td>5777</td>\n",
       "      <td>0</td>\n",
       "      <td>One Way</td>\n",
       "      <td>Walk-up</td>\n",
       "    </tr>\n",
       "    <tr>\n",
       "      <th>2</th>\n",
       "      <td>33404947</td>\n",
       "      <td>34</td>\n",
       "      <td>7/1/2017 0:11</td>\n",
       "      <td>7/1/2017 0:45</td>\n",
       "      <td>3018</td>\n",
       "      <td>34.043732</td>\n",
       "      <td>-118.260139</td>\n",
       "      <td>3018</td>\n",
       "      <td>34.043732</td>\n",
       "      <td>-118.260139</td>\n",
       "      <td>6342</td>\n",
       "      <td>0</td>\n",
       "      <td>Round Trip</td>\n",
       "      <td>Walk-up</td>\n",
       "    </tr>\n",
       "    <tr>\n",
       "      <th>3</th>\n",
       "      <td>33404948</td>\n",
       "      <td>34</td>\n",
       "      <td>7/1/2017 0:11</td>\n",
       "      <td>7/1/2017 0:45</td>\n",
       "      <td>3018</td>\n",
       "      <td>34.043732</td>\n",
       "      <td>-118.260139</td>\n",
       "      <td>3018</td>\n",
       "      <td>34.043732</td>\n",
       "      <td>-118.260139</td>\n",
       "      <td>6478</td>\n",
       "      <td>0</td>\n",
       "      <td>Round Trip</td>\n",
       "      <td>Walk-up</td>\n",
       "    </tr>\n",
       "    <tr>\n",
       "      <th>4</th>\n",
       "      <td>33404949</td>\n",
       "      <td>12</td>\n",
       "      <td>7/1/2017 0:11</td>\n",
       "      <td>7/1/2017 0:23</td>\n",
       "      <td>3055</td>\n",
       "      <td>34.044159</td>\n",
       "      <td>-118.251579</td>\n",
       "      <td>3082</td>\n",
       "      <td>34.046520</td>\n",
       "      <td>-118.237411</td>\n",
       "      <td>6411</td>\n",
       "      <td>0</td>\n",
       "      <td>One Way</td>\n",
       "      <td>Walk-up</td>\n",
       "    </tr>\n",
       "  </tbody>\n",
       "</table>\n",
       "</div>"
      ],
      "text/plain": [
       "    trip_id  duration     start_time       end_time  start_station  start_lat   start_lon  end_station    end_lat     end_lon  bike_id  plan_duration trip_route_category passholder_type\n",
       "0  33404951        36  7/1/2017 0:09  7/1/2017 0:45           3018  34.043732 -118.260139         3018  34.043732 -118.260139     5996              0          Round Trip         Walk-up\n",
       "1  33404950        13  7/1/2017 0:10  7/1/2017 0:23           3055  34.044159 -118.251579         3082  34.046520 -118.237411     5777              0             One Way         Walk-up\n",
       "2  33404947        34  7/1/2017 0:11  7/1/2017 0:45           3018  34.043732 -118.260139         3018  34.043732 -118.260139     6342              0          Round Trip         Walk-up\n",
       "3  33404948        34  7/1/2017 0:11  7/1/2017 0:45           3018  34.043732 -118.260139         3018  34.043732 -118.260139     6478              0          Round Trip         Walk-up\n",
       "4  33404949        12  7/1/2017 0:11  7/1/2017 0:23           3055  34.044159 -118.251579         3082  34.046520 -118.237411     6411              0             One Way         Walk-up"
      ]
     },
     "execution_count": 14,
     "metadata": {},
     "output_type": "execute_result"
    }
   ],
   "source": [
    "rides_df.head()"
   ]
  },
  {
   "cell_type": "code",
   "execution_count": 15,
   "metadata": {},
   "outputs": [
    {
     "data": {
      "text/html": [
       "<div>\n",
       "<style scoped>\n",
       "    .dataframe tbody tr th:only-of-type {\n",
       "        vertical-align: middle;\n",
       "    }\n",
       "\n",
       "    .dataframe tbody tr th {\n",
       "        vertical-align: top;\n",
       "    }\n",
       "\n",
       "    .dataframe thead th {\n",
       "        text-align: right;\n",
       "    }\n",
       "</style>\n",
       "<table border=\"1\" class=\"dataframe\">\n",
       "  <thead>\n",
       "    <tr style=\"text-align: right;\">\n",
       "      <th></th>\n",
       "      <th>trip_id</th>\n",
       "      <th>duration</th>\n",
       "      <th>start_station</th>\n",
       "      <th>start_lat</th>\n",
       "      <th>start_lon</th>\n",
       "      <th>end_station</th>\n",
       "      <th>end_lat</th>\n",
       "      <th>end_lon</th>\n",
       "      <th>bike_id</th>\n",
       "      <th>plan_duration</th>\n",
       "    </tr>\n",
       "  </thead>\n",
       "  <tbody>\n",
       "    <tr>\n",
       "      <th>count</th>\n",
       "      <td>2.862950e+05</td>\n",
       "      <td>286295.000000</td>\n",
       "      <td>286295.00000</td>\n",
       "      <td>285660.000000</td>\n",
       "      <td>285660.000000</td>\n",
       "      <td>286295.000000</td>\n",
       "      <td>281900.000000</td>\n",
       "      <td>281900.000000</td>\n",
       "      <td>286295.000000</td>\n",
       "      <td>286295.000000</td>\n",
       "    </tr>\n",
       "    <tr>\n",
       "      <th>mean</th>\n",
       "      <td>6.480957e+07</td>\n",
       "      <td>35.034206</td>\n",
       "      <td>3420.79971</td>\n",
       "      <td>34.045820</td>\n",
       "      <td>-118.271421</td>\n",
       "      <td>3414.716265</td>\n",
       "      <td>34.045689</td>\n",
       "      <td>-118.271667</td>\n",
       "      <td>7900.573014</td>\n",
       "      <td>30.907910</td>\n",
       "    </tr>\n",
       "    <tr>\n",
       "      <th>std</th>\n",
       "      <td>1.808223e+07</td>\n",
       "      <td>115.722913</td>\n",
       "      <td>538.47854</td>\n",
       "      <td>0.065529</td>\n",
       "      <td>0.097562</td>\n",
       "      <td>537.212309</td>\n",
       "      <td>0.065038</td>\n",
       "      <td>0.098157</td>\n",
       "      <td>2717.473129</td>\n",
       "      <td>66.243336</td>\n",
       "    </tr>\n",
       "    <tr>\n",
       "      <th>min</th>\n",
       "      <td>3.340494e+07</td>\n",
       "      <td>1.000000</td>\n",
       "      <td>3000.00000</td>\n",
       "      <td>33.710979</td>\n",
       "      <td>-118.491341</td>\n",
       "      <td>3000.000000</td>\n",
       "      <td>33.710979</td>\n",
       "      <td>-118.491341</td>\n",
       "      <td>4727.000000</td>\n",
       "      <td>0.000000</td>\n",
       "    </tr>\n",
       "    <tr>\n",
       "      <th>25%</th>\n",
       "      <td>4.905606e+07</td>\n",
       "      <td>7.000000</td>\n",
       "      <td>3031.00000</td>\n",
       "      <td>34.039982</td>\n",
       "      <td>-118.262733</td>\n",
       "      <td>3031.000000</td>\n",
       "      <td>34.039982</td>\n",
       "      <td>-118.262733</td>\n",
       "      <td>6053.000000</td>\n",
       "      <td>0.000000</td>\n",
       "    </tr>\n",
       "    <tr>\n",
       "      <th>50%</th>\n",
       "      <td>6.534754e+07</td>\n",
       "      <td>12.000000</td>\n",
       "      <td>3064.00000</td>\n",
       "      <td>34.046822</td>\n",
       "      <td>-118.252441</td>\n",
       "      <td>3063.000000</td>\n",
       "      <td>34.046810</td>\n",
       "      <td>-118.252830</td>\n",
       "      <td>6403.000000</td>\n",
       "      <td>30.000000</td>\n",
       "    </tr>\n",
       "    <tr>\n",
       "      <th>75%</th>\n",
       "      <td>8.085881e+07</td>\n",
       "      <td>25.000000</td>\n",
       "      <td>4156.00000</td>\n",
       "      <td>34.053200</td>\n",
       "      <td>-118.237411</td>\n",
       "      <td>4156.000000</td>\n",
       "      <td>34.051941</td>\n",
       "      <td>-118.237410</td>\n",
       "      <td>12019.000000</td>\n",
       "      <td>30.000000</td>\n",
       "    </tr>\n",
       "    <tr>\n",
       "      <th>max</th>\n",
       "      <td>9.508575e+07</td>\n",
       "      <td>1440.000000</td>\n",
       "      <td>4254.00000</td>\n",
       "      <td>34.165291</td>\n",
       "      <td>-118.116530</td>\n",
       "      <td>4254.000000</td>\n",
       "      <td>34.165291</td>\n",
       "      <td>-118.116530</td>\n",
       "      <td>12456.000000</td>\n",
       "      <td>365.000000</td>\n",
       "    </tr>\n",
       "  </tbody>\n",
       "</table>\n",
       "</div>"
      ],
      "text/plain": [
       "            trip_id       duration  start_station      start_lat      start_lon    end_station        end_lat        end_lon        bike_id  plan_duration\n",
       "count  2.862950e+05  286295.000000   286295.00000  285660.000000  285660.000000  286295.000000  281900.000000  281900.000000  286295.000000  286295.000000\n",
       "mean   6.480957e+07      35.034206     3420.79971      34.045820    -118.271421    3414.716265      34.045689    -118.271667    7900.573014      30.907910\n",
       "std    1.808223e+07     115.722913      538.47854       0.065529       0.097562     537.212309       0.065038       0.098157    2717.473129      66.243336\n",
       "min    3.340494e+07       1.000000     3000.00000      33.710979    -118.491341    3000.000000      33.710979    -118.491341    4727.000000       0.000000\n",
       "25%    4.905606e+07       7.000000     3031.00000      34.039982    -118.262733    3031.000000      34.039982    -118.262733    6053.000000       0.000000\n",
       "50%    6.534754e+07      12.000000     3064.00000      34.046822    -118.252441    3063.000000      34.046810    -118.252830    6403.000000      30.000000\n",
       "75%    8.085881e+07      25.000000     4156.00000      34.053200    -118.237411    4156.000000      34.051941    -118.237410   12019.000000      30.000000\n",
       "max    9.508575e+07    1440.000000     4254.00000      34.165291    -118.116530    4254.000000      34.165291    -118.116530   12456.000000     365.000000"
      ]
     },
     "execution_count": 15,
     "metadata": {},
     "output_type": "execute_result"
    }
   ],
   "source": [
    "rides_df.describe()"
   ]
  },
  {
   "cell_type": "code",
   "execution_count": 16,
   "metadata": {},
   "outputs": [
    {
     "data": {
      "text/plain": [
       "trip_id                  int64\n",
       "duration                 int64\n",
       "start_time              object\n",
       "end_time                object\n",
       "start_station            int64\n",
       "start_lat              float64\n",
       "start_lon              float64\n",
       "end_station              int64\n",
       "end_lat                float64\n",
       "end_lon                float64\n",
       "bike_id                  int64\n",
       "plan_duration            int64\n",
       "trip_route_category     object\n",
       "passholder_type         object\n",
       "dtype: object"
      ]
     },
     "execution_count": 16,
     "metadata": {},
     "output_type": "execute_result"
    }
   ],
   "source": [
    "rides_df.dtypes"
   ]
  },
  {
   "cell_type": "markdown",
   "metadata": {},
   "source": [
    "On first glance, all time variables like start_time and end_time should be converted to a date time object."
   ]
  },
  {
   "cell_type": "code",
   "execution_count": 17,
   "metadata": {},
   "outputs": [],
   "source": [
    "# converting start and end times to datetime objects\n",
    "\n",
    "rides_df['start_time'] = pd.to_datetime(rides_df['start_time'])\n",
    "rides_df['end_time'] = pd.to_datetime(rides_df['end_time'])"
   ]
  },
  {
   "cell_type": "code",
   "execution_count": 18,
   "metadata": {},
   "outputs": [
    {
     "data": {
      "text/plain": [
       "trip_id                         int64\n",
       "duration                        int64\n",
       "start_time             datetime64[ns]\n",
       "end_time               datetime64[ns]\n",
       "start_station                   int64\n",
       "start_lat                     float64\n",
       "start_lon                     float64\n",
       "end_station                     int64\n",
       "end_lat                       float64\n",
       "end_lon                       float64\n",
       "bike_id                         int64\n",
       "plan_duration                   int64\n",
       "trip_route_category            object\n",
       "passholder_type                object\n",
       "dtype: object"
      ]
     },
     "execution_count": 18,
     "metadata": {},
     "output_type": "execute_result"
    }
   ],
   "source": [
    "# checking to see if columns were indeed converted\n",
    "rides_df.dtypes"
   ]
  },
  {
   "cell_type": "code",
   "execution_count": 19,
   "metadata": {},
   "outputs": [
    {
     "data": {
      "text/plain": [
       "0    4214\n",
       "dtype: int64"
      ]
     },
     "execution_count": 19,
     "metadata": {},
     "output_type": "execute_result"
    }
   ],
   "source": [
    "# quick look at which station is the most commonly used and where it is (Venice beach)\n",
    "rides_df['start_station'].mode()"
   ]
  },
  {
   "cell_type": "code",
   "execution_count": 20,
   "metadata": {},
   "outputs": [
    {
     "data": {
      "text/html": [
       "<div>\n",
       "<style scoped>\n",
       "    .dataframe tbody tr th:only-of-type {\n",
       "        vertical-align: middle;\n",
       "    }\n",
       "\n",
       "    .dataframe tbody tr th {\n",
       "        vertical-align: top;\n",
       "    }\n",
       "\n",
       "    .dataframe thead th {\n",
       "        text-align: right;\n",
       "    }\n",
       "</style>\n",
       "<table border=\"1\" class=\"dataframe\">\n",
       "  <thead>\n",
       "    <tr style=\"text-align: right;\">\n",
       "      <th></th>\n",
       "      <th>trip_id</th>\n",
       "      <th>duration</th>\n",
       "      <th>start_time</th>\n",
       "      <th>end_time</th>\n",
       "      <th>start_station</th>\n",
       "      <th>start_lat</th>\n",
       "      <th>start_lon</th>\n",
       "      <th>end_station</th>\n",
       "      <th>end_lat</th>\n",
       "      <th>end_lon</th>\n",
       "      <th>bike_id</th>\n",
       "      <th>plan_duration</th>\n",
       "      <th>trip_route_category</th>\n",
       "      <th>passholder_type</th>\n",
       "    </tr>\n",
       "  </thead>\n",
       "  <tbody>\n",
       "    <tr>\n",
       "      <th>51390</th>\n",
       "      <td>44620579</td>\n",
       "      <td>16</td>\n",
       "      <td>2017-09-07 10:40:00</td>\n",
       "      <td>2017-09-07 10:56:00</td>\n",
       "      <td>4214</td>\n",
       "      <td>33.99556</td>\n",
       "      <td>-118.481552</td>\n",
       "      <td>4216</td>\n",
       "      <td>34.023392</td>\n",
       "      <td>-118.479637</td>\n",
       "      <td>11200</td>\n",
       "      <td>30</td>\n",
       "      <td>One Way</td>\n",
       "      <td>Monthly Pass</td>\n",
       "    </tr>\n",
       "    <tr>\n",
       "      <th>51391</th>\n",
       "      <td>44627346</td>\n",
       "      <td>28</td>\n",
       "      <td>2017-09-07 10:40:00</td>\n",
       "      <td>2017-09-07 11:08:00</td>\n",
       "      <td>4214</td>\n",
       "      <td>33.99556</td>\n",
       "      <td>-118.481552</td>\n",
       "      <td>4215</td>\n",
       "      <td>34.014309</td>\n",
       "      <td>-118.491341</td>\n",
       "      <td>12416</td>\n",
       "      <td>365</td>\n",
       "      <td>One Way</td>\n",
       "      <td>Flex Pass</td>\n",
       "    </tr>\n",
       "    <tr>\n",
       "      <th>51392</th>\n",
       "      <td>44641141</td>\n",
       "      <td>196</td>\n",
       "      <td>2017-09-07 10:40:00</td>\n",
       "      <td>2017-09-07 13:56:00</td>\n",
       "      <td>4214</td>\n",
       "      <td>33.99556</td>\n",
       "      <td>-118.481552</td>\n",
       "      <td>3000</td>\n",
       "      <td>NaN</td>\n",
       "      <td>NaN</td>\n",
       "      <td>12011</td>\n",
       "      <td>30</td>\n",
       "      <td>One Way</td>\n",
       "      <td>Monthly Pass</td>\n",
       "    </tr>\n",
       "    <tr>\n",
       "      <th>51393</th>\n",
       "      <td>44641142</td>\n",
       "      <td>167</td>\n",
       "      <td>2017-09-07 10:40:00</td>\n",
       "      <td>2017-09-07 13:27:00</td>\n",
       "      <td>4214</td>\n",
       "      <td>33.99556</td>\n",
       "      <td>-118.481552</td>\n",
       "      <td>4212</td>\n",
       "      <td>33.988129</td>\n",
       "      <td>-118.471741</td>\n",
       "      <td>12241</td>\n",
       "      <td>365</td>\n",
       "      <td>One Way</td>\n",
       "      <td>Flex Pass</td>\n",
       "    </tr>\n",
       "    <tr>\n",
       "      <th>51394</th>\n",
       "      <td>44620577</td>\n",
       "      <td>17</td>\n",
       "      <td>2017-09-07 10:41:00</td>\n",
       "      <td>2017-09-07 10:58:00</td>\n",
       "      <td>4214</td>\n",
       "      <td>33.99556</td>\n",
       "      <td>-118.481552</td>\n",
       "      <td>4215</td>\n",
       "      <td>34.014309</td>\n",
       "      <td>-118.491341</td>\n",
       "      <td>12356</td>\n",
       "      <td>30</td>\n",
       "      <td>One Way</td>\n",
       "      <td>Monthly Pass</td>\n",
       "    </tr>\n",
       "  </tbody>\n",
       "</table>\n",
       "</div>"
      ],
      "text/plain": [
       "        trip_id  duration          start_time            end_time  start_station  start_lat   start_lon  end_station    end_lat     end_lon  bike_id  plan_duration trip_route_category passholder_type\n",
       "51390  44620579        16 2017-09-07 10:40:00 2017-09-07 10:56:00           4214   33.99556 -118.481552         4216  34.023392 -118.479637    11200             30             One Way    Monthly Pass\n",
       "51391  44627346        28 2017-09-07 10:40:00 2017-09-07 11:08:00           4214   33.99556 -118.481552         4215  34.014309 -118.491341    12416            365             One Way       Flex Pass\n",
       "51392  44641141       196 2017-09-07 10:40:00 2017-09-07 13:56:00           4214   33.99556 -118.481552         3000        NaN         NaN    12011             30             One Way    Monthly Pass\n",
       "51393  44641142       167 2017-09-07 10:40:00 2017-09-07 13:27:00           4214   33.99556 -118.481552         4212  33.988129 -118.471741    12241            365             One Way       Flex Pass\n",
       "51394  44620577        17 2017-09-07 10:41:00 2017-09-07 10:58:00           4214   33.99556 -118.481552         4215  34.014309 -118.491341    12356             30             One Way    Monthly Pass"
      ]
     },
     "execution_count": 20,
     "metadata": {},
     "output_type": "execute_result"
    }
   ],
   "source": [
    "rides_df[rides_df['start_station'] == 4214].head()"
   ]
  },
  {
   "cell_type": "markdown",
   "metadata": {},
   "source": [
    "Here we use the missingno package to check for NA values in the dataframe. As the number of missing values seem almost negligible compared to the total number of observations, we drop the rows. Around 4849 rows, or 1.7% of total rows were dropped."
   ]
  },
  {
   "cell_type": "code",
   "execution_count": 21,
   "metadata": {},
   "outputs": [
    {
     "data": {
      "text/plain": [
       "<matplotlib.axes._subplots.AxesSubplot at 0x1a138c2048>"
      ]
     },
     "execution_count": 21,
     "metadata": {},
     "output_type": "execute_result"
    },
    {
     "data": {
      "image/png": "[encoded data removed]",
      "text/plain": [
       "<matplotlib.figure.Figure at 0x10cafa4e0>"
      ]
     },
     "metadata": {},
     "output_type": "display_data"
    }
   ],
   "source": [
    "# check for missing values\n",
    "%matplotlib inline\n",
    "msno.matrix(rides_df)"
   ]
  },
  {
   "cell_type": "code",
   "execution_count": 22,
   "metadata": {},
   "outputs": [
    {
     "data": {
      "text/plain": [
       "(281446, 14)"
      ]
     },
     "execution_count": 22,
     "metadata": {},
     "output_type": "execute_result"
    }
   ],
   "source": [
    "# dropping rows with na values\n",
    "rides_df = rides_df.dropna()\n",
    "rides_df.shape"
   ]
  },
  {
   "cell_type": "markdown",
   "metadata": {},
   "source": [
    "# External datasets of geolocations\n",
    "\n",
    "In order to obtain a perspective of where most rides occur and landmarks around LA, we utilize multiple data sources and APIs to obtain the relevant latitude and longitude values.\n",
    "\n",
    "### Bike station locations\n",
    "We first start off with more detailed information on the bike stations. To do this, we download the json file from https://bikeshare.metro.net/stations/json/ which includes addresses and capacities of different bike stations."
   ]
  },
  {
   "cell_type": "code",
   "execution_count": 23,
   "metadata": {
    "collapsed": true
   },
   "outputs": [],
   "source": [
    "# read in the json file with station information\n",
    "with open ('../data/external/bike_stations.json') as f:\n",
    "    station_data = json.load(f)"
   ]
  },
  {
   "cell_type": "code",
   "execution_count": 24,
   "metadata": {
    "collapsed": true
   },
   "outputs": [],
   "source": [
    "# extract useful columns from the jason and append it to a list\n",
    "all_station_info = []\n",
    "for station in station_data['features']: \n",
    "    station_attr = []\n",
    "    station_attr.append([station['properties']['kioskId'], station['properties']['addressStreet'], \n",
    "                         station['properties']['addressZipCode'], station['properties']['name'],\n",
    "                         station['properties']['totalDocks']])\n",
    "    all_station_info.append(station_attr[0])"
   ]
  },
  {
   "cell_type": "code",
   "execution_count": 25,
   "metadata": {},
   "outputs": [
    {
     "data": {
      "text/plain": [
       "[3007, '557 S 5th Street', '90071', '5th & Grand', 23]"
      ]
     },
     "execution_count": 25,
     "metadata": {},
     "output_type": "execute_result"
    }
   ],
   "source": [
    "# check to see if each element in list is a list of station attributes we need\n",
    "all_station_info[2]"
   ]
  },
  {
   "cell_type": "code",
   "execution_count": 26,
   "metadata": {},
   "outputs": [
    {
     "data": {
      "text/html": [
       "<div>\n",
       "<style scoped>\n",
       "    .dataframe tbody tr th:only-of-type {\n",
       "        vertical-align: middle;\n",
       "    }\n",
       "\n",
       "    .dataframe tbody tr th {\n",
       "        vertical-align: top;\n",
       "    }\n",
       "\n",
       "    .dataframe thead th {\n",
       "        text-align: right;\n",
       "    }\n",
       "</style>\n",
       "<table border=\"1\" class=\"dataframe\">\n",
       "  <thead>\n",
       "    <tr style=\"text-align: right;\">\n",
       "      <th></th>\n",
       "      <th>kiosk_id</th>\n",
       "      <th>address_street</th>\n",
       "      <th>address_zip</th>\n",
       "      <th>station_name</th>\n",
       "      <th>total_docks</th>\n",
       "    </tr>\n",
       "  </thead>\n",
       "  <tbody>\n",
       "    <tr>\n",
       "      <th>0</th>\n",
       "      <td>3005</td>\n",
       "      <td>723 Flower Street</td>\n",
       "      <td>90017</td>\n",
       "      <td>7th &amp; Flower</td>\n",
       "      <td>27</td>\n",
       "    </tr>\n",
       "    <tr>\n",
       "      <th>1</th>\n",
       "      <td>3006</td>\n",
       "      <td>729 S Olive Street</td>\n",
       "      <td>90014</td>\n",
       "      <td>Olive &amp; 8th</td>\n",
       "      <td>24</td>\n",
       "    </tr>\n",
       "    <tr>\n",
       "      <th>2</th>\n",
       "      <td>3007</td>\n",
       "      <td>557 S 5th Street</td>\n",
       "      <td>90071</td>\n",
       "      <td>5th &amp; Grand</td>\n",
       "      <td>23</td>\n",
       "    </tr>\n",
       "    <tr>\n",
       "      <th>3</th>\n",
       "      <td>3008</td>\n",
       "      <td>865 S Figueroa Street</td>\n",
       "      <td>90017</td>\n",
       "      <td>Figueroa &amp; 9th</td>\n",
       "      <td>15</td>\n",
       "    </tr>\n",
       "    <tr>\n",
       "      <th>4</th>\n",
       "      <td>3010</td>\n",
       "      <td>401 East 11th Street</td>\n",
       "      <td>90015</td>\n",
       "      <td>11th &amp; Maple</td>\n",
       "      <td>22</td>\n",
       "    </tr>\n",
       "  </tbody>\n",
       "</table>\n",
       "</div>"
      ],
      "text/plain": [
       "   kiosk_id         address_street address_zip    station_name  total_docks\n",
       "0      3005      723 Flower Street       90017    7th & Flower           27\n",
       "1      3006     729 S Olive Street       90014     Olive & 8th           24\n",
       "2      3007       557 S 5th Street       90071     5th & Grand           23\n",
       "3      3008  865 S Figueroa Street       90017  Figueroa & 9th           15\n",
       "4      3010   401 East 11th Street       90015    11th & Maple           22"
      ]
     },
     "execution_count": 26,
     "metadata": {},
     "output_type": "execute_result"
    }
   ],
   "source": [
    "# create new dataframe based on the attributes\n",
    "stations_info = pd.DataFrame(all_station_info, columns=['kiosk_id','address_street','address_zip','station_name','total_docks'])\n",
    "stations_info.head()"
   ]
  },
  {
   "cell_type": "code",
   "execution_count": 27,
   "metadata": {
    "collapsed": true
   },
   "outputs": [],
   "source": [
    "# adding start station attributes\n",
    "rides_df = pd.merge(rides_df, stations_info, how = \"left\", left_on = 'start_station', \n",
    "               right_on = ['kiosk_id']).rename(columns = {'address_street':'start_address',\n",
    "                                                          'address_zip':'start_zip','station_name':'start_name',\n",
    "                                                          'total_docks':'start_docks'}).drop('kiosk_id',1)\n",
    "# adding end station attributes\n",
    "rides_df = pd.merge(rides_df, stations_info, how = \"left\", left_on = 'end_station', \n",
    "               right_on = ['kiosk_id']).rename(columns = {'address_street':'end_address',\n",
    "                                                          'address_zip':'end_zip','station_name':'end_name',\n",
    "                                                          'total_docks':'end_docks'}).drop('kiosk_id',1)"
   ]
  },
  {
   "cell_type": "code",
   "execution_count": 28,
   "metadata": {},
   "outputs": [
    {
     "data": {
      "text/plain": [
       "<matplotlib.axes._subplots.AxesSubplot at 0x1a17cdd470>"
      ]
     },
     "execution_count": 28,
     "metadata": {},
     "output_type": "execute_result"
    },
    {
     "data": {
      "image/png": "[encoded data removed]",
      "text/plain": [
       "<matplotlib.figure.Figure at 0x1a1391ceb8>"
      ]
     },
     "metadata": {},
     "output_type": "display_data"
    }
   ],
   "source": [
    "# checking for missing address details\n",
    "msno.bar(rides_df)"
   ]
  },
  {
   "cell_type": "markdown",
   "metadata": {},
   "source": [
    "There seems to be about 20% of entries with missing station information. As this is a sizeable portion of the dataset, we can take a closer look to see how to deal with these missing values."
   ]
  },
  {
   "cell_type": "code",
   "execution_count": 29,
   "metadata": {},
   "outputs": [
    {
     "data": {
      "text/plain": [
       "count      124.000000\n",
       "mean      2269.725806\n",
       "std       2154.035881\n",
       "min          6.000000\n",
       "25%        804.500000\n",
       "50%       1544.500000\n",
       "75%       3019.500000\n",
       "max      11437.000000\n",
       "Name: start_station, dtype: float64"
      ]
     },
     "execution_count": 29,
     "metadata": {},
     "output_type": "execute_result"
    }
   ],
   "source": [
    "rides_df['start_station'].value_counts().describe()"
   ]
  },
  {
   "cell_type": "code",
   "execution_count": 30,
   "metadata": {},
   "outputs": [
    {
     "data": {
      "text/plain": [
       "count    239898.000000\n",
       "mean         22.869882\n",
       "std           5.119422\n",
       "min          13.000000\n",
       "25%          19.000000\n",
       "50%          22.000000\n",
       "75%          27.000000\n",
       "max          36.000000\n",
       "Name: start_docks, dtype: float64"
      ]
     },
     "execution_count": 30,
     "metadata": {},
     "output_type": "execute_result"
    }
   ],
   "source": [
    "rides_df['start_docks'].describe()"
   ]
  },
  {
   "cell_type": "code",
   "execution_count": 31,
   "metadata": {},
   "outputs": [
    {
     "data": {
      "text/plain": [
       "Int64Index([4162, 4153, 4181, 4165, 4176, 4142, 4157, 4180, 4163, 4159, 4177], dtype='int64')"
      ]
     },
     "execution_count": 31,
     "metadata": {},
     "output_type": "execute_result"
    }
   ],
   "source": [
    "median_mask = rides_df[rides_df.isnull().any(axis = 1)]['start_station'].value_counts() > rides_df['start_station'].value_counts().median()\n",
    "locations_to_fill = rides_df[rides_df.isnull().any(axis = 1)]['start_station'].value_counts()[median_mask]\n",
    "locations_to_fill.keys()"
   ]
  },
  {
   "cell_type": "code",
   "execution_count": 32,
   "metadata": {},
   "outputs": [
    {
     "data": {
      "text/plain": [
       "'47.0%'"
      ]
     },
     "execution_count": 32,
     "metadata": {},
     "output_type": "execute_result"
    }
   ],
   "source": [
    "str(round(locations_to_fill.sum()/rides_df[rides_df.isnull().any(axis = 1)]['start_station'].value_counts().sum(),2)*100) + '%'"
   ]
  },
  {
   "cell_type": "code",
   "execution_count": 33,
   "metadata": {
    "collapsed": true
   },
   "outputs": [],
   "source": [
    "lats = []\n",
    "longs = []\n",
    "for station_id in locations_to_fill.keys():\n",
    "    lats.append(rides_df['start_lat'][rides_df['start_station'] == station_id].iloc[0])\n",
    "    longs.append(rides_df['start_lon'][rides_df['start_station'] == station_id].iloc[0])"
   ]
  },
  {
   "cell_type": "code",
   "execution_count": 34,
   "metadata": {},
   "outputs": [
    {
     "data": {
      "text/html": [
       "<div>\n",
       "<style scoped>\n",
       "    .dataframe tbody tr th:only-of-type {\n",
       "        vertical-align: middle;\n",
       "    }\n",
       "\n",
       "    .dataframe tbody tr th {\n",
       "        vertical-align: top;\n",
       "    }\n",
       "\n",
       "    .dataframe thead th {\n",
       "        text-align: right;\n",
       "    }\n",
       "</style>\n",
       "<table border=\"1\" class=\"dataframe\">\n",
       "  <thead>\n",
       "    <tr style=\"text-align: right;\">\n",
       "      <th></th>\n",
       "      <th>start_station</th>\n",
       "      <th>address_street</th>\n",
       "      <th>address_zip</th>\n",
       "      <th>station_name</th>\n",
       "      <th>total_docks</th>\n",
       "      <th>start_lat</th>\n",
       "      <th>start_lon</th>\n",
       "      <th>end_station</th>\n",
       "    </tr>\n",
       "  </thead>\n",
       "  <tbody>\n",
       "    <tr>\n",
       "      <th>0</th>\n",
       "      <td>4162</td>\n",
       "      <td>NaN</td>\n",
       "      <td>NaN</td>\n",
       "      <td>NaN</td>\n",
       "      <td>NaN</td>\n",
       "      <td>34.147499</td>\n",
       "      <td>-118.148010</td>\n",
       "      <td>4162</td>\n",
       "    </tr>\n",
       "    <tr>\n",
       "      <th>1</th>\n",
       "      <td>4153</td>\n",
       "      <td>NaN</td>\n",
       "      <td>NaN</td>\n",
       "      <td>NaN</td>\n",
       "      <td>NaN</td>\n",
       "      <td>34.156181</td>\n",
       "      <td>-118.166687</td>\n",
       "      <td>4153</td>\n",
       "    </tr>\n",
       "    <tr>\n",
       "      <th>2</th>\n",
       "      <td>4181</td>\n",
       "      <td>NaN</td>\n",
       "      <td>NaN</td>\n",
       "      <td>NaN</td>\n",
       "      <td>NaN</td>\n",
       "      <td>34.146221</td>\n",
       "      <td>-118.135262</td>\n",
       "      <td>4181</td>\n",
       "    </tr>\n",
       "    <tr>\n",
       "      <th>3</th>\n",
       "      <td>4165</td>\n",
       "      <td>NaN</td>\n",
       "      <td>NaN</td>\n",
       "      <td>NaN</td>\n",
       "      <td>NaN</td>\n",
       "      <td>34.141750</td>\n",
       "      <td>-118.149063</td>\n",
       "      <td>4165</td>\n",
       "    </tr>\n",
       "    <tr>\n",
       "      <th>4</th>\n",
       "      <td>4176</td>\n",
       "      <td>NaN</td>\n",
       "      <td>NaN</td>\n",
       "      <td>NaN</td>\n",
       "      <td>NaN</td>\n",
       "      <td>34.137859</td>\n",
       "      <td>-118.122414</td>\n",
       "      <td>4176</td>\n",
       "    </tr>\n",
       "    <tr>\n",
       "      <th>5</th>\n",
       "      <td>4142</td>\n",
       "      <td>NaN</td>\n",
       "      <td>NaN</td>\n",
       "      <td>NaN</td>\n",
       "      <td>NaN</td>\n",
       "      <td>34.144588</td>\n",
       "      <td>-118.144592</td>\n",
       "      <td>4142</td>\n",
       "    </tr>\n",
       "    <tr>\n",
       "      <th>6</th>\n",
       "      <td>4157</td>\n",
       "      <td>NaN</td>\n",
       "      <td>NaN</td>\n",
       "      <td>NaN</td>\n",
       "      <td>NaN</td>\n",
       "      <td>34.140999</td>\n",
       "      <td>-118.132088</td>\n",
       "      <td>4157</td>\n",
       "    </tr>\n",
       "    <tr>\n",
       "      <th>7</th>\n",
       "      <td>4180</td>\n",
       "      <td>NaN</td>\n",
       "      <td>NaN</td>\n",
       "      <td>NaN</td>\n",
       "      <td>NaN</td>\n",
       "      <td>34.137951</td>\n",
       "      <td>-118.128502</td>\n",
       "      <td>4180</td>\n",
       "    </tr>\n",
       "    <tr>\n",
       "      <th>8</th>\n",
       "      <td>4163</td>\n",
       "      <td>NaN</td>\n",
       "      <td>NaN</td>\n",
       "      <td>NaN</td>\n",
       "      <td>NaN</td>\n",
       "      <td>34.150471</td>\n",
       "      <td>-118.132019</td>\n",
       "      <td>4163</td>\n",
       "    </tr>\n",
       "    <tr>\n",
       "      <th>9</th>\n",
       "      <td>4159</td>\n",
       "      <td>NaN</td>\n",
       "      <td>NaN</td>\n",
       "      <td>NaN</td>\n",
       "      <td>NaN</td>\n",
       "      <td>34.145901</td>\n",
       "      <td>-118.116539</td>\n",
       "      <td>4159</td>\n",
       "    </tr>\n",
       "    <tr>\n",
       "      <th>10</th>\n",
       "      <td>4177</td>\n",
       "      <td>NaN</td>\n",
       "      <td>NaN</td>\n",
       "      <td>NaN</td>\n",
       "      <td>NaN</td>\n",
       "      <td>34.144981</td>\n",
       "      <td>-118.138260</td>\n",
       "      <td>4177</td>\n",
       "    </tr>\n",
       "  </tbody>\n",
       "</table>\n",
       "</div>"
      ],
      "text/plain": [
       "    start_station address_street address_zip station_name total_docks  start_lat   start_lon  end_station\n",
       "0            4162            NaN         NaN          NaN         NaN  34.147499 -118.148010         4162\n",
       "1            4153            NaN         NaN          NaN         NaN  34.156181 -118.166687         4153\n",
       "2            4181            NaN         NaN          NaN         NaN  34.146221 -118.135262         4181\n",
       "3            4165            NaN         NaN          NaN         NaN  34.141750 -118.149063         4165\n",
       "4            4176            NaN         NaN          NaN         NaN  34.137859 -118.122414         4176\n",
       "5            4142            NaN         NaN          NaN         NaN  34.144588 -118.144592         4142\n",
       "6            4157            NaN         NaN          NaN         NaN  34.140999 -118.132088         4157\n",
       "7            4180            NaN         NaN          NaN         NaN  34.137951 -118.128502         4180\n",
       "8            4163            NaN         NaN          NaN         NaN  34.150471 -118.132019         4163\n",
       "9            4159            NaN         NaN          NaN         NaN  34.145901 -118.116539         4159\n",
       "10           4177            NaN         NaN          NaN         NaN  34.144981 -118.138260         4177"
      ]
     },
     "execution_count": 34,
     "metadata": {},
     "output_type": "execute_result"
    }
   ],
   "source": [
    "manual_add_cols = list(stations_info.columns)\n",
    "manual_add_cols.extend(('start_lat','start_lon'))\n",
    "manual_add_cols[0] = 'start_station'\n",
    "manual_kiosk_add = pd.DataFrame(columns = manual_add_cols)\n",
    "manual_kiosk_add['start_station'] = np.asarray(locations_to_fill.keys())\n",
    "manual_kiosk_add['end_station'] = manual_kiosk_add['start_station']\n",
    "manual_kiosk_add['start_lat'] = np.asarray(lats)\n",
    "manual_kiosk_add['start_lon'] = np.asarray(longs)\n",
    "manual_kiosk_add"
   ]
  },
  {
   "cell_type": "code",
   "execution_count": 35,
   "metadata": {
    "collapsed": true
   },
   "outputs": [],
   "source": [
    "manual_street_addresses = []\n",
    "manual_zips = []\n",
    "manual_names = []\n",
    "manual_street_addresses.extend(('136 E Holly St','1001 Rose Bowl Dr','2-26 N Oak Knoll Ave','272-260 S Raymond Ave', '1320-1342 San Pasqual St', '300 E Green St', '270 S Lake Ave', '1085-1041 San Pasqual St', '300 N Lake Ave','1570 E Colorado Blvd','50 S Madison Ave'))\n",
    "manual_zips.extend((91103, 91103, 91101, 91105, 91106, 91101, 91101, 91106, 91101, 91106, 91101))\n",
    "manual_names.extend(('Memorial Park Station', 'Rose Bowl Stadium', 'E Colorado Blvd Target','Central Park','Caltech Student Services','Pasadena Civic Auditorium', 'The Shops on Lake Avenue','Caltech Graduate Housing', 'Gateway Plaza', 'Pasadena City College Shatford Library', 'Playhouse parking lot'))"
   ]
  },
  {
   "cell_type": "code",
   "execution_count": 36,
   "metadata": {},
   "outputs": [
    {
     "data": {
      "text/html": [
       "<div>\n",
       "<style scoped>\n",
       "    .dataframe tbody tr th:only-of-type {\n",
       "        vertical-align: middle;\n",
       "    }\n",
       "\n",
       "    .dataframe tbody tr th {\n",
       "        vertical-align: top;\n",
       "    }\n",
       "\n",
       "    .dataframe thead th {\n",
       "        text-align: right;\n",
       "    }\n",
       "</style>\n",
       "<table border=\"1\" class=\"dataframe\">\n",
       "  <thead>\n",
       "    <tr style=\"text-align: right;\">\n",
       "      <th></th>\n",
       "      <th>start_station</th>\n",
       "      <th>address_street</th>\n",
       "      <th>address_zip</th>\n",
       "      <th>station_name</th>\n",
       "      <th>total_docks</th>\n",
       "      <th>start_lat</th>\n",
       "      <th>start_lon</th>\n",
       "      <th>end_station</th>\n",
       "    </tr>\n",
       "  </thead>\n",
       "  <tbody>\n",
       "    <tr>\n",
       "      <th>0</th>\n",
       "      <td>4162</td>\n",
       "      <td>136 E Holly St</td>\n",
       "      <td>91103</td>\n",
       "      <td>Memorial Park Station</td>\n",
       "      <td>22</td>\n",
       "      <td>34.147499</td>\n",
       "      <td>-118.148010</td>\n",
       "      <td>4162</td>\n",
       "    </tr>\n",
       "    <tr>\n",
       "      <th>1</th>\n",
       "      <td>4153</td>\n",
       "      <td>1001 Rose Bowl Dr</td>\n",
       "      <td>91103</td>\n",
       "      <td>Rose Bowl Stadium</td>\n",
       "      <td>22</td>\n",
       "      <td>34.156181</td>\n",
       "      <td>-118.166687</td>\n",
       "      <td>4153</td>\n",
       "    </tr>\n",
       "    <tr>\n",
       "      <th>2</th>\n",
       "      <td>4181</td>\n",
       "      <td>2-26 N Oak Knoll Ave</td>\n",
       "      <td>91101</td>\n",
       "      <td>E Colorado Blvd Target</td>\n",
       "      <td>22</td>\n",
       "      <td>34.146221</td>\n",
       "      <td>-118.135262</td>\n",
       "      <td>4181</td>\n",
       "    </tr>\n",
       "    <tr>\n",
       "      <th>3</th>\n",
       "      <td>4165</td>\n",
       "      <td>272-260 S Raymond Ave</td>\n",
       "      <td>91105</td>\n",
       "      <td>Central Park</td>\n",
       "      <td>22</td>\n",
       "      <td>34.141750</td>\n",
       "      <td>-118.149063</td>\n",
       "      <td>4165</td>\n",
       "    </tr>\n",
       "    <tr>\n",
       "      <th>4</th>\n",
       "      <td>4176</td>\n",
       "      <td>1320-1342 San Pasqual St</td>\n",
       "      <td>91106</td>\n",
       "      <td>Caltech Student Services</td>\n",
       "      <td>22</td>\n",
       "      <td>34.137859</td>\n",
       "      <td>-118.122414</td>\n",
       "      <td>4176</td>\n",
       "    </tr>\n",
       "    <tr>\n",
       "      <th>5</th>\n",
       "      <td>4142</td>\n",
       "      <td>300 E Green St</td>\n",
       "      <td>91101</td>\n",
       "      <td>Pasadena Civic Auditorium</td>\n",
       "      <td>22</td>\n",
       "      <td>34.144588</td>\n",
       "      <td>-118.144592</td>\n",
       "      <td>4142</td>\n",
       "    </tr>\n",
       "    <tr>\n",
       "      <th>6</th>\n",
       "      <td>4157</td>\n",
       "      <td>270 S Lake Ave</td>\n",
       "      <td>91101</td>\n",
       "      <td>The Shops on Lake Avenue</td>\n",
       "      <td>22</td>\n",
       "      <td>34.140999</td>\n",
       "      <td>-118.132088</td>\n",
       "      <td>4157</td>\n",
       "    </tr>\n",
       "    <tr>\n",
       "      <th>7</th>\n",
       "      <td>4180</td>\n",
       "      <td>1085-1041 San Pasqual St</td>\n",
       "      <td>91106</td>\n",
       "      <td>Caltech Graduate Housing</td>\n",
       "      <td>22</td>\n",
       "      <td>34.137951</td>\n",
       "      <td>-118.128502</td>\n",
       "      <td>4180</td>\n",
       "    </tr>\n",
       "    <tr>\n",
       "      <th>8</th>\n",
       "      <td>4163</td>\n",
       "      <td>300 N Lake Ave</td>\n",
       "      <td>91101</td>\n",
       "      <td>Gateway Plaza</td>\n",
       "      <td>22</td>\n",
       "      <td>34.150471</td>\n",
       "      <td>-118.132019</td>\n",
       "      <td>4163</td>\n",
       "    </tr>\n",
       "    <tr>\n",
       "      <th>9</th>\n",
       "      <td>4159</td>\n",
       "      <td>1570 E Colorado Blvd</td>\n",
       "      <td>91106</td>\n",
       "      <td>Pasadena City College Shatford Library</td>\n",
       "      <td>22</td>\n",
       "      <td>34.145901</td>\n",
       "      <td>-118.116539</td>\n",
       "      <td>4159</td>\n",
       "    </tr>\n",
       "    <tr>\n",
       "      <th>10</th>\n",
       "      <td>4177</td>\n",
       "      <td>50 S Madison Ave</td>\n",
       "      <td>91101</td>\n",
       "      <td>Playhouse parking lot</td>\n",
       "      <td>22</td>\n",
       "      <td>34.144981</td>\n",
       "      <td>-118.138260</td>\n",
       "      <td>4177</td>\n",
       "    </tr>\n",
       "  </tbody>\n",
       "</table>\n",
       "</div>"
      ],
      "text/plain": [
       "    start_station            address_street  address_zip                            station_name  total_docks  start_lat   start_lon  end_station\n",
       "0            4162            136 E Holly St        91103                   Memorial Park Station           22  34.147499 -118.148010         4162\n",
       "1            4153         1001 Rose Bowl Dr        91103                       Rose Bowl Stadium           22  34.156181 -118.166687         4153\n",
       "2            4181      2-26 N Oak Knoll Ave        91101                  E Colorado Blvd Target           22  34.146221 -118.135262         4181\n",
       "3            4165     272-260 S Raymond Ave        91105                            Central Park           22  34.141750 -118.149063         4165\n",
       "4            4176  1320-1342 San Pasqual St        91106                Caltech Student Services           22  34.137859 -118.122414         4176\n",
       "5            4142            300 E Green St        91101               Pasadena Civic Auditorium           22  34.144588 -118.144592         4142\n",
       "6            4157            270 S Lake Ave        91101                The Shops on Lake Avenue           22  34.140999 -118.132088         4157\n",
       "7            4180  1085-1041 San Pasqual St        91106                Caltech Graduate Housing           22  34.137951 -118.128502         4180\n",
       "8            4163            300 N Lake Ave        91101                           Gateway Plaza           22  34.150471 -118.132019         4163\n",
       "9            4159      1570 E Colorado Blvd        91106  Pasadena City College Shatford Library           22  34.145901 -118.116539         4159\n",
       "10           4177          50 S Madison Ave        91101                   Playhouse parking lot           22  34.144981 -118.138260         4177"
      ]
     },
     "execution_count": 36,
     "metadata": {},
     "output_type": "execute_result"
    }
   ],
   "source": [
    "manual_kiosk_add['address_street'] = np.asarray(manual_street_addresses)\n",
    "manual_kiosk_add['address_zip'] = np.asarray(manual_zips)\n",
    "manual_kiosk_add['station_name'] = np.asarray(manual_names)\n",
    "manual_kiosk_add = manual_kiosk_add.fillna(22)\n",
    "\n",
    "manual_kiosk_add"
   ]
  },
  {
   "cell_type": "code",
   "execution_count": 37,
   "metadata": {
    "collapsed": true
   },
   "outputs": [],
   "source": [
    "# function to use the df.where function to map values to original dataframe\n",
    "def fill_df_null(df1, df2, target_col, common_col, alt_name):\n",
    "    df1[target_col] = df1[target_col].where(df1[target_col].notnull(), \n",
    "                                           df1[common_col].map(df2.set_index(common_col)[alt_name]))\n",
    "\n",
    "fill_df_null(rides_df, manual_kiosk_add, 'start_address', 'start_station', 'address_street')\n",
    "fill_df_null(rides_df, manual_kiosk_add, 'start_zip', 'start_station', 'address_zip')\n",
    "fill_df_null(rides_df, manual_kiosk_add, 'start_name', 'start_station', 'station_name')\n",
    "fill_df_null(rides_df, manual_kiosk_add, 'start_docks', 'start_station', 'total_docks')\n",
    "\n",
    "fill_df_null(rides_df, manual_kiosk_add, 'end_address', 'end_station', 'address_street')\n",
    "fill_df_null(rides_df, manual_kiosk_add, 'end_zip', 'end_station', 'address_zip')\n",
    "fill_df_null(rides_df, manual_kiosk_add, 'end_name', 'end_station', 'station_name')\n",
    "fill_df_null(rides_df, manual_kiosk_add, 'end_docks', 'end_station', 'total_docks')"
   ]
  },
  {
   "cell_type": "code",
   "execution_count": 38,
   "metadata": {},
   "outputs": [
    {
     "data": {
      "text/plain": [
       "<matplotlib.axes._subplots.AxesSubplot at 0x1a14a35940>"
      ]
     },
     "execution_count": 38,
     "metadata": {},
     "output_type": "execute_result"
    },
    {
     "data": {
      "image/png": "[encoded data removed]",
      "text/plain": [
       "<matplotlib.figure.Figure at 0x1a137cb080>"
      ]
     },
     "metadata": {},
     "output_type": "display_data"
    }
   ],
   "source": [
    "msno.matrix(rides_df)"
   ]
  },
  {
   "cell_type": "code",
   "execution_count": 39,
   "metadata": {
    "collapsed": true
   },
   "outputs": [],
   "source": [
    "rides_df = rides_df.dropna()"
   ]
  },
  {
   "cell_type": "code",
   "execution_count": 40,
   "metadata": {},
   "outputs": [
    {
     "data": {
      "text/plain": [
       "(250513, 22)"
      ]
     },
     "execution_count": 40,
     "metadata": {},
     "output_type": "execute_result"
    }
   ],
   "source": [
    "rides_df.shape"
   ]
  },
  {
   "cell_type": "code",
   "execution_count": 41,
   "metadata": {
    "collapsed": true
   },
   "outputs": [],
   "source": [
    "# create label for rides that were charged based on current pricing plan\n",
    "def label_charged(duration):\n",
    "    if duration <= 30:\n",
    "        return 0\n",
    "    else:\n",
    "        return 1\n",
    "    \n",
    "rides_df['charged_ride'] = rides_df['duration'].apply(label_charged)"
   ]
  },
  {
   "cell_type": "code",
   "execution_count": 42,
   "metadata": {
    "collapsed": true
   },
   "outputs": [],
   "source": [
    "# hour of day of ride\n",
    "rides_df['start_hour'] = rides_df['start_time'].dt.hour"
   ]
  },
  {
   "cell_type": "code",
   "execution_count": 43,
   "metadata": {},
   "outputs": [
    {
     "data": {
      "text/plain": [
       "Timestamp('2018-07-02 00:09:00')"
      ]
     },
     "execution_count": 43,
     "metadata": {},
     "output_type": "execute_result"
    }
   ],
   "source": [
    "latest_ride_date = rides_df['end_time'].max()\n",
    "latest_ride_date"
   ]
  },
  {
   "cell_type": "code",
   "execution_count": 44,
   "metadata": {
    "collapsed": true
   },
   "outputs": [],
   "source": [
    "bike_last_used_id = bike_last_used = rides_df.groupby('bike_id')['end_time'].max().keys().tolist()\n",
    "bike_last_used_date = rides_df.groupby('bike_id')['end_time'].max().tolist()"
   ]
  },
  {
   "cell_type": "code",
   "execution_count": 45,
   "metadata": {},
   "outputs": [
    {
     "name": "stdout",
     "output_type": "stream",
     "text": [
      "1 1259\n",
      "2 1353\n",
      "3 1383\n",
      "4 1409\n",
      "5 1415\n",
      "6 1419\n",
      "7 1427\n",
      "8 1436\n",
      "9 1442\n",
      "10 1445\n",
      "11 1448\n",
      "12 1452\n"
     ]
    }
   ],
   "source": [
    "# number of bikes active each month in the past year\n",
    "# 11 months back was when Bird officially launched in LA\n",
    "for month in range(1,13):\n",
    "    print(month, len([record for record in list(zip(bike_last_used_id,bike_last_used_date)) if record[1] > latest_ride_date + np.timedelta64(-month, 'M') ]))"
   ]
  },
  {
   "cell_type": "code",
   "execution_count": 46,
   "metadata": {},
   "outputs": [
    {
     "data": {
      "text/plain": [
       "33"
      ]
     },
     "execution_count": 46,
     "metadata": {},
     "output_type": "execute_result"
    }
   ],
   "source": [
    "# number of inactive bikes (bikes that haven't been used in the past 6 months)\n",
    "len([record for record in list(zip(bike_last_used_id,bike_last_used_date)) if record[1] < latest_ride_date + np.timedelta64(-6, 'M') ])"
   ]
  },
  {
   "cell_type": "code",
   "execution_count": 47,
   "metadata": {
    "collapsed": true
   },
   "outputs": [],
   "source": [
    "inactive_ids = [record[0] for record in list(zip(bike_last_used_id,bike_last_used_date)) if record[1] < latest_ride_date + np.timedelta64(-6, 'M') ]"
   ]
  },
  {
   "cell_type": "code",
   "execution_count": 48,
   "metadata": {
    "collapsed": true
   },
   "outputs": [],
   "source": [
    "# feature indicating active bikes, used in past 6 months\n",
    "rides_df['active_6m'] = rides_df['bike_id'].apply(lambda bike_id: 0 if bike_id in (inactive_ids) else 1)"
   ]
  },
  {
   "cell_type": "code",
   "execution_count": 49,
   "metadata": {},
   "outputs": [
    {
     "data": {
      "text/plain": [
       "array(['Walk-up', 'Monthly Pass', 'Flex Pass', 'One Day Pass'], dtype=object)"
      ]
     },
     "execution_count": 49,
     "metadata": {},
     "output_type": "execute_result"
    }
   ],
   "source": [
    "rides_df['passholder_type'].unique()"
   ]
  },
  {
   "cell_type": "code",
   "execution_count": 50,
   "metadata": {},
   "outputs": [
    {
     "data": {
      "text/html": [
       "<div>\n",
       "<style scoped>\n",
       "    .dataframe tbody tr th:only-of-type {\n",
       "        vertical-align: middle;\n",
       "    }\n",
       "\n",
       "    .dataframe tbody tr th {\n",
       "        vertical-align: top;\n",
       "    }\n",
       "\n",
       "    .dataframe thead th {\n",
       "        text-align: right;\n",
       "    }\n",
       "</style>\n",
       "<table border=\"1\" class=\"dataframe\">\n",
       "  <thead>\n",
       "    <tr style=\"text-align: right;\">\n",
       "      <th></th>\n",
       "      <th>trip_id</th>\n",
       "      <th>duration</th>\n",
       "      <th>start_time</th>\n",
       "      <th>end_time</th>\n",
       "      <th>start_station</th>\n",
       "      <th>start_lat</th>\n",
       "      <th>start_lon</th>\n",
       "      <th>end_station</th>\n",
       "      <th>end_lat</th>\n",
       "      <th>end_lon</th>\n",
       "      <th>bike_id</th>\n",
       "      <th>plan_duration</th>\n",
       "      <th>trip_route_category</th>\n",
       "      <th>passholder_type</th>\n",
       "      <th>start_address</th>\n",
       "      <th>start_zip</th>\n",
       "      <th>start_name</th>\n",
       "      <th>start_docks</th>\n",
       "      <th>end_address</th>\n",
       "      <th>end_zip</th>\n",
       "      <th>end_name</th>\n",
       "      <th>end_docks</th>\n",
       "      <th>charged_ride</th>\n",
       "      <th>start_hour</th>\n",
       "      <th>active_6m</th>\n",
       "      <th>annual</th>\n",
       "      <th>monthly</th>\n",
       "      <th>one_day</th>\n",
       "      <th>walk_up</th>\n",
       "      <th>one_way</th>\n",
       "      <th>round_trip</th>\n",
       "    </tr>\n",
       "  </thead>\n",
       "  <tbody>\n",
       "    <tr>\n",
       "      <th>0</th>\n",
       "      <td>33404951</td>\n",
       "      <td>36</td>\n",
       "      <td>2017-07-01 00:09:00</td>\n",
       "      <td>2017-07-01 00:45:00</td>\n",
       "      <td>3018</td>\n",
       "      <td>34.043732</td>\n",
       "      <td>-118.260139</td>\n",
       "      <td>3018</td>\n",
       "      <td>34.043732</td>\n",
       "      <td>-118.260139</td>\n",
       "      <td>5996</td>\n",
       "      <td>0</td>\n",
       "      <td>Round Trip</td>\n",
       "      <td>Walk-up</td>\n",
       "      <td>919 S Grand Ave</td>\n",
       "      <td>90015</td>\n",
       "      <td>Grand &amp; Olympic</td>\n",
       "      <td>22.0</td>\n",
       "      <td>919 S Grand Ave</td>\n",
       "      <td>90015</td>\n",
       "      <td>Grand &amp; Olympic</td>\n",
       "      <td>22.0</td>\n",
       "      <td>1</td>\n",
       "      <td>0</td>\n",
       "      <td>1</td>\n",
       "      <td>0</td>\n",
       "      <td>0</td>\n",
       "      <td>0</td>\n",
       "      <td>1</td>\n",
       "      <td>0</td>\n",
       "      <td>1</td>\n",
       "    </tr>\n",
       "    <tr>\n",
       "      <th>1</th>\n",
       "      <td>33404950</td>\n",
       "      <td>13</td>\n",
       "      <td>2017-07-01 00:10:00</td>\n",
       "      <td>2017-07-01 00:23:00</td>\n",
       "      <td>3055</td>\n",
       "      <td>34.044159</td>\n",
       "      <td>-118.251579</td>\n",
       "      <td>3082</td>\n",
       "      <td>34.046520</td>\n",
       "      <td>-118.237411</td>\n",
       "      <td>5777</td>\n",
       "      <td>0</td>\n",
       "      <td>One Way</td>\n",
       "      <td>Walk-up</td>\n",
       "      <td>111 W 7th Street</td>\n",
       "      <td>90014</td>\n",
       "      <td>7th &amp; Main</td>\n",
       "      <td>23.0</td>\n",
       "      <td>599 Traction Ave</td>\n",
       "      <td>90013</td>\n",
       "      <td>Traction &amp; Rose</td>\n",
       "      <td>27.0</td>\n",
       "      <td>0</td>\n",
       "      <td>0</td>\n",
       "      <td>1</td>\n",
       "      <td>0</td>\n",
       "      <td>0</td>\n",
       "      <td>0</td>\n",
       "      <td>1</td>\n",
       "      <td>1</td>\n",
       "      <td>0</td>\n",
       "    </tr>\n",
       "    <tr>\n",
       "      <th>2</th>\n",
       "      <td>33404947</td>\n",
       "      <td>34</td>\n",
       "      <td>2017-07-01 00:11:00</td>\n",
       "      <td>2017-07-01 00:45:00</td>\n",
       "      <td>3018</td>\n",
       "      <td>34.043732</td>\n",
       "      <td>-118.260139</td>\n",
       "      <td>3018</td>\n",
       "      <td>34.043732</td>\n",
       "      <td>-118.260139</td>\n",
       "      <td>6342</td>\n",
       "      <td>0</td>\n",
       "      <td>Round Trip</td>\n",
       "      <td>Walk-up</td>\n",
       "      <td>919 S Grand Ave</td>\n",
       "      <td>90015</td>\n",
       "      <td>Grand &amp; Olympic</td>\n",
       "      <td>22.0</td>\n",
       "      <td>919 S Grand Ave</td>\n",
       "      <td>90015</td>\n",
       "      <td>Grand &amp; Olympic</td>\n",
       "      <td>22.0</td>\n",
       "      <td>1</td>\n",
       "      <td>0</td>\n",
       "      <td>1</td>\n",
       "      <td>0</td>\n",
       "      <td>0</td>\n",
       "      <td>0</td>\n",
       "      <td>1</td>\n",
       "      <td>0</td>\n",
       "      <td>1</td>\n",
       "    </tr>\n",
       "    <tr>\n",
       "      <th>3</th>\n",
       "      <td>33404948</td>\n",
       "      <td>34</td>\n",
       "      <td>2017-07-01 00:11:00</td>\n",
       "      <td>2017-07-01 00:45:00</td>\n",
       "      <td>3018</td>\n",
       "      <td>34.043732</td>\n",
       "      <td>-118.260139</td>\n",
       "      <td>3018</td>\n",
       "      <td>34.043732</td>\n",
       "      <td>-118.260139</td>\n",
       "      <td>6478</td>\n",
       "      <td>0</td>\n",
       "      <td>Round Trip</td>\n",
       "      <td>Walk-up</td>\n",
       "      <td>919 S Grand Ave</td>\n",
       "      <td>90015</td>\n",
       "      <td>Grand &amp; Olympic</td>\n",
       "      <td>22.0</td>\n",
       "      <td>919 S Grand Ave</td>\n",
       "      <td>90015</td>\n",
       "      <td>Grand &amp; Olympic</td>\n",
       "      <td>22.0</td>\n",
       "      <td>1</td>\n",
       "      <td>0</td>\n",
       "      <td>1</td>\n",
       "      <td>0</td>\n",
       "      <td>0</td>\n",
       "      <td>0</td>\n",
       "      <td>1</td>\n",
       "      <td>0</td>\n",
       "      <td>1</td>\n",
       "    </tr>\n",
       "    <tr>\n",
       "      <th>4</th>\n",
       "      <td>33404949</td>\n",
       "      <td>12</td>\n",
       "      <td>2017-07-01 00:11:00</td>\n",
       "      <td>2017-07-01 00:23:00</td>\n",
       "      <td>3055</td>\n",
       "      <td>34.044159</td>\n",
       "      <td>-118.251579</td>\n",
       "      <td>3082</td>\n",
       "      <td>34.046520</td>\n",
       "      <td>-118.237411</td>\n",
       "      <td>6411</td>\n",
       "      <td>0</td>\n",
       "      <td>One Way</td>\n",
       "      <td>Walk-up</td>\n",
       "      <td>111 W 7th Street</td>\n",
       "      <td>90014</td>\n",
       "      <td>7th &amp; Main</td>\n",
       "      <td>23.0</td>\n",
       "      <td>599 Traction Ave</td>\n",
       "      <td>90013</td>\n",
       "      <td>Traction &amp; Rose</td>\n",
       "      <td>27.0</td>\n",
       "      <td>0</td>\n",
       "      <td>0</td>\n",
       "      <td>1</td>\n",
       "      <td>0</td>\n",
       "      <td>0</td>\n",
       "      <td>0</td>\n",
       "      <td>1</td>\n",
       "      <td>1</td>\n",
       "      <td>0</td>\n",
       "    </tr>\n",
       "    <tr>\n",
       "      <th>5</th>\n",
       "      <td>33404946</td>\n",
       "      <td>18</td>\n",
       "      <td>2017-07-01 00:12:00</td>\n",
       "      <td>2017-07-01 00:30:00</td>\n",
       "      <td>3047</td>\n",
       "      <td>34.039982</td>\n",
       "      <td>-118.266403</td>\n",
       "      <td>3005</td>\n",
       "      <td>34.048500</td>\n",
       "      <td>-118.258537</td>\n",
       "      <td>5778</td>\n",
       "      <td>0</td>\n",
       "      <td>One Way</td>\n",
       "      <td>Walk-up</td>\n",
       "      <td>515 W Pico Street</td>\n",
       "      <td>90015</td>\n",
       "      <td>Pico &amp; Flower</td>\n",
       "      <td>36.0</td>\n",
       "      <td>723 Flower Street</td>\n",
       "      <td>90017</td>\n",
       "      <td>7th &amp; Flower</td>\n",
       "      <td>27.0</td>\n",
       "      <td>0</td>\n",
       "      <td>0</td>\n",
       "      <td>1</td>\n",
       "      <td>0</td>\n",
       "      <td>0</td>\n",
       "      <td>0</td>\n",
       "      <td>1</td>\n",
       "      <td>1</td>\n",
       "      <td>0</td>\n",
       "    </tr>\n",
       "    <tr>\n",
       "      <th>6</th>\n",
       "      <td>33404945</td>\n",
       "      <td>23</td>\n",
       "      <td>2017-07-01 00:20:00</td>\n",
       "      <td>2017-07-01 00:43:00</td>\n",
       "      <td>3067</td>\n",
       "      <td>34.045181</td>\n",
       "      <td>-118.250237</td>\n",
       "      <td>3055</td>\n",
       "      <td>34.044159</td>\n",
       "      <td>-118.251579</td>\n",
       "      <td>5901</td>\n",
       "      <td>30</td>\n",
       "      <td>One Way</td>\n",
       "      <td>Monthly Pass</td>\n",
       "      <td>640 S Spring Street</td>\n",
       "      <td>90014</td>\n",
       "      <td>Main &amp; 6th</td>\n",
       "      <td>19.0</td>\n",
       "      <td>111 W 7th Street</td>\n",
       "      <td>90014</td>\n",
       "      <td>7th &amp; Main</td>\n",
       "      <td>23.0</td>\n",
       "      <td>0</td>\n",
       "      <td>0</td>\n",
       "      <td>1</td>\n",
       "      <td>0</td>\n",
       "      <td>1</td>\n",
       "      <td>0</td>\n",
       "      <td>0</td>\n",
       "      <td>1</td>\n",
       "      <td>0</td>\n",
       "    </tr>\n",
       "    <tr>\n",
       "      <th>7</th>\n",
       "      <td>33404944</td>\n",
       "      <td>3</td>\n",
       "      <td>2017-07-01 00:24:00</td>\n",
       "      <td>2017-07-01 00:27:00</td>\n",
       "      <td>3005</td>\n",
       "      <td>34.048500</td>\n",
       "      <td>-118.258537</td>\n",
       "      <td>3051</td>\n",
       "      <td>34.045422</td>\n",
       "      <td>-118.253517</td>\n",
       "      <td>5905</td>\n",
       "      <td>30</td>\n",
       "      <td>One Way</td>\n",
       "      <td>Monthly Pass</td>\n",
       "      <td>723 Flower Street</td>\n",
       "      <td>90017</td>\n",
       "      <td>7th &amp; Flower</td>\n",
       "      <td>27.0</td>\n",
       "      <td>307 W 7th Street</td>\n",
       "      <td>90014</td>\n",
       "      <td>7th &amp; Broadway</td>\n",
       "      <td>16.0</td>\n",
       "      <td>0</td>\n",
       "      <td>0</td>\n",
       "      <td>1</td>\n",
       "      <td>0</td>\n",
       "      <td>1</td>\n",
       "      <td>0</td>\n",
       "      <td>0</td>\n",
       "      <td>1</td>\n",
       "      <td>0</td>\n",
       "    </tr>\n",
       "    <tr>\n",
       "      <th>8</th>\n",
       "      <td>33404943</td>\n",
       "      <td>4</td>\n",
       "      <td>2017-07-01 00:32:00</td>\n",
       "      <td>2017-07-01 00:36:00</td>\n",
       "      <td>3046</td>\n",
       "      <td>34.053020</td>\n",
       "      <td>-118.247948</td>\n",
       "      <td>3062</td>\n",
       "      <td>34.047749</td>\n",
       "      <td>-118.243172</td>\n",
       "      <td>6254</td>\n",
       "      <td>30</td>\n",
       "      <td>One Way</td>\n",
       "      <td>Monthly Pass</td>\n",
       "      <td>201 South Hill Street</td>\n",
       "      <td>90021</td>\n",
       "      <td>2nd &amp; Hill</td>\n",
       "      <td>17.0</td>\n",
       "      <td>350 E Third Street</td>\n",
       "      <td>90013</td>\n",
       "      <td>3rd &amp; San Pedro</td>\n",
       "      <td>27.0</td>\n",
       "      <td>0</td>\n",
       "      <td>0</td>\n",
       "      <td>1</td>\n",
       "      <td>0</td>\n",
       "      <td>1</td>\n",
       "      <td>0</td>\n",
       "      <td>0</td>\n",
       "      <td>1</td>\n",
       "      <td>0</td>\n",
       "    </tr>\n",
       "    <tr>\n",
       "      <th>9</th>\n",
       "      <td>33404942</td>\n",
       "      <td>8</td>\n",
       "      <td>2017-07-01 00:33:00</td>\n",
       "      <td>2017-07-01 00:41:00</td>\n",
       "      <td>3038</td>\n",
       "      <td>34.046822</td>\n",
       "      <td>-118.248352</td>\n",
       "      <td>3038</td>\n",
       "      <td>34.046822</td>\n",
       "      <td>-118.248352</td>\n",
       "      <td>6176</td>\n",
       "      <td>30</td>\n",
       "      <td>Round Trip</td>\n",
       "      <td>Monthly Pass</td>\n",
       "      <td>458 S Main Street</td>\n",
       "      <td>90013</td>\n",
       "      <td>Main &amp; 5th</td>\n",
       "      <td>18.0</td>\n",
       "      <td>458 S Main Street</td>\n",
       "      <td>90013</td>\n",
       "      <td>Main &amp; 5th</td>\n",
       "      <td>18.0</td>\n",
       "      <td>0</td>\n",
       "      <td>0</td>\n",
       "      <td>1</td>\n",
       "      <td>0</td>\n",
       "      <td>1</td>\n",
       "      <td>0</td>\n",
       "      <td>0</td>\n",
       "      <td>0</td>\n",
       "      <td>1</td>\n",
       "    </tr>\n",
       "  </tbody>\n",
       "</table>\n",
       "</div>"
      ],
      "text/plain": [
       "    trip_id  duration          start_time            end_time  start_station  start_lat   start_lon  end_station    end_lat     end_lon  bike_id  plan_duration trip_route_category passholder_type          start_address start_zip       start_name  start_docks         end_address end_zip         end_name  end_docks  charged_ride  start_hour  active_6m  annual  monthly  one_day  walk_up  one_way  round_trip\n",
       "0  33404951        36 2017-07-01 00:09:00 2017-07-01 00:45:00           3018  34.043732 -118.260139         3018  34.043732 -118.260139     5996              0          Round Trip         Walk-up        919 S Grand Ave     90015  Grand & Olympic         22.0     919 S Grand Ave   90015  Grand & Olympic       22.0             1           0          1       0        0        0        1        0           1\n",
       "1  33404950        13 2017-07-01 00:10:00 2017-07-01 00:23:00           3055  34.044159 -118.251579         3082  34.046520 -118.237411     5777              0             One Way         Walk-up       111 W 7th Street     90014       7th & Main         23.0    599 Traction Ave   90013  Traction & Rose       27.0             0           0          1       0        0        0        1        1           0\n",
       "2  33404947        34 2017-07-01 00:11:00 2017-07-01 00:45:00           3018  34.043732 -118.260139         3018  34.043732 -118.260139     6342              0          Round Trip         Walk-up        919 S Grand Ave     90015  Grand & Olympic         22.0     919 S Grand Ave   90015  Grand & Olympic       22.0             1           0          1       0        0        0        1        0           1\n",
       "3  33404948        34 2017-07-01 00:11:00 2017-07-01 00:45:00           3018  34.043732 -118.260139         3018  34.043732 -118.260139     6478              0          Round Trip         Walk-up        919 S Grand Ave     90015  Grand & Olympic         22.0     919 S Grand Ave   90015  Grand & Olympic       22.0             1           0          1       0        0        0        1        0           1\n",
       "4  33404949        12 2017-07-01 00:11:00 2017-07-01 00:23:00           3055  34.044159 -118.251579         3082  34.046520 -118.237411     6411              0             One Way         Walk-up       111 W 7th Street     90014       7th & Main         23.0    599 Traction Ave   90013  Traction & Rose       27.0             0           0          1       0        0        0        1        1           0\n",
       "5  33404946        18 2017-07-01 00:12:00 2017-07-01 00:30:00           3047  34.039982 -118.266403         3005  34.048500 -118.258537     5778              0             One Way         Walk-up      515 W Pico Street     90015    Pico & Flower         36.0   723 Flower Street   90017     7th & Flower       27.0             0           0          1       0        0        0        1        1           0\n",
       "6  33404945        23 2017-07-01 00:20:00 2017-07-01 00:43:00           3067  34.045181 -118.250237         3055  34.044159 -118.251579     5901             30             One Way    Monthly Pass    640 S Spring Street     90014       Main & 6th         19.0    111 W 7th Street   90014       7th & Main       23.0             0           0          1       0        1        0        0        1           0\n",
       "7  33404944         3 2017-07-01 00:24:00 2017-07-01 00:27:00           3005  34.048500 -118.258537         3051  34.045422 -118.253517     5905             30             One Way    Monthly Pass      723 Flower Street     90017     7th & Flower         27.0    307 W 7th Street   90014   7th & Broadway       16.0             0           0          1       0        1        0        0        1           0\n",
       "8  33404943         4 2017-07-01 00:32:00 2017-07-01 00:36:00           3046  34.053020 -118.247948         3062  34.047749 -118.243172     6254             30             One Way    Monthly Pass  201 South Hill Street     90021       2nd & Hill         17.0  350 E Third Street   90013  3rd & San Pedro       27.0             0           0          1       0        1        0        0        1           0\n",
       "9  33404942         8 2017-07-01 00:33:00 2017-07-01 00:41:00           3038  34.046822 -118.248352         3038  34.046822 -118.248352     6176             30          Round Trip    Monthly Pass      458 S Main Street     90013       Main & 5th         18.0   458 S Main Street   90013       Main & 5th       18.0             0           0          1       0        1        0        0        0           1"
      ]
     },
     "execution_count": 50,
     "metadata": {},
     "output_type": "execute_result"
    }
   ],
   "source": [
    "one_hot_pass = pd.get_dummies(rides_df['passholder_type']).rename(columns={\n",
    "    'Flex Pass' : 'annual',\n",
    "    'Monthly Pass' : 'monthly',\n",
    "    'One Day Pass' : 'one_day',\n",
    "    'Walk-up' : 'walk_up'\n",
    "})\n",
    "\n",
    "one_hot_trip_type = pd.get_dummies(rides_df['trip_route_category']).rename(columns = {\n",
    "    'One Way' : 'one_way',\n",
    "    'Round Trip' : 'round_trip'\n",
    "})\n",
    "\n",
    "rides_df = rides_df.join([one_hot_pass, one_hot_trip_type])\n",
    "rides_df.head(10)"
   ]
  },
  {
   "cell_type": "code",
   "execution_count": null,
   "metadata": {
    "collapsed": true
   },
   "outputs": [],
   "source": []
  },
  {
   "cell_type": "code",
   "execution_count": 51,
   "metadata": {
    "collapsed": true
   },
   "outputs": [],
   "source": [
    "# Walk-up  3.50/30minutesAlltrips30minutesorlessare3.50/30minutesAlltrips30minutesorlessare 3.50 \n",
    "# $3.50 per 30 minutes thereafter\n",
    "# Find a Station One Day Pass  7/dayAlltrips30minutesorlessarefree7/dayAlltrips30minutesorlessarefree \n",
    "# 1.75 per 30 minutes thereafter\n",
    "# Buy a Pass Monthly Pass  20/monthAlltrips30minutesorlessarefree20/monthAlltrips30minutesorlessarefree \n",
    "# 1.75 per 30 minutes thereafter\n",
    "# determining pricing based on the following scheme:"
   ]
  },
  {
   "cell_type": "code",
   "execution_count": 52,
   "metadata": {},
   "outputs": [
    {
     "data": {
      "text/plain": [
       "trip_id                                   33463066\n",
       "duration                                        18\n",
       "start_time                     2017-07-01 11:34:00\n",
       "end_time                       2017-07-01 11:52:00\n",
       "start_station                                 3011\n",
       "start_lat                                  34.0411\n",
       "start_lon                                 -118.268\n",
       "end_station                                   3062\n",
       "end_lat                                    34.0477\n",
       "end_lon                                   -118.243\n",
       "bike_id                                       6634\n",
       "plan_duration                                  365\n",
       "trip_route_category                        One Way\n",
       "passholder_type                          Flex Pass\n",
       "start_address          1259-1299 S Figueroa Street\n",
       "start_zip                                    90015\n",
       "start_name                         Figueroa & Pico\n",
       "start_docks                                     19\n",
       "end_address                     350 E Third Street\n",
       "end_zip                                      90013\n",
       "end_name                           3rd & San Pedro\n",
       "end_docks                                       27\n",
       "charged_ride                                     0\n",
       "start_hour                                      11\n",
       "active_6m                                        1\n",
       "annual                                           1\n",
       "monthly                                          0\n",
       "one_day                                          0\n",
       "walk_up                                          0\n",
       "one_way                                          1\n",
       "round_trip                                       0\n",
       "Name: 126, dtype: object"
      ]
     },
     "execution_count": 52,
     "metadata": {},
     "output_type": "execute_result"
    }
   ],
   "source": [
    "rides_df[rides_df['passholder_type'] == 'Flex Pass'].iloc[1]"
   ]
  },
  {
   "cell_type": "code",
   "execution_count": 53,
   "metadata": {},
   "outputs": [
    {
     "data": {
      "text/plain": [
       "(250513, 31)"
      ]
     },
     "execution_count": 53,
     "metadata": {},
     "output_type": "execute_result"
    }
   ],
   "source": [
    "rides_df.shape"
   ]
  },
  {
   "cell_type": "code",
   "execution_count": 182,
   "metadata": {},
   "outputs": [],
   "source": [
    "# create variable for 30 minute blocks that all users have to pay for, excluding first 30 minutes\n",
    "rides_df['time_block_count'] = rides_df['duration'].apply(lambda duration: math.ceil(duration/30))\n",
    "rides_df['time_block_count_post_free'] = rides_df['duration'].apply(lambda duration: math.ceil(duration/30)) - 1"
   ]
  },
  {
   "cell_type": "code",
   "execution_count": null,
   "metadata": {
    "collapsed": true
   },
   "outputs": [],
   "source": []
  },
  {
   "cell_type": "code",
   "execution_count": 55,
   "metadata": {},
   "outputs": [
    {
     "name": "stdout",
     "output_type": "stream",
     "text": [
      "Dates range from:  2017-07-01 00:09:00  to  2018-06-30 23:52:00\n"
     ]
    }
   ],
   "source": [
    "print('Dates range from: ', rides_df['start_time'].min(), ' to ', rides_df['start_time'].max())"
   ]
  },
  {
   "cell_type": "markdown",
   "metadata": {},
   "source": [
    "### Potential EDA:\n",
    "1. Planning inventory around locations and time\n",
    "    1. Most common start, end station pairings\n",
    "    2. Most common time periods\n",
    "    3. Different heatmaps for different time periods\n",
    "    4. Start/end station correlation with available docks at location\n",
    "2. Pricing strategies for different passes\n",
    "    1. Usage rates across different passes\n",
    "        1. By duration\n",
    "        2. By number of trips\n",
    "        3. Total duration X trips\n",
    "    2. Geographical gropuing of where most passes originate/end from\n",
    "    3. Cohort analysis of different groups\n",
    "    4. How many rides were past the free 30 minute mark?\n",
    "3. Unit pricing strategies, what if we brought it back? Charging all > \n",
    "    1. Based on current pricing strategy, what would total revenue be on a per mile basis\n",
    "    2. Comparison with Bird/Jump bike pricing\n",
    "    3. Cohort analysis of different groups\n",
    "    4. Optimization function for 2 and 3\n",
    "\n",
    "Pricing strategies can be used to build predictor model for rides, duration, and total revenue\n",
    "\n",
    "### Feature engineering\n",
    "1. Hours\n",
    "2. Free ride with pass? (>30 in time or not)\n",
    "3. Active or none active bikes (whether they've been used in the past month)\n",
    "4. Number of 30 minute blocks\n",
    "5. One hot encoding pass type\n",
    "6. One hot encoding route type (one way, round trip)"
   ]
  },
  {
   "cell_type": "markdown",
   "metadata": {},
   "source": [
    "### Current pricing\n",
    "\n",
    "Walk up   \n",
    "$ 1.75 for each 30 min trip   \n",
    "$ 1.75 per 30 minutes thereafter\n",
    "\n",
    "Day Pass \n",
    "$5/day\n",
    "All rides 30 minutes or less are free\n",
    "$1.75 per 30 minutes thereafter\n",
    " \n",
    "\n",
    "Sign Up\n",
    "Monthly Pass\n",
    "$17/month\n",
    "All rides 30 minutes or less are free\n",
    "$1.75 per 30 minutes thereafter\n",
    " \n",
    "\n",
    "Sign Up\n",
    "Annual Pass\n",
    "$150/year\n",
    "Equivalent to $12.50/month\n",
    "All rides 30 minutes or less are free\n",
    "$1.75 per 30 minutes thereafter\n",
    "\n",
    "### Previous pricing\n",
    "\n",
    "Walk-up\n",
    "$3.50/30 minutes\n",
    "All trips 30 minutes or less are $3.50\n",
    "$3.50 per 30 minutes thereafter\n",
    " \n",
    "\n",
    "Find a Station\n",
    "One Day Pass\n",
    "$7/day\n",
    "All trips 30 minutes or less are free\n",
    "$1.75 per 30 minutes thereafter\n",
    "\n",
    "\n",
    "Buy a Pass\n",
    "Monthly Pass\n",
    "$20/month\n",
    "All trips 30 minutes or less are free\n",
    "$1.75 per 30 minutes thereafter\n",
    "\n",
    "Buy a Pass\n",
    "Annual Pass\n",
    "$150/year\n",
    "All trips 30 minutes or less are free\n",
    "$1.75 per 30 minutes thereafter"
   ]
  },
  {
   "cell_type": "markdown",
   "metadata": {
    "collapsed": true
   },
   "source": [
    "### Competitor pricing:\n",
    "\n",
    "Bird Scooters - $.15 per minute   \n",
    "\n",
    "Lime Pedal Bikes - $1 to unlock + $0.05/minute to ride.   \n",
    "\n",
    "Lime-E Electric Assist Bikes - $1 to unlock +  $.15 per minute   \n",
    "\n",
    "Lime-S Electric Scooters - $1 to unlock + $.15 per minute   \n",
    "\n",
    "LimePrime - $29.95 per month and includes $100 in ride credits for use on Lime Classic Pedal Bikes only.   \n",
    "\n",
    "LimePrime Students is $14.95 per month and includes 100 ride credits, with a valid \".EDU\" email address. Students, faculty and staff all qualify.   \n",
    "\n",
    "JUMP Bikes (& scooters) (Santa Monica only) - $1 for first 5 minutes + $.15 per minute after   \n",
    "\n",
    "JUMP Bikes (& scooters) Boost Plan (Santa Monica only) - $5 a month for 60 minutes a day of ride time + .07 after 60 min."
   ]
  },
  {
   "cell_type": "markdown",
   "metadata": {},
   "source": [
    "## Optimization models\n",
    "\n",
    "As seen from competitors, there are multiple ways in which the pricing scheme can be structure. Some options that we could implement and compare are as follows:\n",
    "1. Variable rate by minute\n",
    "2. Variable rate by time intervals (30 minutes for LA Metro currently)\n",
    "3. Fixed fee for any ride\n",
    "4. Fixed fee for a time interval before implementing a variable rate\n",
    "5. Weekly, monthly passes that cover all rides up to a particular duration. Variable rate thereafter\n",
    "\n",
    "We will examine the current model by LA metro and whether the current level of customer segmentation is necessary. To benchmark the pricing against other operators of bikes and scooters, let's plot out the different pricing curves for all operators."
   ]
  },
  {
   "cell_type": "code",
   "execution_count": 180,
   "metadata": {},
   "outputs": [
    {
     "data": {
      "image/png": "[encoded data removed]",
      "text/plain": [
       "<matplotlib.figure.Figure at 0x1a19498668>"
      ]
     },
     "metadata": {},
     "output_type": "display_data"
    }
   ],
   "source": [
    "fig, axes = plt.subplots(figsize=(10,5))\n",
    "x = np.array(range(0,60))\n",
    "prev_la, = plt.step([0,30,60], [0,3.5,7], label = 'Previous LA Metro')\n",
    "cur_la, = plt.step([0,30,60], [0,1.75,3.5], label = 'Current LA Metro')\n",
    "bird, = plt.plot(x, 0.15 * x, label = 'Bird')\n",
    "lime_ped, = plt.plot(x, 1 + 0.05 * x, label = 'Lime Pedal Bike')\n",
    "lime_scoot, = plt.plot(x, 1 + 0.15 * x, label = 'Lime Electric Assist Bike/Scooter')\n",
    "jump1, = plt.step([0,5],[0,1],label = 'Jump Bikes/Scooters',color = 'c')\n",
    "jump2, = plt.plot(np.array(range(5,60)), 0.15 * np.array(range(5,60)) + 0.25, color = 'c')\n",
    "plt.title('Prices of trips up to 60 minutes for different operators', size=15)\n",
    "plt.xlabel('Duration of trip (minutes)')\n",
    "plt.ylabel('Price of trip ($)')\n",
    "plt.legend()\n",
    "plt.show()"
   ]
  },
  {
   "cell_type": "markdown",
   "metadata": {},
   "source": [
    "Looking at the different pricing schemes across bike and scooter operators in LA, the current pricing that was just enacted by LA Metro is definitely the cheapest, coming in at $3.50 for an hour long bike ride.\n",
    "\n",
    "The previous pricing for an hour long bike ride for a walk-on was $7, twice the current price.\n",
    "\n",
    "The next cheapest option is the Lime pedal bike, which is cheaper than walk on riders on LA metro for rides shorter than 15 minutes and for rides between 30 and 50 minutes. \n",
    "\n",
    "We will thus formulate the following linear constraints to optimize total revenue for the current pricing structure:   \n",
    "1. The variable rate per minute without a pass is set under the average of the two most common prices of \\$0.05 and \\$0.15:    \n",
    "Variable rate per minute without pass <= \\$0.10\n",
    "2. The variable rate per minute with a plan is set under the average of the LA Metro's current ~\\$0.06 and Jump's \\$0.07:   \n",
    "Variable rate per minute with pass <= \\$0.65 \n",
    "3. The variable rate is set under the nearest competitor(Lime pedal):   \n",
    "Variable rate per 30 minutes <= \\$2.5\n",
    "4. As there aren't many operators out there with comparable pass pricing plans, we maintain the current prices of 5, 17, and 150 for daily pass, monthly pass, and annual pass respectively:      \n",
    "Daily pass price <= \\$5   \n",
    "Monthly pass price <= \\$17   \n",
    "Annual pass price <= \\$150"
   ]
  },
  {
   "cell_type": "code",
   "execution_count": 219,
   "metadata": {},
   "outputs": [
    {
     "data": {
      "text/plain": [
       "dict_keys(['Flex Pass', 'Monthly Pass', 'One Day Pass', 'Walk-up'])"
      ]
     },
     "execution_count": 219,
     "metadata": {},
     "output_type": "execute_result"
    }
   ],
   "source": [
    "pass_groups = rides_df.groupby('passholder_type')\n",
    "pass_groups.groups.keys()"
   ]
  },
  {
   "cell_type": "code",
   "execution_count": 221,
   "metadata": {},
   "outputs": [
    {
     "data": {
      "text/html": [
       "<div>\n",
       "<style scoped>\n",
       "    .dataframe tbody tr th:only-of-type {\n",
       "        vertical-align: middle;\n",
       "    }\n",
       "\n",
       "    .dataframe tbody tr th {\n",
       "        vertical-align: top;\n",
       "    }\n",
       "\n",
       "    .dataframe thead th {\n",
       "        text-align: right;\n",
       "    }\n",
       "</style>\n",
       "<table border=\"1\" class=\"dataframe\">\n",
       "  <thead>\n",
       "    <tr style=\"text-align: right;\">\n",
       "      <th></th>\n",
       "      <th>total_trips</th>\n",
       "      <th>pay_count_walk_up</th>\n",
       "      <th>total_30min_blocks</th>\n",
       "      <th>total_30min_blocks_post_free</th>\n",
       "      <th>total_minutes</th>\n",
       "    </tr>\n",
       "    <tr>\n",
       "      <th>passholder_type</th>\n",
       "      <th></th>\n",
       "      <th></th>\n",
       "      <th></th>\n",
       "      <th></th>\n",
       "      <th></th>\n",
       "    </tr>\n",
       "  </thead>\n",
       "  <tbody>\n",
       "    <tr>\n",
       "      <th>annual</th>\n",
       "      <td>9175</td>\n",
       "      <td>0.0</td>\n",
       "      <td>10858</td>\n",
       "      <td>1683</td>\n",
       "      <td>143708</td>\n",
       "    </tr>\n",
       "    <tr>\n",
       "      <th>monthly</th>\n",
       "      <td>146531</td>\n",
       "      <td>0.0</td>\n",
       "      <td>165592</td>\n",
       "      <td>19061</td>\n",
       "      <td>1982585</td>\n",
       "    </tr>\n",
       "    <tr>\n",
       "      <th>daily</th>\n",
       "      <td>14640</td>\n",
       "      <td>0.0</td>\n",
       "      <td>38517</td>\n",
       "      <td>23877</td>\n",
       "      <td>937578</td>\n",
       "    </tr>\n",
       "    <tr>\n",
       "      <th>walk_up</th>\n",
       "      <td>80167</td>\n",
       "      <td>80167.0</td>\n",
       "      <td>178895</td>\n",
       "      <td>98728</td>\n",
       "      <td>4158810</td>\n",
       "    </tr>\n",
       "  </tbody>\n",
       "</table>\n",
       "</div>"
      ],
      "text/plain": [
       "                 total_trips  pay_count_walk_up  total_30min_blocks  total_30min_blocks_post_free  total_minutes\n",
       "passholder_type                                                                                                 \n",
       "annual                  9175                0.0               10858                          1683         143708\n",
       "monthly               146531                0.0              165592                         19061        1982585\n",
       "daily                  14640                0.0               38517                         23877         937578\n",
       "walk_up                80167            80167.0              178895                         98728        4158810"
      ]
     },
     "execution_count": 221,
     "metadata": {},
     "output_type": "execute_result"
    }
   ],
   "source": [
    "average_ride = \n",
    "agg_pass_groups = pass_groups.agg({\n",
    "    'trip_id' : 'count',\n",
    "    'walk_up' : 'sum',\n",
    "    'time_block_count' : 'sum',\n",
    "    'time_block_count_post_free' : 'sum',\n",
    "    'duration' : 'sum'\n",
    "}).rename(columns = {\n",
    "    'trip_id' : 'total_trips',\n",
    "    'walk_up' : 'pay_count_walk_up',\n",
    "    'time_block_count' : 'total_30min_blocks',\n",
    "    'time_block_count_post_free' : 'total_30min_blocks_post_free',\n",
    "    'duration' : 'total_minutes'\n",
    "}).reset_index()\n",
    "agg_pass_groups['passholder_type'] = ['annual','monthly','daily','walk_up']\n",
    "agg_pass_groups.index = agg_pass_groups['passholder_type']\n",
    "agg_pass_groups = agg_pass_groups.drop('passholder_type',1)\n",
    "agg_pass_groups"
   ]
  },
  {
   "cell_type": "markdown",
   "metadata": {},
   "source": [
    "We are however missing the number of passholders to implement revenue gained from selling passes. As we do not have unique identifiers for passholders, we refer to the data page of LA Metro bikes here: https://bikeshare.metro.net/about/data/.\n",
    "\n",
    "With roughly 575,281 trips completed and 42,870 passes sold since it's inception in July 2016, it would be safe to expect roughly 20,000 passholders during the year-long period of this analysis. \n",
    "\n",
    "We will estimate the number of different passholders with a breakeven perspective. As most trips (>60%) are \"last mile\" trips from metro stops and the median duration of trips is 12 minutes, we conduct the following breakeven analysis for trips under 30 minutes."
   ]
  },
  {
   "cell_type": "code",
   "execution_count": 245,
   "metadata": {},
   "outputs": [
    {
     "name": "stdout",
     "output_type": "stream",
     "text": [
      "Rides per day required for daily pass: 2.2857142857142856 \n",
      " Rides per month required for monthly pass: 7.0476190476190474 \n",
      " Rides per year required for annual pass: 57.142857142857146\n"
     ]
    }
   ],
   "source": [
    "# average difference between passholders and walk-up riders across previous and current pricing\n",
    "price_diff = (3.5 + 1.75)/2\n",
    "\n",
    "# average prices of respective plans across previous and current pricing\n",
    "day_price = (5 + 7)/2\n",
    "month_price = (17 + 20)/2\n",
    "annual_price = (150 + 150)/2\n",
    "\n",
    "# number of rides for breakeven for day pass, in rides/day\n",
    "rides_per_day = day_price/price_diff\n",
    "\n",
    "# number of rides for breakeven for month pass, in rides/month\n",
    "rides_per_month = month_price/price_diff\n",
    "\n",
    "# number of rides for breakeven for annual pass, in rides/year\n",
    "rides_per_year = annual_price/price_diff\n",
    "\n",
    "print(\"Rides per day required for daily pass:\",rides_per_day,'\\n', \n",
    "      \"Rides per month required for monthly pass:\", rides_per_month,'\\n', \n",
    "      \"Rides per year required for annual pass:\", rides_per_year)"
   ]
  },
  {
   "cell_type": "code",
   "execution_count": 253,
   "metadata": {},
   "outputs": [
    {
     "name": "stdout",
     "output_type": "stream",
     "text": [
      "Estimated passholders for daily pass: 6405 \n",
      " Estimated passholders for monthly pass: 20792 \n",
      " Estimated passholders for annual pass: 161 \n",
      " Total passholders: 27358\n"
     ]
    }
   ],
   "source": [
    "# divide total trips by rides required for breakeven per pass duration (day/month/year) to get estimated number\n",
    "# of passholders\n",
    "passholders_day = math.ceil(agg_pass_groups.loc['daily','total_trips']/rides_per_day)\n",
    "passholders_month = math.ceil(agg_pass_groups.loc['monthly','total_trips']/rides_per_month)\n",
    "passholders_annual = math.ceil(agg_pass_groups.loc['annual','total_trips']/rides_per_year)\n",
    "\n",
    "agg_pass_groups['passholders'] = [passholders_annual, passholders_month, passholders_day, 0]\n",
    "\n",
    "print(\"Estimated passholders for daily pass:\",passholders_day,'\\n', \n",
    "      \"Estimated passholders for monthly pass:\", passholders_month,'\\n', \n",
    "      \"Estimated passholders for annual pass:\", passholders_annual,'\\n',\n",
    "     \"Total passholders:\", passholders_day + passholders_month + passholders_annual)"
   ]
  },
  {
   "cell_type": "markdown",
   "metadata": {},
   "source": [
    "The total number of estimated passes bought during this period is around 27,358. This seems slightly on the high side though still within the realm of possibility. \n",
    "\n",
    "A quick calculation would yield estimated total revenue from just selling passes at around $ 447,000.\n",
    "\n",
    "For the following analyses, we assume that number of passholders stay constant. In other words, passholders remain in their pass type and purchase it at the same rate\n",
    "\n",
    "Lets now formulate the objective function for this optimization model to maximum total revenue from pass sales and rides.\n",
    "\n",
    "The total revenue can be split into the following:\n",
    "1. Total revenue from walk up users = Price for 30 minutes of usage * Total 30 minute blocks by walk up users\n",
    "2. Total revenue from pass users = Price for 30 minutes of usage * Total 30 minute blocks after free first 30 minutes\n",
    "3. Total revenue from selling passes = Prices of respective passes * Total passholders in respective pass types\n",
    "\n",
    "Now we can represent this objective function in PuLP."
   ]
  },
  {
   "cell_type": "code",
   "execution_count": 353,
   "metadata": {},
   "outputs": [
    {
     "data": {
      "text/html": [
       "<div>\n",
       "<style scoped>\n",
       "    .dataframe tbody tr th:only-of-type {\n",
       "        vertical-align: middle;\n",
       "    }\n",
       "\n",
       "    .dataframe tbody tr th {\n",
       "        vertical-align: top;\n",
       "    }\n",
       "\n",
       "    .dataframe thead th {\n",
       "        text-align: right;\n",
       "    }\n",
       "</style>\n",
       "<table border=\"1\" class=\"dataframe\">\n",
       "  <thead>\n",
       "    <tr style=\"text-align: right;\">\n",
       "      <th></th>\n",
       "      <th>total_trips</th>\n",
       "      <th>pay_count_walk_up</th>\n",
       "      <th>total_30min_blocks</th>\n",
       "      <th>total_30min_blocks_post_free</th>\n",
       "      <th>total_minutes</th>\n",
       "      <th>passholders</th>\n",
       "      <th>pass_prices</th>\n",
       "    </tr>\n",
       "    <tr>\n",
       "      <th>passholder_type</th>\n",
       "      <th></th>\n",
       "      <th></th>\n",
       "      <th></th>\n",
       "      <th></th>\n",
       "      <th></th>\n",
       "      <th></th>\n",
       "      <th></th>\n",
       "    </tr>\n",
       "  </thead>\n",
       "  <tbody>\n",
       "    <tr>\n",
       "      <th>annual</th>\n",
       "      <td>9175</td>\n",
       "      <td>0.0</td>\n",
       "      <td>10858</td>\n",
       "      <td>1683</td>\n",
       "      <td>143708</td>\n",
       "      <td>161</td>\n",
       "      <td>150.0</td>\n",
       "    </tr>\n",
       "    <tr>\n",
       "      <th>monthly</th>\n",
       "      <td>146531</td>\n",
       "      <td>0.0</td>\n",
       "      <td>165592</td>\n",
       "      <td>19061</td>\n",
       "      <td>1982585</td>\n",
       "      <td>20792</td>\n",
       "      <td>18.5</td>\n",
       "    </tr>\n",
       "    <tr>\n",
       "      <th>daily</th>\n",
       "      <td>14640</td>\n",
       "      <td>0.0</td>\n",
       "      <td>38517</td>\n",
       "      <td>23877</td>\n",
       "      <td>937578</td>\n",
       "      <td>6405</td>\n",
       "      <td>6.0</td>\n",
       "    </tr>\n",
       "    <tr>\n",
       "      <th>walk_up</th>\n",
       "      <td>80167</td>\n",
       "      <td>80167.0</td>\n",
       "      <td>178895</td>\n",
       "      <td>98728</td>\n",
       "      <td>4158810</td>\n",
       "      <td>0</td>\n",
       "      <td>0.0</td>\n",
       "    </tr>\n",
       "  </tbody>\n",
       "</table>\n",
       "</div>"
      ],
      "text/plain": [
       "                 total_trips  pay_count_walk_up  total_30min_blocks  total_30min_blocks_post_free  total_minutes  passholders  pass_prices\n",
       "passholder_type                                                                                                                           \n",
       "annual                  9175                0.0               10858                          1683         143708          161        150.0\n",
       "monthly               146531                0.0              165592                         19061        1982585        20792         18.5\n",
       "daily                  14640                0.0               38517                         23877         937578         6405          6.0\n",
       "walk_up                80167            80167.0              178895                         98728        4158810            0          0.0"
      ]
     },
     "execution_count": 353,
     "metadata": {},
     "output_type": "execute_result"
    }
   ],
   "source": [
    "agg_pass_groups['pass_prices'] = [annual_price, month_price, day_price, 0]\n",
    "agg_pass_groups"
   ]
  },
  {
   "cell_type": "code",
   "execution_count": 399,
   "metadata": {},
   "outputs": [],
   "source": [
    "from pulp import *"
   ]
  },
  {
   "cell_type": "code",
   "execution_count": 400,
   "metadata": {},
   "outputs": [],
   "source": [
    "model = pulp.LpProblem(\"Revenue Maximization v1\", pulp.LpMaximize)"
   ]
  },
  {
   "cell_type": "code",
   "execution_count": 401,
   "metadata": {
    "collapsed": true
   },
   "outputs": [],
   "source": [
    "# list of all pricing variables\n",
    "# price_minute = pulp.LpVariable('price_minute', lowBound = 0, upBound = 0.65,cat='Continuous')\n",
    "# price_block = pulp.LpVariable('price_block', lowBound = 0, upBound = 2.5,cat='Continuous')\n",
    "upper_minute_price = 0.65\n",
    "upper_block_price = 2.5"
   ]
  },
  {
   "cell_type": "code",
   "execution_count": 402,
   "metadata": {},
   "outputs": [],
   "source": [
    "# list of all binary variables\n",
    "by_minute = pulp.LpVariable('by_minute', cat='Binary')\n",
    "\n",
    "by_block = pulp.LpVariable('by_block', cat='Binary')\n",
    "\n",
    "day_yes = pulp.LpVariable('day_yes', cat='Binary')\n",
    "\n",
    "day_no = pulp.LpVariable('day_no', cat='Binary')\n",
    "\n",
    "month_yes = pulp.LpVariable('month_yes', cat='Binary')\n",
    "\n",
    "month_no = pulp.LpVariable('month_no', cat='Binary')\n",
    "\n",
    "annual_yes = pulp.LpVariable('annual_yes', cat='Binary')\n",
    "\n",
    "annual_no = pulp.LpVariable('annual_no', cat='Binary')"
   ]
  },
  {
   "cell_type": "code",
   "execution_count": 403,
   "metadata": {},
   "outputs": [],
   "source": [
    "# objective function\n",
    "# revenue for walk ups\n",
    "walk_up_rev_minute = by_minute * upper_minute_price * agg_pass_groups.loc['walk_up','total_minutes']\n",
    "walk_up_rev_block = by_block * upper_block_price * agg_pass_groups.loc['walk_up','total_30min_blocks']\n",
    "\n",
    "# revenue for passholders\n",
    "passholder_trip_rev = ''\n",
    "for pass_type, row in agg_pass_groups.iterrows():\n",
    "    formula = agg_pass_groups.loc[pass_type, 'total_30min_blocks_post_free'] * agg_pass_groups.loc[pass_type, 'pass_prices'] * by_block\n",
    "    passholder_trip_rev += formula\n",
    "\n",
    "# revenue for passholders if no passes available\n",
    "for pass_type, row in agg_pass_groups.iterrows():\n",
    "    formula = agg_pass_groups.loc[pass_type, 'total_minutes'] * agg_pass_groups.loc[pass_type, 'pass_prices'] * by_minute\n",
    "    passholder_trip_rev += formula\n",
    "\n",
    "# revenue for sales of passes\n",
    "pass_sales_rev_day = day_yes * day_price * agg_pass_groups.loc['daily','passholders']\n",
    "pass_sales_rev_month = month_yes * month_price * agg_pass_groups.loc['monthly','passholders']\n",
    "pass_sales_rev_annual = annual_yes * month_price * agg_pass_groups.loc['annual','passholders']"
   ]
  },
  {
   "cell_type": "code",
   "execution_count": 404,
   "metadata": {},
   "outputs": [],
   "source": [
    "model += pulp.lpSum(walk_up_rev_block + walk_up_rev_minute + passholder_trip_rev + pass_sales_rev_day\n",
    "                   + pass_sales_rev_month + pass_sales_rev_annual)"
   ]
  },
  {
   "cell_type": "code",
   "execution_count": 405,
   "metadata": {
    "collapsed": true
   },
   "outputs": [],
   "source": [
    "# constraints\n",
    "model += by_minute + by_block == 1\n",
    "model += day_yes + day_no == 1\n",
    "model += month_yes + month_no == 1\n",
    "model += annual_yes + annual_no == 1"
   ]
  },
  {
   "cell_type": "code",
   "execution_count": 406,
   "metadata": {},
   "outputs": [
    {
     "name": "stdout",
     "output_type": "stream",
     "text": [
      "Status: Optimal\n",
      "Optimal Solution to the problem:  66988777.5\n",
      "Individual decision_variables: \n",
      "annual_no = 0.0\n",
      "annual_yes = 1.0\n",
      "by_block = 0.0\n",
      "by_minute = 1.0\n",
      "day_no = 0.0\n",
      "day_yes = 1.0\n",
      "month_no = 0.0\n",
      "month_yes = 1.0\n"
     ]
    }
   ],
   "source": [
    "optimization_result = model.solve()\n",
    "\n",
    "assert optimization_result == pulp.LpStatusOptimal\n",
    "print(\"Status:\", LpStatus[model.status])\n",
    "print(\"Optimal Solution to the problem: \", value(model.objective))\n",
    "print (\"Individual decision_variables: \")\n",
    "for v in model.variables():\n",
    "\tprint(v.name, \"=\", v.varValue)"
   ]
  },
  {
   "cell_type": "code",
   "execution_count": null,
   "metadata": {
    "collapsed": true
   },
   "outputs": [],
   "source": []
  },
  {
   "cell_type": "code",
   "execution_count": null,
   "metadata": {
    "collapsed": true
   },
   "outputs": [],
   "source": []
  },
  {
   "cell_type": "code",
   "execution_count": null,
   "metadata": {
    "collapsed": true
   },
   "outputs": [],
   "source": []
  },
  {
   "cell_type": "code",
   "execution_count": 389,
   "metadata": {},
   "outputs": [
    {
     "name": "stdout",
     "output_type": "stream",
     "text": [
      "Revenue Maximization v1:\n",
      "MAXIMIZE\n",
      "1195578.0*by_block + 66562717.0*by_minute + 38430.0*day_yes + 384652.0*month_yes + 2978.5*year_yes + 0.0\n",
      "SUBJECT TO\n",
      "_C1: by_block + by_minute = 1\n",
      "\n",
      "_C2: day_no + day_yes = 1\n",
      "\n",
      "_C3: month_no + month_yes = 1\n",
      "\n",
      "_C4: annual_no + annual_yes = 1\n",
      "\n",
      "VARIABLES\n",
      "0 <= annual_no <= 1 Integer\n",
      "0 <= annual_yes <= 1 Integer\n",
      "0 <= by_block <= 1 Integer\n",
      "0 <= by_minute <= 1 Integer\n",
      "0 <= day_no <= 1 Integer\n",
      "0 <= day_yes <= 1 Integer\n",
      "0 <= month_no <= 1 Integer\n",
      "0 <= month_yes <= 1 Integer\n",
      "0 <= year_yes <= 1 Integer\n",
      "\n"
     ]
    }
   ],
   "source": [
    "print(model)"
   ]
  },
  {
   "cell_type": "code",
   "execution_count": null,
   "metadata": {},
   "outputs": [],
   "source": []
  },
  {
   "cell_type": "code",
   "execution_count": 72,
   "metadata": {},
   "outputs": [
    {
     "data": {
      "text/html": [
       "<div>\n",
       "<style scoped>\n",
       "    .dataframe tbody tr th:only-of-type {\n",
       "        vertical-align: middle;\n",
       "    }\n",
       "\n",
       "    .dataframe tbody tr th {\n",
       "        vertical-align: top;\n",
       "    }\n",
       "\n",
       "    .dataframe thead th {\n",
       "        text-align: right;\n",
       "    }\n",
       "</style>\n",
       "<table border=\"1\" class=\"dataframe\">\n",
       "  <thead>\n",
       "    <tr style=\"text-align: right;\">\n",
       "      <th></th>\n",
       "      <th>trip_id</th>\n",
       "      <th>duration</th>\n",
       "      <th>start_time</th>\n",
       "      <th>end_time</th>\n",
       "      <th>start_station</th>\n",
       "      <th>start_lat</th>\n",
       "      <th>start_lon</th>\n",
       "      <th>end_station</th>\n",
       "      <th>end_lat</th>\n",
       "      <th>end_lon</th>\n",
       "      <th>bike_id</th>\n",
       "      <th>plan_duration</th>\n",
       "      <th>trip_route_category</th>\n",
       "      <th>passholder_type</th>\n",
       "      <th>start_address</th>\n",
       "      <th>start_zip</th>\n",
       "      <th>start_name</th>\n",
       "      <th>start_docks</th>\n",
       "      <th>end_address</th>\n",
       "      <th>end_zip</th>\n",
       "      <th>end_name</th>\n",
       "      <th>end_docks</th>\n",
       "      <th>charged_ride</th>\n",
       "      <th>start_hour</th>\n",
       "      <th>active_6m</th>\n",
       "      <th>annual</th>\n",
       "      <th>monthly</th>\n",
       "      <th>one_day</th>\n",
       "      <th>walk_up</th>\n",
       "      <th>one_way</th>\n",
       "      <th>round_trip</th>\n",
       "      <th>time_block_count</th>\n",
       "    </tr>\n",
       "  </thead>\n",
       "  <tbody>\n",
       "    <tr>\n",
       "      <th>0</th>\n",
       "      <td>33404951</td>\n",
       "      <td>36</td>\n",
       "      <td>2017-07-01 00:09:00</td>\n",
       "      <td>2017-07-01 00:45:00</td>\n",
       "      <td>3018</td>\n",
       "      <td>34.043732</td>\n",
       "      <td>-118.260139</td>\n",
       "      <td>3018</td>\n",
       "      <td>34.043732</td>\n",
       "      <td>-118.260139</td>\n",
       "      <td>5996</td>\n",
       "      <td>0</td>\n",
       "      <td>Round Trip</td>\n",
       "      <td>Walk-up</td>\n",
       "      <td>919 S Grand Ave</td>\n",
       "      <td>90015</td>\n",
       "      <td>Grand &amp; Olympic</td>\n",
       "      <td>22.0</td>\n",
       "      <td>919 S Grand Ave</td>\n",
       "      <td>90015</td>\n",
       "      <td>Grand &amp; Olympic</td>\n",
       "      <td>22.0</td>\n",
       "      <td>1</td>\n",
       "      <td>0</td>\n",
       "      <td>1</td>\n",
       "      <td>0</td>\n",
       "      <td>0</td>\n",
       "      <td>0</td>\n",
       "      <td>1</td>\n",
       "      <td>0</td>\n",
       "      <td>1</td>\n",
       "      <td>1</td>\n",
       "    </tr>\n",
       "    <tr>\n",
       "      <th>1</th>\n",
       "      <td>33404950</td>\n",
       "      <td>13</td>\n",
       "      <td>2017-07-01 00:10:00</td>\n",
       "      <td>2017-07-01 00:23:00</td>\n",
       "      <td>3055</td>\n",
       "      <td>34.044159</td>\n",
       "      <td>-118.251579</td>\n",
       "      <td>3082</td>\n",
       "      <td>34.046520</td>\n",
       "      <td>-118.237411</td>\n",
       "      <td>5777</td>\n",
       "      <td>0</td>\n",
       "      <td>One Way</td>\n",
       "      <td>Walk-up</td>\n",
       "      <td>111 W 7th Street</td>\n",
       "      <td>90014</td>\n",
       "      <td>7th &amp; Main</td>\n",
       "      <td>23.0</td>\n",
       "      <td>599 Traction Ave</td>\n",
       "      <td>90013</td>\n",
       "      <td>Traction &amp; Rose</td>\n",
       "      <td>27.0</td>\n",
       "      <td>0</td>\n",
       "      <td>0</td>\n",
       "      <td>1</td>\n",
       "      <td>0</td>\n",
       "      <td>0</td>\n",
       "      <td>0</td>\n",
       "      <td>1</td>\n",
       "      <td>1</td>\n",
       "      <td>0</td>\n",
       "      <td>0</td>\n",
       "    </tr>\n",
       "    <tr>\n",
       "      <th>2</th>\n",
       "      <td>33404947</td>\n",
       "      <td>34</td>\n",
       "      <td>2017-07-01 00:11:00</td>\n",
       "      <td>2017-07-01 00:45:00</td>\n",
       "      <td>3018</td>\n",
       "      <td>34.043732</td>\n",
       "      <td>-118.260139</td>\n",
       "      <td>3018</td>\n",
       "      <td>34.043732</td>\n",
       "      <td>-118.260139</td>\n",
       "      <td>6342</td>\n",
       "      <td>0</td>\n",
       "      <td>Round Trip</td>\n",
       "      <td>Walk-up</td>\n",
       "      <td>919 S Grand Ave</td>\n",
       "      <td>90015</td>\n",
       "      <td>Grand &amp; Olympic</td>\n",
       "      <td>22.0</td>\n",
       "      <td>919 S Grand Ave</td>\n",
       "      <td>90015</td>\n",
       "      <td>Grand &amp; Olympic</td>\n",
       "      <td>22.0</td>\n",
       "      <td>1</td>\n",
       "      <td>0</td>\n",
       "      <td>1</td>\n",
       "      <td>0</td>\n",
       "      <td>0</td>\n",
       "      <td>0</td>\n",
       "      <td>1</td>\n",
       "      <td>0</td>\n",
       "      <td>1</td>\n",
       "      <td>1</td>\n",
       "    </tr>\n",
       "    <tr>\n",
       "      <th>3</th>\n",
       "      <td>33404948</td>\n",
       "      <td>34</td>\n",
       "      <td>2017-07-01 00:11:00</td>\n",
       "      <td>2017-07-01 00:45:00</td>\n",
       "      <td>3018</td>\n",
       "      <td>34.043732</td>\n",
       "      <td>-118.260139</td>\n",
       "      <td>3018</td>\n",
       "      <td>34.043732</td>\n",
       "      <td>-118.260139</td>\n",
       "      <td>6478</td>\n",
       "      <td>0</td>\n",
       "      <td>Round Trip</td>\n",
       "      <td>Walk-up</td>\n",
       "      <td>919 S Grand Ave</td>\n",
       "      <td>90015</td>\n",
       "      <td>Grand &amp; Olympic</td>\n",
       "      <td>22.0</td>\n",
       "      <td>919 S Grand Ave</td>\n",
       "      <td>90015</td>\n",
       "      <td>Grand &amp; Olympic</td>\n",
       "      <td>22.0</td>\n",
       "      <td>1</td>\n",
       "      <td>0</td>\n",
       "      <td>1</td>\n",
       "      <td>0</td>\n",
       "      <td>0</td>\n",
       "      <td>0</td>\n",
       "      <td>1</td>\n",
       "      <td>0</td>\n",
       "      <td>1</td>\n",
       "      <td>1</td>\n",
       "    </tr>\n",
       "    <tr>\n",
       "      <th>4</th>\n",
       "      <td>33404949</td>\n",
       "      <td>12</td>\n",
       "      <td>2017-07-01 00:11:00</td>\n",
       "      <td>2017-07-01 00:23:00</td>\n",
       "      <td>3055</td>\n",
       "      <td>34.044159</td>\n",
       "      <td>-118.251579</td>\n",
       "      <td>3082</td>\n",
       "      <td>34.046520</td>\n",
       "      <td>-118.237411</td>\n",
       "      <td>6411</td>\n",
       "      <td>0</td>\n",
       "      <td>One Way</td>\n",
       "      <td>Walk-up</td>\n",
       "      <td>111 W 7th Street</td>\n",
       "      <td>90014</td>\n",
       "      <td>7th &amp; Main</td>\n",
       "      <td>23.0</td>\n",
       "      <td>599 Traction Ave</td>\n",
       "      <td>90013</td>\n",
       "      <td>Traction &amp; Rose</td>\n",
       "      <td>27.0</td>\n",
       "      <td>0</td>\n",
       "      <td>0</td>\n",
       "      <td>1</td>\n",
       "      <td>0</td>\n",
       "      <td>0</td>\n",
       "      <td>0</td>\n",
       "      <td>1</td>\n",
       "      <td>1</td>\n",
       "      <td>0</td>\n",
       "      <td>0</td>\n",
       "    </tr>\n",
       "  </tbody>\n",
       "</table>\n",
       "</div>"
      ],
      "text/plain": [
       "    trip_id  duration          start_time            end_time  start_station  start_lat   start_lon  end_station    end_lat     end_lon  bike_id  plan_duration trip_route_category passholder_type     start_address start_zip       start_name  start_docks       end_address end_zip         end_name  end_docks  charged_ride  start_hour  active_6m  annual  monthly  one_day  walk_up  one_way  round_trip  time_block_count\n",
       "0  33404951        36 2017-07-01 00:09:00 2017-07-01 00:45:00           3018  34.043732 -118.260139         3018  34.043732 -118.260139     5996              0          Round Trip         Walk-up   919 S Grand Ave     90015  Grand & Olympic         22.0   919 S Grand Ave   90015  Grand & Olympic       22.0             1           0          1       0        0        0        1        0           1                 1\n",
       "1  33404950        13 2017-07-01 00:10:00 2017-07-01 00:23:00           3055  34.044159 -118.251579         3082  34.046520 -118.237411     5777              0             One Way         Walk-up  111 W 7th Street     90014       7th & Main         23.0  599 Traction Ave   90013  Traction & Rose       27.0             0           0          1       0        0        0        1        1           0                 0\n",
       "2  33404947        34 2017-07-01 00:11:00 2017-07-01 00:45:00           3018  34.043732 -118.260139         3018  34.043732 -118.260139     6342              0          Round Trip         Walk-up   919 S Grand Ave     90015  Grand & Olympic         22.0   919 S Grand Ave   90015  Grand & Olympic       22.0             1           0          1       0        0        0        1        0           1                 1\n",
       "3  33404948        34 2017-07-01 00:11:00 2017-07-01 00:45:00           3018  34.043732 -118.260139         3018  34.043732 -118.260139     6478              0          Round Trip         Walk-up   919 S Grand Ave     90015  Grand & Olympic         22.0   919 S Grand Ave   90015  Grand & Olympic       22.0             1           0          1       0        0        0        1        0           1                 1\n",
       "4  33404949        12 2017-07-01 00:11:00 2017-07-01 00:23:00           3055  34.044159 -118.251579         3082  34.046520 -118.237411     6411              0             One Way         Walk-up  111 W 7th Street     90014       7th & Main         23.0  599 Traction Ave   90013  Traction & Rose       27.0             0           0          1       0        0        0        1        1           0                 0"
      ]
     },
     "execution_count": 72,
     "metadata": {},
     "output_type": "execute_result"
    }
   ],
   "source": [
    "rides_df.head()"
   ]
  },
  {
   "cell_type": "code",
   "execution_count": null,
   "metadata": {
    "collapsed": true
   },
   "outputs": [],
   "source": []
  },
  {
   "cell_type": "code",
   "execution_count": null,
   "metadata": {
    "collapsed": true
   },
   "outputs": [],
   "source": []
  },
  {
   "cell_type": "code",
   "execution_count": null,
   "metadata": {
    "collapsed": true
   },
   "outputs": [],
   "source": []
  },
  {
   "cell_type": "code",
   "execution_count": null,
   "metadata": {
    "collapsed": true
   },
   "outputs": [],
   "source": []
  },
  {
   "cell_type": "code",
   "execution_count": null,
   "metadata": {
    "collapsed": true
   },
   "outputs": [],
   "source": []
  },
  {
   "cell_type": "markdown",
   "metadata": {},
   "source": [
    "### Common start end station pairings"
   ]
  },
  {
   "cell_type": "code",
   "execution_count": 56,
   "metadata": {
    "collapsed": true
   },
   "outputs": [],
   "source": [
    "from collections import Counter"
   ]
  },
  {
   "cell_type": "code",
   "execution_count": 57,
   "metadata": {},
   "outputs": [
    {
     "ename": "NameError",
     "evalue": "name 'station_pairings' is not defined",
     "output_type": "error",
     "traceback": [
      "\u001b[0;31m---------------------------------------------------------------------------\u001b[0m",
      "\u001b[0;31mNameError\u001b[0m                                 Traceback (most recent call last)",
      "\u001b[0;32m<ipython-input-57-c9d352e2f20f>\u001b[0m in \u001b[0;36m<module>\u001b[0;34m()\u001b[0m\n\u001b[0;32m----> 1\u001b[0;31m \u001b[0mtop30_pairs\u001b[0m \u001b[0;34m=\u001b[0m \u001b[0mCounter\u001b[0m\u001b[0;34m(\u001b[0m\u001b[0mstation_pairings\u001b[0m\u001b[0;34m)\u001b[0m\u001b[0;34m.\u001b[0m\u001b[0mmost_common\u001b[0m\u001b[0;34m(\u001b[0m\u001b[0;36m30\u001b[0m\u001b[0;34m)\u001b[0m\u001b[0;34m\u001b[0m\u001b[0m\n\u001b[0m",
      "\u001b[0;31mNameError\u001b[0m: name 'station_pairings' is not defined"
     ]
    }
   ],
   "source": [
    "top30_pairs = Counter(station_pairings).most_common(30)"
   ]
  },
  {
   "cell_type": "code",
   "execution_count": null,
   "metadata": {
    "collapsed": true
   },
   "outputs": [],
   "source": [
    "def get_pair_address(tup):\n",
    "    start_add = rides_df['start_address'][rides_df['start_station'] == tup[0][0]].iloc[0]\n",
    "    end_add = rides_df['end_address'][rides_df['end_station'] == tup[0][1]].iloc[0]\n",
    "    return(start_add, end_add)"
   ]
  },
  {
   "cell_type": "code",
   "execution_count": null,
   "metadata": {},
   "outputs": [],
   "source": [
    "[get_pair_address(pair) for pair in top30_pairs]"
   ]
  },
  {
   "cell_type": "code",
   "execution_count": null,
   "metadata": {},
   "outputs": [],
   "source": [
    "rides_df.head()"
   ]
  },
  {
   "cell_type": "code",
   "execution_count": null,
   "metadata": {
    "collapsed": true
   },
   "outputs": [],
   "source": []
  },
  {
   "cell_type": "code",
   "execution_count": null,
   "metadata": {
    "collapsed": true
   },
   "outputs": [],
   "source": []
  },
  {
   "cell_type": "code",
   "execution_count": null,
   "metadata": {
    "collapsed": true
   },
   "outputs": [],
   "source": []
  },
  {
   "cell_type": "code",
   "execution_count": null,
   "metadata": {
    "collapsed": true
   },
   "outputs": [],
   "source": []
  },
  {
   "cell_type": "code",
   "execution_count": null,
   "metadata": {
    "collapsed": true
   },
   "outputs": [],
   "source": []
  },
  {
   "cell_type": "code",
   "execution_count": null,
   "metadata": {
    "collapsed": true
   },
   "outputs": [],
   "source": []
  },
  {
   "cell_type": "markdown",
   "metadata": {},
   "source": [
    "### Common time periods"
   ]
  },
  {
   "cell_type": "code",
   "execution_count": null,
   "metadata": {
    "collapsed": true
   },
   "outputs": [],
   "source": [
    "%matplotlib inline\n",
    "x = sorted(list(zip(rides_df['start_hour'].value_counts().keys(), rides_df['start_hour'].value_counts())))"
   ]
  },
  {
   "cell_type": "code",
   "execution_count": null,
   "metadata": {},
   "outputs": [],
   "source": [
    "plt.bar(*zip(*x))"
   ]
  },
  {
   "cell_type": "code",
   "execution_count": null,
   "metadata": {},
   "outputs": [],
   "source": [
    "sb.barplot(x=list(list(zip(*x))[0]),\n",
    "           y=list(list(zip(*x))[1]),\n",
    "          color = 'aquamarine')"
   ]
  },
  {
   "cell_type": "markdown",
   "metadata": {},
   "source": [
    "### Heatmaps for different time periods"
   ]
  },
  {
   "cell_type": "code",
   "execution_count": null,
   "metadata": {
    "collapsed": true
   },
   "outputs": [],
   "source": []
  },
  {
   "cell_type": "markdown",
   "metadata": {},
   "source": [
    "### Start/end station correlation with available docks"
   ]
  },
  {
   "cell_type": "code",
   "execution_count": null,
   "metadata": {
    "collapsed": true
   },
   "outputs": [],
   "source": []
  },
  {
   "cell_type": "code",
   "execution_count": null,
   "metadata": {
    "collapsed": true
   },
   "outputs": [],
   "source": []
  },
  {
   "cell_type": "code",
   "execution_count": null,
   "metadata": {
    "collapsed": true
   },
   "outputs": [],
   "source": []
  },
  {
   "cell_type": "code",
   "execution_count": null,
   "metadata": {
    "collapsed": true
   },
   "outputs": [],
   "source": []
  },
  {
   "cell_type": "code",
   "execution_count": null,
   "metadata": {
    "collapsed": true
   },
   "outputs": [],
   "source": []
  },
  {
   "cell_type": "code",
   "execution_count": null,
   "metadata": {
    "collapsed": true
   },
   "outputs": [],
   "source": []
  },
  {
   "cell_type": "code",
   "execution_count": null,
   "metadata": {
    "collapsed": true
   },
   "outputs": [],
   "source": []
  },
  {
   "cell_type": "markdown",
   "metadata": {},
   "source": [
    "### Active businesses\n",
    "\n",
    "https://data.lacity.org/A-Prosperous-City/Listing-of-Active-Businesses/6rrh-rzua"
   ]
  },
  {
   "cell_type": "code",
   "execution_count": null,
   "metadata": {
    "collapsed": true
   },
   "outputs": [],
   "source": [
    "# reading in csv file of active businesses, could be outside of LA\n",
    "business_df = pd.read_csv('../data/external/active_businesses.csv')"
   ]
  },
  {
   "cell_type": "code",
   "execution_count": null,
   "metadata": {},
   "outputs": [],
   "source": [
    "business_df.head()"
   ]
  },
  {
   "cell_type": "code",
   "execution_count": null,
   "metadata": {},
   "outputs": [],
   "source": [
    "# check to see how many different cities there are in the column\n",
    "business_df['CITY'].unique()"
   ]
  },
  {
   "cell_type": "markdown",
   "metadata": {},
   "source": [
    "As the focus of the ride sharing data is in the LA metro area, we will only focus on the data in that area and only include data with the city variable matching 'Los Angeles'.\n",
    "\n",
    "By doing so, we see that around 50% of the initial dataset remains."
   ]
  },
  {
   "cell_type": "code",
   "execution_count": null,
   "metadata": {},
   "outputs": [],
   "source": [
    "business_df = business_df[business_df['CITY'] == 'LOS ANGELES']\n",
    "business_df.shape"
   ]
  },
  {
   "cell_type": "markdown",
   "metadata": {},
   "source": [
    "A look at the dataframe also reveals many NaN values. Using msno, we see that there are multiple columns like 'DBA NAME' and 'MAILING CITY' that are almost completely empty.\n",
    "\n",
    "There are also many variables that are not as relevant in our analysis. Our main purpose of obtaining the dataset of active businesses is to visualize their locations. We will thus select only the relevant columns and rename them accordingly."
   ]
  },
  {
   "cell_type": "code",
   "execution_count": null,
   "metadata": {},
   "outputs": [],
   "source": [
    "business_df.head()"
   ]
  },
  {
   "cell_type": "code",
   "execution_count": null,
   "metadata": {},
   "outputs": [],
   "source": [
    "msno.matrix(business_df)"
   ]
  },
  {
   "cell_type": "code",
   "execution_count": null,
   "metadata": {},
   "outputs": [],
   "source": [
    "business_df = business_df[['BUSINESS NAME', 'STREET ADDRESS', 'ZIP CODE', 'LOCATION START DATE', 'LOCATION']].rename(columns = {'BUSINESS NAME':'business_name', 'STREET ADDRESS':'street_address', 'ZIP CODE':'zip_code', 'LOCATION START DATE':'start_date', 'LOCATION':'coordinates'})\n",
    "business_df.head()"
   ]
  },
  {
   "cell_type": "markdown",
   "metadata": {},
   "source": [
    "There seems to be quite a few businesses that do not have coordinates. A quick filter reveals 1583 of them. These seem to be businesses that were incorporate very early on before 2000. As this is a very small portion of the dataset, we can safely drop them.\n",
    "\n",
    "Another anomaly that popped up were coordinates of (0,0). As this is a location in the middle of the ocean, these coordinates are unlikely to mean anything and will be dropped."
   ]
  },
  {
   "cell_type": "code",
   "execution_count": null,
   "metadata": {},
   "outputs": [],
   "source": [
    "# counting the number of businesses without coordinates\n",
    "business_df['coordinates'].isna().sum()"
   ]
  },
  {
   "cell_type": "code",
   "execution_count": null,
   "metadata": {},
   "outputs": [],
   "source": [
    "msno.matrix(business_df)"
   ]
  },
  {
   "cell_type": "code",
   "execution_count": null,
   "metadata": {
    "collapsed": true
   },
   "outputs": [],
   "source": [
    "# dropping na coordinate values\n",
    "business_df = business_df.dropna()"
   ]
  },
  {
   "cell_type": "code",
   "execution_count": null,
   "metadata": {},
   "outputs": [],
   "source": [
    "# dropping coordinates of (0,0) and resetting the index to start from 0\n",
    "business_df = business_df[business_df['coordinates'] != '(0, 0)'].reset_index()\n",
    "business_df.shape"
   ]
  },
  {
   "cell_type": "code",
   "execution_count": null,
   "metadata": {},
   "outputs": [],
   "source": [
    "business_df.loc[1]['coordinates']"
   ]
  },
  {
   "cell_type": "markdown",
   "metadata": {},
   "source": [
    "As the coordinate variable is a string with the latitude and longitude values, we shall use regex functions to pull the latitude and longtitude variables out and convert them to a float type. \n",
    "\n",
    "Here we use positive lookbehind and positive lookahead to target the exact part of the string that we need because each latitude and longitude pair has the same structure."
   ]
  },
  {
   "cell_type": "code",
   "execution_count": null,
   "metadata": {},
   "outputs": [],
   "source": [
    "# regex to extract latitude\n",
    "def get_lat(coords):\n",
    "    lat = re.compile('(?<=\\().+(?=\\,)')\n",
    "    return float(lat.search(coords).group())\n",
    "\n",
    "# regex to extract longitude\n",
    "def get_long(coords):\n",
    "    long = re.compile('(?<=\\, ).+(?=\\))')\n",
    "    return float(long.search(coords).group())\n",
    "\n",
    "print(\"latitude: \" + str(get_lat(business_df.loc[1]['coordinates'])) + \" longitude: \" + str(get_long(business_df.loc[1]['coordinates'])))"
   ]
  },
  {
   "cell_type": "code",
   "execution_count": null,
   "metadata": {},
   "outputs": [],
   "source": [
    "# apply get_lat and get_long functions to create new columns representing latitude and longitude for each business\n",
    "business_df['latitude'] = business_df['coordinates'].apply(get_lat)\n",
    "business_df['longitude'] = business_df['coordinates'].apply(get_long)\n",
    "business_df = business_df.drop(['coordinates'],axis=1)\n",
    "business_df.head()"
   ]
  },
  {
   "cell_type": "code",
   "execution_count": null,
   "metadata": {
    "collapsed": true
   },
   "outputs": [],
   "source": []
  },
  {
   "cell_type": "code",
   "execution_count": null,
   "metadata": {
    "collapsed": true
   },
   "outputs": [],
   "source": []
  },
  {
   "cell_type": "markdown",
   "metadata": {},
   "source": [
    "### Traffic collisions 2010-2018\n",
    "\n",
    "https://www.kaggle.com/cityofLA/los-angeles-traffic-collision-data/version/7#traffic-collision-data-from-2010-to-present.csv"
   ]
  },
  {
   "cell_type": "code",
   "execution_count": null,
   "metadata": {
    "collapsed": true
   },
   "outputs": [],
   "source": [
    "traffic_df = pd.read_csv('../data/external/traffic_collisions_2010_2018.csv')"
   ]
  },
  {
   "cell_type": "code",
   "execution_count": null,
   "metadata": {},
   "outputs": [],
   "source": [
    "traffic_df.head()"
   ]
  },
  {
   "cell_type": "code",
   "execution_count": null,
   "metadata": {},
   "outputs": [],
   "source": [
    "traffic_df['Victim Descent'].unique()"
   ]
  },
  {
   "cell_type": "code",
   "execution_count": null,
   "metadata": {},
   "outputs": [],
   "source": [
    "msno.matrix(traffic_df)"
   ]
  },
  {
   "cell_type": "code",
   "execution_count": null,
   "metadata": {},
   "outputs": [],
   "source": [
    "traffic_df = traffic_df[['Date Occurred', 'Time Occurred', 'Area Name', 'Victim Age', \n",
    "                         'Victim Sex', 'Victim Descent', 'Address', 'Cross Street', 'Location']]\n",
    "traffic_df = traffic_df.rename(columns = {'Date Occurred':'date_occured', \n",
    "                             'Time Occurred':'time_occured', 'Area Name':'area_name', 'Victim Age':'victim_age', \n",
    "                             'Victim Sex':'victim_sex', 'Victim Descent':'victim_descent', 'Address':'address', \n",
    "                             'Cross Street':'cross_street', 'Location':'location'})\n",
    "traffic_df.head()"
   ]
  },
  {
   "cell_type": "code",
   "execution_count": null,
   "metadata": {},
   "outputs": [],
   "source": [
    "traffic_df.dtypes"
   ]
  },
  {
   "cell_type": "code",
   "execution_count": null,
   "metadata": {
    "collapsed": true
   },
   "outputs": [],
   "source": [
    "traffic_df['date_occured'] = pd.to_datetime(traffic_df['date_occured'])"
   ]
  },
  {
   "cell_type": "code",
   "execution_count": null,
   "metadata": {},
   "outputs": [],
   "source": [
    "traffic_df.loc[1]['location']"
   ]
  },
  {
   "cell_type": "code",
   "execution_count": null,
   "metadata": {},
   "outputs": [],
   "source": [
    "def get_lat(coords):\n",
    "    lat = re.compile('(?<=latitude\\': \\').+(?=\\'})')\n",
    "    return(float(lat.search(coords).group()))\n",
    "\n",
    "def get_long(coords):\n",
    "    long = re.compile('(?<=longitude\\': \\').+(?=\\', \\'h)')\n",
    "    return float(long.search(coords).group())\n",
    "\n",
    "traffic_df['latitude'] = traffic_df['location'].apply(get_lat)\n",
    "traffic_df['longitude'] = traffic_df['location'].apply(get_long)\n",
    "traffic_df = traffic_df.drop('location',1)\n",
    "traffic_df.head()"
   ]
  },
  {
   "cell_type": "code",
   "execution_count": null,
   "metadata": {},
   "outputs": [],
   "source": [
    "traffic_df.dtypes"
   ]
  },
  {
   "cell_type": "code",
   "execution_count": null,
   "metadata": {
    "collapsed": true
   },
   "outputs": [],
   "source": []
  },
  {
   "cell_type": "code",
   "execution_count": 262,
   "metadata": {},
   "outputs": [
    {
     "data": {
      "text/html": [
       "<div>\n",
       "<style scoped>\n",
       "    .dataframe tbody tr th:only-of-type {\n",
       "        vertical-align: middle;\n",
       "    }\n",
       "\n",
       "    .dataframe tbody tr th {\n",
       "        vertical-align: top;\n",
       "    }\n",
       "\n",
       "    .dataframe thead th {\n",
       "        text-align: right;\n",
       "    }\n",
       "</style>\n",
       "<table border=\"1\" class=\"dataframe\">\n",
       "  <thead>\n",
       "    <tr style=\"text-align: right;\">\n",
       "      <th></th>\n",
       "      <th>trip_id</th>\n",
       "      <th>duration</th>\n",
       "      <th>start_time</th>\n",
       "      <th>end_time</th>\n",
       "      <th>start_station</th>\n",
       "      <th>start_lat</th>\n",
       "      <th>start_lon</th>\n",
       "      <th>end_station</th>\n",
       "      <th>end_lat</th>\n",
       "      <th>end_lon</th>\n",
       "      <th>bike_id</th>\n",
       "      <th>plan_duration</th>\n",
       "      <th>trip_route_category</th>\n",
       "      <th>passholder_type</th>\n",
       "      <th>start_address</th>\n",
       "      <th>start_zip</th>\n",
       "      <th>start_name</th>\n",
       "      <th>start_docks</th>\n",
       "      <th>end_address</th>\n",
       "      <th>end_zip</th>\n",
       "      <th>end_name</th>\n",
       "      <th>end_docks</th>\n",
       "      <th>charged_ride</th>\n",
       "      <th>start_hour</th>\n",
       "      <th>active_6m</th>\n",
       "      <th>annual</th>\n",
       "      <th>monthly</th>\n",
       "      <th>one_day</th>\n",
       "      <th>walk_up</th>\n",
       "      <th>one_way</th>\n",
       "      <th>round_trip</th>\n",
       "      <th>time_block_count</th>\n",
       "      <th>time_block_count_post_free</th>\n",
       "    </tr>\n",
       "  </thead>\n",
       "  <tbody>\n",
       "    <tr>\n",
       "      <th>0</th>\n",
       "      <td>33404951</td>\n",
       "      <td>36</td>\n",
       "      <td>2017-07-01 00:09:00</td>\n",
       "      <td>2017-07-01 00:45:00</td>\n",
       "      <td>3018</td>\n",
       "      <td>34.043732</td>\n",
       "      <td>-118.260139</td>\n",
       "      <td>3018</td>\n",
       "      <td>34.043732</td>\n",
       "      <td>-118.260139</td>\n",
       "      <td>5996</td>\n",
       "      <td>0</td>\n",
       "      <td>Round Trip</td>\n",
       "      <td>Walk-up</td>\n",
       "      <td>919 S Grand Ave</td>\n",
       "      <td>90015</td>\n",
       "      <td>Grand &amp; Olympic</td>\n",
       "      <td>22.0</td>\n",
       "      <td>919 S Grand Ave</td>\n",
       "      <td>90015</td>\n",
       "      <td>Grand &amp; Olympic</td>\n",
       "      <td>22.0</td>\n",
       "      <td>1</td>\n",
       "      <td>0</td>\n",
       "      <td>1</td>\n",
       "      <td>0</td>\n",
       "      <td>0</td>\n",
       "      <td>0</td>\n",
       "      <td>1</td>\n",
       "      <td>0</td>\n",
       "      <td>1</td>\n",
       "      <td>2</td>\n",
       "      <td>1</td>\n",
       "    </tr>\n",
       "    <tr>\n",
       "      <th>1</th>\n",
       "      <td>33404950</td>\n",
       "      <td>13</td>\n",
       "      <td>2017-07-01 00:10:00</td>\n",
       "      <td>2017-07-01 00:23:00</td>\n",
       "      <td>3055</td>\n",
       "      <td>34.044159</td>\n",
       "      <td>-118.251579</td>\n",
       "      <td>3082</td>\n",
       "      <td>34.046520</td>\n",
       "      <td>-118.237411</td>\n",
       "      <td>5777</td>\n",
       "      <td>0</td>\n",
       "      <td>One Way</td>\n",
       "      <td>Walk-up</td>\n",
       "      <td>111 W 7th Street</td>\n",
       "      <td>90014</td>\n",
       "      <td>7th &amp; Main</td>\n",
       "      <td>23.0</td>\n",
       "      <td>599 Traction Ave</td>\n",
       "      <td>90013</td>\n",
       "      <td>Traction &amp; Rose</td>\n",
       "      <td>27.0</td>\n",
       "      <td>0</td>\n",
       "      <td>0</td>\n",
       "      <td>1</td>\n",
       "      <td>0</td>\n",
       "      <td>0</td>\n",
       "      <td>0</td>\n",
       "      <td>1</td>\n",
       "      <td>1</td>\n",
       "      <td>0</td>\n",
       "      <td>1</td>\n",
       "      <td>0</td>\n",
       "    </tr>\n",
       "    <tr>\n",
       "      <th>2</th>\n",
       "      <td>33404947</td>\n",
       "      <td>34</td>\n",
       "      <td>2017-07-01 00:11:00</td>\n",
       "      <td>2017-07-01 00:45:00</td>\n",
       "      <td>3018</td>\n",
       "      <td>34.043732</td>\n",
       "      <td>-118.260139</td>\n",
       "      <td>3018</td>\n",
       "      <td>34.043732</td>\n",
       "      <td>-118.260139</td>\n",
       "      <td>6342</td>\n",
       "      <td>0</td>\n",
       "      <td>Round Trip</td>\n",
       "      <td>Walk-up</td>\n",
       "      <td>919 S Grand Ave</td>\n",
       "      <td>90015</td>\n",
       "      <td>Grand &amp; Olympic</td>\n",
       "      <td>22.0</td>\n",
       "      <td>919 S Grand Ave</td>\n",
       "      <td>90015</td>\n",
       "      <td>Grand &amp; Olympic</td>\n",
       "      <td>22.0</td>\n",
       "      <td>1</td>\n",
       "      <td>0</td>\n",
       "      <td>1</td>\n",
       "      <td>0</td>\n",
       "      <td>0</td>\n",
       "      <td>0</td>\n",
       "      <td>1</td>\n",
       "      <td>0</td>\n",
       "      <td>1</td>\n",
       "      <td>2</td>\n",
       "      <td>1</td>\n",
       "    </tr>\n",
       "    <tr>\n",
       "      <th>3</th>\n",
       "      <td>33404948</td>\n",
       "      <td>34</td>\n",
       "      <td>2017-07-01 00:11:00</td>\n",
       "      <td>2017-07-01 00:45:00</td>\n",
       "      <td>3018</td>\n",
       "      <td>34.043732</td>\n",
       "      <td>-118.260139</td>\n",
       "      <td>3018</td>\n",
       "      <td>34.043732</td>\n",
       "      <td>-118.260139</td>\n",
       "      <td>6478</td>\n",
       "      <td>0</td>\n",
       "      <td>Round Trip</td>\n",
       "      <td>Walk-up</td>\n",
       "      <td>919 S Grand Ave</td>\n",
       "      <td>90015</td>\n",
       "      <td>Grand &amp; Olympic</td>\n",
       "      <td>22.0</td>\n",
       "      <td>919 S Grand Ave</td>\n",
       "      <td>90015</td>\n",
       "      <td>Grand &amp; Olympic</td>\n",
       "      <td>22.0</td>\n",
       "      <td>1</td>\n",
       "      <td>0</td>\n",
       "      <td>1</td>\n",
       "      <td>0</td>\n",
       "      <td>0</td>\n",
       "      <td>0</td>\n",
       "      <td>1</td>\n",
       "      <td>0</td>\n",
       "      <td>1</td>\n",
       "      <td>2</td>\n",
       "      <td>1</td>\n",
       "    </tr>\n",
       "    <tr>\n",
       "      <th>4</th>\n",
       "      <td>33404949</td>\n",
       "      <td>12</td>\n",
       "      <td>2017-07-01 00:11:00</td>\n",
       "      <td>2017-07-01 00:23:00</td>\n",
       "      <td>3055</td>\n",
       "      <td>34.044159</td>\n",
       "      <td>-118.251579</td>\n",
       "      <td>3082</td>\n",
       "      <td>34.046520</td>\n",
       "      <td>-118.237411</td>\n",
       "      <td>6411</td>\n",
       "      <td>0</td>\n",
       "      <td>One Way</td>\n",
       "      <td>Walk-up</td>\n",
       "      <td>111 W 7th Street</td>\n",
       "      <td>90014</td>\n",
       "      <td>7th &amp; Main</td>\n",
       "      <td>23.0</td>\n",
       "      <td>599 Traction Ave</td>\n",
       "      <td>90013</td>\n",
       "      <td>Traction &amp; Rose</td>\n",
       "      <td>27.0</td>\n",
       "      <td>0</td>\n",
       "      <td>0</td>\n",
       "      <td>1</td>\n",
       "      <td>0</td>\n",
       "      <td>0</td>\n",
       "      <td>0</td>\n",
       "      <td>1</td>\n",
       "      <td>1</td>\n",
       "      <td>0</td>\n",
       "      <td>1</td>\n",
       "      <td>0</td>\n",
       "    </tr>\n",
       "  </tbody>\n",
       "</table>\n",
       "</div>"
      ],
      "text/plain": [
       "    trip_id  duration          start_time            end_time  start_station  start_lat   start_lon  end_station    end_lat     end_lon  bike_id  plan_duration trip_route_category passholder_type     start_address start_zip       start_name  start_docks       end_address end_zip         end_name  end_docks  charged_ride  start_hour  active_6m  annual  monthly  one_day  walk_up  one_way  round_trip  time_block_count  time_block_count_post_free\n",
       "0  33404951        36 2017-07-01 00:09:00 2017-07-01 00:45:00           3018  34.043732 -118.260139         3018  34.043732 -118.260139     5996              0          Round Trip         Walk-up   919 S Grand Ave     90015  Grand & Olympic         22.0   919 S Grand Ave   90015  Grand & Olympic       22.0             1           0          1       0        0        0        1        0           1                 2                           1\n",
       "1  33404950        13 2017-07-01 00:10:00 2017-07-01 00:23:00           3055  34.044159 -118.251579         3082  34.046520 -118.237411     5777              0             One Way         Walk-up  111 W 7th Street     90014       7th & Main         23.0  599 Traction Ave   90013  Traction & Rose       27.0             0           0          1       0        0        0        1        1           0                 1                           0\n",
       "2  33404947        34 2017-07-01 00:11:00 2017-07-01 00:45:00           3018  34.043732 -118.260139         3018  34.043732 -118.260139     6342              0          Round Trip         Walk-up   919 S Grand Ave     90015  Grand & Olympic         22.0   919 S Grand Ave   90015  Grand & Olympic       22.0             1           0          1       0        0        0        1        0           1                 2                           1\n",
       "3  33404948        34 2017-07-01 00:11:00 2017-07-01 00:45:00           3018  34.043732 -118.260139         3018  34.043732 -118.260139     6478              0          Round Trip         Walk-up   919 S Grand Ave     90015  Grand & Olympic         22.0   919 S Grand Ave   90015  Grand & Olympic       22.0             1           0          1       0        0        0        1        0           1                 2                           1\n",
       "4  33404949        12 2017-07-01 00:11:00 2017-07-01 00:23:00           3055  34.044159 -118.251579         3082  34.046520 -118.237411     6411              0             One Way         Walk-up  111 W 7th Street     90014       7th & Main         23.0  599 Traction Ave   90013  Traction & Rose       27.0             0           0          1       0        0        0        1        1           0                 1                           0"
      ]
     },
     "execution_count": 262,
     "metadata": {},
     "output_type": "execute_result"
    }
   ],
   "source": [
    "rides_df.head()"
   ]
  },
  {
   "cell_type": "code",
   "execution_count": null,
   "metadata": {
    "collapsed": true
   },
   "outputs": [],
   "source": []
  },
  {
   "cell_type": "code",
   "execution_count": 272,
   "metadata": {},
   "outputs": [
    {
     "name": "stderr",
     "output_type": "stream",
     "text": [
      "/Applications/anaconda3/lib/python3.6/site-packages/ipykernel_launcher.py:1: FutureWarning: Comparing Series of datetimes with 'datetime.date'.  Currently, the\n",
      "'datetime.date' is coerced to a datetime. In the future pandas will\n",
      "not coerce, and a TypeError will be raised. To retain the current\n",
      "behavior, convert the 'datetime.date' to a datetime with\n",
      "'pd.Timestamp'.\n",
      "  \"\"\"Entry point for launching an IPython kernel.\n"
     ]
    },
    {
     "data": {
      "text/plain": [
       "23322"
      ]
     },
     "execution_count": 272,
     "metadata": {},
     "output_type": "execute_result"
    }
   ],
   "source": [
    "len(rides_df[(rides_df['start_time'] > datetime.date(2018,6,1)) & (rides_df['start_time'] < datetime.date(2018,7,1))])"
   ]
  },
  {
   "cell_type": "code",
   "execution_count": 271,
   "metadata": {},
   "outputs": [
    {
     "name": "stderr",
     "output_type": "stream",
     "text": [
      "/Applications/anaconda3/lib/python3.6/site-packages/ipykernel_launcher.py:1: FutureWarning: Comparing Series of datetimes with 'datetime.date'.  Currently, the\n",
      "'datetime.date' is coerced to a datetime. In the future pandas will\n",
      "not coerce, and a TypeError will be raised. To retain the current\n",
      "behavior, convert the 'datetime.date' to a datetime with\n",
      "'pd.Timestamp'.\n",
      "  \"\"\"Entry point for launching an IPython kernel.\n"
     ]
    },
    {
     "data": {
      "text/plain": [
       "23166"
      ]
     },
     "execution_count": 271,
     "metadata": {},
     "output_type": "execute_result"
    }
   ],
   "source": [
    "len(rides_df[(rides_df['start_time'] > datetime.date(2018,5,1)) & (rides_df['start_time'] < datetime.date(2018,6,1))])"
   ]
  },
  {
   "cell_type": "code",
   "execution_count": null,
   "metadata": {
    "collapsed": true
   },
   "outputs": [],
   "source": []
  }
 ],
 "metadata": {
  "kernelspec": {
   "display_name": "Python 3",
   "language": "python",
   "name": "python3"
  },
  "language_info": {
   "codemirror_mode": {
    "name": "ipython",
    "version": 3
   },
   "file_extension": ".py",
   "mimetype": "text/x-python",
   "name": "python",
   "nbconvert_exporter": "python",
   "pygments_lexer": "ipython3",
   "version": "3.6.3"
  }
 },
 "nbformat": 4,
 "nbformat_minor": 2
}
